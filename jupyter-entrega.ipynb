{
 "cells": [
  {
   "cell_type": "code",
   "execution_count": 1,
   "metadata": {
    "scrolled": false
   },
   "outputs": [
    {
     "output_type": "display_data",
     "data": {
      "text/html": "        <script type=\"text/javascript\">\n        window.PlotlyConfig = {MathJaxConfig: 'local'};\n        if (window.MathJax) {MathJax.Hub.Config({SVG: {font: \"STIX-Web\"}});}\n        if (typeof require !== 'undefined') {\n        require.undef(\"plotly\");\n        requirejs.config({\n            paths: {\n                'plotly': ['https://cdn.plot.ly/plotly-latest.min']\n            }\n        });\n        require(['plotly'], function(Plotly) {\n            window._Plotly = Plotly;\n        });\n        }\n        </script>\n        "
     },
     "metadata": {}
    },
    {
     "output_type": "stream",
     "name": "stdout",
     "text": [
      "-------------------------------------------\n",
      "REDE 1\n",
      "Nós: jogos;\n",
      "Arestas: jogos que compartilham a mesma categoria;\n"
     ]
    },
    {
     "output_type": "display_data",
     "data": {
      "application/vnd.plotly.v1+json": {
       "config": {
        "displayModeBar": false,
        "linkText": "Export to plot.ly",
        "plotlyServerURL": "https://plot.ly",
        "showLink": false
       },
       "data": [
        {
         "hoverinfo": "none",
         "line": {
          "color": "rgb(127, 127, 127)",
          "dash": "solid",
          "width": 0
         },
         "mode": "lines",
         "type": "scatter",
         "x": [
          0.48983754519470746,
          0.48983754519470746,
          null,
          0,
          1,
          null
         ],
         "y": [
          0,
          1,
          null,
          0.5047124052282036,
          0.5047124052282036,
          null
         ]
        },
        {
         "hoverinfo": "none",
         "line": {
          "color": "rgb(0, 0, 0)",
          "dash": "solid",
          "width": 1
         },
         "mode": "lines",
         "type": "scatter",
         "x": [
          0.8745473624622535,
          0.7573392362957744,
          null,
          0.13982909467648685,
          0.11873464232243308,
          null,
          0.13982909467648685,
          0.3651894211028805,
          null,
          0.13982909467648685,
          0.12214781874441769,
          null,
          0.13982909467648685,
          0.2692022892236581,
          null,
          0.13982909467648685,
          0,
          null,
          0.11873464232243308,
          0.8129599621820476,
          null,
          0.11873464232243308,
          0.3651894211028805,
          null,
          0.11873464232243308,
          0.12214781874441769,
          null,
          0.19403335487465267,
          0.09789244339988386,
          null,
          0.8129599621820476,
          0.3651894211028805,
          null,
          0.8129599621820476,
          0.2692022892236581,
          null,
          0.8129599621820476,
          0,
          null,
          0.3651894211028805,
          0.12214781874441769,
          null,
          0.3651894211028805,
          0.2692022892236581,
          null,
          0.3651894211028805,
          0,
          null,
          0.12214781874441769,
          0.2692022892236581,
          null,
          0.12214781874441769,
          0,
          null,
          0.12214781874441769,
          0.9283096641978409,
          null,
          0.2692022892236581,
          0,
          null,
          0,
          0.7127383394983278,
          null,
          0.09789244339988386,
          0.7127383394983278,
          null,
          0.7127383394983278,
          0.9283096641978409,
          null
         ],
         "y": [
          0.3183375295326691,
          0.30538377106039905,
          null,
          0.9382433186199363,
          0.4558757632199269,
          null,
          0.9382433186199363,
          0.8441288079092183,
          null,
          0.9382433186199363,
          0.9654217418622106,
          null,
          0.9382433186199363,
          0.38080091419371315,
          null,
          0.9382433186199363,
          0.1546410307292334,
          null,
          0.4558757632199269,
          0.7858798648458953,
          null,
          0.4558757632199269,
          0.8441288079092183,
          null,
          0.4558757632199269,
          0.9654217418622106,
          null,
          0.37170842850893976,
          0.5091393202590995,
          null,
          0.7858798648458953,
          0.8441288079092183,
          null,
          0.7858798648458953,
          0.38080091419371315,
          null,
          0.7858798648458953,
          0.1546410307292334,
          null,
          0.8441288079092183,
          0.9654217418622106,
          null,
          0.8441288079092183,
          0.38080091419371315,
          null,
          0.8441288079092183,
          0.1546410307292334,
          null,
          0.9654217418622106,
          0.38080091419371315,
          null,
          0.9654217418622106,
          0.1546410307292334,
          null,
          0.9654217418622106,
          0.17710680721066627,
          null,
          0.38080091419371315,
          0.1546410307292334,
          null,
          0.1546410307292334,
          0.7621752270545259,
          null,
          0.5091393202590995,
          0.7621752270545259,
          null,
          0.7621752270545259,
          0.17710680721066627,
          null
         ]
        },
        {
         "hoverinfo": "text",
         "marker": {
          "color": "rgb(255, 255, 255)",
          "line": {
           "color": "rgb(0, 0, 0)",
           "width": 1
          },
          "size": 10,
          "symbol": "circle"
         },
         "mode": "markers",
         "text": [
          "fake-colours",
          "dimmdrive-gaming-ramdrive-10000-mbs",
          "my-talking-angela",
          "wrc-the-official-game",
          "i-wanna-be-the-co-op",
          "perfect-glowing-bodies",
          "funeral",
          "tanktrouble-mobile-mayhem",
          "mlg-bouncing-simulator-2015",
          "extreme-motor-bike-ride-simulator-3d-steer-the-mot",
          "ice-age-avalanche",
          "best-casino-social-slots-fun",
          "brutal-donut",
          "pengu-the-flying-penguin-unforgettable-chilly-adve",
          "fruits-pair-festival-january",
          "lunar-lander-relaunched",
          "no-idea-for-name",
          "armageddon-itch-4xisblack",
          "jashanoid",
          "death-duel-itch"
         ],
         "textfont": {
          "color": "rgb(0, 0, 0)"
         },
         "textposition": "middle center",
         "type": "scatter",
         "x": [
          0.8745473624622535,
          0.7573392362957744,
          0.13982909467648685,
          0.11873464232243308,
          1,
          0.19403335487465267,
          0.036864175509744954,
          0.8129599621820476,
          0.5021960781835415,
          0.3651894211028805,
          0.008727744123119793,
          0.12214781874441769,
          0.2692022892236581,
          0,
          0.2711116582078059,
          0.9661744775708705,
          0.13575315819898567,
          0.09789244339988386,
          0.7127383394983278,
          0.9283096641978409
         ],
         "y": [
          0.3183375295326691,
          0.30538377106039905,
          0.9382433186199363,
          0.4558757632199269,
          0.022031795980599008,
          0.37170842850893976,
          0,
          0.7858798648458953,
          0.7130113245989054,
          0.8441288079092183,
          0.8136085864329418,
          0.9654217418622106,
          0.38080091419371315,
          0.1546410307292334,
          1,
          0.149411613223625,
          0.46466198813207515,
          0.5091393202590995,
          0.7621752270545259,
          0.17710680721066627
         ]
        },
        {
         "hoverinfo": "none",
         "mode": "text",
         "text": [],
         "textfont": {
          "color": "rgb(255, 255, 255)"
         },
         "textposition": "middle center",
         "type": "scatter",
         "x": [],
         "y": []
        },
        {
         "hoverinfo": "none",
         "mode": "text",
         "text": [
          null,
          null,
          null,
          null,
          null,
          null,
          null,
          null,
          null,
          null,
          null,
          null,
          null,
          null,
          null,
          null,
          null,
          null,
          null,
          null
         ],
         "textfont": {
          "color": "rgb(0, 0, 0)"
         },
         "textposition": "middle center",
         "type": "scatter",
         "x": [
          0.8745473624622535,
          0.7573392362957744,
          0.13982909467648685,
          0.11873464232243308,
          1,
          0.19403335487465267,
          0.036864175509744954,
          0.8129599621820476,
          0.5021960781835415,
          0.3651894211028805,
          0.008727744123119793,
          0.12214781874441769,
          0.2692022892236581,
          0,
          0.2711116582078059,
          0.9661744775708705,
          0.13575315819898567,
          0.09789244339988386,
          0.7127383394983278,
          0.9283096641978409
         ],
         "y": [
          0.3183375295326691,
          0.30538377106039905,
          0.9382433186199363,
          0.4558757632199269,
          0.022031795980599008,
          0.37170842850893976,
          0,
          0.7858798648458953,
          0.7130113245989054,
          0.8441288079092183,
          0.8136085864329418,
          0.9654217418622106,
          0.38080091419371315,
          0.1546410307292334,
          1,
          0.149411613223625,
          0.46466198813207515,
          0.5091393202590995,
          0.7621752270545259,
          0.17710680721066627
         ]
        },
        {
         "hoverinfo": "none",
         "mode": "text",
         "text": [
          null,
          null,
          null,
          null,
          null,
          null,
          null,
          null,
          null,
          null,
          null,
          null,
          null,
          null,
          null,
          null,
          null,
          null,
          null,
          null,
          null,
          null,
          null
         ],
         "textfont": {
          "color": "rgb(0, 0, 0)"
         },
         "textposition": "middle center",
         "type": "scatter",
         "x": [
          0.8168109626473612,
          0.143604056009918,
          0.255711274546291,
          0.12173787226491253,
          0.21774376742358187,
          0.08357490402954923,
          0.46222905526900476,
          0.23257883984204844,
          0.10607448999304848,
          0.13710856307423458,
          0.5880541266910628,
          0.5465065671648325,
          0.4121003807976225,
          0.23988218120296903,
          0.3306335562717673,
          0.19292041600397494,
          0.20873054083338252,
          0.07492668581145819,
          0.5320094054908643,
          0.14060433433364303,
          0.350293808590205,
          0.4021576830966274,
          0.8324433326926071
         ],
         "y": [
          0.2856618341052286,
          0.6949694361848984,
          0.9167726873693771,
          0.9317496016450642,
          0.6697670581190399,
          0.5383076455600083,
          0.6462786405321043,
          0.6698788581182937,
          0.7109698982584476,
          0.41975349727298294,
          0.7888239141827025,
          0.5590368609725145,
          0.44610521770096984,
          0.8794563897220766,
          0.6031748105886753,
          0.48113420458967665,
          0.6840701922898681,
          0.553066922882088,
          0.5944042683743261,
          0.24387506942548434,
          0.48219295721070743,
          0.661262267084196,
          0.48429665536568306
         ]
        },
        {
         "hoverinfo": "none",
         "marker": {
          "color": "rgba(255, 255, 255, 0)",
          "line": {
           "color": "rgba(255, 255, 255, 0)",
           "width": 0
          },
          "size": 0,
          "symbol": "circle"
         },
         "mode": "markers",
         "type": "scatter",
         "x": [
          0.5,
          0,
          1,
          0.5
         ],
         "y": [
          0,
          0.5,
          0.5,
          1
         ]
        }
       ],
       "layout": {
        "height": 450,
        "hovermode": "closest",
        "margin": {
         "b": 10,
         "l": 10,
         "r": 10,
         "t": 10
        },
        "plot_bgcolor": "rgb(255, 255, 255)",
        "showlegend": false,
        "template": {
         "data": {
          "bar": [
           {
            "error_x": {
             "color": "#2a3f5f"
            },
            "error_y": {
             "color": "#2a3f5f"
            },
            "marker": {
             "line": {
              "color": "#E5ECF6",
              "width": 0.5
             }
            },
            "type": "bar"
           }
          ],
          "barpolar": [
           {
            "marker": {
             "line": {
              "color": "#E5ECF6",
              "width": 0.5
             }
            },
            "type": "barpolar"
           }
          ],
          "carpet": [
           {
            "aaxis": {
             "endlinecolor": "#2a3f5f",
             "gridcolor": "white",
             "linecolor": "white",
             "minorgridcolor": "white",
             "startlinecolor": "#2a3f5f"
            },
            "baxis": {
             "endlinecolor": "#2a3f5f",
             "gridcolor": "white",
             "linecolor": "white",
             "minorgridcolor": "white",
             "startlinecolor": "#2a3f5f"
            },
            "type": "carpet"
           }
          ],
          "choropleth": [
           {
            "colorbar": {
             "outlinewidth": 0,
             "ticks": ""
            },
            "type": "choropleth"
           }
          ],
          "contour": [
           {
            "colorbar": {
             "outlinewidth": 0,
             "ticks": ""
            },
            "colorscale": [
             [
              0,
              "#0d0887"
             ],
             [
              0.1111111111111111,
              "#46039f"
             ],
             [
              0.2222222222222222,
              "#7201a8"
             ],
             [
              0.3333333333333333,
              "#9c179e"
             ],
             [
              0.4444444444444444,
              "#bd3786"
             ],
             [
              0.5555555555555556,
              "#d8576b"
             ],
             [
              0.6666666666666666,
              "#ed7953"
             ],
             [
              0.7777777777777778,
              "#fb9f3a"
             ],
             [
              0.8888888888888888,
              "#fdca26"
             ],
             [
              1,
              "#f0f921"
             ]
            ],
            "type": "contour"
           }
          ],
          "contourcarpet": [
           {
            "colorbar": {
             "outlinewidth": 0,
             "ticks": ""
            },
            "type": "contourcarpet"
           }
          ],
          "heatmap": [
           {
            "colorbar": {
             "outlinewidth": 0,
             "ticks": ""
            },
            "colorscale": [
             [
              0,
              "#0d0887"
             ],
             [
              0.1111111111111111,
              "#46039f"
             ],
             [
              0.2222222222222222,
              "#7201a8"
             ],
             [
              0.3333333333333333,
              "#9c179e"
             ],
             [
              0.4444444444444444,
              "#bd3786"
             ],
             [
              0.5555555555555556,
              "#d8576b"
             ],
             [
              0.6666666666666666,
              "#ed7953"
             ],
             [
              0.7777777777777778,
              "#fb9f3a"
             ],
             [
              0.8888888888888888,
              "#fdca26"
             ],
             [
              1,
              "#f0f921"
             ]
            ],
            "type": "heatmap"
           }
          ],
          "heatmapgl": [
           {
            "colorbar": {
             "outlinewidth": 0,
             "ticks": ""
            },
            "colorscale": [
             [
              0,
              "#0d0887"
             ],
             [
              0.1111111111111111,
              "#46039f"
             ],
             [
              0.2222222222222222,
              "#7201a8"
             ],
             [
              0.3333333333333333,
              "#9c179e"
             ],
             [
              0.4444444444444444,
              "#bd3786"
             ],
             [
              0.5555555555555556,
              "#d8576b"
             ],
             [
              0.6666666666666666,
              "#ed7953"
             ],
             [
              0.7777777777777778,
              "#fb9f3a"
             ],
             [
              0.8888888888888888,
              "#fdca26"
             ],
             [
              1,
              "#f0f921"
             ]
            ],
            "type": "heatmapgl"
           }
          ],
          "histogram": [
           {
            "marker": {
             "colorbar": {
              "outlinewidth": 0,
              "ticks": ""
             }
            },
            "type": "histogram"
           }
          ],
          "histogram2d": [
           {
            "colorbar": {
             "outlinewidth": 0,
             "ticks": ""
            },
            "colorscale": [
             [
              0,
              "#0d0887"
             ],
             [
              0.1111111111111111,
              "#46039f"
             ],
             [
              0.2222222222222222,
              "#7201a8"
             ],
             [
              0.3333333333333333,
              "#9c179e"
             ],
             [
              0.4444444444444444,
              "#bd3786"
             ],
             [
              0.5555555555555556,
              "#d8576b"
             ],
             [
              0.6666666666666666,
              "#ed7953"
             ],
             [
              0.7777777777777778,
              "#fb9f3a"
             ],
             [
              0.8888888888888888,
              "#fdca26"
             ],
             [
              1,
              "#f0f921"
             ]
            ],
            "type": "histogram2d"
           }
          ],
          "histogram2dcontour": [
           {
            "colorbar": {
             "outlinewidth": 0,
             "ticks": ""
            },
            "colorscale": [
             [
              0,
              "#0d0887"
             ],
             [
              0.1111111111111111,
              "#46039f"
             ],
             [
              0.2222222222222222,
              "#7201a8"
             ],
             [
              0.3333333333333333,
              "#9c179e"
             ],
             [
              0.4444444444444444,
              "#bd3786"
             ],
             [
              0.5555555555555556,
              "#d8576b"
             ],
             [
              0.6666666666666666,
              "#ed7953"
             ],
             [
              0.7777777777777778,
              "#fb9f3a"
             ],
             [
              0.8888888888888888,
              "#fdca26"
             ],
             [
              1,
              "#f0f921"
             ]
            ],
            "type": "histogram2dcontour"
           }
          ],
          "mesh3d": [
           {
            "colorbar": {
             "outlinewidth": 0,
             "ticks": ""
            },
            "type": "mesh3d"
           }
          ],
          "parcoords": [
           {
            "line": {
             "colorbar": {
              "outlinewidth": 0,
              "ticks": ""
             }
            },
            "type": "parcoords"
           }
          ],
          "pie": [
           {
            "automargin": true,
            "type": "pie"
           }
          ],
          "scatter": [
           {
            "marker": {
             "colorbar": {
              "outlinewidth": 0,
              "ticks": ""
             }
            },
            "type": "scatter"
           }
          ],
          "scatter3d": [
           {
            "line": {
             "colorbar": {
              "outlinewidth": 0,
              "ticks": ""
             }
            },
            "marker": {
             "colorbar": {
              "outlinewidth": 0,
              "ticks": ""
             }
            },
            "type": "scatter3d"
           }
          ],
          "scattercarpet": [
           {
            "marker": {
             "colorbar": {
              "outlinewidth": 0,
              "ticks": ""
             }
            },
            "type": "scattercarpet"
           }
          ],
          "scattergeo": [
           {
            "marker": {
             "colorbar": {
              "outlinewidth": 0,
              "ticks": ""
             }
            },
            "type": "scattergeo"
           }
          ],
          "scattergl": [
           {
            "marker": {
             "colorbar": {
              "outlinewidth": 0,
              "ticks": ""
             }
            },
            "type": "scattergl"
           }
          ],
          "scattermapbox": [
           {
            "marker": {
             "colorbar": {
              "outlinewidth": 0,
              "ticks": ""
             }
            },
            "type": "scattermapbox"
           }
          ],
          "scatterpolar": [
           {
            "marker": {
             "colorbar": {
              "outlinewidth": 0,
              "ticks": ""
             }
            },
            "type": "scatterpolar"
           }
          ],
          "scatterpolargl": [
           {
            "marker": {
             "colorbar": {
              "outlinewidth": 0,
              "ticks": ""
             }
            },
            "type": "scatterpolargl"
           }
          ],
          "scatterternary": [
           {
            "marker": {
             "colorbar": {
              "outlinewidth": 0,
              "ticks": ""
             }
            },
            "type": "scatterternary"
           }
          ],
          "surface": [
           {
            "colorbar": {
             "outlinewidth": 0,
             "ticks": ""
            },
            "colorscale": [
             [
              0,
              "#0d0887"
             ],
             [
              0.1111111111111111,
              "#46039f"
             ],
             [
              0.2222222222222222,
              "#7201a8"
             ],
             [
              0.3333333333333333,
              "#9c179e"
             ],
             [
              0.4444444444444444,
              "#bd3786"
             ],
             [
              0.5555555555555556,
              "#d8576b"
             ],
             [
              0.6666666666666666,
              "#ed7953"
             ],
             [
              0.7777777777777778,
              "#fb9f3a"
             ],
             [
              0.8888888888888888,
              "#fdca26"
             ],
             [
              1,
              "#f0f921"
             ]
            ],
            "type": "surface"
           }
          ],
          "table": [
           {
            "cells": {
             "fill": {
              "color": "#EBF0F8"
             },
             "line": {
              "color": "white"
             }
            },
            "header": {
             "fill": {
              "color": "#C8D4E3"
             },
             "line": {
              "color": "white"
             }
            },
            "type": "table"
           }
          ]
         },
         "layout": {
          "annotationdefaults": {
           "arrowcolor": "#2a3f5f",
           "arrowhead": 0,
           "arrowwidth": 1
          },
          "coloraxis": {
           "colorbar": {
            "outlinewidth": 0,
            "ticks": ""
           }
          },
          "colorscale": {
           "diverging": [
            [
             0,
             "#8e0152"
            ],
            [
             0.1,
             "#c51b7d"
            ],
            [
             0.2,
             "#de77ae"
            ],
            [
             0.3,
             "#f1b6da"
            ],
            [
             0.4,
             "#fde0ef"
            ],
            [
             0.5,
             "#f7f7f7"
            ],
            [
             0.6,
             "#e6f5d0"
            ],
            [
             0.7,
             "#b8e186"
            ],
            [
             0.8,
             "#7fbc41"
            ],
            [
             0.9,
             "#4d9221"
            ],
            [
             1,
             "#276419"
            ]
           ],
           "sequential": [
            [
             0,
             "#0d0887"
            ],
            [
             0.1111111111111111,
             "#46039f"
            ],
            [
             0.2222222222222222,
             "#7201a8"
            ],
            [
             0.3333333333333333,
             "#9c179e"
            ],
            [
             0.4444444444444444,
             "#bd3786"
            ],
            [
             0.5555555555555556,
             "#d8576b"
            ],
            [
             0.6666666666666666,
             "#ed7953"
            ],
            [
             0.7777777777777778,
             "#fb9f3a"
            ],
            [
             0.8888888888888888,
             "#fdca26"
            ],
            [
             1,
             "#f0f921"
            ]
           ],
           "sequentialminus": [
            [
             0,
             "#0d0887"
            ],
            [
             0.1111111111111111,
             "#46039f"
            ],
            [
             0.2222222222222222,
             "#7201a8"
            ],
            [
             0.3333333333333333,
             "#9c179e"
            ],
            [
             0.4444444444444444,
             "#bd3786"
            ],
            [
             0.5555555555555556,
             "#d8576b"
            ],
            [
             0.6666666666666666,
             "#ed7953"
            ],
            [
             0.7777777777777778,
             "#fb9f3a"
            ],
            [
             0.8888888888888888,
             "#fdca26"
            ],
            [
             1,
             "#f0f921"
            ]
           ]
          },
          "colorway": [
           "#636efa",
           "#EF553B",
           "#00cc96",
           "#ab63fa",
           "#FFA15A",
           "#19d3f3",
           "#FF6692",
           "#B6E880",
           "#FF97FF",
           "#FECB52"
          ],
          "font": {
           "color": "#2a3f5f"
          },
          "geo": {
           "bgcolor": "white",
           "lakecolor": "white",
           "landcolor": "#E5ECF6",
           "showlakes": true,
           "showland": true,
           "subunitcolor": "white"
          },
          "hoverlabel": {
           "align": "left"
          },
          "hovermode": "closest",
          "mapbox": {
           "style": "light"
          },
          "paper_bgcolor": "white",
          "plot_bgcolor": "#E5ECF6",
          "polar": {
           "angularaxis": {
            "gridcolor": "white",
            "linecolor": "white",
            "ticks": ""
           },
           "bgcolor": "#E5ECF6",
           "radialaxis": {
            "gridcolor": "white",
            "linecolor": "white",
            "ticks": ""
           }
          },
          "scene": {
           "xaxis": {
            "backgroundcolor": "#E5ECF6",
            "gridcolor": "white",
            "gridwidth": 2,
            "linecolor": "white",
            "showbackground": true,
            "ticks": "",
            "zerolinecolor": "white"
           },
           "yaxis": {
            "backgroundcolor": "#E5ECF6",
            "gridcolor": "white",
            "gridwidth": 2,
            "linecolor": "white",
            "showbackground": true,
            "ticks": "",
            "zerolinecolor": "white"
           },
           "zaxis": {
            "backgroundcolor": "#E5ECF6",
            "gridcolor": "white",
            "gridwidth": 2,
            "linecolor": "white",
            "showbackground": true,
            "ticks": "",
            "zerolinecolor": "white"
           }
          },
          "shapedefaults": {
           "line": {
            "color": "#2a3f5f"
           }
          },
          "ternary": {
           "aaxis": {
            "gridcolor": "white",
            "linecolor": "white",
            "ticks": ""
           },
           "baxis": {
            "gridcolor": "white",
            "linecolor": "white",
            "ticks": ""
           },
           "bgcolor": "#E5ECF6",
           "caxis": {
            "gridcolor": "white",
            "linecolor": "white",
            "ticks": ""
           }
          },
          "title": {
           "x": 0.05
          },
          "xaxis": {
           "automargin": true,
           "gridcolor": "white",
           "linecolor": "white",
           "ticks": "",
           "title": {
            "standoff": 15
           },
           "zerolinecolor": "white",
           "zerolinewidth": 2
          },
          "yaxis": {
           "automargin": true,
           "gridcolor": "white",
           "linecolor": "white",
           "ticks": "",
           "title": {
            "standoff": 15
           },
           "zerolinecolor": "white",
           "zerolinewidth": 2
          }
         }
        },
        "width": 800,
        "xaxis": {
         "showgrid": false,
         "showticklabels": false,
         "zeroline": false
        },
        "yaxis": {
         "showgrid": false,
         "showticklabels": false,
         "zeroline": false
        }
       }
      },
      "text/html": "<div>                            <div id=\"56b971a0-6a83-4331-8bc5-7344a89db34a\" class=\"plotly-graph-div\" style=\"height:450px; width:800px;\"></div>            <script type=\"text/javascript\">                require([\"plotly\"], function(Plotly) {                    window.PLOTLYENV=window.PLOTLYENV || {};                                    if (document.getElementById(\"56b971a0-6a83-4331-8bc5-7344a89db34a\")) {                    Plotly.newPlot(                        \"56b971a0-6a83-4331-8bc5-7344a89db34a\",                        [{\"hoverinfo\": \"none\", \"line\": {\"color\": \"rgb(127, 127, 127)\", \"dash\": \"solid\", \"width\": 0}, \"mode\": \"lines\", \"type\": \"scatter\", \"x\": [0.48983754519470746, 0.48983754519470746, null, 0, 1, null], \"y\": [0, 1, null, 0.5047124052282036, 0.5047124052282036, null]}, {\"hoverinfo\": \"none\", \"line\": {\"color\": \"rgb(0, 0, 0)\", \"dash\": \"solid\", \"width\": 1}, \"mode\": \"lines\", \"type\": \"scatter\", \"x\": [0.8745473624622535, 0.7573392362957744, null, 0.13982909467648685, 0.11873464232243308, null, 0.13982909467648685, 0.3651894211028805, null, 0.13982909467648685, 0.12214781874441769, null, 0.13982909467648685, 0.2692022892236581, null, 0.13982909467648685, 0.0, null, 0.11873464232243308, 0.8129599621820476, null, 0.11873464232243308, 0.3651894211028805, null, 0.11873464232243308, 0.12214781874441769, null, 0.19403335487465267, 0.09789244339988386, null, 0.8129599621820476, 0.3651894211028805, null, 0.8129599621820476, 0.2692022892236581, null, 0.8129599621820476, 0.0, null, 0.3651894211028805, 0.12214781874441769, null, 0.3651894211028805, 0.2692022892236581, null, 0.3651894211028805, 0.0, null, 0.12214781874441769, 0.2692022892236581, null, 0.12214781874441769, 0.0, null, 0.12214781874441769, 0.9283096641978409, null, 0.2692022892236581, 0.0, null, 0.0, 0.7127383394983278, null, 0.09789244339988386, 0.7127383394983278, null, 0.7127383394983278, 0.9283096641978409, null], \"y\": [0.3183375295326691, 0.30538377106039905, null, 0.9382433186199363, 0.4558757632199269, null, 0.9382433186199363, 0.8441288079092183, null, 0.9382433186199363, 0.9654217418622106, null, 0.9382433186199363, 0.38080091419371315, null, 0.9382433186199363, 0.1546410307292334, null, 0.4558757632199269, 0.7858798648458953, null, 0.4558757632199269, 0.8441288079092183, null, 0.4558757632199269, 0.9654217418622106, null, 0.37170842850893976, 0.5091393202590995, null, 0.7858798648458953, 0.8441288079092183, null, 0.7858798648458953, 0.38080091419371315, null, 0.7858798648458953, 0.1546410307292334, null, 0.8441288079092183, 0.9654217418622106, null, 0.8441288079092183, 0.38080091419371315, null, 0.8441288079092183, 0.1546410307292334, null, 0.9654217418622106, 0.38080091419371315, null, 0.9654217418622106, 0.1546410307292334, null, 0.9654217418622106, 0.17710680721066627, null, 0.38080091419371315, 0.1546410307292334, null, 0.1546410307292334, 0.7621752270545259, null, 0.5091393202590995, 0.7621752270545259, null, 0.7621752270545259, 0.17710680721066627, null]}, {\"hoverinfo\": \"text\", \"marker\": {\"color\": \"rgb(255, 255, 255)\", \"line\": {\"color\": \"rgb(0, 0, 0)\", \"width\": 1}, \"size\": 10, \"symbol\": \"circle\"}, \"mode\": \"markers\", \"text\": [\"fake-colours\", \"dimmdrive-gaming-ramdrive-10000-mbs\", \"my-talking-angela\", \"wrc-the-official-game\", \"i-wanna-be-the-co-op\", \"perfect-glowing-bodies\", \"funeral\", \"tanktrouble-mobile-mayhem\", \"mlg-bouncing-simulator-2015\", \"extreme-motor-bike-ride-simulator-3d-steer-the-mot\", \"ice-age-avalanche\", \"best-casino-social-slots-fun\", \"brutal-donut\", \"pengu-the-flying-penguin-unforgettable-chilly-adve\", \"fruits-pair-festival-january\", \"lunar-lander-relaunched\", \"no-idea-for-name\", \"armageddon-itch-4xisblack\", \"jashanoid\", \"death-duel-itch\"], \"textfont\": {\"color\": \"rgb(0, 0, 0)\"}, \"textposition\": \"middle center\", \"type\": \"scatter\", \"x\": [0.8745473624622535, 0.7573392362957744, 0.13982909467648685, 0.11873464232243308, 1.0, 0.19403335487465267, 0.036864175509744954, 0.8129599621820476, 0.5021960781835415, 0.3651894211028805, 0.008727744123119793, 0.12214781874441769, 0.2692022892236581, 0.0, 0.2711116582078059, 0.9661744775708705, 0.13575315819898567, 0.09789244339988386, 0.7127383394983278, 0.9283096641978409], \"y\": [0.3183375295326691, 0.30538377106039905, 0.9382433186199363, 0.4558757632199269, 0.022031795980599008, 0.37170842850893976, 0.0, 0.7858798648458953, 0.7130113245989054, 0.8441288079092183, 0.8136085864329418, 0.9654217418622106, 0.38080091419371315, 0.1546410307292334, 1.0, 0.149411613223625, 0.46466198813207515, 0.5091393202590995, 0.7621752270545259, 0.17710680721066627]}, {\"hoverinfo\": \"none\", \"mode\": \"text\", \"text\": [], \"textfont\": {\"color\": \"rgb(255, 255, 255)\"}, \"textposition\": \"middle center\", \"type\": \"scatter\", \"x\": [], \"y\": []}, {\"hoverinfo\": \"none\", \"mode\": \"text\", \"text\": [null, null, null, null, null, null, null, null, null, null, null, null, null, null, null, null, null, null, null, null], \"textfont\": {\"color\": \"rgb(0, 0, 0)\"}, \"textposition\": \"middle center\", \"type\": \"scatter\", \"x\": [0.8745473624622535, 0.7573392362957744, 0.13982909467648685, 0.11873464232243308, 1.0, 0.19403335487465267, 0.036864175509744954, 0.8129599621820476, 0.5021960781835415, 0.3651894211028805, 0.008727744123119793, 0.12214781874441769, 0.2692022892236581, 0.0, 0.2711116582078059, 0.9661744775708705, 0.13575315819898567, 0.09789244339988386, 0.7127383394983278, 0.9283096641978409], \"y\": [0.3183375295326691, 0.30538377106039905, 0.9382433186199363, 0.4558757632199269, 0.022031795980599008, 0.37170842850893976, 0.0, 0.7858798648458953, 0.7130113245989054, 0.8441288079092183, 0.8136085864329418, 0.9654217418622106, 0.38080091419371315, 0.1546410307292334, 1.0, 0.149411613223625, 0.46466198813207515, 0.5091393202590995, 0.7621752270545259, 0.17710680721066627]}, {\"hoverinfo\": \"none\", \"mode\": \"text\", \"text\": [null, null, null, null, null, null, null, null, null, null, null, null, null, null, null, null, null, null, null, null, null, null, null], \"textfont\": {\"color\": \"rgb(0, 0, 0)\"}, \"textposition\": \"middle center\", \"type\": \"scatter\", \"x\": [0.8168109626473612, 0.143604056009918, 0.255711274546291, 0.12173787226491253, 0.21774376742358187, 0.08357490402954923, 0.46222905526900476, 0.23257883984204844, 0.10607448999304848, 0.13710856307423458, 0.5880541266910628, 0.5465065671648325, 0.4121003807976225, 0.23988218120296903, 0.3306335562717673, 0.19292041600397494, 0.20873054083338252, 0.07492668581145819, 0.5320094054908643, 0.14060433433364303, 0.350293808590205, 0.4021576830966274, 0.8324433326926071], \"y\": [0.2856618341052286, 0.6949694361848984, 0.9167726873693771, 0.9317496016450642, 0.6697670581190399, 0.5383076455600083, 0.6462786405321043, 0.6698788581182937, 0.7109698982584476, 0.41975349727298294, 0.7888239141827025, 0.5590368609725145, 0.44610521770096984, 0.8794563897220766, 0.6031748105886753, 0.48113420458967665, 0.6840701922898681, 0.553066922882088, 0.5944042683743261, 0.24387506942548434, 0.48219295721070743, 0.661262267084196, 0.48429665536568306]}, {\"hoverinfo\": \"none\", \"marker\": {\"color\": \"rgba(255, 255, 255, 0)\", \"line\": {\"color\": \"rgba(255, 255, 255, 0)\", \"width\": 0}, \"size\": 0, \"symbol\": \"circle\"}, \"mode\": \"markers\", \"type\": \"scatter\", \"x\": [0.5, 0.0, 1.0, 0.5], \"y\": [0.0, 0.5, 0.5, 1.0]}],                        {\"height\": 450, \"hovermode\": \"closest\", \"margin\": {\"b\": 10, \"l\": 10, \"r\": 10, \"t\": 10}, \"plot_bgcolor\": \"rgb(255, 255, 255)\", \"showlegend\": false, \"template\": {\"data\": {\"bar\": [{\"error_x\": {\"color\": \"#2a3f5f\"}, \"error_y\": {\"color\": \"#2a3f5f\"}, \"marker\": {\"line\": {\"color\": \"#E5ECF6\", \"width\": 0.5}}, \"type\": \"bar\"}], \"barpolar\": [{\"marker\": {\"line\": {\"color\": \"#E5ECF6\", \"width\": 0.5}}, \"type\": \"barpolar\"}], \"carpet\": [{\"aaxis\": {\"endlinecolor\": \"#2a3f5f\", \"gridcolor\": \"white\", \"linecolor\": \"white\", \"minorgridcolor\": \"white\", \"startlinecolor\": \"#2a3f5f\"}, \"baxis\": {\"endlinecolor\": \"#2a3f5f\", \"gridcolor\": \"white\", \"linecolor\": \"white\", \"minorgridcolor\": \"white\", \"startlinecolor\": \"#2a3f5f\"}, \"type\": \"carpet\"}], \"choropleth\": [{\"colorbar\": {\"outlinewidth\": 0, \"ticks\": \"\"}, \"type\": \"choropleth\"}], \"contour\": [{\"colorbar\": {\"outlinewidth\": 0, \"ticks\": \"\"}, \"colorscale\": [[0.0, \"#0d0887\"], [0.1111111111111111, \"#46039f\"], [0.2222222222222222, \"#7201a8\"], [0.3333333333333333, \"#9c179e\"], [0.4444444444444444, \"#bd3786\"], [0.5555555555555556, \"#d8576b\"], [0.6666666666666666, \"#ed7953\"], [0.7777777777777778, \"#fb9f3a\"], [0.8888888888888888, \"#fdca26\"], [1.0, \"#f0f921\"]], \"type\": \"contour\"}], \"contourcarpet\": [{\"colorbar\": {\"outlinewidth\": 0, \"ticks\": \"\"}, \"type\": \"contourcarpet\"}], \"heatmap\": [{\"colorbar\": {\"outlinewidth\": 0, \"ticks\": \"\"}, \"colorscale\": [[0.0, \"#0d0887\"], [0.1111111111111111, \"#46039f\"], [0.2222222222222222, \"#7201a8\"], [0.3333333333333333, \"#9c179e\"], [0.4444444444444444, \"#bd3786\"], [0.5555555555555556, \"#d8576b\"], [0.6666666666666666, \"#ed7953\"], [0.7777777777777778, \"#fb9f3a\"], [0.8888888888888888, \"#fdca26\"], [1.0, \"#f0f921\"]], \"type\": \"heatmap\"}], \"heatmapgl\": [{\"colorbar\": {\"outlinewidth\": 0, \"ticks\": \"\"}, \"colorscale\": [[0.0, \"#0d0887\"], [0.1111111111111111, \"#46039f\"], [0.2222222222222222, \"#7201a8\"], [0.3333333333333333, \"#9c179e\"], [0.4444444444444444, \"#bd3786\"], [0.5555555555555556, \"#d8576b\"], [0.6666666666666666, \"#ed7953\"], [0.7777777777777778, \"#fb9f3a\"], [0.8888888888888888, \"#fdca26\"], [1.0, \"#f0f921\"]], \"type\": \"heatmapgl\"}], \"histogram\": [{\"marker\": {\"colorbar\": {\"outlinewidth\": 0, \"ticks\": \"\"}}, \"type\": \"histogram\"}], \"histogram2d\": [{\"colorbar\": {\"outlinewidth\": 0, \"ticks\": \"\"}, \"colorscale\": [[0.0, \"#0d0887\"], [0.1111111111111111, \"#46039f\"], [0.2222222222222222, \"#7201a8\"], [0.3333333333333333, \"#9c179e\"], [0.4444444444444444, \"#bd3786\"], [0.5555555555555556, \"#d8576b\"], [0.6666666666666666, \"#ed7953\"], [0.7777777777777778, \"#fb9f3a\"], [0.8888888888888888, \"#fdca26\"], [1.0, \"#f0f921\"]], \"type\": \"histogram2d\"}], \"histogram2dcontour\": [{\"colorbar\": {\"outlinewidth\": 0, \"ticks\": \"\"}, \"colorscale\": [[0.0, \"#0d0887\"], [0.1111111111111111, \"#46039f\"], [0.2222222222222222, \"#7201a8\"], [0.3333333333333333, \"#9c179e\"], [0.4444444444444444, \"#bd3786\"], [0.5555555555555556, \"#d8576b\"], [0.6666666666666666, \"#ed7953\"], [0.7777777777777778, \"#fb9f3a\"], [0.8888888888888888, \"#fdca26\"], [1.0, \"#f0f921\"]], \"type\": \"histogram2dcontour\"}], \"mesh3d\": [{\"colorbar\": {\"outlinewidth\": 0, \"ticks\": \"\"}, \"type\": \"mesh3d\"}], \"parcoords\": [{\"line\": {\"colorbar\": {\"outlinewidth\": 0, \"ticks\": \"\"}}, \"type\": \"parcoords\"}], \"pie\": [{\"automargin\": true, \"type\": \"pie\"}], \"scatter\": [{\"marker\": {\"colorbar\": {\"outlinewidth\": 0, \"ticks\": \"\"}}, \"type\": \"scatter\"}], \"scatter3d\": [{\"line\": {\"colorbar\": {\"outlinewidth\": 0, \"ticks\": \"\"}}, \"marker\": {\"colorbar\": {\"outlinewidth\": 0, \"ticks\": \"\"}}, \"type\": \"scatter3d\"}], \"scattercarpet\": [{\"marker\": {\"colorbar\": {\"outlinewidth\": 0, \"ticks\": \"\"}}, \"type\": \"scattercarpet\"}], \"scattergeo\": [{\"marker\": {\"colorbar\": {\"outlinewidth\": 0, \"ticks\": \"\"}}, \"type\": \"scattergeo\"}], \"scattergl\": [{\"marker\": {\"colorbar\": {\"outlinewidth\": 0, \"ticks\": \"\"}}, \"type\": \"scattergl\"}], \"scattermapbox\": [{\"marker\": {\"colorbar\": {\"outlinewidth\": 0, \"ticks\": \"\"}}, \"type\": \"scattermapbox\"}], \"scatterpolar\": [{\"marker\": {\"colorbar\": {\"outlinewidth\": 0, \"ticks\": \"\"}}, \"type\": \"scatterpolar\"}], \"scatterpolargl\": [{\"marker\": {\"colorbar\": {\"outlinewidth\": 0, \"ticks\": \"\"}}, \"type\": \"scatterpolargl\"}], \"scatterternary\": [{\"marker\": {\"colorbar\": {\"outlinewidth\": 0, \"ticks\": \"\"}}, \"type\": \"scatterternary\"}], \"surface\": [{\"colorbar\": {\"outlinewidth\": 0, \"ticks\": \"\"}, \"colorscale\": [[0.0, \"#0d0887\"], [0.1111111111111111, \"#46039f\"], [0.2222222222222222, \"#7201a8\"], [0.3333333333333333, \"#9c179e\"], [0.4444444444444444, \"#bd3786\"], [0.5555555555555556, \"#d8576b\"], [0.6666666666666666, \"#ed7953\"], [0.7777777777777778, \"#fb9f3a\"], [0.8888888888888888, \"#fdca26\"], [1.0, \"#f0f921\"]], \"type\": \"surface\"}], \"table\": [{\"cells\": {\"fill\": {\"color\": \"#EBF0F8\"}, \"line\": {\"color\": \"white\"}}, \"header\": {\"fill\": {\"color\": \"#C8D4E3\"}, \"line\": {\"color\": \"white\"}}, \"type\": \"table\"}]}, \"layout\": {\"annotationdefaults\": {\"arrowcolor\": \"#2a3f5f\", \"arrowhead\": 0, \"arrowwidth\": 1}, \"coloraxis\": {\"colorbar\": {\"outlinewidth\": 0, \"ticks\": \"\"}}, \"colorscale\": {\"diverging\": [[0, \"#8e0152\"], [0.1, \"#c51b7d\"], [0.2, \"#de77ae\"], [0.3, \"#f1b6da\"], [0.4, \"#fde0ef\"], [0.5, \"#f7f7f7\"], [0.6, \"#e6f5d0\"], [0.7, \"#b8e186\"], [0.8, \"#7fbc41\"], [0.9, \"#4d9221\"], [1, \"#276419\"]], \"sequential\": [[0.0, \"#0d0887\"], [0.1111111111111111, \"#46039f\"], [0.2222222222222222, \"#7201a8\"], [0.3333333333333333, \"#9c179e\"], [0.4444444444444444, \"#bd3786\"], [0.5555555555555556, \"#d8576b\"], [0.6666666666666666, \"#ed7953\"], [0.7777777777777778, \"#fb9f3a\"], [0.8888888888888888, \"#fdca26\"], [1.0, \"#f0f921\"]], \"sequentialminus\": [[0.0, \"#0d0887\"], [0.1111111111111111, \"#46039f\"], [0.2222222222222222, \"#7201a8\"], [0.3333333333333333, \"#9c179e\"], [0.4444444444444444, \"#bd3786\"], [0.5555555555555556, \"#d8576b\"], [0.6666666666666666, \"#ed7953\"], [0.7777777777777778, \"#fb9f3a\"], [0.8888888888888888, \"#fdca26\"], [1.0, \"#f0f921\"]]}, \"colorway\": [\"#636efa\", \"#EF553B\", \"#00cc96\", \"#ab63fa\", \"#FFA15A\", \"#19d3f3\", \"#FF6692\", \"#B6E880\", \"#FF97FF\", \"#FECB52\"], \"font\": {\"color\": \"#2a3f5f\"}, \"geo\": {\"bgcolor\": \"white\", \"lakecolor\": \"white\", \"landcolor\": \"#E5ECF6\", \"showlakes\": true, \"showland\": true, \"subunitcolor\": \"white\"}, \"hoverlabel\": {\"align\": \"left\"}, \"hovermode\": \"closest\", \"mapbox\": {\"style\": \"light\"}, \"paper_bgcolor\": \"white\", \"plot_bgcolor\": \"#E5ECF6\", \"polar\": {\"angularaxis\": {\"gridcolor\": \"white\", \"linecolor\": \"white\", \"ticks\": \"\"}, \"bgcolor\": \"#E5ECF6\", \"radialaxis\": {\"gridcolor\": \"white\", \"linecolor\": \"white\", \"ticks\": \"\"}}, \"scene\": {\"xaxis\": {\"backgroundcolor\": \"#E5ECF6\", \"gridcolor\": \"white\", \"gridwidth\": 2, \"linecolor\": \"white\", \"showbackground\": true, \"ticks\": \"\", \"zerolinecolor\": \"white\"}, \"yaxis\": {\"backgroundcolor\": \"#E5ECF6\", \"gridcolor\": \"white\", \"gridwidth\": 2, \"linecolor\": \"white\", \"showbackground\": true, \"ticks\": \"\", \"zerolinecolor\": \"white\"}, \"zaxis\": {\"backgroundcolor\": \"#E5ECF6\", \"gridcolor\": \"white\", \"gridwidth\": 2, \"linecolor\": \"white\", \"showbackground\": true, \"ticks\": \"\", \"zerolinecolor\": \"white\"}}, \"shapedefaults\": {\"line\": {\"color\": \"#2a3f5f\"}}, \"ternary\": {\"aaxis\": {\"gridcolor\": \"white\", \"linecolor\": \"white\", \"ticks\": \"\"}, \"baxis\": {\"gridcolor\": \"white\", \"linecolor\": \"white\", \"ticks\": \"\"}, \"bgcolor\": \"#E5ECF6\", \"caxis\": {\"gridcolor\": \"white\", \"linecolor\": \"white\", \"ticks\": \"\"}}, \"title\": {\"x\": 0.05}, \"xaxis\": {\"automargin\": true, \"gridcolor\": \"white\", \"linecolor\": \"white\", \"ticks\": \"\", \"title\": {\"standoff\": 15}, \"zerolinecolor\": \"white\", \"zerolinewidth\": 2}, \"yaxis\": {\"automargin\": true, \"gridcolor\": \"white\", \"linecolor\": \"white\", \"ticks\": \"\", \"title\": {\"standoff\": 15}, \"zerolinecolor\": \"white\", \"zerolinewidth\": 2}}}, \"width\": 800, \"xaxis\": {\"showgrid\": false, \"showticklabels\": false, \"zeroline\": false}, \"yaxis\": {\"showgrid\": false, \"showticklabels\": false, \"zeroline\": false}},                        {\"displayModeBar\": false, \"responsive\": true}                    ).then(function(){\n                            \nvar gd = document.getElementById('56b971a0-6a83-4331-8bc5-7344a89db34a');\nvar x = new MutationObserver(function (mutations, observer) {{\n        var display = window.getComputedStyle(gd).display;\n        if (!display || display === 'none') {{\n            console.log([gd, 'removed!']);\n            Plotly.purge(gd);\n            observer.disconnect();\n        }}\n}});\n\n// Listen for the removal of the full notebook cells\nvar notebookContainer = gd.closest('#notebook-container');\nif (notebookContainer) {{\n    x.observe(notebookContainer, {childList: true});\n}}\n\n// Listen for the clearing of the current output cell\nvar outputEl = gd.closest('.output');\nif (outputEl) {{\n    x.observe(outputEl, {childList: true});\n}}\n\n                        })                };                });            </script>        </div>"
     },
     "metadata": {}
    },
    {
     "output_type": "display_data",
     "data": {
      "application/vnd.plotly.v1+json": {
       "config": {
        "displayModeBar": false,
        "linkText": "Export to plot.ly",
        "plotlyServerURL": "https://plot.ly",
        "showLink": false
       },
       "data": [
        {
         "hoverinfo": "none",
         "line": {
          "color": "rgb(127, 127, 127)",
          "dash": "solid",
          "width": 0
         },
         "mode": "lines",
         "type": "scatter",
         "x": [
          0.48983754519470746,
          0.48983754519470746,
          null,
          0,
          1,
          null
         ],
         "y": [
          0,
          1,
          null,
          0.5047124052282036,
          0.5047124052282036,
          null
         ]
        },
        {
         "hoverinfo": "none",
         "line": {
          "color": "rgb(0, 0, 0)",
          "dash": "solid",
          "width": 1
         },
         "mode": "lines",
         "type": "scatter",
         "x": [
          0.8745473624622535,
          0.7573392362957744,
          null,
          0.13982909467648685,
          0.11873464232243308,
          null,
          0.13982909467648685,
          0.3651894211028805,
          null,
          0.13982909467648685,
          0.12214781874441769,
          null,
          0.13982909467648685,
          0.2692022892236581,
          null,
          0.13982909467648685,
          0,
          null,
          0.11873464232243308,
          0.8129599621820476,
          null,
          0.11873464232243308,
          0.3651894211028805,
          null,
          0.11873464232243308,
          0.12214781874441769,
          null,
          0.19403335487465267,
          0.09789244339988386,
          null,
          0.8129599621820476,
          0.3651894211028805,
          null,
          0.8129599621820476,
          0.2692022892236581,
          null,
          0.8129599621820476,
          0,
          null,
          0.3651894211028805,
          0.12214781874441769,
          null,
          0.3651894211028805,
          0.2692022892236581,
          null,
          0.3651894211028805,
          0,
          null,
          0.12214781874441769,
          0.2692022892236581,
          null,
          0.12214781874441769,
          0,
          null,
          0.12214781874441769,
          0.9283096641978409,
          null,
          0.2692022892236581,
          0,
          null,
          0,
          0.7127383394983278,
          null,
          0.09789244339988386,
          0.7127383394983278,
          null,
          0.7127383394983278,
          0.9283096641978409,
          null
         ],
         "y": [
          0.3183375295326691,
          0.30538377106039905,
          null,
          0.9382433186199363,
          0.4558757632199269,
          null,
          0.9382433186199363,
          0.8441288079092183,
          null,
          0.9382433186199363,
          0.9654217418622106,
          null,
          0.9382433186199363,
          0.38080091419371315,
          null,
          0.9382433186199363,
          0.1546410307292334,
          null,
          0.4558757632199269,
          0.7858798648458953,
          null,
          0.4558757632199269,
          0.8441288079092183,
          null,
          0.4558757632199269,
          0.9654217418622106,
          null,
          0.37170842850893976,
          0.5091393202590995,
          null,
          0.7858798648458953,
          0.8441288079092183,
          null,
          0.7858798648458953,
          0.38080091419371315,
          null,
          0.7858798648458953,
          0.1546410307292334,
          null,
          0.8441288079092183,
          0.9654217418622106,
          null,
          0.8441288079092183,
          0.38080091419371315,
          null,
          0.8441288079092183,
          0.1546410307292334,
          null,
          0.9654217418622106,
          0.38080091419371315,
          null,
          0.9654217418622106,
          0.1546410307292334,
          null,
          0.9654217418622106,
          0.17710680721066627,
          null,
          0.38080091419371315,
          0.1546410307292334,
          null,
          0.1546410307292334,
          0.7621752270545259,
          null,
          0.5091393202590995,
          0.7621752270545259,
          null,
          0.7621752270545259,
          0.17710680721066627,
          null
         ]
        },
        {
         "hoverinfo": "text",
         "marker": {
          "color": "rgb(255, 255, 255)",
          "line": {
           "color": "rgb(0, 0, 0)",
           "width": 1
          },
          "size": 5,
          "symbol": "circle"
         },
         "mode": "markers",
         "text": [
          "fake-colours",
          "dimmdrive-gaming-ramdrive-10000-mbs",
          "i-wanna-be-the-co-op",
          "perfect-glowing-bodies",
          "funeral",
          "mlg-bouncing-simulator-2015",
          "ice-age-avalanche",
          "fruits-pair-festival-january",
          "lunar-lander-relaunched",
          "no-idea-for-name"
         ],
         "textfont": {
          "color": "rgb(0, 0, 0)"
         },
         "textposition": "middle center",
         "type": "scatter",
         "x": [
          0.8745473624622535,
          0.7573392362957744,
          1,
          0.19403335487465267,
          0.036864175509744954,
          0.5021960781835415,
          0.008727744123119793,
          0.2711116582078059,
          0.9661744775708705,
          0.13575315819898567
         ],
         "y": [
          0.3183375295326691,
          0.30538377106039905,
          0.022031795980599008,
          0.37170842850893976,
          0,
          0.7130113245989054,
          0.8136085864329418,
          1,
          0.149411613223625,
          0.46466198813207515
         ]
        },
        {
         "hoverinfo": "text",
         "marker": {
          "color": "rgb(255, 255, 255)",
          "line": {
           "color": "rgb(0, 0, 0)",
           "width": 1
          },
          "size": 8,
          "symbol": "circle"
         },
         "mode": "markers",
         "text": [
          "my-talking-angela",
          "tanktrouble-mobile-mayhem"
         ],
         "textfont": {
          "color": "rgb(0, 0, 0)"
         },
         "textposition": "middle center",
         "type": "scatter",
         "x": [
          0.13982909467648685,
          0.8129599621820476
         ],
         "y": [
          0.9382433186199363,
          0.7858798648458953
         ]
        },
        {
         "hoverinfo": "text",
         "marker": {
          "color": "rgb(255, 255, 255)",
          "line": {
           "color": "rgb(0, 0, 0)",
           "width": 1
          },
          "size": 7,
          "symbol": "circle"
         },
         "mode": "markers",
         "text": [
          "wrc-the-official-game",
          "brutal-donut"
         ],
         "textfont": {
          "color": "rgb(0, 0, 0)"
         },
         "textposition": "middle center",
         "type": "scatter",
         "x": [
          0.11873464232243308,
          0.2692022892236581
         ],
         "y": [
          0.4558757632199269,
          0.38080091419371315
         ]
        },
        {
         "hoverinfo": "text",
         "marker": {
          "color": "rgb(255, 255, 255)",
          "line": {
           "color": "rgb(0, 0, 0)",
           "width": 1
          },
          "size": 10,
          "symbol": "circle"
         },
         "mode": "markers",
         "text": [
          "extreme-motor-bike-ride-simulator-3d-steer-the-mot"
         ],
         "textfont": {
          "color": "rgb(0, 0, 0)"
         },
         "textposition": "middle center",
         "type": "scatter",
         "x": [
          0.3651894211028805
         ],
         "y": [
          0.8441288079092183
         ]
        },
        {
         "hoverinfo": "text",
         "marker": {
          "color": "rgb(255, 255, 255)",
          "line": {
           "color": "rgb(0, 0, 0)",
           "width": 1
          },
          "size": 24,
          "symbol": "circle"
         },
         "mode": "markers",
         "text": [
          "best-casino-social-slots-fun"
         ],
         "textfont": {
          "color": "rgb(0, 0, 0)"
         },
         "textposition": "middle center",
         "type": "scatter",
         "x": [
          0.12214781874441769
         ],
         "y": [
          0.9654217418622106
         ]
        },
        {
         "hoverinfo": "text",
         "marker": {
          "color": "rgb(255, 255, 255)",
          "line": {
           "color": "rgb(0, 0, 0)",
           "width": 1
          },
          "size": 50,
          "symbol": "circle"
         },
         "mode": "markers",
         "text": [
          "pengu-the-flying-penguin-unforgettable-chilly-adve",
          "jashanoid"
         ],
         "textfont": {
          "color": "rgb(0, 0, 0)"
         },
         "textposition": "middle center",
         "type": "scatter",
         "x": [
          0,
          0.7127383394983278
         ],
         "y": [
          0.1546410307292334,
          0.7621752270545259
         ]
        },
        {
         "hoverinfo": "text",
         "marker": {
          "color": "rgb(255, 255, 255)",
          "line": {
           "color": "rgb(0, 0, 0)",
           "width": 1
          },
          "size": 29,
          "symbol": "circle"
         },
         "mode": "markers",
         "text": [
          "armageddon-itch-4xisblack"
         ],
         "textfont": {
          "color": "rgb(0, 0, 0)"
         },
         "textposition": "middle center",
         "type": "scatter",
         "x": [
          0.09789244339988386
         ],
         "y": [
          0.5091393202590995
         ]
        },
        {
         "hoverinfo": "text",
         "marker": {
          "color": "rgb(255, 255, 255)",
          "line": {
           "color": "rgb(0, 0, 0)",
           "width": 1
          },
          "size": 11,
          "symbol": "circle"
         },
         "mode": "markers",
         "text": [
          "death-duel-itch"
         ],
         "textfont": {
          "color": "rgb(0, 0, 0)"
         },
         "textposition": "middle center",
         "type": "scatter",
         "x": [
          0.9283096641978409
         ],
         "y": [
          0.17710680721066627
         ]
        },
        {
         "hoverinfo": "none",
         "mode": "text",
         "text": [],
         "textfont": {
          "color": "rgb(255, 255, 255)"
         },
         "textposition": "middle center",
         "type": "scatter",
         "x": [],
         "y": []
        },
        {
         "hoverinfo": "none",
         "mode": "text",
         "text": [
          null,
          null,
          null,
          null,
          null,
          null,
          null,
          null,
          null,
          null,
          null,
          null,
          null,
          null,
          null,
          null,
          null,
          null,
          null,
          null
         ],
         "textfont": {
          "color": "rgb(0, 0, 0)"
         },
         "textposition": "middle center",
         "type": "scatter",
         "x": [
          0.8745473624622535,
          0.7573392362957744,
          0.13982909467648685,
          0.11873464232243308,
          1,
          0.19403335487465267,
          0.036864175509744954,
          0.8129599621820476,
          0.5021960781835415,
          0.3651894211028805,
          0.008727744123119793,
          0.12214781874441769,
          0.2692022892236581,
          0,
          0.2711116582078059,
          0.9661744775708705,
          0.13575315819898567,
          0.09789244339988386,
          0.7127383394983278,
          0.9283096641978409
         ],
         "y": [
          0.3183375295326691,
          0.30538377106039905,
          0.9382433186199363,
          0.4558757632199269,
          0.022031795980599008,
          0.37170842850893976,
          0,
          0.7858798648458953,
          0.7130113245989054,
          0.8441288079092183,
          0.8136085864329418,
          0.9654217418622106,
          0.38080091419371315,
          0.1546410307292334,
          1,
          0.149411613223625,
          0.46466198813207515,
          0.5091393202590995,
          0.7621752270545259,
          0.17710680721066627
         ]
        },
        {
         "hoverinfo": "none",
         "mode": "text",
         "text": [
          null,
          null,
          null,
          null,
          null,
          null,
          null,
          null,
          null,
          null,
          null,
          null,
          null,
          null,
          null,
          null,
          null,
          null,
          null,
          null,
          null,
          null,
          null
         ],
         "textfont": {
          "color": "rgb(0, 0, 0)"
         },
         "textposition": "middle center",
         "type": "scatter",
         "x": [
          0.8168109626473612,
          0.143604056009918,
          0.255711274546291,
          0.12173787226491253,
          0.21774376742358187,
          0.08357490402954923,
          0.46222905526900476,
          0.23257883984204844,
          0.10607448999304848,
          0.13710856307423458,
          0.5880541266910628,
          0.5465065671648325,
          0.4121003807976225,
          0.23988218120296903,
          0.3306335562717673,
          0.19292041600397494,
          0.20873054083338252,
          0.07492668581145819,
          0.5320094054908643,
          0.14060433433364303,
          0.350293808590205,
          0.4021576830966274,
          0.8324433326926071
         ],
         "y": [
          0.2856618341052286,
          0.6949694361848984,
          0.9167726873693771,
          0.9317496016450642,
          0.6697670581190399,
          0.5383076455600083,
          0.6462786405321043,
          0.6698788581182937,
          0.7109698982584476,
          0.41975349727298294,
          0.7888239141827025,
          0.5590368609725145,
          0.44610521770096984,
          0.8794563897220766,
          0.6031748105886753,
          0.48113420458967665,
          0.6840701922898681,
          0.553066922882088,
          0.5944042683743261,
          0.24387506942548434,
          0.48219295721070743,
          0.661262267084196,
          0.48429665536568306
         ]
        },
        {
         "hoverinfo": "none",
         "marker": {
          "color": "rgba(255, 255, 255, 0)",
          "line": {
           "color": "rgba(255, 255, 255, 0)",
           "width": 0
          },
          "size": 0,
          "symbol": "circle"
         },
         "mode": "markers",
         "type": "scatter",
         "x": [
          0.5,
          0,
          1,
          0.5
         ],
         "y": [
          0,
          0.5,
          0.5,
          1
         ]
        }
       ],
       "layout": {
        "height": 450,
        "hovermode": "closest",
        "margin": {
         "b": 10,
         "l": 10,
         "r": 10,
         "t": 10
        },
        "plot_bgcolor": "rgb(255, 255, 255)",
        "showlegend": false,
        "template": {
         "data": {
          "bar": [
           {
            "error_x": {
             "color": "#2a3f5f"
            },
            "error_y": {
             "color": "#2a3f5f"
            },
            "marker": {
             "line": {
              "color": "#E5ECF6",
              "width": 0.5
             }
            },
            "type": "bar"
           }
          ],
          "barpolar": [
           {
            "marker": {
             "line": {
              "color": "#E5ECF6",
              "width": 0.5
             }
            },
            "type": "barpolar"
           }
          ],
          "carpet": [
           {
            "aaxis": {
             "endlinecolor": "#2a3f5f",
             "gridcolor": "white",
             "linecolor": "white",
             "minorgridcolor": "white",
             "startlinecolor": "#2a3f5f"
            },
            "baxis": {
             "endlinecolor": "#2a3f5f",
             "gridcolor": "white",
             "linecolor": "white",
             "minorgridcolor": "white",
             "startlinecolor": "#2a3f5f"
            },
            "type": "carpet"
           }
          ],
          "choropleth": [
           {
            "colorbar": {
             "outlinewidth": 0,
             "ticks": ""
            },
            "type": "choropleth"
           }
          ],
          "contour": [
           {
            "colorbar": {
             "outlinewidth": 0,
             "ticks": ""
            },
            "colorscale": [
             [
              0,
              "#0d0887"
             ],
             [
              0.1111111111111111,
              "#46039f"
             ],
             [
              0.2222222222222222,
              "#7201a8"
             ],
             [
              0.3333333333333333,
              "#9c179e"
             ],
             [
              0.4444444444444444,
              "#bd3786"
             ],
             [
              0.5555555555555556,
              "#d8576b"
             ],
             [
              0.6666666666666666,
              "#ed7953"
             ],
             [
              0.7777777777777778,
              "#fb9f3a"
             ],
             [
              0.8888888888888888,
              "#fdca26"
             ],
             [
              1,
              "#f0f921"
             ]
            ],
            "type": "contour"
           }
          ],
          "contourcarpet": [
           {
            "colorbar": {
             "outlinewidth": 0,
             "ticks": ""
            },
            "type": "contourcarpet"
           }
          ],
          "heatmap": [
           {
            "colorbar": {
             "outlinewidth": 0,
             "ticks": ""
            },
            "colorscale": [
             [
              0,
              "#0d0887"
             ],
             [
              0.1111111111111111,
              "#46039f"
             ],
             [
              0.2222222222222222,
              "#7201a8"
             ],
             [
              0.3333333333333333,
              "#9c179e"
             ],
             [
              0.4444444444444444,
              "#bd3786"
             ],
             [
              0.5555555555555556,
              "#d8576b"
             ],
             [
              0.6666666666666666,
              "#ed7953"
             ],
             [
              0.7777777777777778,
              "#fb9f3a"
             ],
             [
              0.8888888888888888,
              "#fdca26"
             ],
             [
              1,
              "#f0f921"
             ]
            ],
            "type": "heatmap"
           }
          ],
          "heatmapgl": [
           {
            "colorbar": {
             "outlinewidth": 0,
             "ticks": ""
            },
            "colorscale": [
             [
              0,
              "#0d0887"
             ],
             [
              0.1111111111111111,
              "#46039f"
             ],
             [
              0.2222222222222222,
              "#7201a8"
             ],
             [
              0.3333333333333333,
              "#9c179e"
             ],
             [
              0.4444444444444444,
              "#bd3786"
             ],
             [
              0.5555555555555556,
              "#d8576b"
             ],
             [
              0.6666666666666666,
              "#ed7953"
             ],
             [
              0.7777777777777778,
              "#fb9f3a"
             ],
             [
              0.8888888888888888,
              "#fdca26"
             ],
             [
              1,
              "#f0f921"
             ]
            ],
            "type": "heatmapgl"
           }
          ],
          "histogram": [
           {
            "marker": {
             "colorbar": {
              "outlinewidth": 0,
              "ticks": ""
             }
            },
            "type": "histogram"
           }
          ],
          "histogram2d": [
           {
            "colorbar": {
             "outlinewidth": 0,
             "ticks": ""
            },
            "colorscale": [
             [
              0,
              "#0d0887"
             ],
             [
              0.1111111111111111,
              "#46039f"
             ],
             [
              0.2222222222222222,
              "#7201a8"
             ],
             [
              0.3333333333333333,
              "#9c179e"
             ],
             [
              0.4444444444444444,
              "#bd3786"
             ],
             [
              0.5555555555555556,
              "#d8576b"
             ],
             [
              0.6666666666666666,
              "#ed7953"
             ],
             [
              0.7777777777777778,
              "#fb9f3a"
             ],
             [
              0.8888888888888888,
              "#fdca26"
             ],
             [
              1,
              "#f0f921"
             ]
            ],
            "type": "histogram2d"
           }
          ],
          "histogram2dcontour": [
           {
            "colorbar": {
             "outlinewidth": 0,
             "ticks": ""
            },
            "colorscale": [
             [
              0,
              "#0d0887"
             ],
             [
              0.1111111111111111,
              "#46039f"
             ],
             [
              0.2222222222222222,
              "#7201a8"
             ],
             [
              0.3333333333333333,
              "#9c179e"
             ],
             [
              0.4444444444444444,
              "#bd3786"
             ],
             [
              0.5555555555555556,
              "#d8576b"
             ],
             [
              0.6666666666666666,
              "#ed7953"
             ],
             [
              0.7777777777777778,
              "#fb9f3a"
             ],
             [
              0.8888888888888888,
              "#fdca26"
             ],
             [
              1,
              "#f0f921"
             ]
            ],
            "type": "histogram2dcontour"
           }
          ],
          "mesh3d": [
           {
            "colorbar": {
             "outlinewidth": 0,
             "ticks": ""
            },
            "type": "mesh3d"
           }
          ],
          "parcoords": [
           {
            "line": {
             "colorbar": {
              "outlinewidth": 0,
              "ticks": ""
             }
            },
            "type": "parcoords"
           }
          ],
          "pie": [
           {
            "automargin": true,
            "type": "pie"
           }
          ],
          "scatter": [
           {
            "marker": {
             "colorbar": {
              "outlinewidth": 0,
              "ticks": ""
             }
            },
            "type": "scatter"
           }
          ],
          "scatter3d": [
           {
            "line": {
             "colorbar": {
              "outlinewidth": 0,
              "ticks": ""
             }
            },
            "marker": {
             "colorbar": {
              "outlinewidth": 0,
              "ticks": ""
             }
            },
            "type": "scatter3d"
           }
          ],
          "scattercarpet": [
           {
            "marker": {
             "colorbar": {
              "outlinewidth": 0,
              "ticks": ""
             }
            },
            "type": "scattercarpet"
           }
          ],
          "scattergeo": [
           {
            "marker": {
             "colorbar": {
              "outlinewidth": 0,
              "ticks": ""
             }
            },
            "type": "scattergeo"
           }
          ],
          "scattergl": [
           {
            "marker": {
             "colorbar": {
              "outlinewidth": 0,
              "ticks": ""
             }
            },
            "type": "scattergl"
           }
          ],
          "scattermapbox": [
           {
            "marker": {
             "colorbar": {
              "outlinewidth": 0,
              "ticks": ""
             }
            },
            "type": "scattermapbox"
           }
          ],
          "scatterpolar": [
           {
            "marker": {
             "colorbar": {
              "outlinewidth": 0,
              "ticks": ""
             }
            },
            "type": "scatterpolar"
           }
          ],
          "scatterpolargl": [
           {
            "marker": {
             "colorbar": {
              "outlinewidth": 0,
              "ticks": ""
             }
            },
            "type": "scatterpolargl"
           }
          ],
          "scatterternary": [
           {
            "marker": {
             "colorbar": {
              "outlinewidth": 0,
              "ticks": ""
             }
            },
            "type": "scatterternary"
           }
          ],
          "surface": [
           {
            "colorbar": {
             "outlinewidth": 0,
             "ticks": ""
            },
            "colorscale": [
             [
              0,
              "#0d0887"
             ],
             [
              0.1111111111111111,
              "#46039f"
             ],
             [
              0.2222222222222222,
              "#7201a8"
             ],
             [
              0.3333333333333333,
              "#9c179e"
             ],
             [
              0.4444444444444444,
              "#bd3786"
             ],
             [
              0.5555555555555556,
              "#d8576b"
             ],
             [
              0.6666666666666666,
              "#ed7953"
             ],
             [
              0.7777777777777778,
              "#fb9f3a"
             ],
             [
              0.8888888888888888,
              "#fdca26"
             ],
             [
              1,
              "#f0f921"
             ]
            ],
            "type": "surface"
           }
          ],
          "table": [
           {
            "cells": {
             "fill": {
              "color": "#EBF0F8"
             },
             "line": {
              "color": "white"
             }
            },
            "header": {
             "fill": {
              "color": "#C8D4E3"
             },
             "line": {
              "color": "white"
             }
            },
            "type": "table"
           }
          ]
         },
         "layout": {
          "annotationdefaults": {
           "arrowcolor": "#2a3f5f",
           "arrowhead": 0,
           "arrowwidth": 1
          },
          "coloraxis": {
           "colorbar": {
            "outlinewidth": 0,
            "ticks": ""
           }
          },
          "colorscale": {
           "diverging": [
            [
             0,
             "#8e0152"
            ],
            [
             0.1,
             "#c51b7d"
            ],
            [
             0.2,
             "#de77ae"
            ],
            [
             0.3,
             "#f1b6da"
            ],
            [
             0.4,
             "#fde0ef"
            ],
            [
             0.5,
             "#f7f7f7"
            ],
            [
             0.6,
             "#e6f5d0"
            ],
            [
             0.7,
             "#b8e186"
            ],
            [
             0.8,
             "#7fbc41"
            ],
            [
             0.9,
             "#4d9221"
            ],
            [
             1,
             "#276419"
            ]
           ],
           "sequential": [
            [
             0,
             "#0d0887"
            ],
            [
             0.1111111111111111,
             "#46039f"
            ],
            [
             0.2222222222222222,
             "#7201a8"
            ],
            [
             0.3333333333333333,
             "#9c179e"
            ],
            [
             0.4444444444444444,
             "#bd3786"
            ],
            [
             0.5555555555555556,
             "#d8576b"
            ],
            [
             0.6666666666666666,
             "#ed7953"
            ],
            [
             0.7777777777777778,
             "#fb9f3a"
            ],
            [
             0.8888888888888888,
             "#fdca26"
            ],
            [
             1,
             "#f0f921"
            ]
           ],
           "sequentialminus": [
            [
             0,
             "#0d0887"
            ],
            [
             0.1111111111111111,
             "#46039f"
            ],
            [
             0.2222222222222222,
             "#7201a8"
            ],
            [
             0.3333333333333333,
             "#9c179e"
            ],
            [
             0.4444444444444444,
             "#bd3786"
            ],
            [
             0.5555555555555556,
             "#d8576b"
            ],
            [
             0.6666666666666666,
             "#ed7953"
            ],
            [
             0.7777777777777778,
             "#fb9f3a"
            ],
            [
             0.8888888888888888,
             "#fdca26"
            ],
            [
             1,
             "#f0f921"
            ]
           ]
          },
          "colorway": [
           "#636efa",
           "#EF553B",
           "#00cc96",
           "#ab63fa",
           "#FFA15A",
           "#19d3f3",
           "#FF6692",
           "#B6E880",
           "#FF97FF",
           "#FECB52"
          ],
          "font": {
           "color": "#2a3f5f"
          },
          "geo": {
           "bgcolor": "white",
           "lakecolor": "white",
           "landcolor": "#E5ECF6",
           "showlakes": true,
           "showland": true,
           "subunitcolor": "white"
          },
          "hoverlabel": {
           "align": "left"
          },
          "hovermode": "closest",
          "mapbox": {
           "style": "light"
          },
          "paper_bgcolor": "white",
          "plot_bgcolor": "#E5ECF6",
          "polar": {
           "angularaxis": {
            "gridcolor": "white",
            "linecolor": "white",
            "ticks": ""
           },
           "bgcolor": "#E5ECF6",
           "radialaxis": {
            "gridcolor": "white",
            "linecolor": "white",
            "ticks": ""
           }
          },
          "scene": {
           "xaxis": {
            "backgroundcolor": "#E5ECF6",
            "gridcolor": "white",
            "gridwidth": 2,
            "linecolor": "white",
            "showbackground": true,
            "ticks": "",
            "zerolinecolor": "white"
           },
           "yaxis": {
            "backgroundcolor": "#E5ECF6",
            "gridcolor": "white",
            "gridwidth": 2,
            "linecolor": "white",
            "showbackground": true,
            "ticks": "",
            "zerolinecolor": "white"
           },
           "zaxis": {
            "backgroundcolor": "#E5ECF6",
            "gridcolor": "white",
            "gridwidth": 2,
            "linecolor": "white",
            "showbackground": true,
            "ticks": "",
            "zerolinecolor": "white"
           }
          },
          "shapedefaults": {
           "line": {
            "color": "#2a3f5f"
           }
          },
          "ternary": {
           "aaxis": {
            "gridcolor": "white",
            "linecolor": "white",
            "ticks": ""
           },
           "baxis": {
            "gridcolor": "white",
            "linecolor": "white",
            "ticks": ""
           },
           "bgcolor": "#E5ECF6",
           "caxis": {
            "gridcolor": "white",
            "linecolor": "white",
            "ticks": ""
           }
          },
          "title": {
           "x": 0.05
          },
          "xaxis": {
           "automargin": true,
           "gridcolor": "white",
           "linecolor": "white",
           "ticks": "",
           "title": {
            "standoff": 15
           },
           "zerolinecolor": "white",
           "zerolinewidth": 2
          },
          "yaxis": {
           "automargin": true,
           "gridcolor": "white",
           "linecolor": "white",
           "ticks": "",
           "title": {
            "standoff": 15
           },
           "zerolinecolor": "white",
           "zerolinewidth": 2
          }
         }
        },
        "width": 800,
        "xaxis": {
         "showgrid": false,
         "showticklabels": false,
         "zeroline": false
        },
        "yaxis": {
         "showgrid": false,
         "showticklabels": false,
         "zeroline": false
        }
       }
      },
      "text/html": "<div>                            <div id=\"d3fb4a15-b676-4203-8415-9d2738bd5072\" class=\"plotly-graph-div\" style=\"height:450px; width:800px;\"></div>            <script type=\"text/javascript\">                require([\"plotly\"], function(Plotly) {                    window.PLOTLYENV=window.PLOTLYENV || {};                                    if (document.getElementById(\"d3fb4a15-b676-4203-8415-9d2738bd5072\")) {                    Plotly.newPlot(                        \"d3fb4a15-b676-4203-8415-9d2738bd5072\",                        [{\"hoverinfo\": \"none\", \"line\": {\"color\": \"rgb(127, 127, 127)\", \"dash\": \"solid\", \"width\": 0}, \"mode\": \"lines\", \"type\": \"scatter\", \"x\": [0.48983754519470746, 0.48983754519470746, null, 0, 1, null], \"y\": [0, 1, null, 0.5047124052282036, 0.5047124052282036, null]}, {\"hoverinfo\": \"none\", \"line\": {\"color\": \"rgb(0, 0, 0)\", \"dash\": \"solid\", \"width\": 1}, \"mode\": \"lines\", \"type\": \"scatter\", \"x\": [0.8745473624622535, 0.7573392362957744, null, 0.13982909467648685, 0.11873464232243308, null, 0.13982909467648685, 0.3651894211028805, null, 0.13982909467648685, 0.12214781874441769, null, 0.13982909467648685, 0.2692022892236581, null, 0.13982909467648685, 0.0, null, 0.11873464232243308, 0.8129599621820476, null, 0.11873464232243308, 0.3651894211028805, null, 0.11873464232243308, 0.12214781874441769, null, 0.19403335487465267, 0.09789244339988386, null, 0.8129599621820476, 0.3651894211028805, null, 0.8129599621820476, 0.2692022892236581, null, 0.8129599621820476, 0.0, null, 0.3651894211028805, 0.12214781874441769, null, 0.3651894211028805, 0.2692022892236581, null, 0.3651894211028805, 0.0, null, 0.12214781874441769, 0.2692022892236581, null, 0.12214781874441769, 0.0, null, 0.12214781874441769, 0.9283096641978409, null, 0.2692022892236581, 0.0, null, 0.0, 0.7127383394983278, null, 0.09789244339988386, 0.7127383394983278, null, 0.7127383394983278, 0.9283096641978409, null], \"y\": [0.3183375295326691, 0.30538377106039905, null, 0.9382433186199363, 0.4558757632199269, null, 0.9382433186199363, 0.8441288079092183, null, 0.9382433186199363, 0.9654217418622106, null, 0.9382433186199363, 0.38080091419371315, null, 0.9382433186199363, 0.1546410307292334, null, 0.4558757632199269, 0.7858798648458953, null, 0.4558757632199269, 0.8441288079092183, null, 0.4558757632199269, 0.9654217418622106, null, 0.37170842850893976, 0.5091393202590995, null, 0.7858798648458953, 0.8441288079092183, null, 0.7858798648458953, 0.38080091419371315, null, 0.7858798648458953, 0.1546410307292334, null, 0.8441288079092183, 0.9654217418622106, null, 0.8441288079092183, 0.38080091419371315, null, 0.8441288079092183, 0.1546410307292334, null, 0.9654217418622106, 0.38080091419371315, null, 0.9654217418622106, 0.1546410307292334, null, 0.9654217418622106, 0.17710680721066627, null, 0.38080091419371315, 0.1546410307292334, null, 0.1546410307292334, 0.7621752270545259, null, 0.5091393202590995, 0.7621752270545259, null, 0.7621752270545259, 0.17710680721066627, null]}, {\"hoverinfo\": \"text\", \"marker\": {\"color\": \"rgb(255, 255, 255)\", \"line\": {\"color\": \"rgb(0, 0, 0)\", \"width\": 1}, \"size\": 5, \"symbol\": \"circle\"}, \"mode\": \"markers\", \"text\": [\"fake-colours\", \"dimmdrive-gaming-ramdrive-10000-mbs\", \"i-wanna-be-the-co-op\", \"perfect-glowing-bodies\", \"funeral\", \"mlg-bouncing-simulator-2015\", \"ice-age-avalanche\", \"fruits-pair-festival-january\", \"lunar-lander-relaunched\", \"no-idea-for-name\"], \"textfont\": {\"color\": \"rgb(0, 0, 0)\"}, \"textposition\": \"middle center\", \"type\": \"scatter\", \"x\": [0.8745473624622535, 0.7573392362957744, 1.0, 0.19403335487465267, 0.036864175509744954, 0.5021960781835415, 0.008727744123119793, 0.2711116582078059, 0.9661744775708705, 0.13575315819898567], \"y\": [0.3183375295326691, 0.30538377106039905, 0.022031795980599008, 0.37170842850893976, 0.0, 0.7130113245989054, 0.8136085864329418, 1.0, 0.149411613223625, 0.46466198813207515]}, {\"hoverinfo\": \"text\", \"marker\": {\"color\": \"rgb(255, 255, 255)\", \"line\": {\"color\": \"rgb(0, 0, 0)\", \"width\": 1}, \"size\": 8, \"symbol\": \"circle\"}, \"mode\": \"markers\", \"text\": [\"my-talking-angela\", \"tanktrouble-mobile-mayhem\"], \"textfont\": {\"color\": \"rgb(0, 0, 0)\"}, \"textposition\": \"middle center\", \"type\": \"scatter\", \"x\": [0.13982909467648685, 0.8129599621820476], \"y\": [0.9382433186199363, 0.7858798648458953]}, {\"hoverinfo\": \"text\", \"marker\": {\"color\": \"rgb(255, 255, 255)\", \"line\": {\"color\": \"rgb(0, 0, 0)\", \"width\": 1}, \"size\": 7, \"symbol\": \"circle\"}, \"mode\": \"markers\", \"text\": [\"wrc-the-official-game\", \"brutal-donut\"], \"textfont\": {\"color\": \"rgb(0, 0, 0)\"}, \"textposition\": \"middle center\", \"type\": \"scatter\", \"x\": [0.11873464232243308, 0.2692022892236581], \"y\": [0.4558757632199269, 0.38080091419371315]}, {\"hoverinfo\": \"text\", \"marker\": {\"color\": \"rgb(255, 255, 255)\", \"line\": {\"color\": \"rgb(0, 0, 0)\", \"width\": 1}, \"size\": 10, \"symbol\": \"circle\"}, \"mode\": \"markers\", \"text\": [\"extreme-motor-bike-ride-simulator-3d-steer-the-mot\"], \"textfont\": {\"color\": \"rgb(0, 0, 0)\"}, \"textposition\": \"middle center\", \"type\": \"scatter\", \"x\": [0.3651894211028805], \"y\": [0.8441288079092183]}, {\"hoverinfo\": \"text\", \"marker\": {\"color\": \"rgb(255, 255, 255)\", \"line\": {\"color\": \"rgb(0, 0, 0)\", \"width\": 1}, \"size\": 24, \"symbol\": \"circle\"}, \"mode\": \"markers\", \"text\": [\"best-casino-social-slots-fun\"], \"textfont\": {\"color\": \"rgb(0, 0, 0)\"}, \"textposition\": \"middle center\", \"type\": \"scatter\", \"x\": [0.12214781874441769], \"y\": [0.9654217418622106]}, {\"hoverinfo\": \"text\", \"marker\": {\"color\": \"rgb(255, 255, 255)\", \"line\": {\"color\": \"rgb(0, 0, 0)\", \"width\": 1}, \"size\": 50, \"symbol\": \"circle\"}, \"mode\": \"markers\", \"text\": [\"pengu-the-flying-penguin-unforgettable-chilly-adve\", \"jashanoid\"], \"textfont\": {\"color\": \"rgb(0, 0, 0)\"}, \"textposition\": \"middle center\", \"type\": \"scatter\", \"x\": [0.0, 0.7127383394983278], \"y\": [0.1546410307292334, 0.7621752270545259]}, {\"hoverinfo\": \"text\", \"marker\": {\"color\": \"rgb(255, 255, 255)\", \"line\": {\"color\": \"rgb(0, 0, 0)\", \"width\": 1}, \"size\": 29, \"symbol\": \"circle\"}, \"mode\": \"markers\", \"text\": [\"armageddon-itch-4xisblack\"], \"textfont\": {\"color\": \"rgb(0, 0, 0)\"}, \"textposition\": \"middle center\", \"type\": \"scatter\", \"x\": [0.09789244339988386], \"y\": [0.5091393202590995]}, {\"hoverinfo\": \"text\", \"marker\": {\"color\": \"rgb(255, 255, 255)\", \"line\": {\"color\": \"rgb(0, 0, 0)\", \"width\": 1}, \"size\": 11, \"symbol\": \"circle\"}, \"mode\": \"markers\", \"text\": [\"death-duel-itch\"], \"textfont\": {\"color\": \"rgb(0, 0, 0)\"}, \"textposition\": \"middle center\", \"type\": \"scatter\", \"x\": [0.9283096641978409], \"y\": [0.17710680721066627]}, {\"hoverinfo\": \"none\", \"mode\": \"text\", \"text\": [], \"textfont\": {\"color\": \"rgb(255, 255, 255)\"}, \"textposition\": \"middle center\", \"type\": \"scatter\", \"x\": [], \"y\": []}, {\"hoverinfo\": \"none\", \"mode\": \"text\", \"text\": [null, null, null, null, null, null, null, null, null, null, null, null, null, null, null, null, null, null, null, null], \"textfont\": {\"color\": \"rgb(0, 0, 0)\"}, \"textposition\": \"middle center\", \"type\": \"scatter\", \"x\": [0.8745473624622535, 0.7573392362957744, 0.13982909467648685, 0.11873464232243308, 1.0, 0.19403335487465267, 0.036864175509744954, 0.8129599621820476, 0.5021960781835415, 0.3651894211028805, 0.008727744123119793, 0.12214781874441769, 0.2692022892236581, 0.0, 0.2711116582078059, 0.9661744775708705, 0.13575315819898567, 0.09789244339988386, 0.7127383394983278, 0.9283096641978409], \"y\": [0.3183375295326691, 0.30538377106039905, 0.9382433186199363, 0.4558757632199269, 0.022031795980599008, 0.37170842850893976, 0.0, 0.7858798648458953, 0.7130113245989054, 0.8441288079092183, 0.8136085864329418, 0.9654217418622106, 0.38080091419371315, 0.1546410307292334, 1.0, 0.149411613223625, 0.46466198813207515, 0.5091393202590995, 0.7621752270545259, 0.17710680721066627]}, {\"hoverinfo\": \"none\", \"mode\": \"text\", \"text\": [null, null, null, null, null, null, null, null, null, null, null, null, null, null, null, null, null, null, null, null, null, null, null], \"textfont\": {\"color\": \"rgb(0, 0, 0)\"}, \"textposition\": \"middle center\", \"type\": \"scatter\", \"x\": [0.8168109626473612, 0.143604056009918, 0.255711274546291, 0.12173787226491253, 0.21774376742358187, 0.08357490402954923, 0.46222905526900476, 0.23257883984204844, 0.10607448999304848, 0.13710856307423458, 0.5880541266910628, 0.5465065671648325, 0.4121003807976225, 0.23988218120296903, 0.3306335562717673, 0.19292041600397494, 0.20873054083338252, 0.07492668581145819, 0.5320094054908643, 0.14060433433364303, 0.350293808590205, 0.4021576830966274, 0.8324433326926071], \"y\": [0.2856618341052286, 0.6949694361848984, 0.9167726873693771, 0.9317496016450642, 0.6697670581190399, 0.5383076455600083, 0.6462786405321043, 0.6698788581182937, 0.7109698982584476, 0.41975349727298294, 0.7888239141827025, 0.5590368609725145, 0.44610521770096984, 0.8794563897220766, 0.6031748105886753, 0.48113420458967665, 0.6840701922898681, 0.553066922882088, 0.5944042683743261, 0.24387506942548434, 0.48219295721070743, 0.661262267084196, 0.48429665536568306]}, {\"hoverinfo\": \"none\", \"marker\": {\"color\": \"rgba(255, 255, 255, 0)\", \"line\": {\"color\": \"rgba(255, 255, 255, 0)\", \"width\": 0}, \"size\": 0, \"symbol\": \"circle\"}, \"mode\": \"markers\", \"type\": \"scatter\", \"x\": [0.5, 0.0, 1.0, 0.5], \"y\": [0.0, 0.5, 0.5, 1.0]}],                        {\"height\": 450, \"hovermode\": \"closest\", \"margin\": {\"b\": 10, \"l\": 10, \"r\": 10, \"t\": 10}, \"plot_bgcolor\": \"rgb(255, 255, 255)\", \"showlegend\": false, \"template\": {\"data\": {\"bar\": [{\"error_x\": {\"color\": \"#2a3f5f\"}, \"error_y\": {\"color\": \"#2a3f5f\"}, \"marker\": {\"line\": {\"color\": \"#E5ECF6\", \"width\": 0.5}}, \"type\": \"bar\"}], \"barpolar\": [{\"marker\": {\"line\": {\"color\": \"#E5ECF6\", \"width\": 0.5}}, \"type\": \"barpolar\"}], \"carpet\": [{\"aaxis\": {\"endlinecolor\": \"#2a3f5f\", \"gridcolor\": \"white\", \"linecolor\": \"white\", \"minorgridcolor\": \"white\", \"startlinecolor\": \"#2a3f5f\"}, \"baxis\": {\"endlinecolor\": \"#2a3f5f\", \"gridcolor\": \"white\", \"linecolor\": \"white\", \"minorgridcolor\": \"white\", \"startlinecolor\": \"#2a3f5f\"}, \"type\": \"carpet\"}], \"choropleth\": [{\"colorbar\": {\"outlinewidth\": 0, \"ticks\": \"\"}, \"type\": \"choropleth\"}], \"contour\": [{\"colorbar\": {\"outlinewidth\": 0, \"ticks\": \"\"}, \"colorscale\": [[0.0, \"#0d0887\"], [0.1111111111111111, \"#46039f\"], [0.2222222222222222, \"#7201a8\"], [0.3333333333333333, \"#9c179e\"], [0.4444444444444444, \"#bd3786\"], [0.5555555555555556, \"#d8576b\"], [0.6666666666666666, \"#ed7953\"], [0.7777777777777778, \"#fb9f3a\"], [0.8888888888888888, \"#fdca26\"], [1.0, \"#f0f921\"]], \"type\": \"contour\"}], \"contourcarpet\": [{\"colorbar\": {\"outlinewidth\": 0, \"ticks\": \"\"}, \"type\": \"contourcarpet\"}], \"heatmap\": [{\"colorbar\": {\"outlinewidth\": 0, \"ticks\": \"\"}, \"colorscale\": [[0.0, \"#0d0887\"], [0.1111111111111111, \"#46039f\"], [0.2222222222222222, \"#7201a8\"], [0.3333333333333333, \"#9c179e\"], [0.4444444444444444, \"#bd3786\"], [0.5555555555555556, \"#d8576b\"], [0.6666666666666666, \"#ed7953\"], [0.7777777777777778, \"#fb9f3a\"], [0.8888888888888888, \"#fdca26\"], [1.0, \"#f0f921\"]], \"type\": \"heatmap\"}], \"heatmapgl\": [{\"colorbar\": {\"outlinewidth\": 0, \"ticks\": \"\"}, \"colorscale\": [[0.0, \"#0d0887\"], [0.1111111111111111, \"#46039f\"], [0.2222222222222222, \"#7201a8\"], [0.3333333333333333, \"#9c179e\"], [0.4444444444444444, \"#bd3786\"], [0.5555555555555556, \"#d8576b\"], [0.6666666666666666, \"#ed7953\"], [0.7777777777777778, \"#fb9f3a\"], [0.8888888888888888, \"#fdca26\"], [1.0, \"#f0f921\"]], \"type\": \"heatmapgl\"}], \"histogram\": [{\"marker\": {\"colorbar\": {\"outlinewidth\": 0, \"ticks\": \"\"}}, \"type\": \"histogram\"}], \"histogram2d\": [{\"colorbar\": {\"outlinewidth\": 0, \"ticks\": \"\"}, \"colorscale\": [[0.0, \"#0d0887\"], [0.1111111111111111, \"#46039f\"], [0.2222222222222222, \"#7201a8\"], [0.3333333333333333, \"#9c179e\"], [0.4444444444444444, \"#bd3786\"], [0.5555555555555556, \"#d8576b\"], [0.6666666666666666, \"#ed7953\"], [0.7777777777777778, \"#fb9f3a\"], [0.8888888888888888, \"#fdca26\"], [1.0, \"#f0f921\"]], \"type\": \"histogram2d\"}], \"histogram2dcontour\": [{\"colorbar\": {\"outlinewidth\": 0, \"ticks\": \"\"}, \"colorscale\": [[0.0, \"#0d0887\"], [0.1111111111111111, \"#46039f\"], [0.2222222222222222, \"#7201a8\"], [0.3333333333333333, \"#9c179e\"], [0.4444444444444444, \"#bd3786\"], [0.5555555555555556, \"#d8576b\"], [0.6666666666666666, \"#ed7953\"], [0.7777777777777778, \"#fb9f3a\"], [0.8888888888888888, \"#fdca26\"], [1.0, \"#f0f921\"]], \"type\": \"histogram2dcontour\"}], \"mesh3d\": [{\"colorbar\": {\"outlinewidth\": 0, \"ticks\": \"\"}, \"type\": \"mesh3d\"}], \"parcoords\": [{\"line\": {\"colorbar\": {\"outlinewidth\": 0, \"ticks\": \"\"}}, \"type\": \"parcoords\"}], \"pie\": [{\"automargin\": true, \"type\": \"pie\"}], \"scatter\": [{\"marker\": {\"colorbar\": {\"outlinewidth\": 0, \"ticks\": \"\"}}, \"type\": \"scatter\"}], \"scatter3d\": [{\"line\": {\"colorbar\": {\"outlinewidth\": 0, \"ticks\": \"\"}}, \"marker\": {\"colorbar\": {\"outlinewidth\": 0, \"ticks\": \"\"}}, \"type\": \"scatter3d\"}], \"scattercarpet\": [{\"marker\": {\"colorbar\": {\"outlinewidth\": 0, \"ticks\": \"\"}}, \"type\": \"scattercarpet\"}], \"scattergeo\": [{\"marker\": {\"colorbar\": {\"outlinewidth\": 0, \"ticks\": \"\"}}, \"type\": \"scattergeo\"}], \"scattergl\": [{\"marker\": {\"colorbar\": {\"outlinewidth\": 0, \"ticks\": \"\"}}, \"type\": \"scattergl\"}], \"scattermapbox\": [{\"marker\": {\"colorbar\": {\"outlinewidth\": 0, \"ticks\": \"\"}}, \"type\": \"scattermapbox\"}], \"scatterpolar\": [{\"marker\": {\"colorbar\": {\"outlinewidth\": 0, \"ticks\": \"\"}}, \"type\": \"scatterpolar\"}], \"scatterpolargl\": [{\"marker\": {\"colorbar\": {\"outlinewidth\": 0, \"ticks\": \"\"}}, \"type\": \"scatterpolargl\"}], \"scatterternary\": [{\"marker\": {\"colorbar\": {\"outlinewidth\": 0, \"ticks\": \"\"}}, \"type\": \"scatterternary\"}], \"surface\": [{\"colorbar\": {\"outlinewidth\": 0, \"ticks\": \"\"}, \"colorscale\": [[0.0, \"#0d0887\"], [0.1111111111111111, \"#46039f\"], [0.2222222222222222, \"#7201a8\"], [0.3333333333333333, \"#9c179e\"], [0.4444444444444444, \"#bd3786\"], [0.5555555555555556, \"#d8576b\"], [0.6666666666666666, \"#ed7953\"], [0.7777777777777778, \"#fb9f3a\"], [0.8888888888888888, \"#fdca26\"], [1.0, \"#f0f921\"]], \"type\": \"surface\"}], \"table\": [{\"cells\": {\"fill\": {\"color\": \"#EBF0F8\"}, \"line\": {\"color\": \"white\"}}, \"header\": {\"fill\": {\"color\": \"#C8D4E3\"}, \"line\": {\"color\": \"white\"}}, \"type\": \"table\"}]}, \"layout\": {\"annotationdefaults\": {\"arrowcolor\": \"#2a3f5f\", \"arrowhead\": 0, \"arrowwidth\": 1}, \"coloraxis\": {\"colorbar\": {\"outlinewidth\": 0, \"ticks\": \"\"}}, \"colorscale\": {\"diverging\": [[0, \"#8e0152\"], [0.1, \"#c51b7d\"], [0.2, \"#de77ae\"], [0.3, \"#f1b6da\"], [0.4, \"#fde0ef\"], [0.5, \"#f7f7f7\"], [0.6, \"#e6f5d0\"], [0.7, \"#b8e186\"], [0.8, \"#7fbc41\"], [0.9, \"#4d9221\"], [1, \"#276419\"]], \"sequential\": [[0.0, \"#0d0887\"], [0.1111111111111111, \"#46039f\"], [0.2222222222222222, \"#7201a8\"], [0.3333333333333333, \"#9c179e\"], [0.4444444444444444, \"#bd3786\"], [0.5555555555555556, \"#d8576b\"], [0.6666666666666666, \"#ed7953\"], [0.7777777777777778, \"#fb9f3a\"], [0.8888888888888888, \"#fdca26\"], [1.0, \"#f0f921\"]], \"sequentialminus\": [[0.0, \"#0d0887\"], [0.1111111111111111, \"#46039f\"], [0.2222222222222222, \"#7201a8\"], [0.3333333333333333, \"#9c179e\"], [0.4444444444444444, \"#bd3786\"], [0.5555555555555556, \"#d8576b\"], [0.6666666666666666, \"#ed7953\"], [0.7777777777777778, \"#fb9f3a\"], [0.8888888888888888, \"#fdca26\"], [1.0, \"#f0f921\"]]}, \"colorway\": [\"#636efa\", \"#EF553B\", \"#00cc96\", \"#ab63fa\", \"#FFA15A\", \"#19d3f3\", \"#FF6692\", \"#B6E880\", \"#FF97FF\", \"#FECB52\"], \"font\": {\"color\": \"#2a3f5f\"}, \"geo\": {\"bgcolor\": \"white\", \"lakecolor\": \"white\", \"landcolor\": \"#E5ECF6\", \"showlakes\": true, \"showland\": true, \"subunitcolor\": \"white\"}, \"hoverlabel\": {\"align\": \"left\"}, \"hovermode\": \"closest\", \"mapbox\": {\"style\": \"light\"}, \"paper_bgcolor\": \"white\", \"plot_bgcolor\": \"#E5ECF6\", \"polar\": {\"angularaxis\": {\"gridcolor\": \"white\", \"linecolor\": \"white\", \"ticks\": \"\"}, \"bgcolor\": \"#E5ECF6\", \"radialaxis\": {\"gridcolor\": \"white\", \"linecolor\": \"white\", \"ticks\": \"\"}}, \"scene\": {\"xaxis\": {\"backgroundcolor\": \"#E5ECF6\", \"gridcolor\": \"white\", \"gridwidth\": 2, \"linecolor\": \"white\", \"showbackground\": true, \"ticks\": \"\", \"zerolinecolor\": \"white\"}, \"yaxis\": {\"backgroundcolor\": \"#E5ECF6\", \"gridcolor\": \"white\", \"gridwidth\": 2, \"linecolor\": \"white\", \"showbackground\": true, \"ticks\": \"\", \"zerolinecolor\": \"white\"}, \"zaxis\": {\"backgroundcolor\": \"#E5ECF6\", \"gridcolor\": \"white\", \"gridwidth\": 2, \"linecolor\": \"white\", \"showbackground\": true, \"ticks\": \"\", \"zerolinecolor\": \"white\"}}, \"shapedefaults\": {\"line\": {\"color\": \"#2a3f5f\"}}, \"ternary\": {\"aaxis\": {\"gridcolor\": \"white\", \"linecolor\": \"white\", \"ticks\": \"\"}, \"baxis\": {\"gridcolor\": \"white\", \"linecolor\": \"white\", \"ticks\": \"\"}, \"bgcolor\": \"#E5ECF6\", \"caxis\": {\"gridcolor\": \"white\", \"linecolor\": \"white\", \"ticks\": \"\"}}, \"title\": {\"x\": 0.05}, \"xaxis\": {\"automargin\": true, \"gridcolor\": \"white\", \"linecolor\": \"white\", \"ticks\": \"\", \"title\": {\"standoff\": 15}, \"zerolinecolor\": \"white\", \"zerolinewidth\": 2}, \"yaxis\": {\"automargin\": true, \"gridcolor\": \"white\", \"linecolor\": \"white\", \"ticks\": \"\", \"title\": {\"standoff\": 15}, \"zerolinecolor\": \"white\", \"zerolinewidth\": 2}}}, \"width\": 800, \"xaxis\": {\"showgrid\": false, \"showticklabels\": false, \"zeroline\": false}, \"yaxis\": {\"showgrid\": false, \"showticklabels\": false, \"zeroline\": false}},                        {\"displayModeBar\": false, \"responsive\": true}                    ).then(function(){\n                            \nvar gd = document.getElementById('d3fb4a15-b676-4203-8415-9d2738bd5072');\nvar x = new MutationObserver(function (mutations, observer) {{\n        var display = window.getComputedStyle(gd).display;\n        if (!display || display === 'none') {{\n            console.log([gd, 'removed!']);\n            Plotly.purge(gd);\n            observer.disconnect();\n        }}\n}});\n\n// Listen for the removal of the full notebook cells\nvar notebookContainer = gd.closest('#notebook-container');\nif (notebookContainer) {{\n    x.observe(notebookContainer, {childList: true});\n}}\n\n// Listen for the clearing of the current output cell\nvar outputEl = gd.closest('.output');\nif (outputEl) {{\n    x.observe(outputEl, {childList: true});\n}}\n\n                        })                };                });            </script>        </div>"
     },
     "metadata": {}
    },
    {
     "output_type": "stream",
     "name": "stdout",
     "text": [
      "REDE 2\nNós: jogos;\nArestas: jogos que compartilham a mesma plataforma de jogo;\n"
     ]
    },
    {
     "output_type": "display_data",
     "data": {
      "application/vnd.plotly.v1+json": {
       "config": {
        "displayModeBar": false,
        "linkText": "Export to plot.ly",
        "plotlyServerURL": "https://plot.ly",
        "showLink": false
       },
       "data": [
        {
         "hoverinfo": "none",
         "line": {
          "color": "rgb(127, 127, 127)",
          "dash": "solid",
          "width": 0
         },
         "mode": "lines",
         "type": "scatter",
         "x": [
          0.6025193817386998,
          0.6025193817386998,
          null,
          0,
          1,
          null
         ],
         "y": [
          0,
          1,
          null,
          0.5040656329482578,
          0.5040656329482578,
          null
         ]
        },
        {
         "hoverinfo": "none",
         "line": {
          "color": "rgb(0, 0, 0)",
          "dash": "solid",
          "width": 1
         },
         "mode": "lines",
         "type": "scatter",
         "x": [
          0.4345090281079435,
          1,
          null,
          0.4345090281079435,
          0.20928663519622037,
          null,
          0.4345090281079435,
          0.18311142017773385,
          null,
          0.4345090281079435,
          0.7107096970417327,
          null,
          0.4345090281079435,
          0.8949484139927812,
          null,
          0.4345090281079435,
          0.4110704233781168,
          null,
          1,
          0.20928663519622037,
          null,
          1,
          0.18311142017773385,
          null,
          1,
          0.7107096970417327,
          null,
          1,
          0.4110704233781168,
          null,
          0.33239219284119853,
          0.3123022351318256,
          null,
          0.33239219284119853,
          0.7888550970109461,
          null,
          0.33239219284119853,
          0,
          null,
          0.33239219284119853,
          0.6642528576863342,
          null,
          0.33239219284119853,
          0.8645720639141482,
          null,
          0.33239219284119853,
          0.03157773807641793,
          null,
          0.33239219284119853,
          0.5440276982055968,
          null,
          0.33239219284119853,
          0.21003044817690028,
          null,
          0.33239219284119853,
          0.8949484139927812,
          null,
          0.3123022351318256,
          0.7888550970109461,
          null,
          0.3123022351318256,
          0,
          null,
          0.3123022351318256,
          0.6642528576863342,
          null,
          0.3123022351318256,
          0.8645720639141482,
          null,
          0.3123022351318256,
          0.03157773807641793,
          null,
          0.3123022351318256,
          0.5440276982055968,
          null,
          0.3123022351318256,
          0.21003044817690028,
          null,
          0.3123022351318256,
          0.8949484139927812,
          null,
          0.20928663519622037,
          0.18311142017773385,
          null,
          0.20928663519622037,
          0.7107096970417327,
          null,
          0.20928663519622037,
          0.8949484139927812,
          null,
          0.20928663519622037,
          0.6860230007861732,
          null,
          0.20928663519622037,
          0.4110704233781168,
          null,
          0.18311142017773385,
          0.7107096970417327,
          null,
          0.18311142017773385,
          0.4110704233781168,
          null,
          0.7888550970109461,
          0,
          null,
          0.7888550970109461,
          0.6642528576863342,
          null,
          0.7888550970109461,
          0.8645720639141482,
          null,
          0.7888550970109461,
          0.03157773807641793,
          null,
          0.7888550970109461,
          0.5440276982055968,
          null,
          0.7888550970109461,
          0.21003044817690028,
          null,
          0.7888550970109461,
          0.8949484139927812,
          null,
          0.7107096970417327,
          0.4110704233781168,
          null,
          0,
          0.6642528576863342,
          null,
          0,
          0.8645720639141482,
          null,
          0,
          0.03157773807641793,
          null,
          0,
          0.5440276982055968,
          null,
          0,
          0.21003044817690028,
          null,
          0,
          0.8949484139927812,
          null,
          0.6642528576863342,
          0.8645720639141482,
          null,
          0.6642528576863342,
          0.03157773807641793,
          null,
          0.6642528576863342,
          0.5440276982055968,
          null,
          0.6642528576863342,
          0.21003044817690028,
          null,
          0.6642528576863342,
          0.8949484139927812,
          null,
          0.8645720639141482,
          0.03157773807641793,
          null,
          0.8645720639141482,
          0.5440276982055968,
          null,
          0.8645720639141482,
          0.21003044817690028,
          null,
          0.8645720639141482,
          0.8949484139927812,
          null,
          0.03157773807641793,
          0.5440276982055968,
          null,
          0.03157773807641793,
          0.21003044817690028,
          null,
          0.03157773807641793,
          0.8949484139927812,
          null,
          0.5440276982055968,
          0.21003044817690028,
          null,
          0.5440276982055968,
          0.8949484139927812,
          null,
          0.21003044817690028,
          0.8949484139927812,
          null
         ],
         "y": [
          0.4593782106119921,
          0.260107933190082,
          null,
          0.4593782106119921,
          0.4595135486339741,
          null,
          0.4593782106119921,
          0.9763397517884504,
          null,
          0.4593782106119921,
          0.7904967335858123,
          null,
          0.4593782106119921,
          0.9634134967113761,
          null,
          0.4593782106119921,
          0.7050235652463799,
          null,
          0.260107933190082,
          0.4595135486339741,
          null,
          0.260107933190082,
          0.9763397517884504,
          null,
          0.260107933190082,
          0.7904967335858123,
          null,
          0.260107933190082,
          0.7050235652463799,
          null,
          0.43979675818890257,
          0.8937014346145647,
          null,
          0.43979675818890257,
          0.23209241403306768,
          null,
          0.43979675818890257,
          0.16405071833245727,
          null,
          0.43979675818890257,
          0.31653756377221937,
          null,
          0.43979675818890257,
          1,
          null,
          0.43979675818890257,
          0.40487069253595,
          null,
          0.43979675818890257,
          0.03326306907110358,
          null,
          0.43979675818890257,
          0.9048062973733813,
          null,
          0.43979675818890257,
          0.9634134967113761,
          null,
          0.8937014346145647,
          0.23209241403306768,
          null,
          0.8937014346145647,
          0.16405071833245727,
          null,
          0.8937014346145647,
          0.31653756377221937,
          null,
          0.8937014346145647,
          1,
          null,
          0.8937014346145647,
          0.40487069253595,
          null,
          0.8937014346145647,
          0.03326306907110358,
          null,
          0.8937014346145647,
          0.9048062973733813,
          null,
          0.8937014346145647,
          0.9634134967113761,
          null,
          0.4595135486339741,
          0.9763397517884504,
          null,
          0.4595135486339741,
          0.7904967335858123,
          null,
          0.4595135486339741,
          0.9634134967113761,
          null,
          0.4595135486339741,
          0.6629098555321193,
          null,
          0.4595135486339741,
          0.7050235652463799,
          null,
          0.9763397517884504,
          0.7904967335858123,
          null,
          0.9763397517884504,
          0.7050235652463799,
          null,
          0.23209241403306768,
          0.16405071833245727,
          null,
          0.23209241403306768,
          0.31653756377221937,
          null,
          0.23209241403306768,
          1,
          null,
          0.23209241403306768,
          0.40487069253595,
          null,
          0.23209241403306768,
          0.03326306907110358,
          null,
          0.23209241403306768,
          0.9048062973733813,
          null,
          0.23209241403306768,
          0.9634134967113761,
          null,
          0.7904967335858123,
          0.7050235652463799,
          null,
          0.16405071833245727,
          0.31653756377221937,
          null,
          0.16405071833245727,
          1,
          null,
          0.16405071833245727,
          0.40487069253595,
          null,
          0.16405071833245727,
          0.03326306907110358,
          null,
          0.16405071833245727,
          0.9048062973733813,
          null,
          0.16405071833245727,
          0.9634134967113761,
          null,
          0.31653756377221937,
          1,
          null,
          0.31653756377221937,
          0.40487069253595,
          null,
          0.31653756377221937,
          0.03326306907110358,
          null,
          0.31653756377221937,
          0.9048062973733813,
          null,
          0.31653756377221937,
          0.9634134967113761,
          null,
          1,
          0.40487069253595,
          null,
          1,
          0.03326306907110358,
          null,
          1,
          0.9048062973733813,
          null,
          1,
          0.9634134967113761,
          null,
          0.40487069253595,
          0.03326306907110358,
          null,
          0.40487069253595,
          0.9048062973733813,
          null,
          0.40487069253595,
          0.9634134967113761,
          null,
          0.03326306907110358,
          0.9048062973733813,
          null,
          0.03326306907110358,
          0.9634134967113761,
          null,
          0.9048062973733813,
          0.9634134967113761,
          null
         ]
        },
        {
         "hoverinfo": "text",
         "marker": {
          "color": "rgb(255, 255, 255)",
          "line": {
           "color": "rgb(0, 0, 0)",
           "width": 1
          },
          "size": 10,
          "symbol": "circle"
         },
         "mode": "markers",
         "text": [
          "fake-colours",
          "dimmdrive-gaming-ramdrive-10000-mbs",
          "my-talking-angela",
          "wrc-the-official-game",
          "i-wanna-be-the-co-op",
          "perfect-glowing-bodies",
          "funeral",
          "tanktrouble-mobile-mayhem",
          "mlg-bouncing-simulator-2015",
          "extreme-motor-bike-ride-simulator-3d-steer-the-mot",
          "ice-age-avalanche",
          "best-casino-social-slots-fun",
          "brutal-donut",
          "pengu-the-flying-penguin-unforgettable-chilly-adve",
          "fruits-pair-festival-january",
          "lunar-lander-relaunched",
          "no-idea-for-name",
          "armageddon-itch-4xisblack",
          "jashanoid",
          "death-duel-itch"
         ],
         "textfont": {
          "color": "rgb(0, 0, 0)"
         },
         "textposition": "middle center",
         "type": "scatter",
         "x": [
          0.4345090281079435,
          1,
          0.33239219284119853,
          0.3123022351318256,
          0.20928663519622037,
          0.18311142017773385,
          0.5871034422047626,
          0.7888550970109461,
          0.7107096970417327,
          0,
          0.6642528576863342,
          0.8645720639141482,
          0.03157773807641793,
          0.5440276982055968,
          0.21003044817690028,
          0.8949484139927812,
          0.3168784177256874,
          0.6860230007861732,
          0.4110704233781168,
          0.5588677725774479
         ],
         "y": [
          0.4593782106119921,
          0.260107933190082,
          0.43979675818890257,
          0.8937014346145647,
          0.4595135486339741,
          0.9763397517884504,
          0.41321624722164046,
          0.23209241403306768,
          0.7904967335858123,
          0.16405071833245727,
          0.31653756377221937,
          1,
          0.40487069253595,
          0.03326306907110358,
          0.9048062973733813,
          0.9634134967113761,
          0,
          0.6629098555321193,
          0.7050235652463799,
          0.1653114162750431
         ]
        },
        {
         "hoverinfo": "none",
         "mode": "text",
         "text": [],
         "textfont": {
          "color": "rgb(255, 255, 255)"
         },
         "textposition": "middle center",
         "type": "scatter",
         "x": [],
         "y": []
        },
        {
         "hoverinfo": "none",
         "mode": "text",
         "text": [
          null,
          null,
          null,
          null,
          null,
          null,
          null,
          null,
          null,
          null,
          null,
          null,
          null,
          null,
          null,
          null,
          null,
          null,
          null,
          null
         ],
         "textfont": {
          "color": "rgb(0, 0, 0)"
         },
         "textposition": "middle center",
         "type": "scatter",
         "x": [
          0.4345090281079435,
          1,
          0.33239219284119853,
          0.3123022351318256,
          0.20928663519622037,
          0.18311142017773385,
          0.5871034422047626,
          0.7888550970109461,
          0.7107096970417327,
          0,
          0.6642528576863342,
          0.8645720639141482,
          0.03157773807641793,
          0.5440276982055968,
          0.21003044817690028,
          0.8949484139927812,
          0.3168784177256874,
          0.6860230007861732,
          0.4110704233781168,
          0.5588677725774479
         ],
         "y": [
          0.4593782106119921,
          0.260107933190082,
          0.43979675818890257,
          0.8937014346145647,
          0.4595135486339741,
          0.9763397517884504,
          0.41321624722164046,
          0.23209241403306768,
          0.7904967335858123,
          0.16405071833245727,
          0.31653756377221937,
          1,
          0.40487069253595,
          0.03326306907110358,
          0.9048062973733813,
          0.9634134967113761,
          0,
          0.6629098555321193,
          0.7050235652463799,
          0.1653114162750431
         ]
        },
        {
         "hoverinfo": "none",
         "mode": "text",
         "text": [
          null,
          null,
          null,
          null,
          null,
          null,
          null,
          null,
          null,
          null,
          null,
          null,
          null,
          null,
          null,
          null,
          null,
          null,
          null,
          null,
          null,
          null,
          null,
          null,
          null,
          null,
          null,
          null,
          null,
          null,
          null,
          null,
          null,
          null,
          null,
          null,
          null,
          null,
          null,
          null,
          null,
          null,
          null,
          null,
          null,
          null,
          null,
          null,
          null,
          null,
          null,
          null,
          null,
          null,
          null,
          null,
          null,
          null,
          null,
          null,
          null,
          null,
          null
         ],
         "textfont": {
          "color": "rgb(0, 0, 0)"
         },
         "textposition": "middle center",
         "type": "scatter",
         "x": [
          0.719975898509585,
          0.32189310542342264,
          0.2980687441265936,
          0.5647263021361049,
          0.657343386251834,
          0.4086353197016077,
          0.6026784855357618,
          0.585338713608951,
          0.8451768487959735,
          0.7000443857339507,
          0.3080261321198282,
          0.5640964066479606,
          0.17213696843488072,
          0.5011852131712464,
          0.591308595126628,
          0.18289630885366817,
          0.44862145227670375,
          0.25826190743975636,
          0.6071474818776449,
          0.5592722957548208,
          0.1674698046088435,
          0.49787553806903834,
          0.5869316341526626,
          0.18185340947422735,
          0.44105707674764844,
          0.26031383453565754,
          0.6026862934182843,
          0.1818923119251286,
          0.45511546776184614,
          0.546755031973874,
          0.44438714519686284,
          0.30221390837716977,
          0.4496308922398166,
          0.3049341610330466,
          0.39510519129320887,
          0.7215564650920387,
          0.8125733181313715,
          0.4084357636620153,
          0.6722780525020899,
          0.49173038738814,
          0.8280133620261594,
          0.5631067570659852,
          0.33033498536063266,
          0.425564705620529,
          0.0018163206810339026,
          0.2738885139685761,
          0.09225719085032612,
          0.4411631127548986,
          0.7517459519180664,
          0.3468203723069034,
          0.6154951432431606,
          0.4288319002365682,
          0.7675621916265117,
          0.4533081233664953,
          0.7165891205216421,
          0.538441520139325,
          0.8876690167592829,
          0.29310379823956534,
          0.10876887867324193,
          0.4584667433855303,
          0.36525885777987427,
          0.7076577245596689,
          0.5518171622388409
         ],
         "y": [
          0.3855146835291872,
          0.43319916188289326,
          0.7004274491682918,
          0.6468809081882937,
          0.7339097281452296,
          0.5776939313170779,
          0.33381060253436434,
          0.5945614658234231,
          0.5067768096870983,
          0.4583112726595661,
          0.6646338609308886,
          0.36141308936560146,
          0.2780258099037204,
          0.4038876360091543,
          0.7426396362856997,
          0.3961398586485938,
          0.2546172286064224,
          0.6609304295587182,
          0.7249911538198359,
          0.5837937023204022,
          0.5127092543788762,
          0.6246508147363001,
          0.9729529487483216,
          0.6302877976726249,
          0.475068598681695,
          0.8730533894381103,
          0.9547480686539558,
          0.7155086618262084,
          0.6496897810576838,
          0.7358136290509606,
          0.5867706108877141,
          0.6041134887210671,
          0.9091902245358038,
          0.8626726614307954,
          0.17185405536200093,
          0.24970714670723124,
          0.6206989626656486,
          0.2924371825621164,
          0.10869426815266048,
          0.5463044483825079,
          0.6044765337856899,
          0.7218276864678745,
          0.26633604247437237,
          0.6052230512440464,
          0.2905748071824634,
          0.12467923961323749,
          0.5464999618913515,
          0.5873112102271305,
          0.6706577005066404,
          0.33453373360932026,
          0.15881837770834467,
          0.5892603159889065,
          0.6543025918391866,
          0.6779915631118885,
          0.5030335866459466,
          0.9262392160919835,
          1.0036192815615863,
          0.24346182017283463,
          0.6691746088017736,
          0.7088831747970843,
          0.45398224348513944,
          0.5132326227736361,
          0.9603278695436556
         ]
        },
        {
         "hoverinfo": "none",
         "marker": {
          "color": "rgba(255, 255, 255, 0)",
          "line": {
           "color": "rgba(255, 255, 255, 0)",
           "width": 0
          },
          "size": 0,
          "symbol": "circle"
         },
         "mode": "markers",
         "type": "scatter",
         "x": [
          0.5,
          0,
          1,
          0.5
         ],
         "y": [
          0,
          0.5,
          0.5,
          1
         ]
        }
       ],
       "layout": {
        "height": 450,
        "hovermode": "closest",
        "margin": {
         "b": 10,
         "l": 10,
         "r": 10,
         "t": 10
        },
        "plot_bgcolor": "rgb(255, 255, 255)",
        "showlegend": false,
        "template": {
         "data": {
          "bar": [
           {
            "error_x": {
             "color": "#2a3f5f"
            },
            "error_y": {
             "color": "#2a3f5f"
            },
            "marker": {
             "line": {
              "color": "#E5ECF6",
              "width": 0.5
             }
            },
            "type": "bar"
           }
          ],
          "barpolar": [
           {
            "marker": {
             "line": {
              "color": "#E5ECF6",
              "width": 0.5
             }
            },
            "type": "barpolar"
           }
          ],
          "carpet": [
           {
            "aaxis": {
             "endlinecolor": "#2a3f5f",
             "gridcolor": "white",
             "linecolor": "white",
             "minorgridcolor": "white",
             "startlinecolor": "#2a3f5f"
            },
            "baxis": {
             "endlinecolor": "#2a3f5f",
             "gridcolor": "white",
             "linecolor": "white",
             "minorgridcolor": "white",
             "startlinecolor": "#2a3f5f"
            },
            "type": "carpet"
           }
          ],
          "choropleth": [
           {
            "colorbar": {
             "outlinewidth": 0,
             "ticks": ""
            },
            "type": "choropleth"
           }
          ],
          "contour": [
           {
            "colorbar": {
             "outlinewidth": 0,
             "ticks": ""
            },
            "colorscale": [
             [
              0,
              "#0d0887"
             ],
             [
              0.1111111111111111,
              "#46039f"
             ],
             [
              0.2222222222222222,
              "#7201a8"
             ],
             [
              0.3333333333333333,
              "#9c179e"
             ],
             [
              0.4444444444444444,
              "#bd3786"
             ],
             [
              0.5555555555555556,
              "#d8576b"
             ],
             [
              0.6666666666666666,
              "#ed7953"
             ],
             [
              0.7777777777777778,
              "#fb9f3a"
             ],
             [
              0.8888888888888888,
              "#fdca26"
             ],
             [
              1,
              "#f0f921"
             ]
            ],
            "type": "contour"
           }
          ],
          "contourcarpet": [
           {
            "colorbar": {
             "outlinewidth": 0,
             "ticks": ""
            },
            "type": "contourcarpet"
           }
          ],
          "heatmap": [
           {
            "colorbar": {
             "outlinewidth": 0,
             "ticks": ""
            },
            "colorscale": [
             [
              0,
              "#0d0887"
             ],
             [
              0.1111111111111111,
              "#46039f"
             ],
             [
              0.2222222222222222,
              "#7201a8"
             ],
             [
              0.3333333333333333,
              "#9c179e"
             ],
             [
              0.4444444444444444,
              "#bd3786"
             ],
             [
              0.5555555555555556,
              "#d8576b"
             ],
             [
              0.6666666666666666,
              "#ed7953"
             ],
             [
              0.7777777777777778,
              "#fb9f3a"
             ],
             [
              0.8888888888888888,
              "#fdca26"
             ],
             [
              1,
              "#f0f921"
             ]
            ],
            "type": "heatmap"
           }
          ],
          "heatmapgl": [
           {
            "colorbar": {
             "outlinewidth": 0,
             "ticks": ""
            },
            "colorscale": [
             [
              0,
              "#0d0887"
             ],
             [
              0.1111111111111111,
              "#46039f"
             ],
             [
              0.2222222222222222,
              "#7201a8"
             ],
             [
              0.3333333333333333,
              "#9c179e"
             ],
             [
              0.4444444444444444,
              "#bd3786"
             ],
             [
              0.5555555555555556,
              "#d8576b"
             ],
             [
              0.6666666666666666,
              "#ed7953"
             ],
             [
              0.7777777777777778,
              "#fb9f3a"
             ],
             [
              0.8888888888888888,
              "#fdca26"
             ],
             [
              1,
              "#f0f921"
             ]
            ],
            "type": "heatmapgl"
           }
          ],
          "histogram": [
           {
            "marker": {
             "colorbar": {
              "outlinewidth": 0,
              "ticks": ""
             }
            },
            "type": "histogram"
           }
          ],
          "histogram2d": [
           {
            "colorbar": {
             "outlinewidth": 0,
             "ticks": ""
            },
            "colorscale": [
             [
              0,
              "#0d0887"
             ],
             [
              0.1111111111111111,
              "#46039f"
             ],
             [
              0.2222222222222222,
              "#7201a8"
             ],
             [
              0.3333333333333333,
              "#9c179e"
             ],
             [
              0.4444444444444444,
              "#bd3786"
             ],
             [
              0.5555555555555556,
              "#d8576b"
             ],
             [
              0.6666666666666666,
              "#ed7953"
             ],
             [
              0.7777777777777778,
              "#fb9f3a"
             ],
             [
              0.8888888888888888,
              "#fdca26"
             ],
             [
              1,
              "#f0f921"
             ]
            ],
            "type": "histogram2d"
           }
          ],
          "histogram2dcontour": [
           {
            "colorbar": {
             "outlinewidth": 0,
             "ticks": ""
            },
            "colorscale": [
             [
              0,
              "#0d0887"
             ],
             [
              0.1111111111111111,
              "#46039f"
             ],
             [
              0.2222222222222222,
              "#7201a8"
             ],
             [
              0.3333333333333333,
              "#9c179e"
             ],
             [
              0.4444444444444444,
              "#bd3786"
             ],
             [
              0.5555555555555556,
              "#d8576b"
             ],
             [
              0.6666666666666666,
              "#ed7953"
             ],
             [
              0.7777777777777778,
              "#fb9f3a"
             ],
             [
              0.8888888888888888,
              "#fdca26"
             ],
             [
              1,
              "#f0f921"
             ]
            ],
            "type": "histogram2dcontour"
           }
          ],
          "mesh3d": [
           {
            "colorbar": {
             "outlinewidth": 0,
             "ticks": ""
            },
            "type": "mesh3d"
           }
          ],
          "parcoords": [
           {
            "line": {
             "colorbar": {
              "outlinewidth": 0,
              "ticks": ""
             }
            },
            "type": "parcoords"
           }
          ],
          "pie": [
           {
            "automargin": true,
            "type": "pie"
           }
          ],
          "scatter": [
           {
            "marker": {
             "colorbar": {
              "outlinewidth": 0,
              "ticks": ""
             }
            },
            "type": "scatter"
           }
          ],
          "scatter3d": [
           {
            "line": {
             "colorbar": {
              "outlinewidth": 0,
              "ticks": ""
             }
            },
            "marker": {
             "colorbar": {
              "outlinewidth": 0,
              "ticks": ""
             }
            },
            "type": "scatter3d"
           }
          ],
          "scattercarpet": [
           {
            "marker": {
             "colorbar": {
              "outlinewidth": 0,
              "ticks": ""
             }
            },
            "type": "scattercarpet"
           }
          ],
          "scattergeo": [
           {
            "marker": {
             "colorbar": {
              "outlinewidth": 0,
              "ticks": ""
             }
            },
            "type": "scattergeo"
           }
          ],
          "scattergl": [
           {
            "marker": {
             "colorbar": {
              "outlinewidth": 0,
              "ticks": ""
             }
            },
            "type": "scattergl"
           }
          ],
          "scattermapbox": [
           {
            "marker": {
             "colorbar": {
              "outlinewidth": 0,
              "ticks": ""
             }
            },
            "type": "scattermapbox"
           }
          ],
          "scatterpolar": [
           {
            "marker": {
             "colorbar": {
              "outlinewidth": 0,
              "ticks": ""
             }
            },
            "type": "scatterpolar"
           }
          ],
          "scatterpolargl": [
           {
            "marker": {
             "colorbar": {
              "outlinewidth": 0,
              "ticks": ""
             }
            },
            "type": "scatterpolargl"
           }
          ],
          "scatterternary": [
           {
            "marker": {
             "colorbar": {
              "outlinewidth": 0,
              "ticks": ""
             }
            },
            "type": "scatterternary"
           }
          ],
          "surface": [
           {
            "colorbar": {
             "outlinewidth": 0,
             "ticks": ""
            },
            "colorscale": [
             [
              0,
              "#0d0887"
             ],
             [
              0.1111111111111111,
              "#46039f"
             ],
             [
              0.2222222222222222,
              "#7201a8"
             ],
             [
              0.3333333333333333,
              "#9c179e"
             ],
             [
              0.4444444444444444,
              "#bd3786"
             ],
             [
              0.5555555555555556,
              "#d8576b"
             ],
             [
              0.6666666666666666,
              "#ed7953"
             ],
             [
              0.7777777777777778,
              "#fb9f3a"
             ],
             [
              0.8888888888888888,
              "#fdca26"
             ],
             [
              1,
              "#f0f921"
             ]
            ],
            "type": "surface"
           }
          ],
          "table": [
           {
            "cells": {
             "fill": {
              "color": "#EBF0F8"
             },
             "line": {
              "color": "white"
             }
            },
            "header": {
             "fill": {
              "color": "#C8D4E3"
             },
             "line": {
              "color": "white"
             }
            },
            "type": "table"
           }
          ]
         },
         "layout": {
          "annotationdefaults": {
           "arrowcolor": "#2a3f5f",
           "arrowhead": 0,
           "arrowwidth": 1
          },
          "coloraxis": {
           "colorbar": {
            "outlinewidth": 0,
            "ticks": ""
           }
          },
          "colorscale": {
           "diverging": [
            [
             0,
             "#8e0152"
            ],
            [
             0.1,
             "#c51b7d"
            ],
            [
             0.2,
             "#de77ae"
            ],
            [
             0.3,
             "#f1b6da"
            ],
            [
             0.4,
             "#fde0ef"
            ],
            [
             0.5,
             "#f7f7f7"
            ],
            [
             0.6,
             "#e6f5d0"
            ],
            [
             0.7,
             "#b8e186"
            ],
            [
             0.8,
             "#7fbc41"
            ],
            [
             0.9,
             "#4d9221"
            ],
            [
             1,
             "#276419"
            ]
           ],
           "sequential": [
            [
             0,
             "#0d0887"
            ],
            [
             0.1111111111111111,
             "#46039f"
            ],
            [
             0.2222222222222222,
             "#7201a8"
            ],
            [
             0.3333333333333333,
             "#9c179e"
            ],
            [
             0.4444444444444444,
             "#bd3786"
            ],
            [
             0.5555555555555556,
             "#d8576b"
            ],
            [
             0.6666666666666666,
             "#ed7953"
            ],
            [
             0.7777777777777778,
             "#fb9f3a"
            ],
            [
             0.8888888888888888,
             "#fdca26"
            ],
            [
             1,
             "#f0f921"
            ]
           ],
           "sequentialminus": [
            [
             0,
             "#0d0887"
            ],
            [
             0.1111111111111111,
             "#46039f"
            ],
            [
             0.2222222222222222,
             "#7201a8"
            ],
            [
             0.3333333333333333,
             "#9c179e"
            ],
            [
             0.4444444444444444,
             "#bd3786"
            ],
            [
             0.5555555555555556,
             "#d8576b"
            ],
            [
             0.6666666666666666,
             "#ed7953"
            ],
            [
             0.7777777777777778,
             "#fb9f3a"
            ],
            [
             0.8888888888888888,
             "#fdca26"
            ],
            [
             1,
             "#f0f921"
            ]
           ]
          },
          "colorway": [
           "#636efa",
           "#EF553B",
           "#00cc96",
           "#ab63fa",
           "#FFA15A",
           "#19d3f3",
           "#FF6692",
           "#B6E880",
           "#FF97FF",
           "#FECB52"
          ],
          "font": {
           "color": "#2a3f5f"
          },
          "geo": {
           "bgcolor": "white",
           "lakecolor": "white",
           "landcolor": "#E5ECF6",
           "showlakes": true,
           "showland": true,
           "subunitcolor": "white"
          },
          "hoverlabel": {
           "align": "left"
          },
          "hovermode": "closest",
          "mapbox": {
           "style": "light"
          },
          "paper_bgcolor": "white",
          "plot_bgcolor": "#E5ECF6",
          "polar": {
           "angularaxis": {
            "gridcolor": "white",
            "linecolor": "white",
            "ticks": ""
           },
           "bgcolor": "#E5ECF6",
           "radialaxis": {
            "gridcolor": "white",
            "linecolor": "white",
            "ticks": ""
           }
          },
          "scene": {
           "xaxis": {
            "backgroundcolor": "#E5ECF6",
            "gridcolor": "white",
            "gridwidth": 2,
            "linecolor": "white",
            "showbackground": true,
            "ticks": "",
            "zerolinecolor": "white"
           },
           "yaxis": {
            "backgroundcolor": "#E5ECF6",
            "gridcolor": "white",
            "gridwidth": 2,
            "linecolor": "white",
            "showbackground": true,
            "ticks": "",
            "zerolinecolor": "white"
           },
           "zaxis": {
            "backgroundcolor": "#E5ECF6",
            "gridcolor": "white",
            "gridwidth": 2,
            "linecolor": "white",
            "showbackground": true,
            "ticks": "",
            "zerolinecolor": "white"
           }
          },
          "shapedefaults": {
           "line": {
            "color": "#2a3f5f"
           }
          },
          "ternary": {
           "aaxis": {
            "gridcolor": "white",
            "linecolor": "white",
            "ticks": ""
           },
           "baxis": {
            "gridcolor": "white",
            "linecolor": "white",
            "ticks": ""
           },
           "bgcolor": "#E5ECF6",
           "caxis": {
            "gridcolor": "white",
            "linecolor": "white",
            "ticks": ""
           }
          },
          "title": {
           "x": 0.05
          },
          "xaxis": {
           "automargin": true,
           "gridcolor": "white",
           "linecolor": "white",
           "ticks": "",
           "title": {
            "standoff": 15
           },
           "zerolinecolor": "white",
           "zerolinewidth": 2
          },
          "yaxis": {
           "automargin": true,
           "gridcolor": "white",
           "linecolor": "white",
           "ticks": "",
           "title": {
            "standoff": 15
           },
           "zerolinecolor": "white",
           "zerolinewidth": 2
          }
         }
        },
        "width": 800,
        "xaxis": {
         "showgrid": false,
         "showticklabels": false,
         "zeroline": false
        },
        "yaxis": {
         "showgrid": false,
         "showticklabels": false,
         "zeroline": false
        }
       }
      },
      "text/html": "<div>                            <div id=\"c374d8c3-86ee-4230-acf2-0a04b524967b\" class=\"plotly-graph-div\" style=\"height:450px; width:800px;\"></div>            <script type=\"text/javascript\">                require([\"plotly\"], function(Plotly) {                    window.PLOTLYENV=window.PLOTLYENV || {};                                    if (document.getElementById(\"c374d8c3-86ee-4230-acf2-0a04b524967b\")) {                    Plotly.newPlot(                        \"c374d8c3-86ee-4230-acf2-0a04b524967b\",                        [{\"hoverinfo\": \"none\", \"line\": {\"color\": \"rgb(127, 127, 127)\", \"dash\": \"solid\", \"width\": 0}, \"mode\": \"lines\", \"type\": \"scatter\", \"x\": [0.6025193817386998, 0.6025193817386998, null, 0, 1, null], \"y\": [0, 1, null, 0.5040656329482578, 0.5040656329482578, null]}, {\"hoverinfo\": \"none\", \"line\": {\"color\": \"rgb(0, 0, 0)\", \"dash\": \"solid\", \"width\": 1}, \"mode\": \"lines\", \"type\": \"scatter\", \"x\": [0.4345090281079435, 1.0, null, 0.4345090281079435, 0.20928663519622037, null, 0.4345090281079435, 0.18311142017773385, null, 0.4345090281079435, 0.7107096970417327, null, 0.4345090281079435, 0.8949484139927812, null, 0.4345090281079435, 0.4110704233781168, null, 1.0, 0.20928663519622037, null, 1.0, 0.18311142017773385, null, 1.0, 0.7107096970417327, null, 1.0, 0.4110704233781168, null, 0.33239219284119853, 0.3123022351318256, null, 0.33239219284119853, 0.7888550970109461, null, 0.33239219284119853, 0.0, null, 0.33239219284119853, 0.6642528576863342, null, 0.33239219284119853, 0.8645720639141482, null, 0.33239219284119853, 0.03157773807641793, null, 0.33239219284119853, 0.5440276982055968, null, 0.33239219284119853, 0.21003044817690028, null, 0.33239219284119853, 0.8949484139927812, null, 0.3123022351318256, 0.7888550970109461, null, 0.3123022351318256, 0.0, null, 0.3123022351318256, 0.6642528576863342, null, 0.3123022351318256, 0.8645720639141482, null, 0.3123022351318256, 0.03157773807641793, null, 0.3123022351318256, 0.5440276982055968, null, 0.3123022351318256, 0.21003044817690028, null, 0.3123022351318256, 0.8949484139927812, null, 0.20928663519622037, 0.18311142017773385, null, 0.20928663519622037, 0.7107096970417327, null, 0.20928663519622037, 0.8949484139927812, null, 0.20928663519622037, 0.6860230007861732, null, 0.20928663519622037, 0.4110704233781168, null, 0.18311142017773385, 0.7107096970417327, null, 0.18311142017773385, 0.4110704233781168, null, 0.7888550970109461, 0.0, null, 0.7888550970109461, 0.6642528576863342, null, 0.7888550970109461, 0.8645720639141482, null, 0.7888550970109461, 0.03157773807641793, null, 0.7888550970109461, 0.5440276982055968, null, 0.7888550970109461, 0.21003044817690028, null, 0.7888550970109461, 0.8949484139927812, null, 0.7107096970417327, 0.4110704233781168, null, 0.0, 0.6642528576863342, null, 0.0, 0.8645720639141482, null, 0.0, 0.03157773807641793, null, 0.0, 0.5440276982055968, null, 0.0, 0.21003044817690028, null, 0.0, 0.8949484139927812, null, 0.6642528576863342, 0.8645720639141482, null, 0.6642528576863342, 0.03157773807641793, null, 0.6642528576863342, 0.5440276982055968, null, 0.6642528576863342, 0.21003044817690028, null, 0.6642528576863342, 0.8949484139927812, null, 0.8645720639141482, 0.03157773807641793, null, 0.8645720639141482, 0.5440276982055968, null, 0.8645720639141482, 0.21003044817690028, null, 0.8645720639141482, 0.8949484139927812, null, 0.03157773807641793, 0.5440276982055968, null, 0.03157773807641793, 0.21003044817690028, null, 0.03157773807641793, 0.8949484139927812, null, 0.5440276982055968, 0.21003044817690028, null, 0.5440276982055968, 0.8949484139927812, null, 0.21003044817690028, 0.8949484139927812, null], \"y\": [0.4593782106119921, 0.260107933190082, null, 0.4593782106119921, 0.4595135486339741, null, 0.4593782106119921, 0.9763397517884504, null, 0.4593782106119921, 0.7904967335858123, null, 0.4593782106119921, 0.9634134967113761, null, 0.4593782106119921, 0.7050235652463799, null, 0.260107933190082, 0.4595135486339741, null, 0.260107933190082, 0.9763397517884504, null, 0.260107933190082, 0.7904967335858123, null, 0.260107933190082, 0.7050235652463799, null, 0.43979675818890257, 0.8937014346145647, null, 0.43979675818890257, 0.23209241403306768, null, 0.43979675818890257, 0.16405071833245727, null, 0.43979675818890257, 0.31653756377221937, null, 0.43979675818890257, 1.0, null, 0.43979675818890257, 0.40487069253595, null, 0.43979675818890257, 0.03326306907110358, null, 0.43979675818890257, 0.9048062973733813, null, 0.43979675818890257, 0.9634134967113761, null, 0.8937014346145647, 0.23209241403306768, null, 0.8937014346145647, 0.16405071833245727, null, 0.8937014346145647, 0.31653756377221937, null, 0.8937014346145647, 1.0, null, 0.8937014346145647, 0.40487069253595, null, 0.8937014346145647, 0.03326306907110358, null, 0.8937014346145647, 0.9048062973733813, null, 0.8937014346145647, 0.9634134967113761, null, 0.4595135486339741, 0.9763397517884504, null, 0.4595135486339741, 0.7904967335858123, null, 0.4595135486339741, 0.9634134967113761, null, 0.4595135486339741, 0.6629098555321193, null, 0.4595135486339741, 0.7050235652463799, null, 0.9763397517884504, 0.7904967335858123, null, 0.9763397517884504, 0.7050235652463799, null, 0.23209241403306768, 0.16405071833245727, null, 0.23209241403306768, 0.31653756377221937, null, 0.23209241403306768, 1.0, null, 0.23209241403306768, 0.40487069253595, null, 0.23209241403306768, 0.03326306907110358, null, 0.23209241403306768, 0.9048062973733813, null, 0.23209241403306768, 0.9634134967113761, null, 0.7904967335858123, 0.7050235652463799, null, 0.16405071833245727, 0.31653756377221937, null, 0.16405071833245727, 1.0, null, 0.16405071833245727, 0.40487069253595, null, 0.16405071833245727, 0.03326306907110358, null, 0.16405071833245727, 0.9048062973733813, null, 0.16405071833245727, 0.9634134967113761, null, 0.31653756377221937, 1.0, null, 0.31653756377221937, 0.40487069253595, null, 0.31653756377221937, 0.03326306907110358, null, 0.31653756377221937, 0.9048062973733813, null, 0.31653756377221937, 0.9634134967113761, null, 1.0, 0.40487069253595, null, 1.0, 0.03326306907110358, null, 1.0, 0.9048062973733813, null, 1.0, 0.9634134967113761, null, 0.40487069253595, 0.03326306907110358, null, 0.40487069253595, 0.9048062973733813, null, 0.40487069253595, 0.9634134967113761, null, 0.03326306907110358, 0.9048062973733813, null, 0.03326306907110358, 0.9634134967113761, null, 0.9048062973733813, 0.9634134967113761, null]}, {\"hoverinfo\": \"text\", \"marker\": {\"color\": \"rgb(255, 255, 255)\", \"line\": {\"color\": \"rgb(0, 0, 0)\", \"width\": 1}, \"size\": 10, \"symbol\": \"circle\"}, \"mode\": \"markers\", \"text\": [\"fake-colours\", \"dimmdrive-gaming-ramdrive-10000-mbs\", \"my-talking-angela\", \"wrc-the-official-game\", \"i-wanna-be-the-co-op\", \"perfect-glowing-bodies\", \"funeral\", \"tanktrouble-mobile-mayhem\", \"mlg-bouncing-simulator-2015\", \"extreme-motor-bike-ride-simulator-3d-steer-the-mot\", \"ice-age-avalanche\", \"best-casino-social-slots-fun\", \"brutal-donut\", \"pengu-the-flying-penguin-unforgettable-chilly-adve\", \"fruits-pair-festival-january\", \"lunar-lander-relaunched\", \"no-idea-for-name\", \"armageddon-itch-4xisblack\", \"jashanoid\", \"death-duel-itch\"], \"textfont\": {\"color\": \"rgb(0, 0, 0)\"}, \"textposition\": \"middle center\", \"type\": \"scatter\", \"x\": [0.4345090281079435, 1.0, 0.33239219284119853, 0.3123022351318256, 0.20928663519622037, 0.18311142017773385, 0.5871034422047626, 0.7888550970109461, 0.7107096970417327, 0.0, 0.6642528576863342, 0.8645720639141482, 0.03157773807641793, 0.5440276982055968, 0.21003044817690028, 0.8949484139927812, 0.3168784177256874, 0.6860230007861732, 0.4110704233781168, 0.5588677725774479], \"y\": [0.4593782106119921, 0.260107933190082, 0.43979675818890257, 0.8937014346145647, 0.4595135486339741, 0.9763397517884504, 0.41321624722164046, 0.23209241403306768, 0.7904967335858123, 0.16405071833245727, 0.31653756377221937, 1.0, 0.40487069253595, 0.03326306907110358, 0.9048062973733813, 0.9634134967113761, 0.0, 0.6629098555321193, 0.7050235652463799, 0.1653114162750431]}, {\"hoverinfo\": \"none\", \"mode\": \"text\", \"text\": [], \"textfont\": {\"color\": \"rgb(255, 255, 255)\"}, \"textposition\": \"middle center\", \"type\": \"scatter\", \"x\": [], \"y\": []}, {\"hoverinfo\": \"none\", \"mode\": \"text\", \"text\": [null, null, null, null, null, null, null, null, null, null, null, null, null, null, null, null, null, null, null, null], \"textfont\": {\"color\": \"rgb(0, 0, 0)\"}, \"textposition\": \"middle center\", \"type\": \"scatter\", \"x\": [0.4345090281079435, 1.0, 0.33239219284119853, 0.3123022351318256, 0.20928663519622037, 0.18311142017773385, 0.5871034422047626, 0.7888550970109461, 0.7107096970417327, 0.0, 0.6642528576863342, 0.8645720639141482, 0.03157773807641793, 0.5440276982055968, 0.21003044817690028, 0.8949484139927812, 0.3168784177256874, 0.6860230007861732, 0.4110704233781168, 0.5588677725774479], \"y\": [0.4593782106119921, 0.260107933190082, 0.43979675818890257, 0.8937014346145647, 0.4595135486339741, 0.9763397517884504, 0.41321624722164046, 0.23209241403306768, 0.7904967335858123, 0.16405071833245727, 0.31653756377221937, 1.0, 0.40487069253595, 0.03326306907110358, 0.9048062973733813, 0.9634134967113761, 0.0, 0.6629098555321193, 0.7050235652463799, 0.1653114162750431]}, {\"hoverinfo\": \"none\", \"mode\": \"text\", \"text\": [null, null, null, null, null, null, null, null, null, null, null, null, null, null, null, null, null, null, null, null, null, null, null, null, null, null, null, null, null, null, null, null, null, null, null, null, null, null, null, null, null, null, null, null, null, null, null, null, null, null, null, null, null, null, null, null, null, null, null, null, null, null, null], \"textfont\": {\"color\": \"rgb(0, 0, 0)\"}, \"textposition\": \"middle center\", \"type\": \"scatter\", \"x\": [0.719975898509585, 0.32189310542342264, 0.2980687441265936, 0.5647263021361049, 0.657343386251834, 0.4086353197016077, 0.6026784855357618, 0.585338713608951, 0.8451768487959735, 0.7000443857339507, 0.3080261321198282, 0.5640964066479606, 0.17213696843488072, 0.5011852131712464, 0.591308595126628, 0.18289630885366817, 0.44862145227670375, 0.25826190743975636, 0.6071474818776449, 0.5592722957548208, 0.1674698046088435, 0.49787553806903834, 0.5869316341526626, 0.18185340947422735, 0.44105707674764844, 0.26031383453565754, 0.6026862934182843, 0.1818923119251286, 0.45511546776184614, 0.546755031973874, 0.44438714519686284, 0.30221390837716977, 0.4496308922398166, 0.3049341610330466, 0.39510519129320887, 0.7215564650920387, 0.8125733181313715, 0.4084357636620153, 0.6722780525020899, 0.49173038738814, 0.8280133620261594, 0.5631067570659852, 0.33033498536063266, 0.425564705620529, 0.0018163206810339026, 0.2738885139685761, 0.09225719085032612, 0.4411631127548986, 0.7517459519180664, 0.3468203723069034, 0.6154951432431606, 0.4288319002365682, 0.7675621916265117, 0.4533081233664953, 0.7165891205216421, 0.538441520139325, 0.8876690167592829, 0.29310379823956534, 0.10876887867324193, 0.4584667433855303, 0.36525885777987427, 0.7076577245596689, 0.5518171622388409], \"y\": [0.3855146835291872, 0.43319916188289326, 0.7004274491682918, 0.6468809081882937, 0.7339097281452296, 0.5776939313170779, 0.33381060253436434, 0.5945614658234231, 0.5067768096870983, 0.4583112726595661, 0.6646338609308886, 0.36141308936560146, 0.2780258099037204, 0.4038876360091543, 0.7426396362856997, 0.3961398586485938, 0.2546172286064224, 0.6609304295587182, 0.7249911538198359, 0.5837937023204022, 0.5127092543788762, 0.6246508147363001, 0.9729529487483216, 0.6302877976726249, 0.475068598681695, 0.8730533894381103, 0.9547480686539558, 0.7155086618262084, 0.6496897810576838, 0.7358136290509606, 0.5867706108877141, 0.6041134887210671, 0.9091902245358038, 0.8626726614307954, 0.17185405536200093, 0.24970714670723124, 0.6206989626656486, 0.2924371825621164, 0.10869426815266048, 0.5463044483825079, 0.6044765337856899, 0.7218276864678745, 0.26633604247437237, 0.6052230512440464, 0.2905748071824634, 0.12467923961323749, 0.5464999618913515, 0.5873112102271305, 0.6706577005066404, 0.33453373360932026, 0.15881837770834467, 0.5892603159889065, 0.6543025918391866, 0.6779915631118885, 0.5030335866459466, 0.9262392160919835, 1.0036192815615863, 0.24346182017283463, 0.6691746088017736, 0.7088831747970843, 0.45398224348513944, 0.5132326227736361, 0.9603278695436556]}, {\"hoverinfo\": \"none\", \"marker\": {\"color\": \"rgba(255, 255, 255, 0)\", \"line\": {\"color\": \"rgba(255, 255, 255, 0)\", \"width\": 0}, \"size\": 0, \"symbol\": \"circle\"}, \"mode\": \"markers\", \"type\": \"scatter\", \"x\": [0.5, 0.0, 1.0, 0.5], \"y\": [0.0, 0.5, 0.5, 1.0]}],                        {\"height\": 450, \"hovermode\": \"closest\", \"margin\": {\"b\": 10, \"l\": 10, \"r\": 10, \"t\": 10}, \"plot_bgcolor\": \"rgb(255, 255, 255)\", \"showlegend\": false, \"template\": {\"data\": {\"bar\": [{\"error_x\": {\"color\": \"#2a3f5f\"}, \"error_y\": {\"color\": \"#2a3f5f\"}, \"marker\": {\"line\": {\"color\": \"#E5ECF6\", \"width\": 0.5}}, \"type\": \"bar\"}], \"barpolar\": [{\"marker\": {\"line\": {\"color\": \"#E5ECF6\", \"width\": 0.5}}, \"type\": \"barpolar\"}], \"carpet\": [{\"aaxis\": {\"endlinecolor\": \"#2a3f5f\", \"gridcolor\": \"white\", \"linecolor\": \"white\", \"minorgridcolor\": \"white\", \"startlinecolor\": \"#2a3f5f\"}, \"baxis\": {\"endlinecolor\": \"#2a3f5f\", \"gridcolor\": \"white\", \"linecolor\": \"white\", \"minorgridcolor\": \"white\", \"startlinecolor\": \"#2a3f5f\"}, \"type\": \"carpet\"}], \"choropleth\": [{\"colorbar\": {\"outlinewidth\": 0, \"ticks\": \"\"}, \"type\": \"choropleth\"}], \"contour\": [{\"colorbar\": {\"outlinewidth\": 0, \"ticks\": \"\"}, \"colorscale\": [[0.0, \"#0d0887\"], [0.1111111111111111, \"#46039f\"], [0.2222222222222222, \"#7201a8\"], [0.3333333333333333, \"#9c179e\"], [0.4444444444444444, \"#bd3786\"], [0.5555555555555556, \"#d8576b\"], [0.6666666666666666, \"#ed7953\"], [0.7777777777777778, \"#fb9f3a\"], [0.8888888888888888, \"#fdca26\"], [1.0, \"#f0f921\"]], \"type\": \"contour\"}], \"contourcarpet\": [{\"colorbar\": {\"outlinewidth\": 0, \"ticks\": \"\"}, \"type\": \"contourcarpet\"}], \"heatmap\": [{\"colorbar\": {\"outlinewidth\": 0, \"ticks\": \"\"}, \"colorscale\": [[0.0, \"#0d0887\"], [0.1111111111111111, \"#46039f\"], [0.2222222222222222, \"#7201a8\"], [0.3333333333333333, \"#9c179e\"], [0.4444444444444444, \"#bd3786\"], [0.5555555555555556, \"#d8576b\"], [0.6666666666666666, \"#ed7953\"], [0.7777777777777778, \"#fb9f3a\"], [0.8888888888888888, \"#fdca26\"], [1.0, \"#f0f921\"]], \"type\": \"heatmap\"}], \"heatmapgl\": [{\"colorbar\": {\"outlinewidth\": 0, \"ticks\": \"\"}, \"colorscale\": [[0.0, \"#0d0887\"], [0.1111111111111111, \"#46039f\"], [0.2222222222222222, \"#7201a8\"], [0.3333333333333333, \"#9c179e\"], [0.4444444444444444, \"#bd3786\"], [0.5555555555555556, \"#d8576b\"], [0.6666666666666666, \"#ed7953\"], [0.7777777777777778, \"#fb9f3a\"], [0.8888888888888888, \"#fdca26\"], [1.0, \"#f0f921\"]], \"type\": \"heatmapgl\"}], \"histogram\": [{\"marker\": {\"colorbar\": {\"outlinewidth\": 0, \"ticks\": \"\"}}, \"type\": \"histogram\"}], \"histogram2d\": [{\"colorbar\": {\"outlinewidth\": 0, \"ticks\": \"\"}, \"colorscale\": [[0.0, \"#0d0887\"], [0.1111111111111111, \"#46039f\"], [0.2222222222222222, \"#7201a8\"], [0.3333333333333333, \"#9c179e\"], [0.4444444444444444, \"#bd3786\"], [0.5555555555555556, \"#d8576b\"], [0.6666666666666666, \"#ed7953\"], [0.7777777777777778, \"#fb9f3a\"], [0.8888888888888888, \"#fdca26\"], [1.0, \"#f0f921\"]], \"type\": \"histogram2d\"}], \"histogram2dcontour\": [{\"colorbar\": {\"outlinewidth\": 0, \"ticks\": \"\"}, \"colorscale\": [[0.0, \"#0d0887\"], [0.1111111111111111, \"#46039f\"], [0.2222222222222222, \"#7201a8\"], [0.3333333333333333, \"#9c179e\"], [0.4444444444444444, \"#bd3786\"], [0.5555555555555556, \"#d8576b\"], [0.6666666666666666, \"#ed7953\"], [0.7777777777777778, \"#fb9f3a\"], [0.8888888888888888, \"#fdca26\"], [1.0, \"#f0f921\"]], \"type\": \"histogram2dcontour\"}], \"mesh3d\": [{\"colorbar\": {\"outlinewidth\": 0, \"ticks\": \"\"}, \"type\": \"mesh3d\"}], \"parcoords\": [{\"line\": {\"colorbar\": {\"outlinewidth\": 0, \"ticks\": \"\"}}, \"type\": \"parcoords\"}], \"pie\": [{\"automargin\": true, \"type\": \"pie\"}], \"scatter\": [{\"marker\": {\"colorbar\": {\"outlinewidth\": 0, \"ticks\": \"\"}}, \"type\": \"scatter\"}], \"scatter3d\": [{\"line\": {\"colorbar\": {\"outlinewidth\": 0, \"ticks\": \"\"}}, \"marker\": {\"colorbar\": {\"outlinewidth\": 0, \"ticks\": \"\"}}, \"type\": \"scatter3d\"}], \"scattercarpet\": [{\"marker\": {\"colorbar\": {\"outlinewidth\": 0, \"ticks\": \"\"}}, \"type\": \"scattercarpet\"}], \"scattergeo\": [{\"marker\": {\"colorbar\": {\"outlinewidth\": 0, \"ticks\": \"\"}}, \"type\": \"scattergeo\"}], \"scattergl\": [{\"marker\": {\"colorbar\": {\"outlinewidth\": 0, \"ticks\": \"\"}}, \"type\": \"scattergl\"}], \"scattermapbox\": [{\"marker\": {\"colorbar\": {\"outlinewidth\": 0, \"ticks\": \"\"}}, \"type\": \"scattermapbox\"}], \"scatterpolar\": [{\"marker\": {\"colorbar\": {\"outlinewidth\": 0, \"ticks\": \"\"}}, \"type\": \"scatterpolar\"}], \"scatterpolargl\": [{\"marker\": {\"colorbar\": {\"outlinewidth\": 0, \"ticks\": \"\"}}, \"type\": \"scatterpolargl\"}], \"scatterternary\": [{\"marker\": {\"colorbar\": {\"outlinewidth\": 0, \"ticks\": \"\"}}, \"type\": \"scatterternary\"}], \"surface\": [{\"colorbar\": {\"outlinewidth\": 0, \"ticks\": \"\"}, \"colorscale\": [[0.0, \"#0d0887\"], [0.1111111111111111, \"#46039f\"], [0.2222222222222222, \"#7201a8\"], [0.3333333333333333, \"#9c179e\"], [0.4444444444444444, \"#bd3786\"], [0.5555555555555556, \"#d8576b\"], [0.6666666666666666, \"#ed7953\"], [0.7777777777777778, \"#fb9f3a\"], [0.8888888888888888, \"#fdca26\"], [1.0, \"#f0f921\"]], \"type\": \"surface\"}], \"table\": [{\"cells\": {\"fill\": {\"color\": \"#EBF0F8\"}, \"line\": {\"color\": \"white\"}}, \"header\": {\"fill\": {\"color\": \"#C8D4E3\"}, \"line\": {\"color\": \"white\"}}, \"type\": \"table\"}]}, \"layout\": {\"annotationdefaults\": {\"arrowcolor\": \"#2a3f5f\", \"arrowhead\": 0, \"arrowwidth\": 1}, \"coloraxis\": {\"colorbar\": {\"outlinewidth\": 0, \"ticks\": \"\"}}, \"colorscale\": {\"diverging\": [[0, \"#8e0152\"], [0.1, \"#c51b7d\"], [0.2, \"#de77ae\"], [0.3, \"#f1b6da\"], [0.4, \"#fde0ef\"], [0.5, \"#f7f7f7\"], [0.6, \"#e6f5d0\"], [0.7, \"#b8e186\"], [0.8, \"#7fbc41\"], [0.9, \"#4d9221\"], [1, \"#276419\"]], \"sequential\": [[0.0, \"#0d0887\"], [0.1111111111111111, \"#46039f\"], [0.2222222222222222, \"#7201a8\"], [0.3333333333333333, \"#9c179e\"], [0.4444444444444444, \"#bd3786\"], [0.5555555555555556, \"#d8576b\"], [0.6666666666666666, \"#ed7953\"], [0.7777777777777778, \"#fb9f3a\"], [0.8888888888888888, \"#fdca26\"], [1.0, \"#f0f921\"]], \"sequentialminus\": [[0.0, \"#0d0887\"], [0.1111111111111111, \"#46039f\"], [0.2222222222222222, \"#7201a8\"], [0.3333333333333333, \"#9c179e\"], [0.4444444444444444, \"#bd3786\"], [0.5555555555555556, \"#d8576b\"], [0.6666666666666666, \"#ed7953\"], [0.7777777777777778, \"#fb9f3a\"], [0.8888888888888888, \"#fdca26\"], [1.0, \"#f0f921\"]]}, \"colorway\": [\"#636efa\", \"#EF553B\", \"#00cc96\", \"#ab63fa\", \"#FFA15A\", \"#19d3f3\", \"#FF6692\", \"#B6E880\", \"#FF97FF\", \"#FECB52\"], \"font\": {\"color\": \"#2a3f5f\"}, \"geo\": {\"bgcolor\": \"white\", \"lakecolor\": \"white\", \"landcolor\": \"#E5ECF6\", \"showlakes\": true, \"showland\": true, \"subunitcolor\": \"white\"}, \"hoverlabel\": {\"align\": \"left\"}, \"hovermode\": \"closest\", \"mapbox\": {\"style\": \"light\"}, \"paper_bgcolor\": \"white\", \"plot_bgcolor\": \"#E5ECF6\", \"polar\": {\"angularaxis\": {\"gridcolor\": \"white\", \"linecolor\": \"white\", \"ticks\": \"\"}, \"bgcolor\": \"#E5ECF6\", \"radialaxis\": {\"gridcolor\": \"white\", \"linecolor\": \"white\", \"ticks\": \"\"}}, \"scene\": {\"xaxis\": {\"backgroundcolor\": \"#E5ECF6\", \"gridcolor\": \"white\", \"gridwidth\": 2, \"linecolor\": \"white\", \"showbackground\": true, \"ticks\": \"\", \"zerolinecolor\": \"white\"}, \"yaxis\": {\"backgroundcolor\": \"#E5ECF6\", \"gridcolor\": \"white\", \"gridwidth\": 2, \"linecolor\": \"white\", \"showbackground\": true, \"ticks\": \"\", \"zerolinecolor\": \"white\"}, \"zaxis\": {\"backgroundcolor\": \"#E5ECF6\", \"gridcolor\": \"white\", \"gridwidth\": 2, \"linecolor\": \"white\", \"showbackground\": true, \"ticks\": \"\", \"zerolinecolor\": \"white\"}}, \"shapedefaults\": {\"line\": {\"color\": \"#2a3f5f\"}}, \"ternary\": {\"aaxis\": {\"gridcolor\": \"white\", \"linecolor\": \"white\", \"ticks\": \"\"}, \"baxis\": {\"gridcolor\": \"white\", \"linecolor\": \"white\", \"ticks\": \"\"}, \"bgcolor\": \"#E5ECF6\", \"caxis\": {\"gridcolor\": \"white\", \"linecolor\": \"white\", \"ticks\": \"\"}}, \"title\": {\"x\": 0.05}, \"xaxis\": {\"automargin\": true, \"gridcolor\": \"white\", \"linecolor\": \"white\", \"ticks\": \"\", \"title\": {\"standoff\": 15}, \"zerolinecolor\": \"white\", \"zerolinewidth\": 2}, \"yaxis\": {\"automargin\": true, \"gridcolor\": \"white\", \"linecolor\": \"white\", \"ticks\": \"\", \"title\": {\"standoff\": 15}, \"zerolinecolor\": \"white\", \"zerolinewidth\": 2}}}, \"width\": 800, \"xaxis\": {\"showgrid\": false, \"showticklabels\": false, \"zeroline\": false}, \"yaxis\": {\"showgrid\": false, \"showticklabels\": false, \"zeroline\": false}},                        {\"displayModeBar\": false, \"responsive\": true}                    ).then(function(){\n                            \nvar gd = document.getElementById('c374d8c3-86ee-4230-acf2-0a04b524967b');\nvar x = new MutationObserver(function (mutations, observer) {{\n        var display = window.getComputedStyle(gd).display;\n        if (!display || display === 'none') {{\n            console.log([gd, 'removed!']);\n            Plotly.purge(gd);\n            observer.disconnect();\n        }}\n}});\n\n// Listen for the removal of the full notebook cells\nvar notebookContainer = gd.closest('#notebook-container');\nif (notebookContainer) {{\n    x.observe(notebookContainer, {childList: true});\n}}\n\n// Listen for the clearing of the current output cell\nvar outputEl = gd.closest('.output');\nif (outputEl) {{\n    x.observe(outputEl, {childList: true});\n}}\n\n                        })                };                });            </script>        </div>"
     },
     "metadata": {}
    },
    {
     "output_type": "display_data",
     "data": {
      "application/vnd.plotly.v1+json": {
       "config": {
        "displayModeBar": false,
        "linkText": "Export to plot.ly",
        "plotlyServerURL": "https://plot.ly",
        "showLink": false
       },
       "data": [
        {
         "hoverinfo": "none",
         "line": {
          "color": "rgb(127, 127, 127)",
          "dash": "solid",
          "width": 0
         },
         "mode": "lines",
         "type": "scatter",
         "x": [
          0.6025193817386998,
          0.6025193817386998,
          null,
          0,
          1,
          null
         ],
         "y": [
          0,
          1,
          null,
          0.5040656329482578,
          0.5040656329482578,
          null
         ]
        },
        {
         "hoverinfo": "none",
         "line": {
          "color": "rgb(0, 0, 0)",
          "dash": "solid",
          "width": 1
         },
         "mode": "lines",
         "type": "scatter",
         "x": [
          0.4345090281079435,
          1,
          null,
          0.4345090281079435,
          0.20928663519622037,
          null,
          0.4345090281079435,
          0.18311142017773385,
          null,
          0.4345090281079435,
          0.7107096970417327,
          null,
          0.4345090281079435,
          0.8949484139927812,
          null,
          0.4345090281079435,
          0.4110704233781168,
          null,
          1,
          0.20928663519622037,
          null,
          1,
          0.18311142017773385,
          null,
          1,
          0.7107096970417327,
          null,
          1,
          0.4110704233781168,
          null,
          0.33239219284119853,
          0.3123022351318256,
          null,
          0.33239219284119853,
          0.7888550970109461,
          null,
          0.33239219284119853,
          0,
          null,
          0.33239219284119853,
          0.6642528576863342,
          null,
          0.33239219284119853,
          0.8645720639141482,
          null,
          0.33239219284119853,
          0.03157773807641793,
          null,
          0.33239219284119853,
          0.5440276982055968,
          null,
          0.33239219284119853,
          0.21003044817690028,
          null,
          0.33239219284119853,
          0.8949484139927812,
          null,
          0.3123022351318256,
          0.7888550970109461,
          null,
          0.3123022351318256,
          0,
          null,
          0.3123022351318256,
          0.6642528576863342,
          null,
          0.3123022351318256,
          0.8645720639141482,
          null,
          0.3123022351318256,
          0.03157773807641793,
          null,
          0.3123022351318256,
          0.5440276982055968,
          null,
          0.3123022351318256,
          0.21003044817690028,
          null,
          0.3123022351318256,
          0.8949484139927812,
          null,
          0.20928663519622037,
          0.18311142017773385,
          null,
          0.20928663519622037,
          0.7107096970417327,
          null,
          0.20928663519622037,
          0.8949484139927812,
          null,
          0.20928663519622037,
          0.6860230007861732,
          null,
          0.20928663519622037,
          0.4110704233781168,
          null,
          0.18311142017773385,
          0.7107096970417327,
          null,
          0.18311142017773385,
          0.4110704233781168,
          null,
          0.7888550970109461,
          0,
          null,
          0.7888550970109461,
          0.6642528576863342,
          null,
          0.7888550970109461,
          0.8645720639141482,
          null,
          0.7888550970109461,
          0.03157773807641793,
          null,
          0.7888550970109461,
          0.5440276982055968,
          null,
          0.7888550970109461,
          0.21003044817690028,
          null,
          0.7888550970109461,
          0.8949484139927812,
          null,
          0.7107096970417327,
          0.4110704233781168,
          null,
          0,
          0.6642528576863342,
          null,
          0,
          0.8645720639141482,
          null,
          0,
          0.03157773807641793,
          null,
          0,
          0.5440276982055968,
          null,
          0,
          0.21003044817690028,
          null,
          0,
          0.8949484139927812,
          null,
          0.6642528576863342,
          0.8645720639141482,
          null,
          0.6642528576863342,
          0.03157773807641793,
          null,
          0.6642528576863342,
          0.5440276982055968,
          null,
          0.6642528576863342,
          0.21003044817690028,
          null,
          0.6642528576863342,
          0.8949484139927812,
          null,
          0.8645720639141482,
          0.03157773807641793,
          null,
          0.8645720639141482,
          0.5440276982055968,
          null,
          0.8645720639141482,
          0.21003044817690028,
          null,
          0.8645720639141482,
          0.8949484139927812,
          null,
          0.03157773807641793,
          0.5440276982055968,
          null,
          0.03157773807641793,
          0.21003044817690028,
          null,
          0.03157773807641793,
          0.8949484139927812,
          null,
          0.5440276982055968,
          0.21003044817690028,
          null,
          0.5440276982055968,
          0.8949484139927812,
          null,
          0.21003044817690028,
          0.8949484139927812,
          null
         ],
         "y": [
          0.4593782106119921,
          0.260107933190082,
          null,
          0.4593782106119921,
          0.4595135486339741,
          null,
          0.4593782106119921,
          0.9763397517884504,
          null,
          0.4593782106119921,
          0.7904967335858123,
          null,
          0.4593782106119921,
          0.9634134967113761,
          null,
          0.4593782106119921,
          0.7050235652463799,
          null,
          0.260107933190082,
          0.4595135486339741,
          null,
          0.260107933190082,
          0.9763397517884504,
          null,
          0.260107933190082,
          0.7904967335858123,
          null,
          0.260107933190082,
          0.7050235652463799,
          null,
          0.43979675818890257,
          0.8937014346145647,
          null,
          0.43979675818890257,
          0.23209241403306768,
          null,
          0.43979675818890257,
          0.16405071833245727,
          null,
          0.43979675818890257,
          0.31653756377221937,
          null,
          0.43979675818890257,
          1,
          null,
          0.43979675818890257,
          0.40487069253595,
          null,
          0.43979675818890257,
          0.03326306907110358,
          null,
          0.43979675818890257,
          0.9048062973733813,
          null,
          0.43979675818890257,
          0.9634134967113761,
          null,
          0.8937014346145647,
          0.23209241403306768,
          null,
          0.8937014346145647,
          0.16405071833245727,
          null,
          0.8937014346145647,
          0.31653756377221937,
          null,
          0.8937014346145647,
          1,
          null,
          0.8937014346145647,
          0.40487069253595,
          null,
          0.8937014346145647,
          0.03326306907110358,
          null,
          0.8937014346145647,
          0.9048062973733813,
          null,
          0.8937014346145647,
          0.9634134967113761,
          null,
          0.4595135486339741,
          0.9763397517884504,
          null,
          0.4595135486339741,
          0.7904967335858123,
          null,
          0.4595135486339741,
          0.9634134967113761,
          null,
          0.4595135486339741,
          0.6629098555321193,
          null,
          0.4595135486339741,
          0.7050235652463799,
          null,
          0.9763397517884504,
          0.7904967335858123,
          null,
          0.9763397517884504,
          0.7050235652463799,
          null,
          0.23209241403306768,
          0.16405071833245727,
          null,
          0.23209241403306768,
          0.31653756377221937,
          null,
          0.23209241403306768,
          1,
          null,
          0.23209241403306768,
          0.40487069253595,
          null,
          0.23209241403306768,
          0.03326306907110358,
          null,
          0.23209241403306768,
          0.9048062973733813,
          null,
          0.23209241403306768,
          0.9634134967113761,
          null,
          0.7904967335858123,
          0.7050235652463799,
          null,
          0.16405071833245727,
          0.31653756377221937,
          null,
          0.16405071833245727,
          1,
          null,
          0.16405071833245727,
          0.40487069253595,
          null,
          0.16405071833245727,
          0.03326306907110358,
          null,
          0.16405071833245727,
          0.9048062973733813,
          null,
          0.16405071833245727,
          0.9634134967113761,
          null,
          0.31653756377221937,
          1,
          null,
          0.31653756377221937,
          0.40487069253595,
          null,
          0.31653756377221937,
          0.03326306907110358,
          null,
          0.31653756377221937,
          0.9048062973733813,
          null,
          0.31653756377221937,
          0.9634134967113761,
          null,
          1,
          0.40487069253595,
          null,
          1,
          0.03326306907110358,
          null,
          1,
          0.9048062973733813,
          null,
          1,
          0.9634134967113761,
          null,
          0.40487069253595,
          0.03326306907110358,
          null,
          0.40487069253595,
          0.9048062973733813,
          null,
          0.40487069253595,
          0.9634134967113761,
          null,
          0.03326306907110358,
          0.9048062973733813,
          null,
          0.03326306907110358,
          0.9634134967113761,
          null,
          0.9048062973733813,
          0.9634134967113761,
          null
         ]
        },
        {
         "hoverinfo": "text",
         "marker": {
          "color": "rgb(255, 255, 255)",
          "line": {
           "color": "rgb(0, 0, 0)",
           "width": 1
          },
          "size": 19,
          "symbol": "circle"
         },
         "mode": "markers",
         "text": [
          "fake-colours"
         ],
         "textfont": {
          "color": "rgb(0, 0, 0)"
         },
         "textposition": "middle center",
         "type": "scatter",
         "x": [
          0.4345090281079435
         ],
         "y": [
          0.4593782106119921
         ]
        },
        {
         "hoverinfo": "text",
         "marker": {
          "color": "rgb(255, 255, 255)",
          "line": {
           "color": "rgb(0, 0, 0)",
           "width": 1
          },
          "size": 5,
          "symbol": "circle"
         },
         "mode": "markers",
         "text": [
          "dimmdrive-gaming-ramdrive-10000-mbs",
          "my-talking-angela",
          "wrc-the-official-game",
          "perfect-glowing-bodies",
          "funeral",
          "tanktrouble-mobile-mayhem",
          "mlg-bouncing-simulator-2015",
          "extreme-motor-bike-ride-simulator-3d-steer-the-mot",
          "ice-age-avalanche",
          "best-casino-social-slots-fun",
          "brutal-donut",
          "pengu-the-flying-penguin-unforgettable-chilly-adve",
          "fruits-pair-festival-january",
          "no-idea-for-name",
          "armageddon-itch-4xisblack",
          "jashanoid",
          "death-duel-itch"
         ],
         "textfont": {
          "color": "rgb(0, 0, 0)"
         },
         "textposition": "middle center",
         "type": "scatter",
         "x": [
          1,
          0.33239219284119853,
          0.3123022351318256,
          0.18311142017773385,
          0.5871034422047626,
          0.7888550970109461,
          0.7107096970417327,
          0,
          0.6642528576863342,
          0.8645720639141482,
          0.03157773807641793,
          0.5440276982055968,
          0.21003044817690028,
          0.3168784177256874,
          0.6860230007861732,
          0.4110704233781168,
          0.5588677725774479
         ],
         "y": [
          0.260107933190082,
          0.43979675818890257,
          0.8937014346145647,
          0.9763397517884504,
          0.41321624722164046,
          0.23209241403306768,
          0.7904967335858123,
          0.16405071833245727,
          0.31653756377221937,
          1,
          0.40487069253595,
          0.03326306907110358,
          0.9048062973733813,
          0,
          0.6629098555321193,
          0.7050235652463799,
          0.1653114162750431
         ]
        },
        {
         "hoverinfo": "text",
         "marker": {
          "color": "rgb(255, 255, 255)",
          "line": {
           "color": "rgb(0, 0, 0)",
           "width": 1
          },
          "size": 30,
          "symbol": "circle"
         },
         "mode": "markers",
         "text": [
          "i-wanna-be-the-co-op"
         ],
         "textfont": {
          "color": "rgb(0, 0, 0)"
         },
         "textposition": "middle center",
         "type": "scatter",
         "x": [
          0.20928663519622037
         ],
         "y": [
          0.4595135486339741
         ]
        },
        {
         "hoverinfo": "text",
         "marker": {
          "color": "rgb(255, 255, 255)",
          "line": {
           "color": "rgb(0, 0, 0)",
           "width": 1
          },
          "size": 50,
          "symbol": "circle"
         },
         "mode": "markers",
         "text": [
          "lunar-lander-relaunched"
         ],
         "textfont": {
          "color": "rgb(0, 0, 0)"
         },
         "textposition": "middle center",
         "type": "scatter",
         "x": [
          0.8949484139927812
         ],
         "y": [
          0.9634134967113761
         ]
        },
        {
         "hoverinfo": "none",
         "mode": "text",
         "text": [],
         "textfont": {
          "color": "rgb(255, 255, 255)"
         },
         "textposition": "middle center",
         "type": "scatter",
         "x": [],
         "y": []
        },
        {
         "hoverinfo": "none",
         "mode": "text",
         "text": [
          null,
          null,
          null,
          null,
          null,
          null,
          null,
          null,
          null,
          null,
          null,
          null,
          null,
          null,
          null,
          null,
          null,
          null,
          null,
          null
         ],
         "textfont": {
          "color": "rgb(0, 0, 0)"
         },
         "textposition": "middle center",
         "type": "scatter",
         "x": [
          0.4345090281079435,
          1,
          0.33239219284119853,
          0.3123022351318256,
          0.20928663519622037,
          0.18311142017773385,
          0.5871034422047626,
          0.7888550970109461,
          0.7107096970417327,
          0,
          0.6642528576863342,
          0.8645720639141482,
          0.03157773807641793,
          0.5440276982055968,
          0.21003044817690028,
          0.8949484139927812,
          0.3168784177256874,
          0.6860230007861732,
          0.4110704233781168,
          0.5588677725774479
         ],
         "y": [
          0.4593782106119921,
          0.260107933190082,
          0.43979675818890257,
          0.8937014346145647,
          0.4595135486339741,
          0.9763397517884504,
          0.41321624722164046,
          0.23209241403306768,
          0.7904967335858123,
          0.16405071833245727,
          0.31653756377221937,
          1,
          0.40487069253595,
          0.03326306907110358,
          0.9048062973733813,
          0.9634134967113761,
          0,
          0.6629098555321193,
          0.7050235652463799,
          0.1653114162750431
         ]
        },
        {
         "hoverinfo": "none",
         "mode": "text",
         "text": [
          null,
          null,
          null,
          null,
          null,
          null,
          null,
          null,
          null,
          null,
          null,
          null,
          null,
          null,
          null,
          null,
          null,
          null,
          null,
          null,
          null,
          null,
          null,
          null,
          null,
          null,
          null,
          null,
          null,
          null,
          null,
          null,
          null,
          null,
          null,
          null,
          null,
          null,
          null,
          null,
          null,
          null,
          null,
          null,
          null,
          null,
          null,
          null,
          null,
          null,
          null,
          null,
          null,
          null,
          null,
          null,
          null,
          null,
          null,
          null,
          null,
          null,
          null
         ],
         "textfont": {
          "color": "rgb(0, 0, 0)"
         },
         "textposition": "middle center",
         "type": "scatter",
         "x": [
          0.719975898509585,
          0.32189310542342264,
          0.2980687441265936,
          0.5647263021361049,
          0.657343386251834,
          0.4086353197016077,
          0.6026784855357618,
          0.585338713608951,
          0.8451768487959735,
          0.7000443857339507,
          0.3080261321198282,
          0.5640964066479606,
          0.17213696843488072,
          0.5011852131712464,
          0.591308595126628,
          0.18289630885366817,
          0.44862145227670375,
          0.25826190743975636,
          0.6071474818776449,
          0.5592722957548208,
          0.1674698046088435,
          0.49787553806903834,
          0.5869316341526626,
          0.18185340947422735,
          0.44105707674764844,
          0.26031383453565754,
          0.6026862934182843,
          0.1818923119251286,
          0.45511546776184614,
          0.546755031973874,
          0.44438714519686284,
          0.30221390837716977,
          0.4496308922398166,
          0.3049341610330466,
          0.39510519129320887,
          0.7215564650920387,
          0.8125733181313715,
          0.4084357636620153,
          0.6722780525020899,
          0.49173038738814,
          0.8280133620261594,
          0.5631067570659852,
          0.33033498536063266,
          0.425564705620529,
          0.0018163206810339026,
          0.2738885139685761,
          0.09225719085032612,
          0.4411631127548986,
          0.7517459519180664,
          0.3468203723069034,
          0.6154951432431606,
          0.4288319002365682,
          0.7675621916265117,
          0.4533081233664953,
          0.7165891205216421,
          0.538441520139325,
          0.8876690167592829,
          0.29310379823956534,
          0.10876887867324193,
          0.4584667433855303,
          0.36525885777987427,
          0.7076577245596689,
          0.5518171622388409
         ],
         "y": [
          0.3855146835291872,
          0.43319916188289326,
          0.7004274491682918,
          0.6468809081882937,
          0.7339097281452296,
          0.5776939313170779,
          0.33381060253436434,
          0.5945614658234231,
          0.5067768096870983,
          0.4583112726595661,
          0.6646338609308886,
          0.36141308936560146,
          0.2780258099037204,
          0.4038876360091543,
          0.7426396362856997,
          0.3961398586485938,
          0.2546172286064224,
          0.6609304295587182,
          0.7249911538198359,
          0.5837937023204022,
          0.5127092543788762,
          0.6246508147363001,
          0.9729529487483216,
          0.6302877976726249,
          0.475068598681695,
          0.8730533894381103,
          0.9547480686539558,
          0.7155086618262084,
          0.6496897810576838,
          0.7358136290509606,
          0.5867706108877141,
          0.6041134887210671,
          0.9091902245358038,
          0.8626726614307954,
          0.17185405536200093,
          0.24970714670723124,
          0.6206989626656486,
          0.2924371825621164,
          0.10869426815266048,
          0.5463044483825079,
          0.6044765337856899,
          0.7218276864678745,
          0.26633604247437237,
          0.6052230512440464,
          0.2905748071824634,
          0.12467923961323749,
          0.5464999618913515,
          0.5873112102271305,
          0.6706577005066404,
          0.33453373360932026,
          0.15881837770834467,
          0.5892603159889065,
          0.6543025918391866,
          0.6779915631118885,
          0.5030335866459466,
          0.9262392160919835,
          1.0036192815615863,
          0.24346182017283463,
          0.6691746088017736,
          0.7088831747970843,
          0.45398224348513944,
          0.5132326227736361,
          0.9603278695436556
         ]
        },
        {
         "hoverinfo": "none",
         "marker": {
          "color": "rgba(255, 255, 255, 0)",
          "line": {
           "color": "rgba(255, 255, 255, 0)",
           "width": 0
          },
          "size": 0,
          "symbol": "circle"
         },
         "mode": "markers",
         "type": "scatter",
         "x": [
          0.5,
          0,
          1,
          0.5
         ],
         "y": [
          0,
          0.5,
          0.5,
          1
         ]
        }
       ],
       "layout": {
        "height": 450,
        "hovermode": "closest",
        "margin": {
         "b": 10,
         "l": 10,
         "r": 10,
         "t": 10
        },
        "plot_bgcolor": "rgb(255, 255, 255)",
        "showlegend": false,
        "template": {
         "data": {
          "bar": [
           {
            "error_x": {
             "color": "#2a3f5f"
            },
            "error_y": {
             "color": "#2a3f5f"
            },
            "marker": {
             "line": {
              "color": "#E5ECF6",
              "width": 0.5
             }
            },
            "type": "bar"
           }
          ],
          "barpolar": [
           {
            "marker": {
             "line": {
              "color": "#E5ECF6",
              "width": 0.5
             }
            },
            "type": "barpolar"
           }
          ],
          "carpet": [
           {
            "aaxis": {
             "endlinecolor": "#2a3f5f",
             "gridcolor": "white",
             "linecolor": "white",
             "minorgridcolor": "white",
             "startlinecolor": "#2a3f5f"
            },
            "baxis": {
             "endlinecolor": "#2a3f5f",
             "gridcolor": "white",
             "linecolor": "white",
             "minorgridcolor": "white",
             "startlinecolor": "#2a3f5f"
            },
            "type": "carpet"
           }
          ],
          "choropleth": [
           {
            "colorbar": {
             "outlinewidth": 0,
             "ticks": ""
            },
            "type": "choropleth"
           }
          ],
          "contour": [
           {
            "colorbar": {
             "outlinewidth": 0,
             "ticks": ""
            },
            "colorscale": [
             [
              0,
              "#0d0887"
             ],
             [
              0.1111111111111111,
              "#46039f"
             ],
             [
              0.2222222222222222,
              "#7201a8"
             ],
             [
              0.3333333333333333,
              "#9c179e"
             ],
             [
              0.4444444444444444,
              "#bd3786"
             ],
             [
              0.5555555555555556,
              "#d8576b"
             ],
             [
              0.6666666666666666,
              "#ed7953"
             ],
             [
              0.7777777777777778,
              "#fb9f3a"
             ],
             [
              0.8888888888888888,
              "#fdca26"
             ],
             [
              1,
              "#f0f921"
             ]
            ],
            "type": "contour"
           }
          ],
          "contourcarpet": [
           {
            "colorbar": {
             "outlinewidth": 0,
             "ticks": ""
            },
            "type": "contourcarpet"
           }
          ],
          "heatmap": [
           {
            "colorbar": {
             "outlinewidth": 0,
             "ticks": ""
            },
            "colorscale": [
             [
              0,
              "#0d0887"
             ],
             [
              0.1111111111111111,
              "#46039f"
             ],
             [
              0.2222222222222222,
              "#7201a8"
             ],
             [
              0.3333333333333333,
              "#9c179e"
             ],
             [
              0.4444444444444444,
              "#bd3786"
             ],
             [
              0.5555555555555556,
              "#d8576b"
             ],
             [
              0.6666666666666666,
              "#ed7953"
             ],
             [
              0.7777777777777778,
              "#fb9f3a"
             ],
             [
              0.8888888888888888,
              "#fdca26"
             ],
             [
              1,
              "#f0f921"
             ]
            ],
            "type": "heatmap"
           }
          ],
          "heatmapgl": [
           {
            "colorbar": {
             "outlinewidth": 0,
             "ticks": ""
            },
            "colorscale": [
             [
              0,
              "#0d0887"
             ],
             [
              0.1111111111111111,
              "#46039f"
             ],
             [
              0.2222222222222222,
              "#7201a8"
             ],
             [
              0.3333333333333333,
              "#9c179e"
             ],
             [
              0.4444444444444444,
              "#bd3786"
             ],
             [
              0.5555555555555556,
              "#d8576b"
             ],
             [
              0.6666666666666666,
              "#ed7953"
             ],
             [
              0.7777777777777778,
              "#fb9f3a"
             ],
             [
              0.8888888888888888,
              "#fdca26"
             ],
             [
              1,
              "#f0f921"
             ]
            ],
            "type": "heatmapgl"
           }
          ],
          "histogram": [
           {
            "marker": {
             "colorbar": {
              "outlinewidth": 0,
              "ticks": ""
             }
            },
            "type": "histogram"
           }
          ],
          "histogram2d": [
           {
            "colorbar": {
             "outlinewidth": 0,
             "ticks": ""
            },
            "colorscale": [
             [
              0,
              "#0d0887"
             ],
             [
              0.1111111111111111,
              "#46039f"
             ],
             [
              0.2222222222222222,
              "#7201a8"
             ],
             [
              0.3333333333333333,
              "#9c179e"
             ],
             [
              0.4444444444444444,
              "#bd3786"
             ],
             [
              0.5555555555555556,
              "#d8576b"
             ],
             [
              0.6666666666666666,
              "#ed7953"
             ],
             [
              0.7777777777777778,
              "#fb9f3a"
             ],
             [
              0.8888888888888888,
              "#fdca26"
             ],
             [
              1,
              "#f0f921"
             ]
            ],
            "type": "histogram2d"
           }
          ],
          "histogram2dcontour": [
           {
            "colorbar": {
             "outlinewidth": 0,
             "ticks": ""
            },
            "colorscale": [
             [
              0,
              "#0d0887"
             ],
             [
              0.1111111111111111,
              "#46039f"
             ],
             [
              0.2222222222222222,
              "#7201a8"
             ],
             [
              0.3333333333333333,
              "#9c179e"
             ],
             [
              0.4444444444444444,
              "#bd3786"
             ],
             [
              0.5555555555555556,
              "#d8576b"
             ],
             [
              0.6666666666666666,
              "#ed7953"
             ],
             [
              0.7777777777777778,
              "#fb9f3a"
             ],
             [
              0.8888888888888888,
              "#fdca26"
             ],
             [
              1,
              "#f0f921"
             ]
            ],
            "type": "histogram2dcontour"
           }
          ],
          "mesh3d": [
           {
            "colorbar": {
             "outlinewidth": 0,
             "ticks": ""
            },
            "type": "mesh3d"
           }
          ],
          "parcoords": [
           {
            "line": {
             "colorbar": {
              "outlinewidth": 0,
              "ticks": ""
             }
            },
            "type": "parcoords"
           }
          ],
          "pie": [
           {
            "automargin": true,
            "type": "pie"
           }
          ],
          "scatter": [
           {
            "marker": {
             "colorbar": {
              "outlinewidth": 0,
              "ticks": ""
             }
            },
            "type": "scatter"
           }
          ],
          "scatter3d": [
           {
            "line": {
             "colorbar": {
              "outlinewidth": 0,
              "ticks": ""
             }
            },
            "marker": {
             "colorbar": {
              "outlinewidth": 0,
              "ticks": ""
             }
            },
            "type": "scatter3d"
           }
          ],
          "scattercarpet": [
           {
            "marker": {
             "colorbar": {
              "outlinewidth": 0,
              "ticks": ""
             }
            },
            "type": "scattercarpet"
           }
          ],
          "scattergeo": [
           {
            "marker": {
             "colorbar": {
              "outlinewidth": 0,
              "ticks": ""
             }
            },
            "type": "scattergeo"
           }
          ],
          "scattergl": [
           {
            "marker": {
             "colorbar": {
              "outlinewidth": 0,
              "ticks": ""
             }
            },
            "type": "scattergl"
           }
          ],
          "scattermapbox": [
           {
            "marker": {
             "colorbar": {
              "outlinewidth": 0,
              "ticks": ""
             }
            },
            "type": "scattermapbox"
           }
          ],
          "scatterpolar": [
           {
            "marker": {
             "colorbar": {
              "outlinewidth": 0,
              "ticks": ""
             }
            },
            "type": "scatterpolar"
           }
          ],
          "scatterpolargl": [
           {
            "marker": {
             "colorbar": {
              "outlinewidth": 0,
              "ticks": ""
             }
            },
            "type": "scatterpolargl"
           }
          ],
          "scatterternary": [
           {
            "marker": {
             "colorbar": {
              "outlinewidth": 0,
              "ticks": ""
             }
            },
            "type": "scatterternary"
           }
          ],
          "surface": [
           {
            "colorbar": {
             "outlinewidth": 0,
             "ticks": ""
            },
            "colorscale": [
             [
              0,
              "#0d0887"
             ],
             [
              0.1111111111111111,
              "#46039f"
             ],
             [
              0.2222222222222222,
              "#7201a8"
             ],
             [
              0.3333333333333333,
              "#9c179e"
             ],
             [
              0.4444444444444444,
              "#bd3786"
             ],
             [
              0.5555555555555556,
              "#d8576b"
             ],
             [
              0.6666666666666666,
              "#ed7953"
             ],
             [
              0.7777777777777778,
              "#fb9f3a"
             ],
             [
              0.8888888888888888,
              "#fdca26"
             ],
             [
              1,
              "#f0f921"
             ]
            ],
            "type": "surface"
           }
          ],
          "table": [
           {
            "cells": {
             "fill": {
              "color": "#EBF0F8"
             },
             "line": {
              "color": "white"
             }
            },
            "header": {
             "fill": {
              "color": "#C8D4E3"
             },
             "line": {
              "color": "white"
             }
            },
            "type": "table"
           }
          ]
         },
         "layout": {
          "annotationdefaults": {
           "arrowcolor": "#2a3f5f",
           "arrowhead": 0,
           "arrowwidth": 1
          },
          "coloraxis": {
           "colorbar": {
            "outlinewidth": 0,
            "ticks": ""
           }
          },
          "colorscale": {
           "diverging": [
            [
             0,
             "#8e0152"
            ],
            [
             0.1,
             "#c51b7d"
            ],
            [
             0.2,
             "#de77ae"
            ],
            [
             0.3,
             "#f1b6da"
            ],
            [
             0.4,
             "#fde0ef"
            ],
            [
             0.5,
             "#f7f7f7"
            ],
            [
             0.6,
             "#e6f5d0"
            ],
            [
             0.7,
             "#b8e186"
            ],
            [
             0.8,
             "#7fbc41"
            ],
            [
             0.9,
             "#4d9221"
            ],
            [
             1,
             "#276419"
            ]
           ],
           "sequential": [
            [
             0,
             "#0d0887"
            ],
            [
             0.1111111111111111,
             "#46039f"
            ],
            [
             0.2222222222222222,
             "#7201a8"
            ],
            [
             0.3333333333333333,
             "#9c179e"
            ],
            [
             0.4444444444444444,
             "#bd3786"
            ],
            [
             0.5555555555555556,
             "#d8576b"
            ],
            [
             0.6666666666666666,
             "#ed7953"
            ],
            [
             0.7777777777777778,
             "#fb9f3a"
            ],
            [
             0.8888888888888888,
             "#fdca26"
            ],
            [
             1,
             "#f0f921"
            ]
           ],
           "sequentialminus": [
            [
             0,
             "#0d0887"
            ],
            [
             0.1111111111111111,
             "#46039f"
            ],
            [
             0.2222222222222222,
             "#7201a8"
            ],
            [
             0.3333333333333333,
             "#9c179e"
            ],
            [
             0.4444444444444444,
             "#bd3786"
            ],
            [
             0.5555555555555556,
             "#d8576b"
            ],
            [
             0.6666666666666666,
             "#ed7953"
            ],
            [
             0.7777777777777778,
             "#fb9f3a"
            ],
            [
             0.8888888888888888,
             "#fdca26"
            ],
            [
             1,
             "#f0f921"
            ]
           ]
          },
          "colorway": [
           "#636efa",
           "#EF553B",
           "#00cc96",
           "#ab63fa",
           "#FFA15A",
           "#19d3f3",
           "#FF6692",
           "#B6E880",
           "#FF97FF",
           "#FECB52"
          ],
          "font": {
           "color": "#2a3f5f"
          },
          "geo": {
           "bgcolor": "white",
           "lakecolor": "white",
           "landcolor": "#E5ECF6",
           "showlakes": true,
           "showland": true,
           "subunitcolor": "white"
          },
          "hoverlabel": {
           "align": "left"
          },
          "hovermode": "closest",
          "mapbox": {
           "style": "light"
          },
          "paper_bgcolor": "white",
          "plot_bgcolor": "#E5ECF6",
          "polar": {
           "angularaxis": {
            "gridcolor": "white",
            "linecolor": "white",
            "ticks": ""
           },
           "bgcolor": "#E5ECF6",
           "radialaxis": {
            "gridcolor": "white",
            "linecolor": "white",
            "ticks": ""
           }
          },
          "scene": {
           "xaxis": {
            "backgroundcolor": "#E5ECF6",
            "gridcolor": "white",
            "gridwidth": 2,
            "linecolor": "white",
            "showbackground": true,
            "ticks": "",
            "zerolinecolor": "white"
           },
           "yaxis": {
            "backgroundcolor": "#E5ECF6",
            "gridcolor": "white",
            "gridwidth": 2,
            "linecolor": "white",
            "showbackground": true,
            "ticks": "",
            "zerolinecolor": "white"
           },
           "zaxis": {
            "backgroundcolor": "#E5ECF6",
            "gridcolor": "white",
            "gridwidth": 2,
            "linecolor": "white",
            "showbackground": true,
            "ticks": "",
            "zerolinecolor": "white"
           }
          },
          "shapedefaults": {
           "line": {
            "color": "#2a3f5f"
           }
          },
          "ternary": {
           "aaxis": {
            "gridcolor": "white",
            "linecolor": "white",
            "ticks": ""
           },
           "baxis": {
            "gridcolor": "white",
            "linecolor": "white",
            "ticks": ""
           },
           "bgcolor": "#E5ECF6",
           "caxis": {
            "gridcolor": "white",
            "linecolor": "white",
            "ticks": ""
           }
          },
          "title": {
           "x": 0.05
          },
          "xaxis": {
           "automargin": true,
           "gridcolor": "white",
           "linecolor": "white",
           "ticks": "",
           "title": {
            "standoff": 15
           },
           "zerolinecolor": "white",
           "zerolinewidth": 2
          },
          "yaxis": {
           "automargin": true,
           "gridcolor": "white",
           "linecolor": "white",
           "ticks": "",
           "title": {
            "standoff": 15
           },
           "zerolinecolor": "white",
           "zerolinewidth": 2
          }
         }
        },
        "width": 800,
        "xaxis": {
         "showgrid": false,
         "showticklabels": false,
         "zeroline": false
        },
        "yaxis": {
         "showgrid": false,
         "showticklabels": false,
         "zeroline": false
        }
       }
      },
      "text/html": "<div>                            <div id=\"53cbebf6-c11b-4d3e-abf7-9498247a719f\" class=\"plotly-graph-div\" style=\"height:450px; width:800px;\"></div>            <script type=\"text/javascript\">                require([\"plotly\"], function(Plotly) {                    window.PLOTLYENV=window.PLOTLYENV || {};                                    if (document.getElementById(\"53cbebf6-c11b-4d3e-abf7-9498247a719f\")) {                    Plotly.newPlot(                        \"53cbebf6-c11b-4d3e-abf7-9498247a719f\",                        [{\"hoverinfo\": \"none\", \"line\": {\"color\": \"rgb(127, 127, 127)\", \"dash\": \"solid\", \"width\": 0}, \"mode\": \"lines\", \"type\": \"scatter\", \"x\": [0.6025193817386998, 0.6025193817386998, null, 0, 1, null], \"y\": [0, 1, null, 0.5040656329482578, 0.5040656329482578, null]}, {\"hoverinfo\": \"none\", \"line\": {\"color\": \"rgb(0, 0, 0)\", \"dash\": \"solid\", \"width\": 1}, \"mode\": \"lines\", \"type\": \"scatter\", \"x\": [0.4345090281079435, 1.0, null, 0.4345090281079435, 0.20928663519622037, null, 0.4345090281079435, 0.18311142017773385, null, 0.4345090281079435, 0.7107096970417327, null, 0.4345090281079435, 0.8949484139927812, null, 0.4345090281079435, 0.4110704233781168, null, 1.0, 0.20928663519622037, null, 1.0, 0.18311142017773385, null, 1.0, 0.7107096970417327, null, 1.0, 0.4110704233781168, null, 0.33239219284119853, 0.3123022351318256, null, 0.33239219284119853, 0.7888550970109461, null, 0.33239219284119853, 0.0, null, 0.33239219284119853, 0.6642528576863342, null, 0.33239219284119853, 0.8645720639141482, null, 0.33239219284119853, 0.03157773807641793, null, 0.33239219284119853, 0.5440276982055968, null, 0.33239219284119853, 0.21003044817690028, null, 0.33239219284119853, 0.8949484139927812, null, 0.3123022351318256, 0.7888550970109461, null, 0.3123022351318256, 0.0, null, 0.3123022351318256, 0.6642528576863342, null, 0.3123022351318256, 0.8645720639141482, null, 0.3123022351318256, 0.03157773807641793, null, 0.3123022351318256, 0.5440276982055968, null, 0.3123022351318256, 0.21003044817690028, null, 0.3123022351318256, 0.8949484139927812, null, 0.20928663519622037, 0.18311142017773385, null, 0.20928663519622037, 0.7107096970417327, null, 0.20928663519622037, 0.8949484139927812, null, 0.20928663519622037, 0.6860230007861732, null, 0.20928663519622037, 0.4110704233781168, null, 0.18311142017773385, 0.7107096970417327, null, 0.18311142017773385, 0.4110704233781168, null, 0.7888550970109461, 0.0, null, 0.7888550970109461, 0.6642528576863342, null, 0.7888550970109461, 0.8645720639141482, null, 0.7888550970109461, 0.03157773807641793, null, 0.7888550970109461, 0.5440276982055968, null, 0.7888550970109461, 0.21003044817690028, null, 0.7888550970109461, 0.8949484139927812, null, 0.7107096970417327, 0.4110704233781168, null, 0.0, 0.6642528576863342, null, 0.0, 0.8645720639141482, null, 0.0, 0.03157773807641793, null, 0.0, 0.5440276982055968, null, 0.0, 0.21003044817690028, null, 0.0, 0.8949484139927812, null, 0.6642528576863342, 0.8645720639141482, null, 0.6642528576863342, 0.03157773807641793, null, 0.6642528576863342, 0.5440276982055968, null, 0.6642528576863342, 0.21003044817690028, null, 0.6642528576863342, 0.8949484139927812, null, 0.8645720639141482, 0.03157773807641793, null, 0.8645720639141482, 0.5440276982055968, null, 0.8645720639141482, 0.21003044817690028, null, 0.8645720639141482, 0.8949484139927812, null, 0.03157773807641793, 0.5440276982055968, null, 0.03157773807641793, 0.21003044817690028, null, 0.03157773807641793, 0.8949484139927812, null, 0.5440276982055968, 0.21003044817690028, null, 0.5440276982055968, 0.8949484139927812, null, 0.21003044817690028, 0.8949484139927812, null], \"y\": [0.4593782106119921, 0.260107933190082, null, 0.4593782106119921, 0.4595135486339741, null, 0.4593782106119921, 0.9763397517884504, null, 0.4593782106119921, 0.7904967335858123, null, 0.4593782106119921, 0.9634134967113761, null, 0.4593782106119921, 0.7050235652463799, null, 0.260107933190082, 0.4595135486339741, null, 0.260107933190082, 0.9763397517884504, null, 0.260107933190082, 0.7904967335858123, null, 0.260107933190082, 0.7050235652463799, null, 0.43979675818890257, 0.8937014346145647, null, 0.43979675818890257, 0.23209241403306768, null, 0.43979675818890257, 0.16405071833245727, null, 0.43979675818890257, 0.31653756377221937, null, 0.43979675818890257, 1.0, null, 0.43979675818890257, 0.40487069253595, null, 0.43979675818890257, 0.03326306907110358, null, 0.43979675818890257, 0.9048062973733813, null, 0.43979675818890257, 0.9634134967113761, null, 0.8937014346145647, 0.23209241403306768, null, 0.8937014346145647, 0.16405071833245727, null, 0.8937014346145647, 0.31653756377221937, null, 0.8937014346145647, 1.0, null, 0.8937014346145647, 0.40487069253595, null, 0.8937014346145647, 0.03326306907110358, null, 0.8937014346145647, 0.9048062973733813, null, 0.8937014346145647, 0.9634134967113761, null, 0.4595135486339741, 0.9763397517884504, null, 0.4595135486339741, 0.7904967335858123, null, 0.4595135486339741, 0.9634134967113761, null, 0.4595135486339741, 0.6629098555321193, null, 0.4595135486339741, 0.7050235652463799, null, 0.9763397517884504, 0.7904967335858123, null, 0.9763397517884504, 0.7050235652463799, null, 0.23209241403306768, 0.16405071833245727, null, 0.23209241403306768, 0.31653756377221937, null, 0.23209241403306768, 1.0, null, 0.23209241403306768, 0.40487069253595, null, 0.23209241403306768, 0.03326306907110358, null, 0.23209241403306768, 0.9048062973733813, null, 0.23209241403306768, 0.9634134967113761, null, 0.7904967335858123, 0.7050235652463799, null, 0.16405071833245727, 0.31653756377221937, null, 0.16405071833245727, 1.0, null, 0.16405071833245727, 0.40487069253595, null, 0.16405071833245727, 0.03326306907110358, null, 0.16405071833245727, 0.9048062973733813, null, 0.16405071833245727, 0.9634134967113761, null, 0.31653756377221937, 1.0, null, 0.31653756377221937, 0.40487069253595, null, 0.31653756377221937, 0.03326306907110358, null, 0.31653756377221937, 0.9048062973733813, null, 0.31653756377221937, 0.9634134967113761, null, 1.0, 0.40487069253595, null, 1.0, 0.03326306907110358, null, 1.0, 0.9048062973733813, null, 1.0, 0.9634134967113761, null, 0.40487069253595, 0.03326306907110358, null, 0.40487069253595, 0.9048062973733813, null, 0.40487069253595, 0.9634134967113761, null, 0.03326306907110358, 0.9048062973733813, null, 0.03326306907110358, 0.9634134967113761, null, 0.9048062973733813, 0.9634134967113761, null]}, {\"hoverinfo\": \"text\", \"marker\": {\"color\": \"rgb(255, 255, 255)\", \"line\": {\"color\": \"rgb(0, 0, 0)\", \"width\": 1}, \"size\": 19, \"symbol\": \"circle\"}, \"mode\": \"markers\", \"text\": [\"fake-colours\"], \"textfont\": {\"color\": \"rgb(0, 0, 0)\"}, \"textposition\": \"middle center\", \"type\": \"scatter\", \"x\": [0.4345090281079435], \"y\": [0.4593782106119921]}, {\"hoverinfo\": \"text\", \"marker\": {\"color\": \"rgb(255, 255, 255)\", \"line\": {\"color\": \"rgb(0, 0, 0)\", \"width\": 1}, \"size\": 5, \"symbol\": \"circle\"}, \"mode\": \"markers\", \"text\": [\"dimmdrive-gaming-ramdrive-10000-mbs\", \"my-talking-angela\", \"wrc-the-official-game\", \"perfect-glowing-bodies\", \"funeral\", \"tanktrouble-mobile-mayhem\", \"mlg-bouncing-simulator-2015\", \"extreme-motor-bike-ride-simulator-3d-steer-the-mot\", \"ice-age-avalanche\", \"best-casino-social-slots-fun\", \"brutal-donut\", \"pengu-the-flying-penguin-unforgettable-chilly-adve\", \"fruits-pair-festival-january\", \"no-idea-for-name\", \"armageddon-itch-4xisblack\", \"jashanoid\", \"death-duel-itch\"], \"textfont\": {\"color\": \"rgb(0, 0, 0)\"}, \"textposition\": \"middle center\", \"type\": \"scatter\", \"x\": [1.0, 0.33239219284119853, 0.3123022351318256, 0.18311142017773385, 0.5871034422047626, 0.7888550970109461, 0.7107096970417327, 0.0, 0.6642528576863342, 0.8645720639141482, 0.03157773807641793, 0.5440276982055968, 0.21003044817690028, 0.3168784177256874, 0.6860230007861732, 0.4110704233781168, 0.5588677725774479], \"y\": [0.260107933190082, 0.43979675818890257, 0.8937014346145647, 0.9763397517884504, 0.41321624722164046, 0.23209241403306768, 0.7904967335858123, 0.16405071833245727, 0.31653756377221937, 1.0, 0.40487069253595, 0.03326306907110358, 0.9048062973733813, 0.0, 0.6629098555321193, 0.7050235652463799, 0.1653114162750431]}, {\"hoverinfo\": \"text\", \"marker\": {\"color\": \"rgb(255, 255, 255)\", \"line\": {\"color\": \"rgb(0, 0, 0)\", \"width\": 1}, \"size\": 30, \"symbol\": \"circle\"}, \"mode\": \"markers\", \"text\": [\"i-wanna-be-the-co-op\"], \"textfont\": {\"color\": \"rgb(0, 0, 0)\"}, \"textposition\": \"middle center\", \"type\": \"scatter\", \"x\": [0.20928663519622037], \"y\": [0.4595135486339741]}, {\"hoverinfo\": \"text\", \"marker\": {\"color\": \"rgb(255, 255, 255)\", \"line\": {\"color\": \"rgb(0, 0, 0)\", \"width\": 1}, \"size\": 50, \"symbol\": \"circle\"}, \"mode\": \"markers\", \"text\": [\"lunar-lander-relaunched\"], \"textfont\": {\"color\": \"rgb(0, 0, 0)\"}, \"textposition\": \"middle center\", \"type\": \"scatter\", \"x\": [0.8949484139927812], \"y\": [0.9634134967113761]}, {\"hoverinfo\": \"none\", \"mode\": \"text\", \"text\": [], \"textfont\": {\"color\": \"rgb(255, 255, 255)\"}, \"textposition\": \"middle center\", \"type\": \"scatter\", \"x\": [], \"y\": []}, {\"hoverinfo\": \"none\", \"mode\": \"text\", \"text\": [null, null, null, null, null, null, null, null, null, null, null, null, null, null, null, null, null, null, null, null], \"textfont\": {\"color\": \"rgb(0, 0, 0)\"}, \"textposition\": \"middle center\", \"type\": \"scatter\", \"x\": [0.4345090281079435, 1.0, 0.33239219284119853, 0.3123022351318256, 0.20928663519622037, 0.18311142017773385, 0.5871034422047626, 0.7888550970109461, 0.7107096970417327, 0.0, 0.6642528576863342, 0.8645720639141482, 0.03157773807641793, 0.5440276982055968, 0.21003044817690028, 0.8949484139927812, 0.3168784177256874, 0.6860230007861732, 0.4110704233781168, 0.5588677725774479], \"y\": [0.4593782106119921, 0.260107933190082, 0.43979675818890257, 0.8937014346145647, 0.4595135486339741, 0.9763397517884504, 0.41321624722164046, 0.23209241403306768, 0.7904967335858123, 0.16405071833245727, 0.31653756377221937, 1.0, 0.40487069253595, 0.03326306907110358, 0.9048062973733813, 0.9634134967113761, 0.0, 0.6629098555321193, 0.7050235652463799, 0.1653114162750431]}, {\"hoverinfo\": \"none\", \"mode\": \"text\", \"text\": [null, null, null, null, null, null, null, null, null, null, null, null, null, null, null, null, null, null, null, null, null, null, null, null, null, null, null, null, null, null, null, null, null, null, null, null, null, null, null, null, null, null, null, null, null, null, null, null, null, null, null, null, null, null, null, null, null, null, null, null, null, null, null], \"textfont\": {\"color\": \"rgb(0, 0, 0)\"}, \"textposition\": \"middle center\", \"type\": \"scatter\", \"x\": [0.719975898509585, 0.32189310542342264, 0.2980687441265936, 0.5647263021361049, 0.657343386251834, 0.4086353197016077, 0.6026784855357618, 0.585338713608951, 0.8451768487959735, 0.7000443857339507, 0.3080261321198282, 0.5640964066479606, 0.17213696843488072, 0.5011852131712464, 0.591308595126628, 0.18289630885366817, 0.44862145227670375, 0.25826190743975636, 0.6071474818776449, 0.5592722957548208, 0.1674698046088435, 0.49787553806903834, 0.5869316341526626, 0.18185340947422735, 0.44105707674764844, 0.26031383453565754, 0.6026862934182843, 0.1818923119251286, 0.45511546776184614, 0.546755031973874, 0.44438714519686284, 0.30221390837716977, 0.4496308922398166, 0.3049341610330466, 0.39510519129320887, 0.7215564650920387, 0.8125733181313715, 0.4084357636620153, 0.6722780525020899, 0.49173038738814, 0.8280133620261594, 0.5631067570659852, 0.33033498536063266, 0.425564705620529, 0.0018163206810339026, 0.2738885139685761, 0.09225719085032612, 0.4411631127548986, 0.7517459519180664, 0.3468203723069034, 0.6154951432431606, 0.4288319002365682, 0.7675621916265117, 0.4533081233664953, 0.7165891205216421, 0.538441520139325, 0.8876690167592829, 0.29310379823956534, 0.10876887867324193, 0.4584667433855303, 0.36525885777987427, 0.7076577245596689, 0.5518171622388409], \"y\": [0.3855146835291872, 0.43319916188289326, 0.7004274491682918, 0.6468809081882937, 0.7339097281452296, 0.5776939313170779, 0.33381060253436434, 0.5945614658234231, 0.5067768096870983, 0.4583112726595661, 0.6646338609308886, 0.36141308936560146, 0.2780258099037204, 0.4038876360091543, 0.7426396362856997, 0.3961398586485938, 0.2546172286064224, 0.6609304295587182, 0.7249911538198359, 0.5837937023204022, 0.5127092543788762, 0.6246508147363001, 0.9729529487483216, 0.6302877976726249, 0.475068598681695, 0.8730533894381103, 0.9547480686539558, 0.7155086618262084, 0.6496897810576838, 0.7358136290509606, 0.5867706108877141, 0.6041134887210671, 0.9091902245358038, 0.8626726614307954, 0.17185405536200093, 0.24970714670723124, 0.6206989626656486, 0.2924371825621164, 0.10869426815266048, 0.5463044483825079, 0.6044765337856899, 0.7218276864678745, 0.26633604247437237, 0.6052230512440464, 0.2905748071824634, 0.12467923961323749, 0.5464999618913515, 0.5873112102271305, 0.6706577005066404, 0.33453373360932026, 0.15881837770834467, 0.5892603159889065, 0.6543025918391866, 0.6779915631118885, 0.5030335866459466, 0.9262392160919835, 1.0036192815615863, 0.24346182017283463, 0.6691746088017736, 0.7088831747970843, 0.45398224348513944, 0.5132326227736361, 0.9603278695436556]}, {\"hoverinfo\": \"none\", \"marker\": {\"color\": \"rgba(255, 255, 255, 0)\", \"line\": {\"color\": \"rgba(255, 255, 255, 0)\", \"width\": 0}, \"size\": 0, \"symbol\": \"circle\"}, \"mode\": \"markers\", \"type\": \"scatter\", \"x\": [0.5, 0.0, 1.0, 0.5], \"y\": [0.0, 0.5, 0.5, 1.0]}],                        {\"height\": 450, \"hovermode\": \"closest\", \"margin\": {\"b\": 10, \"l\": 10, \"r\": 10, \"t\": 10}, \"plot_bgcolor\": \"rgb(255, 255, 255)\", \"showlegend\": false, \"template\": {\"data\": {\"bar\": [{\"error_x\": {\"color\": \"#2a3f5f\"}, \"error_y\": {\"color\": \"#2a3f5f\"}, \"marker\": {\"line\": {\"color\": \"#E5ECF6\", \"width\": 0.5}}, \"type\": \"bar\"}], \"barpolar\": [{\"marker\": {\"line\": {\"color\": \"#E5ECF6\", \"width\": 0.5}}, \"type\": \"barpolar\"}], \"carpet\": [{\"aaxis\": {\"endlinecolor\": \"#2a3f5f\", \"gridcolor\": \"white\", \"linecolor\": \"white\", \"minorgridcolor\": \"white\", \"startlinecolor\": \"#2a3f5f\"}, \"baxis\": {\"endlinecolor\": \"#2a3f5f\", \"gridcolor\": \"white\", \"linecolor\": \"white\", \"minorgridcolor\": \"white\", \"startlinecolor\": \"#2a3f5f\"}, \"type\": \"carpet\"}], \"choropleth\": [{\"colorbar\": {\"outlinewidth\": 0, \"ticks\": \"\"}, \"type\": \"choropleth\"}], \"contour\": [{\"colorbar\": {\"outlinewidth\": 0, \"ticks\": \"\"}, \"colorscale\": [[0.0, \"#0d0887\"], [0.1111111111111111, \"#46039f\"], [0.2222222222222222, \"#7201a8\"], [0.3333333333333333, \"#9c179e\"], [0.4444444444444444, \"#bd3786\"], [0.5555555555555556, \"#d8576b\"], [0.6666666666666666, \"#ed7953\"], [0.7777777777777778, \"#fb9f3a\"], [0.8888888888888888, \"#fdca26\"], [1.0, \"#f0f921\"]], \"type\": \"contour\"}], \"contourcarpet\": [{\"colorbar\": {\"outlinewidth\": 0, \"ticks\": \"\"}, \"type\": \"contourcarpet\"}], \"heatmap\": [{\"colorbar\": {\"outlinewidth\": 0, \"ticks\": \"\"}, \"colorscale\": [[0.0, \"#0d0887\"], [0.1111111111111111, \"#46039f\"], [0.2222222222222222, \"#7201a8\"], [0.3333333333333333, \"#9c179e\"], [0.4444444444444444, \"#bd3786\"], [0.5555555555555556, \"#d8576b\"], [0.6666666666666666, \"#ed7953\"], [0.7777777777777778, \"#fb9f3a\"], [0.8888888888888888, \"#fdca26\"], [1.0, \"#f0f921\"]], \"type\": \"heatmap\"}], \"heatmapgl\": [{\"colorbar\": {\"outlinewidth\": 0, \"ticks\": \"\"}, \"colorscale\": [[0.0, \"#0d0887\"], [0.1111111111111111, \"#46039f\"], [0.2222222222222222, \"#7201a8\"], [0.3333333333333333, \"#9c179e\"], [0.4444444444444444, \"#bd3786\"], [0.5555555555555556, \"#d8576b\"], [0.6666666666666666, \"#ed7953\"], [0.7777777777777778, \"#fb9f3a\"], [0.8888888888888888, \"#fdca26\"], [1.0, \"#f0f921\"]], \"type\": \"heatmapgl\"}], \"histogram\": [{\"marker\": {\"colorbar\": {\"outlinewidth\": 0, \"ticks\": \"\"}}, \"type\": \"histogram\"}], \"histogram2d\": [{\"colorbar\": {\"outlinewidth\": 0, \"ticks\": \"\"}, \"colorscale\": [[0.0, \"#0d0887\"], [0.1111111111111111, \"#46039f\"], [0.2222222222222222, \"#7201a8\"], [0.3333333333333333, \"#9c179e\"], [0.4444444444444444, \"#bd3786\"], [0.5555555555555556, \"#d8576b\"], [0.6666666666666666, \"#ed7953\"], [0.7777777777777778, \"#fb9f3a\"], [0.8888888888888888, \"#fdca26\"], [1.0, \"#f0f921\"]], \"type\": \"histogram2d\"}], \"histogram2dcontour\": [{\"colorbar\": {\"outlinewidth\": 0, \"ticks\": \"\"}, \"colorscale\": [[0.0, \"#0d0887\"], [0.1111111111111111, \"#46039f\"], [0.2222222222222222, \"#7201a8\"], [0.3333333333333333, \"#9c179e\"], [0.4444444444444444, \"#bd3786\"], [0.5555555555555556, \"#d8576b\"], [0.6666666666666666, \"#ed7953\"], [0.7777777777777778, \"#fb9f3a\"], [0.8888888888888888, \"#fdca26\"], [1.0, \"#f0f921\"]], \"type\": \"histogram2dcontour\"}], \"mesh3d\": [{\"colorbar\": {\"outlinewidth\": 0, \"ticks\": \"\"}, \"type\": \"mesh3d\"}], \"parcoords\": [{\"line\": {\"colorbar\": {\"outlinewidth\": 0, \"ticks\": \"\"}}, \"type\": \"parcoords\"}], \"pie\": [{\"automargin\": true, \"type\": \"pie\"}], \"scatter\": [{\"marker\": {\"colorbar\": {\"outlinewidth\": 0, \"ticks\": \"\"}}, \"type\": \"scatter\"}], \"scatter3d\": [{\"line\": {\"colorbar\": {\"outlinewidth\": 0, \"ticks\": \"\"}}, \"marker\": {\"colorbar\": {\"outlinewidth\": 0, \"ticks\": \"\"}}, \"type\": \"scatter3d\"}], \"scattercarpet\": [{\"marker\": {\"colorbar\": {\"outlinewidth\": 0, \"ticks\": \"\"}}, \"type\": \"scattercarpet\"}], \"scattergeo\": [{\"marker\": {\"colorbar\": {\"outlinewidth\": 0, \"ticks\": \"\"}}, \"type\": \"scattergeo\"}], \"scattergl\": [{\"marker\": {\"colorbar\": {\"outlinewidth\": 0, \"ticks\": \"\"}}, \"type\": \"scattergl\"}], \"scattermapbox\": [{\"marker\": {\"colorbar\": {\"outlinewidth\": 0, \"ticks\": \"\"}}, \"type\": \"scattermapbox\"}], \"scatterpolar\": [{\"marker\": {\"colorbar\": {\"outlinewidth\": 0, \"ticks\": \"\"}}, \"type\": \"scatterpolar\"}], \"scatterpolargl\": [{\"marker\": {\"colorbar\": {\"outlinewidth\": 0, \"ticks\": \"\"}}, \"type\": \"scatterpolargl\"}], \"scatterternary\": [{\"marker\": {\"colorbar\": {\"outlinewidth\": 0, \"ticks\": \"\"}}, \"type\": \"scatterternary\"}], \"surface\": [{\"colorbar\": {\"outlinewidth\": 0, \"ticks\": \"\"}, \"colorscale\": [[0.0, \"#0d0887\"], [0.1111111111111111, \"#46039f\"], [0.2222222222222222, \"#7201a8\"], [0.3333333333333333, \"#9c179e\"], [0.4444444444444444, \"#bd3786\"], [0.5555555555555556, \"#d8576b\"], [0.6666666666666666, \"#ed7953\"], [0.7777777777777778, \"#fb9f3a\"], [0.8888888888888888, \"#fdca26\"], [1.0, \"#f0f921\"]], \"type\": \"surface\"}], \"table\": [{\"cells\": {\"fill\": {\"color\": \"#EBF0F8\"}, \"line\": {\"color\": \"white\"}}, \"header\": {\"fill\": {\"color\": \"#C8D4E3\"}, \"line\": {\"color\": \"white\"}}, \"type\": \"table\"}]}, \"layout\": {\"annotationdefaults\": {\"arrowcolor\": \"#2a3f5f\", \"arrowhead\": 0, \"arrowwidth\": 1}, \"coloraxis\": {\"colorbar\": {\"outlinewidth\": 0, \"ticks\": \"\"}}, \"colorscale\": {\"diverging\": [[0, \"#8e0152\"], [0.1, \"#c51b7d\"], [0.2, \"#de77ae\"], [0.3, \"#f1b6da\"], [0.4, \"#fde0ef\"], [0.5, \"#f7f7f7\"], [0.6, \"#e6f5d0\"], [0.7, \"#b8e186\"], [0.8, \"#7fbc41\"], [0.9, \"#4d9221\"], [1, \"#276419\"]], \"sequential\": [[0.0, \"#0d0887\"], [0.1111111111111111, \"#46039f\"], [0.2222222222222222, \"#7201a8\"], [0.3333333333333333, \"#9c179e\"], [0.4444444444444444, \"#bd3786\"], [0.5555555555555556, \"#d8576b\"], [0.6666666666666666, \"#ed7953\"], [0.7777777777777778, \"#fb9f3a\"], [0.8888888888888888, \"#fdca26\"], [1.0, \"#f0f921\"]], \"sequentialminus\": [[0.0, \"#0d0887\"], [0.1111111111111111, \"#46039f\"], [0.2222222222222222, \"#7201a8\"], [0.3333333333333333, \"#9c179e\"], [0.4444444444444444, \"#bd3786\"], [0.5555555555555556, \"#d8576b\"], [0.6666666666666666, \"#ed7953\"], [0.7777777777777778, \"#fb9f3a\"], [0.8888888888888888, \"#fdca26\"], [1.0, \"#f0f921\"]]}, \"colorway\": [\"#636efa\", \"#EF553B\", \"#00cc96\", \"#ab63fa\", \"#FFA15A\", \"#19d3f3\", \"#FF6692\", \"#B6E880\", \"#FF97FF\", \"#FECB52\"], \"font\": {\"color\": \"#2a3f5f\"}, \"geo\": {\"bgcolor\": \"white\", \"lakecolor\": \"white\", \"landcolor\": \"#E5ECF6\", \"showlakes\": true, \"showland\": true, \"subunitcolor\": \"white\"}, \"hoverlabel\": {\"align\": \"left\"}, \"hovermode\": \"closest\", \"mapbox\": {\"style\": \"light\"}, \"paper_bgcolor\": \"white\", \"plot_bgcolor\": \"#E5ECF6\", \"polar\": {\"angularaxis\": {\"gridcolor\": \"white\", \"linecolor\": \"white\", \"ticks\": \"\"}, \"bgcolor\": \"#E5ECF6\", \"radialaxis\": {\"gridcolor\": \"white\", \"linecolor\": \"white\", \"ticks\": \"\"}}, \"scene\": {\"xaxis\": {\"backgroundcolor\": \"#E5ECF6\", \"gridcolor\": \"white\", \"gridwidth\": 2, \"linecolor\": \"white\", \"showbackground\": true, \"ticks\": \"\", \"zerolinecolor\": \"white\"}, \"yaxis\": {\"backgroundcolor\": \"#E5ECF6\", \"gridcolor\": \"white\", \"gridwidth\": 2, \"linecolor\": \"white\", \"showbackground\": true, \"ticks\": \"\", \"zerolinecolor\": \"white\"}, \"zaxis\": {\"backgroundcolor\": \"#E5ECF6\", \"gridcolor\": \"white\", \"gridwidth\": 2, \"linecolor\": \"white\", \"showbackground\": true, \"ticks\": \"\", \"zerolinecolor\": \"white\"}}, \"shapedefaults\": {\"line\": {\"color\": \"#2a3f5f\"}}, \"ternary\": {\"aaxis\": {\"gridcolor\": \"white\", \"linecolor\": \"white\", \"ticks\": \"\"}, \"baxis\": {\"gridcolor\": \"white\", \"linecolor\": \"white\", \"ticks\": \"\"}, \"bgcolor\": \"#E5ECF6\", \"caxis\": {\"gridcolor\": \"white\", \"linecolor\": \"white\", \"ticks\": \"\"}}, \"title\": {\"x\": 0.05}, \"xaxis\": {\"automargin\": true, \"gridcolor\": \"white\", \"linecolor\": \"white\", \"ticks\": \"\", \"title\": {\"standoff\": 15}, \"zerolinecolor\": \"white\", \"zerolinewidth\": 2}, \"yaxis\": {\"automargin\": true, \"gridcolor\": \"white\", \"linecolor\": \"white\", \"ticks\": \"\", \"title\": {\"standoff\": 15}, \"zerolinecolor\": \"white\", \"zerolinewidth\": 2}}}, \"width\": 800, \"xaxis\": {\"showgrid\": false, \"showticklabels\": false, \"zeroline\": false}, \"yaxis\": {\"showgrid\": false, \"showticklabels\": false, \"zeroline\": false}},                        {\"displayModeBar\": false, \"responsive\": true}                    ).then(function(){\n                            \nvar gd = document.getElementById('53cbebf6-c11b-4d3e-abf7-9498247a719f');\nvar x = new MutationObserver(function (mutations, observer) {{\n        var display = window.getComputedStyle(gd).display;\n        if (!display || display === 'none') {{\n            console.log([gd, 'removed!']);\n            Plotly.purge(gd);\n            observer.disconnect();\n        }}\n}});\n\n// Listen for the removal of the full notebook cells\nvar notebookContainer = gd.closest('#notebook-container');\nif (notebookContainer) {{\n    x.observe(notebookContainer, {childList: true});\n}}\n\n// Listen for the clearing of the current output cell\nvar outputEl = gd.closest('.output');\nif (outputEl) {{\n    x.observe(outputEl, {childList: true});\n}}\n\n                        })                };                });            </script>        </div>"
     },
     "metadata": {}
    },
    {
     "output_type": "error",
     "ename": "TypeError",
     "evalue": "unsupported operand type(s) for /: 'list' and 'int'",
     "traceback": [
      "\u001b[1;31m---------------------------------------------------------------------------\u001b[0m",
      "\u001b[1;31mTypeError\u001b[0m                                 Traceback (most recent call last)",
      "\u001b[1;32m<ipython-input-1-c038ca124a96>\u001b[0m in \u001b[0;36m<module>\u001b[1;34m\u001b[0m\n\u001b[0;32m    178\u001b[0m \u001b[1;33m\u001b[0m\u001b[0m\n\u001b[0;32m    179\u001b[0m \u001b[1;32mif\u001b[0m \u001b[0m__name__\u001b[0m \u001b[1;33m==\u001b[0m \u001b[1;34m\"__main__\"\u001b[0m\u001b[1;33m:\u001b[0m\u001b[1;33m\u001b[0m\u001b[1;33m\u001b[0m\u001b[0m\n\u001b[1;32m--> 180\u001b[1;33m     \u001b[0mmain\u001b[0m\u001b[1;33m(\u001b[0m\u001b[1;33m)\u001b[0m\u001b[1;33m\u001b[0m\u001b[1;33m\u001b[0m\u001b[0m\n\u001b[0m",
      "\u001b[1;32m<ipython-input-1-c038ca124a96>\u001b[0m in \u001b[0;36mmain\u001b[1;34m()\u001b[0m\n\u001b[0;32m    173\u001b[0m     \u001b[0my_rv\u001b[0m \u001b[1;33m=\u001b[0m \u001b[1;33m[\u001b[0m\u001b[1;33m]\u001b[0m\u001b[1;33m\u001b[0m\u001b[1;33m\u001b[0m\u001b[0m\n\u001b[0;32m    174\u001b[0m     \u001b[0mgen_x_y\u001b[0m\u001b[1;33m(\u001b[0m\u001b[0mrawg_data\u001b[0m\u001b[1;33m,\u001b[0m \u001b[0mx_tag\u001b[0m\u001b[1;33m,\u001b[0m \u001b[0my_rv\u001b[0m\u001b[1;33m)\u001b[0m\u001b[1;33m\u001b[0m\u001b[1;33m\u001b[0m\u001b[0m\n\u001b[1;32m--> 175\u001b[1;33m     \u001b[0mt2\u001b[0m\u001b[1;33m,\u001b[0m \u001b[0mp2\u001b[0m \u001b[1;33m=\u001b[0m \u001b[0mstats\u001b[0m\u001b[1;33m.\u001b[0m\u001b[0mttest_ind\u001b[0m\u001b[1;33m(\u001b[0m\u001b[0mx_tag\u001b[0m\u001b[1;33m,\u001b[0m \u001b[0my_rv\u001b[0m\u001b[1;33m)\u001b[0m\u001b[1;33m\u001b[0m\u001b[1;33m\u001b[0m\u001b[0m\n\u001b[0m\u001b[0;32m    176\u001b[0m     \u001b[0mprint\u001b[0m\u001b[1;33m(\u001b[0m\u001b[1;34m\"t = \"\u001b[0m \u001b[1;33m+\u001b[0m \u001b[0mstr\u001b[0m\u001b[1;33m(\u001b[0m\u001b[0mt2\u001b[0m\u001b[1;33m)\u001b[0m\u001b[1;33m)\u001b[0m\u001b[1;33m\u001b[0m\u001b[1;33m\u001b[0m\u001b[0m\n\u001b[0;32m    177\u001b[0m     \u001b[0mprint\u001b[0m\u001b[1;33m(\u001b[0m\u001b[1;34m\"p = \"\u001b[0m \u001b[1;33m+\u001b[0m \u001b[0mstr\u001b[0m\u001b[1;33m(\u001b[0m\u001b[0mp2\u001b[0m\u001b[1;33m)\u001b[0m\u001b[1;33m)\u001b[0m\u001b[1;33m\u001b[0m\u001b[1;33m\u001b[0m\u001b[0m\n",
      "\u001b[1;32m~\\AppData\\Local\\Programs\\Python\\Python38-32\\lib\\site-packages\\scipy\\stats\\stats.py\u001b[0m in \u001b[0;36mttest_ind\u001b[1;34m(a, b, axis, equal_var, nan_policy)\u001b[0m\n\u001b[0;32m   5640\u001b[0m         \u001b[1;32mreturn\u001b[0m \u001b[0m_ttest_nans\u001b[0m\u001b[1;33m(\u001b[0m\u001b[0ma\u001b[0m\u001b[1;33m,\u001b[0m \u001b[0mb\u001b[0m\u001b[1;33m,\u001b[0m \u001b[0maxis\u001b[0m\u001b[1;33m,\u001b[0m \u001b[0mTtest_indResult\u001b[0m\u001b[1;33m)\u001b[0m\u001b[1;33m\u001b[0m\u001b[1;33m\u001b[0m\u001b[0m\n\u001b[0;32m   5641\u001b[0m \u001b[1;33m\u001b[0m\u001b[0m\n\u001b[1;32m-> 5642\u001b[1;33m     \u001b[0mv1\u001b[0m \u001b[1;33m=\u001b[0m \u001b[0mnp\u001b[0m\u001b[1;33m.\u001b[0m\u001b[0mvar\u001b[0m\u001b[1;33m(\u001b[0m\u001b[0ma\u001b[0m\u001b[1;33m,\u001b[0m \u001b[0maxis\u001b[0m\u001b[1;33m,\u001b[0m \u001b[0mddof\u001b[0m\u001b[1;33m=\u001b[0m\u001b[1;36m1\u001b[0m\u001b[1;33m)\u001b[0m\u001b[1;33m\u001b[0m\u001b[1;33m\u001b[0m\u001b[0m\n\u001b[0m\u001b[0;32m   5643\u001b[0m     \u001b[0mv2\u001b[0m \u001b[1;33m=\u001b[0m \u001b[0mnp\u001b[0m\u001b[1;33m.\u001b[0m\u001b[0mvar\u001b[0m\u001b[1;33m(\u001b[0m\u001b[0mb\u001b[0m\u001b[1;33m,\u001b[0m \u001b[0maxis\u001b[0m\u001b[1;33m,\u001b[0m \u001b[0mddof\u001b[0m\u001b[1;33m=\u001b[0m\u001b[1;36m1\u001b[0m\u001b[1;33m)\u001b[0m\u001b[1;33m\u001b[0m\u001b[1;33m\u001b[0m\u001b[0m\n\u001b[0;32m   5644\u001b[0m     \u001b[0mn1\u001b[0m \u001b[1;33m=\u001b[0m \u001b[0ma\u001b[0m\u001b[1;33m.\u001b[0m\u001b[0mshape\u001b[0m\u001b[1;33m[\u001b[0m\u001b[0maxis\u001b[0m\u001b[1;33m]\u001b[0m\u001b[1;33m\u001b[0m\u001b[1;33m\u001b[0m\u001b[0m\n",
      "\u001b[1;32m<__array_function__ internals>\u001b[0m in \u001b[0;36mvar\u001b[1;34m(*args, **kwargs)\u001b[0m\n",
      "\u001b[1;32m~\\AppData\\Local\\Programs\\Python\\Python38-32\\lib\\site-packages\\numpy\\core\\fromnumeric.py\u001b[0m in \u001b[0;36mvar\u001b[1;34m(a, axis, dtype, out, ddof, keepdims)\u001b[0m\n\u001b[0;32m   3619\u001b[0m             \u001b[1;32mreturn\u001b[0m \u001b[0mvar\u001b[0m\u001b[1;33m(\u001b[0m\u001b[0maxis\u001b[0m\u001b[1;33m=\u001b[0m\u001b[0maxis\u001b[0m\u001b[1;33m,\u001b[0m \u001b[0mdtype\u001b[0m\u001b[1;33m=\u001b[0m\u001b[0mdtype\u001b[0m\u001b[1;33m,\u001b[0m \u001b[0mout\u001b[0m\u001b[1;33m=\u001b[0m\u001b[0mout\u001b[0m\u001b[1;33m,\u001b[0m \u001b[0mddof\u001b[0m\u001b[1;33m=\u001b[0m\u001b[0mddof\u001b[0m\u001b[1;33m,\u001b[0m \u001b[1;33m**\u001b[0m\u001b[0mkwargs\u001b[0m\u001b[1;33m)\u001b[0m\u001b[1;33m\u001b[0m\u001b[1;33m\u001b[0m\u001b[0m\n\u001b[0;32m   3620\u001b[0m \u001b[1;33m\u001b[0m\u001b[0m\n\u001b[1;32m-> 3621\u001b[1;33m     return _methods._var(a, axis=axis, dtype=dtype, out=out, ddof=ddof,\n\u001b[0m\u001b[0;32m   3622\u001b[0m                          **kwargs)\n\u001b[0;32m   3623\u001b[0m \u001b[1;33m\u001b[0m\u001b[0m\n",
      "\u001b[1;32m~\\AppData\\Local\\Programs\\Python\\Python38-32\\lib\\site-packages\\numpy\\core\\_methods.py\u001b[0m in \u001b[0;36m_var\u001b[1;34m(a, axis, dtype, out, ddof, keepdims)\u001b[0m\n\u001b[0;32m    192\u001b[0m     \u001b[0marrmean\u001b[0m \u001b[1;33m=\u001b[0m \u001b[0mumr_sum\u001b[0m\u001b[1;33m(\u001b[0m\u001b[0marr\u001b[0m\u001b[1;33m,\u001b[0m \u001b[0maxis\u001b[0m\u001b[1;33m,\u001b[0m \u001b[0mdtype\u001b[0m\u001b[1;33m,\u001b[0m \u001b[0mkeepdims\u001b[0m\u001b[1;33m=\u001b[0m\u001b[1;32mTrue\u001b[0m\u001b[1;33m)\u001b[0m\u001b[1;33m\u001b[0m\u001b[1;33m\u001b[0m\u001b[0m\n\u001b[0;32m    193\u001b[0m     \u001b[1;32mif\u001b[0m \u001b[0misinstance\u001b[0m\u001b[1;33m(\u001b[0m\u001b[0marrmean\u001b[0m\u001b[1;33m,\u001b[0m \u001b[0mmu\u001b[0m\u001b[1;33m.\u001b[0m\u001b[0mndarray\u001b[0m\u001b[1;33m)\u001b[0m\u001b[1;33m:\u001b[0m\u001b[1;33m\u001b[0m\u001b[1;33m\u001b[0m\u001b[0m\n\u001b[1;32m--> 194\u001b[1;33m         arrmean = um.true_divide(\n\u001b[0m\u001b[0;32m    195\u001b[0m                 arrmean, rcount, out=arrmean, casting='unsafe', subok=False)\n\u001b[0;32m    196\u001b[0m     \u001b[1;32melse\u001b[0m\u001b[1;33m:\u001b[0m\u001b[1;33m\u001b[0m\u001b[1;33m\u001b[0m\u001b[0m\n",
      "\u001b[1;31mTypeError\u001b[0m: unsupported operand type(s) for /: 'list' and 'int'"
     ]
    }
   ],
   "source": [
    "import http.client\n",
    "import networkx as nx\n",
    "import freeman as fm\n",
    "from json import loads\n",
    "from scipy import stats\n",
    "from unidecode import unidecode\n",
    "\n",
    "# https://api.rawg.io/docs/#operation/games_list\n",
    "\n",
    "# game_nodes = {\n",
    "#     id: {name: name, list: [l]},\n",
    "#     id: {name: name, list: [l]},\n",
    "#     id: {name: name, list: [l]}\n",
    "# }\n",
    "\n",
    "# game_edges = {\n",
    "#     id: { \n",
    "#           l : peso,\n",
    "#           l : peso,\n",
    "#         },\n",
    "#     id: { \n",
    "#           l : peso,\n",
    "#           l : peso,\n",
    "#         },\n",
    "#     id: { \n",
    "#           l : peso,\n",
    "#           l : peso,\n",
    "#         },\n",
    "# }\n",
    "\n",
    "def get_rawg_api_endpoint(endpoint, conn, h) -> str:\n",
    "    conn.request(\"GET\", endpoint, headers=h)\n",
    "    return loads(conn.getresponse().read())\n",
    "\n",
    "def rawg_api_connection() -> None:\n",
    "    conn = http.client.HTTPSConnection(\"rawg-video-games-database.p.rapidapi.com\")\n",
    "    headers = {\n",
    "        'x-rapidapi-host': \"rawg-video-games-database.p.rapidapi.com\",\n",
    "        'x-rapidapi-key': \"c665cc5f66mshee40894946e0d28p1c5de7jsn49fab80d50ae\"\n",
    "        }\n",
    "\n",
    "    return conn, headers\n",
    "\n",
    "def gen_game_nodes(game_nodes, data, network_type) -> None:\n",
    "    for game in data[\"results\"]:\n",
    "        l = []\n",
    "\n",
    "        if network_type == 1:\n",
    "            for game_tag in game[\"tags\"]: l += [game_tag[\"slug\"]]\n",
    "\n",
    "        if network_type == 2:\n",
    "            if game[\"platforms\"] != None:\n",
    "                for game_platform in game[\"platforms\"]: l += [game_platform[\"platform\"][\"slug\"]]\n",
    "        \n",
    "        # deixar vazio se platform == null?\n",
    "        game_nodes[game[\"id\"]] = { \"name\" : game[\"slug\"], \"list\" : l }\n",
    "\n",
    "def gen_game_edges(game_nodes, game_edges) -> None:\n",
    "    for game1 in game_nodes:\n",
    "        targets = {}\n",
    "        \n",
    "        for game2 in game_nodes:\n",
    "            if game1 != game2:\n",
    "                for e in game_nodes[game1][\"list\"]:\n",
    "                    if e in game_nodes[game2][\"list\"] and game2 in game_edges and game1 not in game_edges[game2]:\n",
    "                        if game2 in targets:\n",
    "                            targets[game2] += 1\n",
    "                        else: \n",
    "                            targets[game2] = 0 \n",
    "        \n",
    "        game_edges[game1] = targets\n",
    "\n",
    "def build_gml(game_nodes, game_edges, network) -> None:\n",
    "\n",
    "    with open(network, 'w') as file:\n",
    "        file.write('graph [\\n')\n",
    "        file.write('  directed 0\\n')\n",
    "\n",
    "        for n in game_nodes.keys():\n",
    "            file.write('  node [\\n')\n",
    "            file.write('    id {}\\n'.format(n))\n",
    "            file.write('    name \"{}\"\\n'.format(unidecode(game_nodes[n][\"name\"])))\n",
    "            file.write('  ]\\n')\n",
    "\n",
    "        for n in game_edges.keys():\n",
    "            for m in game_edges[n].keys():\n",
    "                file.write('  edge [\\n')\n",
    "                file.write('    source {}\\n'.format(n))\n",
    "                file.write('    target {}\\n'.format(m))\n",
    "                file.write('    weight {}\\n'.format(game_edges[n][m]))\n",
    "                file.write('  ]\\n')\n",
    "\n",
    "        file.write(']\\n')\n",
    "\n",
    "def network_nx(network):  \n",
    "\n",
    "    g = fm.load(network)\n",
    "    g.label_nodes('name')\n",
    "    g.set_all_nodes(size=10, labpos='hover')\n",
    "    g.draw()\n",
    "    return g\n",
    "\n",
    "def betweeness_network(network):\n",
    "    bc = nx.betweenness_centrality(network)\n",
    "    network.scale_nodes_size(bc)\n",
    "    network.draw()\n",
    "\n",
    "def gen_x_y(data, x1, x2, y):\n",
    "    for game in data[\"results\"]:\n",
    "        lx1 = []\n",
    "        lx2 = []\n",
    "\n",
    "        for game_tag in game[\"tags\"]: lx1 += [game_tag[\"slug\"]]\n",
    "\n",
    "        if game[\"platforms\"] != None:\n",
    "            for game_platform in game[\"platforms\"]: lx2 += [game_platform[\"platform\"][\"slug\"]]\n",
    "\n",
    "        x1 += [lx1]\n",
    "        x2 += [lx2]\n",
    "        y += [game[\"rating\"] + game[\"ratings_count\"]]\n",
    "\n",
    "def main() -> None:\n",
    "    print(\"-------------------------------------------\")\n",
    "\n",
    "    # A. obter os dados (chamadas de API, parsing de CSV, etc.);\n",
    "    \n",
    "    # !: maximo de 20 jogos, talvez tenha que ser feito um for para pegar mais jogos.\n",
    "    rawg_connection, rawg_headers = rawg_api_connection()\n",
    "    rawg_data = get_rawg_api_endpoint(endpoint = \"/games?dates=2015-03-01,2015-03-01\", conn = rawg_connection, h = rawg_headers)\n",
    "    \n",
    "    # Rede 1: Nos: jogos; Arestas: jogos que compartilham a mesma categoria.\n",
    "    # B. construir a rede (escrever GML, carregar na NetworkX);\n",
    "    print(\"REDE 1\")\n",
    "    print(\"Nós: jogos;\")\n",
    "    print(\"Arestas: jogos que compartilham a mesma categoria;\")\n",
    "     \n",
    "    game_nodes = {}\n",
    "    game_edges = {}\n",
    "\n",
    "    gen_game_nodes(game_nodes, rawg_data, 1)\n",
    "    gen_game_edges(game_nodes, game_edges)\n",
    "    build_gml(game_nodes, game_edges, 'rede1.gml')\n",
    "    \n",
    "    g = network_nx('rede1.gml')\n",
    "\n",
    "    # C. calcular as métricas (chamar as funções vistas em aula ou outras);\n",
    "    betweeness_network(g)\n",
    "\n",
    "    # Rede 2: Nos: jogos; Arestas: jogos que compartilham a mesma plataforma de jogo.\n",
    "    # B. construir a rede (escrever GML, carregar na NetworkX);\n",
    "    print(\"REDE 2\")\n",
    "    print(\"Nós: jogos;\")\n",
    "    print(\"Arestas: jogos que compartilham a mesma plataforma de jogo;\")\n",
    "     \n",
    "    game_nodes = {}\n",
    "    game_edges = {}\n",
    "\n",
    "    gen_game_nodes(game_nodes, rawg_data, 2)\n",
    "    gen_game_edges(game_nodes, game_edges)\n",
    "    build_gml(game_nodes, game_edges, 'rede2.gml')\n",
    "    \n",
    "    g = network_nx('rede2.gml')\n",
    "\n",
    "    # C. calcular as métricas (chamar as funções vistas em aula ou outras);\n",
    "    betweeness_network(g)\n",
    "\n",
    "    # Rede 3: Nos: jogos; Arestas: jogos que compartilham mesma faixa de preco.\n",
    "    # Nao foi achado dados sobre o preco dos jogos nas diferentes plataformas na api.\n",
    "\n",
    "    # D. fazer os testes de hipótese (regressão, teste-t, etc.).\n",
    "    x_tag = []\n",
    "    x_platforms = []\n",
    "    y_rv = []\n",
    "    gen_x_y(rawg_data, x_tag, x_platforms, y_rv)\n",
    "\n",
    "    # nao esta funcionando o teste-t\n",
    "    # motivo: os x's sao uma lista que contem varias outras dentro.\n",
    "    #t2, p2 = stats.ttest_ind(x_tag, y_rv)\n",
    "    #print(\"t = \" + str(t2))\n",
    "    #print(\"p = \" + str(p2))\n",
    "\n",
    "if __name__ == \"__main__\":\n",
    "    main()"
   ]
  },
  {
   "cell_type": "code",
   "execution_count": null,
   "metadata": {},
   "outputs": [],
   "source": []
  }
 ],
 "metadata": {
  "kernelspec": {
   "display_name": "Python 3",
   "language": "python",
   "name": "python3"
  },
  "language_info": {
   "codemirror_mode": {
    "name": "ipython",
    "version": 3
   },
   "file_extension": ".py",
   "mimetype": "text/x-python",
   "name": "python",
   "nbconvert_exporter": "python",
   "pygments_lexer": "ipython3",
   "version": "3.8.3-final"
  }
 },
 "nbformat": 4,
 "nbformat_minor": 4
}