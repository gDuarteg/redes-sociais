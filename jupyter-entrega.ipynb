{
 "cells": [
  {
   "cell_type": "code",
   "execution_count": 2,
   "metadata": {
    "scrolled": false
   },
   "outputs": [
    {
     "output_type": "stream",
     "name": "stdout",
     "text": [
      "-------------------------------------------\n",
      "REDE 1\n",
      "Nós: jogos;\n",
      "Arestas: jogos que compartilham a mesma categoria;\n"
     ]
    },
    {
     "output_type": "display_data",
     "data": {
      "application/vnd.plotly.v1+json": {
       "config": {
        "displayModeBar": false,
        "linkText": "Export to plot.ly",
        "plotlyServerURL": "https://plot.ly",
        "showLink": false
       },
       "data": [
        {
         "hoverinfo": "none",
         "line": {
          "color": "rgb(127, 127, 127)",
          "dash": "solid",
          "width": 0
         },
         "mode": "lines",
         "type": "scatter",
         "x": [
          0.5100350785143586,
          0.5100350785143586,
          null,
          0,
          1,
          null
         ],
         "y": [
          0,
          1,
          null,
          0.5163856403664588,
          0.5163856403664588,
          null
         ]
        },
        {
         "hoverinfo": "none",
         "line": {
          "color": "rgb(0, 0, 0)",
          "dash": "solid",
          "width": 1
         },
         "mode": "lines",
         "type": "scatter",
         "x": [
          0.1331612477254179,
          0,
          null,
          0,
          0.07235341579694378,
          null
         ],
         "y": [
          0.8489906144317237,
          0.334564961920949,
          null,
          0.334564961920949,
          0.3238704559518399,
          null
         ]
        },
        {
         "hoverinfo": "text",
         "marker": {
          "color": "rgb(255, 255, 255)",
          "line": {
           "color": "rgb(0, 0, 0)",
           "width": 1
          },
          "size": 10,
          "symbol": "circle"
         },
         "mode": "markers",
         "text": [
          "super-intergalactic-gang",
          "aporia-darkmist-forest",
          "the-corridor",
          "spockadelic",
          "diamond-pusher",
          "tile-runner",
          "cherry-fm-demo",
          "ha-ni-ha-ni-luo-li-hua-zhuang-huan-zhuang-yue-hui-",
          "volk-i-semero-kozliat-zhivaia-i-dobraia-interaktiv",
          "teremok-zhivaia-i-dobraia-interaktivnaia-razvivaiu",
          "quatris-origins",
          "black-men",
          "table-warriors",
          "lb-khtbr-lgny-lb-dhk-lb-mgmrt",
          "space-rush",
          "snow-thy-enemy",
          "celestial-antodias",
          "deadhop",
          "flappyowen",
          "criminel"
         ],
         "textfont": {
          "color": "rgb(0, 0, 0)"
         },
         "textposition": "middle center",
         "type": "scatter",
         "x": [
          0.4128540105787203,
          0.6678276374263341,
          0.49129811459735295,
          0.19923018499263445,
          0.8739026975645874,
          0.26008826036260607,
          0.1331612477254179,
          0.3385640137822345,
          0.2066804141089036,
          0.29858278969049595,
          0.32871294603715656,
          1,
          0.898852244704716,
          0.3519237084789418,
          0,
          0.86743568907918,
          0.07235341579694378,
          0.5833300468773287,
          0.19383539357865304,
          0.6325649119651414
         ],
         "y": [
          1,
          0.10207837624870035,
          0.45268365198772315,
          0.11322933066658697,
          0.6328755236902099,
          0.7676452782060752,
          0.8489906144317237,
          0.6309745968735709,
          0.2599496755103504,
          0.42472213206656667,
          0.025350768715767434,
          0.5849979153699116,
          0.10528520773006977,
          0.16651203096889933,
          0.334564961920949,
          0.8824765403057616,
          0.3238704559518399,
          0.6367226285137244,
          0.03136926589966471,
          0
         ]
        },
        {
         "hoverinfo": "none",
         "mode": "text",
         "text": [],
         "textfont": {
          "color": "rgb(255, 255, 255)"
         },
         "textposition": "middle center",
         "type": "scatter",
         "x": [],
         "y": []
        },
        {
         "hoverinfo": "none",
         "mode": "text",
         "text": [
          null,
          null,
          null,
          null,
          null,
          null,
          null,
          null,
          null,
          null,
          null,
          null,
          null,
          null,
          null,
          null,
          null,
          null,
          null,
          null
         ],
         "textfont": {
          "color": "rgb(0, 0, 0)"
         },
         "textposition": "middle center",
         "type": "scatter",
         "x": [
          0.4128540105787203,
          0.6678276374263341,
          0.49129811459735295,
          0.19923018499263445,
          0.8739026975645874,
          0.26008826036260607,
          0.1331612477254179,
          0.3385640137822345,
          0.2066804141089036,
          0.29858278969049595,
          0.32871294603715656,
          1,
          0.898852244704716,
          0.3519237084789418,
          0,
          0.86743568907918,
          0.07235341579694378,
          0.5833300468773287,
          0.19383539357865304,
          0.6325649119651414
         ],
         "y": [
          1,
          0.10207837624870035,
          0.45268365198772315,
          0.11322933066658697,
          0.6328755236902099,
          0.7676452782060752,
          0.8489906144317237,
          0.6309745968735709,
          0.2599496755103504,
          0.42472213206656667,
          0.025350768715767434,
          0.5849979153699116,
          0.10528520773006977,
          0.16651203096889933,
          0.334564961920949,
          0.8824765403057616,
          0.3238704559518399,
          0.6367226285137244,
          0.03136926589966471,
          0
         ]
        },
        {
         "hoverinfo": "none",
         "mode": "text",
         "text": [
          null,
          null
         ],
         "textfont": {
          "color": "rgb(0, 0, 0)"
         },
         "textposition": "middle center",
         "type": "scatter",
         "x": [
          0.07956946388449604,
          0.03733546172071687
         ],
         "y": [
          0.5805577551722448,
          0.35537893052247427
         ]
        },
        {
         "hoverinfo": "none",
         "marker": {
          "color": "rgba(255, 255, 255, 0)",
          "line": {
           "color": "rgba(255, 255, 255, 0)",
           "width": 0
          },
          "size": 0,
          "symbol": "circle"
         },
         "mode": "markers",
         "type": "scatter",
         "x": [
          0.5,
          0,
          1,
          0.5
         ],
         "y": [
          0,
          0.5,
          0.5,
          1
         ]
        }
       ],
       "layout": {
        "height": 450,
        "hovermode": "closest",
        "margin": {
         "b": 10,
         "l": 10,
         "r": 10,
         "t": 10
        },
        "plot_bgcolor": "rgb(255, 255, 255)",
        "showlegend": false,
        "template": {
         "data": {
          "bar": [
           {
            "error_x": {
             "color": "#2a3f5f"
            },
            "error_y": {
             "color": "#2a3f5f"
            },
            "marker": {
             "line": {
              "color": "#E5ECF6",
              "width": 0.5
             }
            },
            "type": "bar"
           }
          ],
          "barpolar": [
           {
            "marker": {
             "line": {
              "color": "#E5ECF6",
              "width": 0.5
             }
            },
            "type": "barpolar"
           }
          ],
          "carpet": [
           {
            "aaxis": {
             "endlinecolor": "#2a3f5f",
             "gridcolor": "white",
             "linecolor": "white",
             "minorgridcolor": "white",
             "startlinecolor": "#2a3f5f"
            },
            "baxis": {
             "endlinecolor": "#2a3f5f",
             "gridcolor": "white",
             "linecolor": "white",
             "minorgridcolor": "white",
             "startlinecolor": "#2a3f5f"
            },
            "type": "carpet"
           }
          ],
          "choropleth": [
           {
            "colorbar": {
             "outlinewidth": 0,
             "ticks": ""
            },
            "type": "choropleth"
           }
          ],
          "contour": [
           {
            "colorbar": {
             "outlinewidth": 0,
             "ticks": ""
            },
            "colorscale": [
             [
              0,
              "#0d0887"
             ],
             [
              0.1111111111111111,
              "#46039f"
             ],
             [
              0.2222222222222222,
              "#7201a8"
             ],
             [
              0.3333333333333333,
              "#9c179e"
             ],
             [
              0.4444444444444444,
              "#bd3786"
             ],
             [
              0.5555555555555556,
              "#d8576b"
             ],
             [
              0.6666666666666666,
              "#ed7953"
             ],
             [
              0.7777777777777778,
              "#fb9f3a"
             ],
             [
              0.8888888888888888,
              "#fdca26"
             ],
             [
              1,
              "#f0f921"
             ]
            ],
            "type": "contour"
           }
          ],
          "contourcarpet": [
           {
            "colorbar": {
             "outlinewidth": 0,
             "ticks": ""
            },
            "type": "contourcarpet"
           }
          ],
          "heatmap": [
           {
            "colorbar": {
             "outlinewidth": 0,
             "ticks": ""
            },
            "colorscale": [
             [
              0,
              "#0d0887"
             ],
             [
              0.1111111111111111,
              "#46039f"
             ],
             [
              0.2222222222222222,
              "#7201a8"
             ],
             [
              0.3333333333333333,
              "#9c179e"
             ],
             [
              0.4444444444444444,
              "#bd3786"
             ],
             [
              0.5555555555555556,
              "#d8576b"
             ],
             [
              0.6666666666666666,
              "#ed7953"
             ],
             [
              0.7777777777777778,
              "#fb9f3a"
             ],
             [
              0.8888888888888888,
              "#fdca26"
             ],
             [
              1,
              "#f0f921"
             ]
            ],
            "type": "heatmap"
           }
          ],
          "heatmapgl": [
           {
            "colorbar": {
             "outlinewidth": 0,
             "ticks": ""
            },
            "colorscale": [
             [
              0,
              "#0d0887"
             ],
             [
              0.1111111111111111,
              "#46039f"
             ],
             [
              0.2222222222222222,
              "#7201a8"
             ],
             [
              0.3333333333333333,
              "#9c179e"
             ],
             [
              0.4444444444444444,
              "#bd3786"
             ],
             [
              0.5555555555555556,
              "#d8576b"
             ],
             [
              0.6666666666666666,
              "#ed7953"
             ],
             [
              0.7777777777777778,
              "#fb9f3a"
             ],
             [
              0.8888888888888888,
              "#fdca26"
             ],
             [
              1,
              "#f0f921"
             ]
            ],
            "type": "heatmapgl"
           }
          ],
          "histogram": [
           {
            "marker": {
             "colorbar": {
              "outlinewidth": 0,
              "ticks": ""
             }
            },
            "type": "histogram"
           }
          ],
          "histogram2d": [
           {
            "colorbar": {
             "outlinewidth": 0,
             "ticks": ""
            },
            "colorscale": [
             [
              0,
              "#0d0887"
             ],
             [
              0.1111111111111111,
              "#46039f"
             ],
             [
              0.2222222222222222,
              "#7201a8"
             ],
             [
              0.3333333333333333,
              "#9c179e"
             ],
             [
              0.4444444444444444,
              "#bd3786"
             ],
             [
              0.5555555555555556,
              "#d8576b"
             ],
             [
              0.6666666666666666,
              "#ed7953"
             ],
             [
              0.7777777777777778,
              "#fb9f3a"
             ],
             [
              0.8888888888888888,
              "#fdca26"
             ],
             [
              1,
              "#f0f921"
             ]
            ],
            "type": "histogram2d"
           }
          ],
          "histogram2dcontour": [
           {
            "colorbar": {
             "outlinewidth": 0,
             "ticks": ""
            },
            "colorscale": [
             [
              0,
              "#0d0887"
             ],
             [
              0.1111111111111111,
              "#46039f"
             ],
             [
              0.2222222222222222,
              "#7201a8"
             ],
             [
              0.3333333333333333,
              "#9c179e"
             ],
             [
              0.4444444444444444,
              "#bd3786"
             ],
             [
              0.5555555555555556,
              "#d8576b"
             ],
             [
              0.6666666666666666,
              "#ed7953"
             ],
             [
              0.7777777777777778,
              "#fb9f3a"
             ],
             [
              0.8888888888888888,
              "#fdca26"
             ],
             [
              1,
              "#f0f921"
             ]
            ],
            "type": "histogram2dcontour"
           }
          ],
          "mesh3d": [
           {
            "colorbar": {
             "outlinewidth": 0,
             "ticks": ""
            },
            "type": "mesh3d"
           }
          ],
          "parcoords": [
           {
            "line": {
             "colorbar": {
              "outlinewidth": 0,
              "ticks": ""
             }
            },
            "type": "parcoords"
           }
          ],
          "pie": [
           {
            "automargin": true,
            "type": "pie"
           }
          ],
          "scatter": [
           {
            "marker": {
             "colorbar": {
              "outlinewidth": 0,
              "ticks": ""
             }
            },
            "type": "scatter"
           }
          ],
          "scatter3d": [
           {
            "line": {
             "colorbar": {
              "outlinewidth": 0,
              "ticks": ""
             }
            },
            "marker": {
             "colorbar": {
              "outlinewidth": 0,
              "ticks": ""
             }
            },
            "type": "scatter3d"
           }
          ],
          "scattercarpet": [
           {
            "marker": {
             "colorbar": {
              "outlinewidth": 0,
              "ticks": ""
             }
            },
            "type": "scattercarpet"
           }
          ],
          "scattergeo": [
           {
            "marker": {
             "colorbar": {
              "outlinewidth": 0,
              "ticks": ""
             }
            },
            "type": "scattergeo"
           }
          ],
          "scattergl": [
           {
            "marker": {
             "colorbar": {
              "outlinewidth": 0,
              "ticks": ""
             }
            },
            "type": "scattergl"
           }
          ],
          "scattermapbox": [
           {
            "marker": {
             "colorbar": {
              "outlinewidth": 0,
              "ticks": ""
             }
            },
            "type": "scattermapbox"
           }
          ],
          "scatterpolar": [
           {
            "marker": {
             "colorbar": {
              "outlinewidth": 0,
              "ticks": ""
             }
            },
            "type": "scatterpolar"
           }
          ],
          "scatterpolargl": [
           {
            "marker": {
             "colorbar": {
              "outlinewidth": 0,
              "ticks": ""
             }
            },
            "type": "scatterpolargl"
           }
          ],
          "scatterternary": [
           {
            "marker": {
             "colorbar": {
              "outlinewidth": 0,
              "ticks": ""
             }
            },
            "type": "scatterternary"
           }
          ],
          "surface": [
           {
            "colorbar": {
             "outlinewidth": 0,
             "ticks": ""
            },
            "colorscale": [
             [
              0,
              "#0d0887"
             ],
             [
              0.1111111111111111,
              "#46039f"
             ],
             [
              0.2222222222222222,
              "#7201a8"
             ],
             [
              0.3333333333333333,
              "#9c179e"
             ],
             [
              0.4444444444444444,
              "#bd3786"
             ],
             [
              0.5555555555555556,
              "#d8576b"
             ],
             [
              0.6666666666666666,
              "#ed7953"
             ],
             [
              0.7777777777777778,
              "#fb9f3a"
             ],
             [
              0.8888888888888888,
              "#fdca26"
             ],
             [
              1,
              "#f0f921"
             ]
            ],
            "type": "surface"
           }
          ],
          "table": [
           {
            "cells": {
             "fill": {
              "color": "#EBF0F8"
             },
             "line": {
              "color": "white"
             }
            },
            "header": {
             "fill": {
              "color": "#C8D4E3"
             },
             "line": {
              "color": "white"
             }
            },
            "type": "table"
           }
          ]
         },
         "layout": {
          "annotationdefaults": {
           "arrowcolor": "#2a3f5f",
           "arrowhead": 0,
           "arrowwidth": 1
          },
          "coloraxis": {
           "colorbar": {
            "outlinewidth": 0,
            "ticks": ""
           }
          },
          "colorscale": {
           "diverging": [
            [
             0,
             "#8e0152"
            ],
            [
             0.1,
             "#c51b7d"
            ],
            [
             0.2,
             "#de77ae"
            ],
            [
             0.3,
             "#f1b6da"
            ],
            [
             0.4,
             "#fde0ef"
            ],
            [
             0.5,
             "#f7f7f7"
            ],
            [
             0.6,
             "#e6f5d0"
            ],
            [
             0.7,
             "#b8e186"
            ],
            [
             0.8,
             "#7fbc41"
            ],
            [
             0.9,
             "#4d9221"
            ],
            [
             1,
             "#276419"
            ]
           ],
           "sequential": [
            [
             0,
             "#0d0887"
            ],
            [
             0.1111111111111111,
             "#46039f"
            ],
            [
             0.2222222222222222,
             "#7201a8"
            ],
            [
             0.3333333333333333,
             "#9c179e"
            ],
            [
             0.4444444444444444,
             "#bd3786"
            ],
            [
             0.5555555555555556,
             "#d8576b"
            ],
            [
             0.6666666666666666,
             "#ed7953"
            ],
            [
             0.7777777777777778,
             "#fb9f3a"
            ],
            [
             0.8888888888888888,
             "#fdca26"
            ],
            [
             1,
             "#f0f921"
            ]
           ],
           "sequentialminus": [
            [
             0,
             "#0d0887"
            ],
            [
             0.1111111111111111,
             "#46039f"
            ],
            [
             0.2222222222222222,
             "#7201a8"
            ],
            [
             0.3333333333333333,
             "#9c179e"
            ],
            [
             0.4444444444444444,
             "#bd3786"
            ],
            [
             0.5555555555555556,
             "#d8576b"
            ],
            [
             0.6666666666666666,
             "#ed7953"
            ],
            [
             0.7777777777777778,
             "#fb9f3a"
            ],
            [
             0.8888888888888888,
             "#fdca26"
            ],
            [
             1,
             "#f0f921"
            ]
           ]
          },
          "colorway": [
           "#636efa",
           "#EF553B",
           "#00cc96",
           "#ab63fa",
           "#FFA15A",
           "#19d3f3",
           "#FF6692",
           "#B6E880",
           "#FF97FF",
           "#FECB52"
          ],
          "font": {
           "color": "#2a3f5f"
          },
          "geo": {
           "bgcolor": "white",
           "lakecolor": "white",
           "landcolor": "#E5ECF6",
           "showlakes": true,
           "showland": true,
           "subunitcolor": "white"
          },
          "hoverlabel": {
           "align": "left"
          },
          "hovermode": "closest",
          "mapbox": {
           "style": "light"
          },
          "paper_bgcolor": "white",
          "plot_bgcolor": "#E5ECF6",
          "polar": {
           "angularaxis": {
            "gridcolor": "white",
            "linecolor": "white",
            "ticks": ""
           },
           "bgcolor": "#E5ECF6",
           "radialaxis": {
            "gridcolor": "white",
            "linecolor": "white",
            "ticks": ""
           }
          },
          "scene": {
           "xaxis": {
            "backgroundcolor": "#E5ECF6",
            "gridcolor": "white",
            "gridwidth": 2,
            "linecolor": "white",
            "showbackground": true,
            "ticks": "",
            "zerolinecolor": "white"
           },
           "yaxis": {
            "backgroundcolor": "#E5ECF6",
            "gridcolor": "white",
            "gridwidth": 2,
            "linecolor": "white",
            "showbackground": true,
            "ticks": "",
            "zerolinecolor": "white"
           },
           "zaxis": {
            "backgroundcolor": "#E5ECF6",
            "gridcolor": "white",
            "gridwidth": 2,
            "linecolor": "white",
            "showbackground": true,
            "ticks": "",
            "zerolinecolor": "white"
           }
          },
          "shapedefaults": {
           "line": {
            "color": "#2a3f5f"
           }
          },
          "ternary": {
           "aaxis": {
            "gridcolor": "white",
            "linecolor": "white",
            "ticks": ""
           },
           "baxis": {
            "gridcolor": "white",
            "linecolor": "white",
            "ticks": ""
           },
           "bgcolor": "#E5ECF6",
           "caxis": {
            "gridcolor": "white",
            "linecolor": "white",
            "ticks": ""
           }
          },
          "title": {
           "x": 0.05
          },
          "xaxis": {
           "automargin": true,
           "gridcolor": "white",
           "linecolor": "white",
           "ticks": "",
           "title": {
            "standoff": 15
           },
           "zerolinecolor": "white",
           "zerolinewidth": 2
          },
          "yaxis": {
           "automargin": true,
           "gridcolor": "white",
           "linecolor": "white",
           "ticks": "",
           "title": {
            "standoff": 15
           },
           "zerolinecolor": "white",
           "zerolinewidth": 2
          }
         }
        },
        "width": 800,
        "xaxis": {
         "showgrid": false,
         "showticklabels": false,
         "zeroline": false
        },
        "yaxis": {
         "showgrid": false,
         "showticklabels": false,
         "zeroline": false
        }
       }
      },
      "text/html": "<div>                            <div id=\"2be12f8b-3268-4a8b-9fb7-38334ace7ccd\" class=\"plotly-graph-div\" style=\"height:450px; width:800px;\"></div>            <script type=\"text/javascript\">                require([\"plotly\"], function(Plotly) {                    window.PLOTLYENV=window.PLOTLYENV || {};                                    if (document.getElementById(\"2be12f8b-3268-4a8b-9fb7-38334ace7ccd\")) {                    Plotly.newPlot(                        \"2be12f8b-3268-4a8b-9fb7-38334ace7ccd\",                        [{\"hoverinfo\": \"none\", \"line\": {\"color\": \"rgb(127, 127, 127)\", \"dash\": \"solid\", \"width\": 0}, \"mode\": \"lines\", \"type\": \"scatter\", \"x\": [0.5100350785143586, 0.5100350785143586, null, 0, 1, null], \"y\": [0, 1, null, 0.5163856403664588, 0.5163856403664588, null]}, {\"hoverinfo\": \"none\", \"line\": {\"color\": \"rgb(0, 0, 0)\", \"dash\": \"solid\", \"width\": 1}, \"mode\": \"lines\", \"type\": \"scatter\", \"x\": [0.1331612477254179, 0.0, null, 0.0, 0.07235341579694378, null], \"y\": [0.8489906144317237, 0.334564961920949, null, 0.334564961920949, 0.3238704559518399, null]}, {\"hoverinfo\": \"text\", \"marker\": {\"color\": \"rgb(255, 255, 255)\", \"line\": {\"color\": \"rgb(0, 0, 0)\", \"width\": 1}, \"size\": 10, \"symbol\": \"circle\"}, \"mode\": \"markers\", \"text\": [\"super-intergalactic-gang\", \"aporia-darkmist-forest\", \"the-corridor\", \"spockadelic\", \"diamond-pusher\", \"tile-runner\", \"cherry-fm-demo\", \"ha-ni-ha-ni-luo-li-hua-zhuang-huan-zhuang-yue-hui-\", \"volk-i-semero-kozliat-zhivaia-i-dobraia-interaktiv\", \"teremok-zhivaia-i-dobraia-interaktivnaia-razvivaiu\", \"quatris-origins\", \"black-men\", \"table-warriors\", \"lb-khtbr-lgny-lb-dhk-lb-mgmrt\", \"space-rush\", \"snow-thy-enemy\", \"celestial-antodias\", \"deadhop\", \"flappyowen\", \"criminel\"], \"textfont\": {\"color\": \"rgb(0, 0, 0)\"}, \"textposition\": \"middle center\", \"type\": \"scatter\", \"x\": [0.4128540105787203, 0.6678276374263341, 0.49129811459735295, 0.19923018499263445, 0.8739026975645874, 0.26008826036260607, 0.1331612477254179, 0.3385640137822345, 0.2066804141089036, 0.29858278969049595, 0.32871294603715656, 1.0, 0.898852244704716, 0.3519237084789418, 0.0, 0.86743568907918, 0.07235341579694378, 0.5833300468773287, 0.19383539357865304, 0.6325649119651414], \"y\": [1.0, 0.10207837624870035, 0.45268365198772315, 0.11322933066658697, 0.6328755236902099, 0.7676452782060752, 0.8489906144317237, 0.6309745968735709, 0.2599496755103504, 0.42472213206656667, 0.025350768715767434, 0.5849979153699116, 0.10528520773006977, 0.16651203096889933, 0.334564961920949, 0.8824765403057616, 0.3238704559518399, 0.6367226285137244, 0.03136926589966471, 0.0]}, {\"hoverinfo\": \"none\", \"mode\": \"text\", \"text\": [], \"textfont\": {\"color\": \"rgb(255, 255, 255)\"}, \"textposition\": \"middle center\", \"type\": \"scatter\", \"x\": [], \"y\": []}, {\"hoverinfo\": \"none\", \"mode\": \"text\", \"text\": [null, null, null, null, null, null, null, null, null, null, null, null, null, null, null, null, null, null, null, null], \"textfont\": {\"color\": \"rgb(0, 0, 0)\"}, \"textposition\": \"middle center\", \"type\": \"scatter\", \"x\": [0.4128540105787203, 0.6678276374263341, 0.49129811459735295, 0.19923018499263445, 0.8739026975645874, 0.26008826036260607, 0.1331612477254179, 0.3385640137822345, 0.2066804141089036, 0.29858278969049595, 0.32871294603715656, 1.0, 0.898852244704716, 0.3519237084789418, 0.0, 0.86743568907918, 0.07235341579694378, 0.5833300468773287, 0.19383539357865304, 0.6325649119651414], \"y\": [1.0, 0.10207837624870035, 0.45268365198772315, 0.11322933066658697, 0.6328755236902099, 0.7676452782060752, 0.8489906144317237, 0.6309745968735709, 0.2599496755103504, 0.42472213206656667, 0.025350768715767434, 0.5849979153699116, 0.10528520773006977, 0.16651203096889933, 0.334564961920949, 0.8824765403057616, 0.3238704559518399, 0.6367226285137244, 0.03136926589966471, 0.0]}, {\"hoverinfo\": \"none\", \"mode\": \"text\", \"text\": [null, null], \"textfont\": {\"color\": \"rgb(0, 0, 0)\"}, \"textposition\": \"middle center\", \"type\": \"scatter\", \"x\": [0.07956946388449604, 0.03733546172071687], \"y\": [0.5805577551722448, 0.35537893052247427]}, {\"hoverinfo\": \"none\", \"marker\": {\"color\": \"rgba(255, 255, 255, 0)\", \"line\": {\"color\": \"rgba(255, 255, 255, 0)\", \"width\": 0}, \"size\": 0, \"symbol\": \"circle\"}, \"mode\": \"markers\", \"type\": \"scatter\", \"x\": [0.5, 0.0, 1.0, 0.5], \"y\": [0.0, 0.5, 0.5, 1.0]}],                        {\"height\": 450, \"hovermode\": \"closest\", \"margin\": {\"b\": 10, \"l\": 10, \"r\": 10, \"t\": 10}, \"plot_bgcolor\": \"rgb(255, 255, 255)\", \"showlegend\": false, \"template\": {\"data\": {\"bar\": [{\"error_x\": {\"color\": \"#2a3f5f\"}, \"error_y\": {\"color\": \"#2a3f5f\"}, \"marker\": {\"line\": {\"color\": \"#E5ECF6\", \"width\": 0.5}}, \"type\": \"bar\"}], \"barpolar\": [{\"marker\": {\"line\": {\"color\": \"#E5ECF6\", \"width\": 0.5}}, \"type\": \"barpolar\"}], \"carpet\": [{\"aaxis\": {\"endlinecolor\": \"#2a3f5f\", \"gridcolor\": \"white\", \"linecolor\": \"white\", \"minorgridcolor\": \"white\", \"startlinecolor\": \"#2a3f5f\"}, \"baxis\": {\"endlinecolor\": \"#2a3f5f\", \"gridcolor\": \"white\", \"linecolor\": \"white\", \"minorgridcolor\": \"white\", \"startlinecolor\": \"#2a3f5f\"}, \"type\": \"carpet\"}], \"choropleth\": [{\"colorbar\": {\"outlinewidth\": 0, \"ticks\": \"\"}, \"type\": \"choropleth\"}], \"contour\": [{\"colorbar\": {\"outlinewidth\": 0, \"ticks\": \"\"}, \"colorscale\": [[0.0, \"#0d0887\"], [0.1111111111111111, \"#46039f\"], [0.2222222222222222, \"#7201a8\"], [0.3333333333333333, \"#9c179e\"], [0.4444444444444444, \"#bd3786\"], [0.5555555555555556, \"#d8576b\"], [0.6666666666666666, \"#ed7953\"], [0.7777777777777778, \"#fb9f3a\"], [0.8888888888888888, \"#fdca26\"], [1.0, \"#f0f921\"]], \"type\": \"contour\"}], \"contourcarpet\": [{\"colorbar\": {\"outlinewidth\": 0, \"ticks\": \"\"}, \"type\": \"contourcarpet\"}], \"heatmap\": [{\"colorbar\": {\"outlinewidth\": 0, \"ticks\": \"\"}, \"colorscale\": [[0.0, \"#0d0887\"], [0.1111111111111111, \"#46039f\"], [0.2222222222222222, \"#7201a8\"], [0.3333333333333333, \"#9c179e\"], [0.4444444444444444, \"#bd3786\"], [0.5555555555555556, \"#d8576b\"], [0.6666666666666666, \"#ed7953\"], [0.7777777777777778, \"#fb9f3a\"], [0.8888888888888888, \"#fdca26\"], [1.0, \"#f0f921\"]], \"type\": \"heatmap\"}], \"heatmapgl\": [{\"colorbar\": {\"outlinewidth\": 0, \"ticks\": \"\"}, \"colorscale\": [[0.0, \"#0d0887\"], [0.1111111111111111, \"#46039f\"], [0.2222222222222222, \"#7201a8\"], [0.3333333333333333, \"#9c179e\"], [0.4444444444444444, \"#bd3786\"], [0.5555555555555556, \"#d8576b\"], [0.6666666666666666, \"#ed7953\"], [0.7777777777777778, \"#fb9f3a\"], [0.8888888888888888, \"#fdca26\"], [1.0, \"#f0f921\"]], \"type\": \"heatmapgl\"}], \"histogram\": [{\"marker\": {\"colorbar\": {\"outlinewidth\": 0, \"ticks\": \"\"}}, \"type\": \"histogram\"}], \"histogram2d\": [{\"colorbar\": {\"outlinewidth\": 0, \"ticks\": \"\"}, \"colorscale\": [[0.0, \"#0d0887\"], [0.1111111111111111, \"#46039f\"], [0.2222222222222222, \"#7201a8\"], [0.3333333333333333, \"#9c179e\"], [0.4444444444444444, \"#bd3786\"], [0.5555555555555556, \"#d8576b\"], [0.6666666666666666, \"#ed7953\"], [0.7777777777777778, \"#fb9f3a\"], [0.8888888888888888, \"#fdca26\"], [1.0, \"#f0f921\"]], \"type\": \"histogram2d\"}], \"histogram2dcontour\": [{\"colorbar\": {\"outlinewidth\": 0, \"ticks\": \"\"}, \"colorscale\": [[0.0, \"#0d0887\"], [0.1111111111111111, \"#46039f\"], [0.2222222222222222, \"#7201a8\"], [0.3333333333333333, \"#9c179e\"], [0.4444444444444444, \"#bd3786\"], [0.5555555555555556, \"#d8576b\"], [0.6666666666666666, \"#ed7953\"], [0.7777777777777778, \"#fb9f3a\"], [0.8888888888888888, \"#fdca26\"], [1.0, \"#f0f921\"]], \"type\": \"histogram2dcontour\"}], \"mesh3d\": [{\"colorbar\": {\"outlinewidth\": 0, \"ticks\": \"\"}, \"type\": \"mesh3d\"}], \"parcoords\": [{\"line\": {\"colorbar\": {\"outlinewidth\": 0, \"ticks\": \"\"}}, \"type\": \"parcoords\"}], \"pie\": [{\"automargin\": true, \"type\": \"pie\"}], \"scatter\": [{\"marker\": {\"colorbar\": {\"outlinewidth\": 0, \"ticks\": \"\"}}, \"type\": \"scatter\"}], \"scatter3d\": [{\"line\": {\"colorbar\": {\"outlinewidth\": 0, \"ticks\": \"\"}}, \"marker\": {\"colorbar\": {\"outlinewidth\": 0, \"ticks\": \"\"}}, \"type\": \"scatter3d\"}], \"scattercarpet\": [{\"marker\": {\"colorbar\": {\"outlinewidth\": 0, \"ticks\": \"\"}}, \"type\": \"scattercarpet\"}], \"scattergeo\": [{\"marker\": {\"colorbar\": {\"outlinewidth\": 0, \"ticks\": \"\"}}, \"type\": \"scattergeo\"}], \"scattergl\": [{\"marker\": {\"colorbar\": {\"outlinewidth\": 0, \"ticks\": \"\"}}, \"type\": \"scattergl\"}], \"scattermapbox\": [{\"marker\": {\"colorbar\": {\"outlinewidth\": 0, \"ticks\": \"\"}}, \"type\": \"scattermapbox\"}], \"scatterpolar\": [{\"marker\": {\"colorbar\": {\"outlinewidth\": 0, \"ticks\": \"\"}}, \"type\": \"scatterpolar\"}], \"scatterpolargl\": [{\"marker\": {\"colorbar\": {\"outlinewidth\": 0, \"ticks\": \"\"}}, \"type\": \"scatterpolargl\"}], \"scatterternary\": [{\"marker\": {\"colorbar\": {\"outlinewidth\": 0, \"ticks\": \"\"}}, \"type\": \"scatterternary\"}], \"surface\": [{\"colorbar\": {\"outlinewidth\": 0, \"ticks\": \"\"}, \"colorscale\": [[0.0, \"#0d0887\"], [0.1111111111111111, \"#46039f\"], [0.2222222222222222, \"#7201a8\"], [0.3333333333333333, \"#9c179e\"], [0.4444444444444444, \"#bd3786\"], [0.5555555555555556, \"#d8576b\"], [0.6666666666666666, \"#ed7953\"], [0.7777777777777778, \"#fb9f3a\"], [0.8888888888888888, \"#fdca26\"], [1.0, \"#f0f921\"]], \"type\": \"surface\"}], \"table\": [{\"cells\": {\"fill\": {\"color\": \"#EBF0F8\"}, \"line\": {\"color\": \"white\"}}, \"header\": {\"fill\": {\"color\": \"#C8D4E3\"}, \"line\": {\"color\": \"white\"}}, \"type\": \"table\"}]}, \"layout\": {\"annotationdefaults\": {\"arrowcolor\": \"#2a3f5f\", \"arrowhead\": 0, \"arrowwidth\": 1}, \"coloraxis\": {\"colorbar\": {\"outlinewidth\": 0, \"ticks\": \"\"}}, \"colorscale\": {\"diverging\": [[0, \"#8e0152\"], [0.1, \"#c51b7d\"], [0.2, \"#de77ae\"], [0.3, \"#f1b6da\"], [0.4, \"#fde0ef\"], [0.5, \"#f7f7f7\"], [0.6, \"#e6f5d0\"], [0.7, \"#b8e186\"], [0.8, \"#7fbc41\"], [0.9, \"#4d9221\"], [1, \"#276419\"]], \"sequential\": [[0.0, \"#0d0887\"], [0.1111111111111111, \"#46039f\"], [0.2222222222222222, \"#7201a8\"], [0.3333333333333333, \"#9c179e\"], [0.4444444444444444, \"#bd3786\"], [0.5555555555555556, \"#d8576b\"], [0.6666666666666666, \"#ed7953\"], [0.7777777777777778, \"#fb9f3a\"], [0.8888888888888888, \"#fdca26\"], [1.0, \"#f0f921\"]], \"sequentialminus\": [[0.0, \"#0d0887\"], [0.1111111111111111, \"#46039f\"], [0.2222222222222222, \"#7201a8\"], [0.3333333333333333, \"#9c179e\"], [0.4444444444444444, \"#bd3786\"], [0.5555555555555556, \"#d8576b\"], [0.6666666666666666, \"#ed7953\"], [0.7777777777777778, \"#fb9f3a\"], [0.8888888888888888, \"#fdca26\"], [1.0, \"#f0f921\"]]}, \"colorway\": [\"#636efa\", \"#EF553B\", \"#00cc96\", \"#ab63fa\", \"#FFA15A\", \"#19d3f3\", \"#FF6692\", \"#B6E880\", \"#FF97FF\", \"#FECB52\"], \"font\": {\"color\": \"#2a3f5f\"}, \"geo\": {\"bgcolor\": \"white\", \"lakecolor\": \"white\", \"landcolor\": \"#E5ECF6\", \"showlakes\": true, \"showland\": true, \"subunitcolor\": \"white\"}, \"hoverlabel\": {\"align\": \"left\"}, \"hovermode\": \"closest\", \"mapbox\": {\"style\": \"light\"}, \"paper_bgcolor\": \"white\", \"plot_bgcolor\": \"#E5ECF6\", \"polar\": {\"angularaxis\": {\"gridcolor\": \"white\", \"linecolor\": \"white\", \"ticks\": \"\"}, \"bgcolor\": \"#E5ECF6\", \"radialaxis\": {\"gridcolor\": \"white\", \"linecolor\": \"white\", \"ticks\": \"\"}}, \"scene\": {\"xaxis\": {\"backgroundcolor\": \"#E5ECF6\", \"gridcolor\": \"white\", \"gridwidth\": 2, \"linecolor\": \"white\", \"showbackground\": true, \"ticks\": \"\", \"zerolinecolor\": \"white\"}, \"yaxis\": {\"backgroundcolor\": \"#E5ECF6\", \"gridcolor\": \"white\", \"gridwidth\": 2, \"linecolor\": \"white\", \"showbackground\": true, \"ticks\": \"\", \"zerolinecolor\": \"white\"}, \"zaxis\": {\"backgroundcolor\": \"#E5ECF6\", \"gridcolor\": \"white\", \"gridwidth\": 2, \"linecolor\": \"white\", \"showbackground\": true, \"ticks\": \"\", \"zerolinecolor\": \"white\"}}, \"shapedefaults\": {\"line\": {\"color\": \"#2a3f5f\"}}, \"ternary\": {\"aaxis\": {\"gridcolor\": \"white\", \"linecolor\": \"white\", \"ticks\": \"\"}, \"baxis\": {\"gridcolor\": \"white\", \"linecolor\": \"white\", \"ticks\": \"\"}, \"bgcolor\": \"#E5ECF6\", \"caxis\": {\"gridcolor\": \"white\", \"linecolor\": \"white\", \"ticks\": \"\"}}, \"title\": {\"x\": 0.05}, \"xaxis\": {\"automargin\": true, \"gridcolor\": \"white\", \"linecolor\": \"white\", \"ticks\": \"\", \"title\": {\"standoff\": 15}, \"zerolinecolor\": \"white\", \"zerolinewidth\": 2}, \"yaxis\": {\"automargin\": true, \"gridcolor\": \"white\", \"linecolor\": \"white\", \"ticks\": \"\", \"title\": {\"standoff\": 15}, \"zerolinecolor\": \"white\", \"zerolinewidth\": 2}}}, \"width\": 800, \"xaxis\": {\"showgrid\": false, \"showticklabels\": false, \"zeroline\": false}, \"yaxis\": {\"showgrid\": false, \"showticklabels\": false, \"zeroline\": false}},                        {\"displayModeBar\": false, \"responsive\": true}                    ).then(function(){\n                            \nvar gd = document.getElementById('2be12f8b-3268-4a8b-9fb7-38334ace7ccd');\nvar x = new MutationObserver(function (mutations, observer) {{\n        var display = window.getComputedStyle(gd).display;\n        if (!display || display === 'none') {{\n            console.log([gd, 'removed!']);\n            Plotly.purge(gd);\n            observer.disconnect();\n        }}\n}});\n\n// Listen for the removal of the full notebook cells\nvar notebookContainer = gd.closest('#notebook-container');\nif (notebookContainer) {{\n    x.observe(notebookContainer, {childList: true});\n}}\n\n// Listen for the clearing of the current output cell\nvar outputEl = gd.closest('.output');\nif (outputEl) {{\n    x.observe(outputEl, {childList: true});\n}}\n\n                        })                };                });            </script>        </div>"
     },
     "metadata": {}
    },
    {
     "output_type": "display_data",
     "data": {
      "application/vnd.plotly.v1+json": {
       "config": {
        "displayModeBar": false,
        "linkText": "Export to plot.ly",
        "plotlyServerURL": "https://plot.ly",
        "showLink": false
       },
       "data": [
        {
         "hoverinfo": "none",
         "line": {
          "color": "rgb(127, 127, 127)",
          "dash": "solid",
          "width": 0
         },
         "mode": "lines",
         "type": "scatter",
         "x": [
          0.5100350785143586,
          0.5100350785143586,
          null,
          0,
          1,
          null
         ],
         "y": [
          0,
          1,
          null,
          0.5163856403664588,
          0.5163856403664588,
          null
         ]
        },
        {
         "hoverinfo": "none",
         "line": {
          "color": "rgb(0, 0, 0)",
          "dash": "solid",
          "width": 1
         },
         "mode": "lines",
         "type": "scatter",
         "x": [
          0.1331612477254179,
          0,
          null,
          0,
          0.07235341579694378,
          null
         ],
         "y": [
          0.8489906144317237,
          0.334564961920949,
          null,
          0.334564961920949,
          0.3238704559518399,
          null
         ]
        },
        {
         "hoverinfo": "text",
         "marker": {
          "color": "rgb(255, 255, 255)",
          "line": {
           "color": "rgb(0, 0, 0)",
           "width": 1
          },
          "size": 5,
          "symbol": "circle"
         },
         "mode": "markers",
         "text": [
          "super-intergalactic-gang",
          "aporia-darkmist-forest",
          "the-corridor",
          "spockadelic",
          "diamond-pusher",
          "tile-runner",
          "cherry-fm-demo",
          "ha-ni-ha-ni-luo-li-hua-zhuang-huan-zhuang-yue-hui-",
          "volk-i-semero-kozliat-zhivaia-i-dobraia-interaktiv",
          "teremok-zhivaia-i-dobraia-interaktivnaia-razvivaiu",
          "quatris-origins",
          "black-men",
          "table-warriors",
          "lb-khtbr-lgny-lb-dhk-lb-mgmrt",
          "snow-thy-enemy",
          "celestial-antodias",
          "deadhop",
          "flappyowen",
          "criminel"
         ],
         "textfont": {
          "color": "rgb(0, 0, 0)"
         },
         "textposition": "middle center",
         "type": "scatter",
         "x": [
          0.4128540105787203,
          0.6678276374263341,
          0.49129811459735295,
          0.19923018499263445,
          0.8739026975645874,
          0.26008826036260607,
          0.1331612477254179,
          0.3385640137822345,
          0.2066804141089036,
          0.29858278969049595,
          0.32871294603715656,
          1,
          0.898852244704716,
          0.3519237084789418,
          0.86743568907918,
          0.07235341579694378,
          0.5833300468773287,
          0.19383539357865304,
          0.6325649119651414
         ],
         "y": [
          1,
          0.10207837624870035,
          0.45268365198772315,
          0.11322933066658697,
          0.6328755236902099,
          0.7676452782060752,
          0.8489906144317237,
          0.6309745968735709,
          0.2599496755103504,
          0.42472213206656667,
          0.025350768715767434,
          0.5849979153699116,
          0.10528520773006977,
          0.16651203096889933,
          0.8824765403057616,
          0.3238704559518399,
          0.6367226285137244,
          0.03136926589966471,
          0
         ]
        },
        {
         "hoverinfo": "text",
         "marker": {
          "color": "rgb(255, 255, 255)",
          "line": {
           "color": "rgb(0, 0, 0)",
           "width": 1
          },
          "size": 50,
          "symbol": "circle"
         },
         "mode": "markers",
         "text": [
          "space-rush"
         ],
         "textfont": {
          "color": "rgb(0, 0, 0)"
         },
         "textposition": "middle center",
         "type": "scatter",
         "x": [
          0
         ],
         "y": [
          0.334564961920949
         ]
        },
        {
         "hoverinfo": "none",
         "mode": "text",
         "text": [],
         "textfont": {
          "color": "rgb(255, 255, 255)"
         },
         "textposition": "middle center",
         "type": "scatter",
         "x": [],
         "y": []
        },
        {
         "hoverinfo": "none",
         "mode": "text",
         "text": [
          null,
          null,
          null,
          null,
          null,
          null,
          null,
          null,
          null,
          null,
          null,
          null,
          null,
          null,
          null,
          null,
          null,
          null,
          null,
          null
         ],
         "textfont": {
          "color": "rgb(0, 0, 0)"
         },
         "textposition": "middle center",
         "type": "scatter",
         "x": [
          0.4128540105787203,
          0.6678276374263341,
          0.49129811459735295,
          0.19923018499263445,
          0.8739026975645874,
          0.26008826036260607,
          0.1331612477254179,
          0.3385640137822345,
          0.2066804141089036,
          0.29858278969049595,
          0.32871294603715656,
          1,
          0.898852244704716,
          0.3519237084789418,
          0,
          0.86743568907918,
          0.07235341579694378,
          0.5833300468773287,
          0.19383539357865304,
          0.6325649119651414
         ],
         "y": [
          1,
          0.10207837624870035,
          0.45268365198772315,
          0.11322933066658697,
          0.6328755236902099,
          0.7676452782060752,
          0.8489906144317237,
          0.6309745968735709,
          0.2599496755103504,
          0.42472213206656667,
          0.025350768715767434,
          0.5849979153699116,
          0.10528520773006977,
          0.16651203096889933,
          0.334564961920949,
          0.8824765403057616,
          0.3238704559518399,
          0.6367226285137244,
          0.03136926589966471,
          0
         ]
        },
        {
         "hoverinfo": "none",
         "mode": "text",
         "text": [
          null,
          null
         ],
         "textfont": {
          "color": "rgb(0, 0, 0)"
         },
         "textposition": "middle center",
         "type": "scatter",
         "x": [
          0.07956946388449604,
          0.03733546172071687
         ],
         "y": [
          0.5805577551722448,
          0.35537893052247427
         ]
        },
        {
         "hoverinfo": "none",
         "marker": {
          "color": "rgba(255, 255, 255, 0)",
          "line": {
           "color": "rgba(255, 255, 255, 0)",
           "width": 0
          },
          "size": 0,
          "symbol": "circle"
         },
         "mode": "markers",
         "type": "scatter",
         "x": [
          0.5,
          0,
          1,
          0.5
         ],
         "y": [
          0,
          0.5,
          0.5,
          1
         ]
        }
       ],
       "layout": {
        "height": 450,
        "hovermode": "closest",
        "margin": {
         "b": 10,
         "l": 10,
         "r": 10,
         "t": 10
        },
        "plot_bgcolor": "rgb(255, 255, 255)",
        "showlegend": false,
        "template": {
         "data": {
          "bar": [
           {
            "error_x": {
             "color": "#2a3f5f"
            },
            "error_y": {
             "color": "#2a3f5f"
            },
            "marker": {
             "line": {
              "color": "#E5ECF6",
              "width": 0.5
             }
            },
            "type": "bar"
           }
          ],
          "barpolar": [
           {
            "marker": {
             "line": {
              "color": "#E5ECF6",
              "width": 0.5
             }
            },
            "type": "barpolar"
           }
          ],
          "carpet": [
           {
            "aaxis": {
             "endlinecolor": "#2a3f5f",
             "gridcolor": "white",
             "linecolor": "white",
             "minorgridcolor": "white",
             "startlinecolor": "#2a3f5f"
            },
            "baxis": {
             "endlinecolor": "#2a3f5f",
             "gridcolor": "white",
             "linecolor": "white",
             "minorgridcolor": "white",
             "startlinecolor": "#2a3f5f"
            },
            "type": "carpet"
           }
          ],
          "choropleth": [
           {
            "colorbar": {
             "outlinewidth": 0,
             "ticks": ""
            },
            "type": "choropleth"
           }
          ],
          "contour": [
           {
            "colorbar": {
             "outlinewidth": 0,
             "ticks": ""
            },
            "colorscale": [
             [
              0,
              "#0d0887"
             ],
             [
              0.1111111111111111,
              "#46039f"
             ],
             [
              0.2222222222222222,
              "#7201a8"
             ],
             [
              0.3333333333333333,
              "#9c179e"
             ],
             [
              0.4444444444444444,
              "#bd3786"
             ],
             [
              0.5555555555555556,
              "#d8576b"
             ],
             [
              0.6666666666666666,
              "#ed7953"
             ],
             [
              0.7777777777777778,
              "#fb9f3a"
             ],
             [
              0.8888888888888888,
              "#fdca26"
             ],
             [
              1,
              "#f0f921"
             ]
            ],
            "type": "contour"
           }
          ],
          "contourcarpet": [
           {
            "colorbar": {
             "outlinewidth": 0,
             "ticks": ""
            },
            "type": "contourcarpet"
           }
          ],
          "heatmap": [
           {
            "colorbar": {
             "outlinewidth": 0,
             "ticks": ""
            },
            "colorscale": [
             [
              0,
              "#0d0887"
             ],
             [
              0.1111111111111111,
              "#46039f"
             ],
             [
              0.2222222222222222,
              "#7201a8"
             ],
             [
              0.3333333333333333,
              "#9c179e"
             ],
             [
              0.4444444444444444,
              "#bd3786"
             ],
             [
              0.5555555555555556,
              "#d8576b"
             ],
             [
              0.6666666666666666,
              "#ed7953"
             ],
             [
              0.7777777777777778,
              "#fb9f3a"
             ],
             [
              0.8888888888888888,
              "#fdca26"
             ],
             [
              1,
              "#f0f921"
             ]
            ],
            "type": "heatmap"
           }
          ],
          "heatmapgl": [
           {
            "colorbar": {
             "outlinewidth": 0,
             "ticks": ""
            },
            "colorscale": [
             [
              0,
              "#0d0887"
             ],
             [
              0.1111111111111111,
              "#46039f"
             ],
             [
              0.2222222222222222,
              "#7201a8"
             ],
             [
              0.3333333333333333,
              "#9c179e"
             ],
             [
              0.4444444444444444,
              "#bd3786"
             ],
             [
              0.5555555555555556,
              "#d8576b"
             ],
             [
              0.6666666666666666,
              "#ed7953"
             ],
             [
              0.7777777777777778,
              "#fb9f3a"
             ],
             [
              0.8888888888888888,
              "#fdca26"
             ],
             [
              1,
              "#f0f921"
             ]
            ],
            "type": "heatmapgl"
           }
          ],
          "histogram": [
           {
            "marker": {
             "colorbar": {
              "outlinewidth": 0,
              "ticks": ""
             }
            },
            "type": "histogram"
           }
          ],
          "histogram2d": [
           {
            "colorbar": {
             "outlinewidth": 0,
             "ticks": ""
            },
            "colorscale": [
             [
              0,
              "#0d0887"
             ],
             [
              0.1111111111111111,
              "#46039f"
             ],
             [
              0.2222222222222222,
              "#7201a8"
             ],
             [
              0.3333333333333333,
              "#9c179e"
             ],
             [
              0.4444444444444444,
              "#bd3786"
             ],
             [
              0.5555555555555556,
              "#d8576b"
             ],
             [
              0.6666666666666666,
              "#ed7953"
             ],
             [
              0.7777777777777778,
              "#fb9f3a"
             ],
             [
              0.8888888888888888,
              "#fdca26"
             ],
             [
              1,
              "#f0f921"
             ]
            ],
            "type": "histogram2d"
           }
          ],
          "histogram2dcontour": [
           {
            "colorbar": {
             "outlinewidth": 0,
             "ticks": ""
            },
            "colorscale": [
             [
              0,
              "#0d0887"
             ],
             [
              0.1111111111111111,
              "#46039f"
             ],
             [
              0.2222222222222222,
              "#7201a8"
             ],
             [
              0.3333333333333333,
              "#9c179e"
             ],
             [
              0.4444444444444444,
              "#bd3786"
             ],
             [
              0.5555555555555556,
              "#d8576b"
             ],
             [
              0.6666666666666666,
              "#ed7953"
             ],
             [
              0.7777777777777778,
              "#fb9f3a"
             ],
             [
              0.8888888888888888,
              "#fdca26"
             ],
             [
              1,
              "#f0f921"
             ]
            ],
            "type": "histogram2dcontour"
           }
          ],
          "mesh3d": [
           {
            "colorbar": {
             "outlinewidth": 0,
             "ticks": ""
            },
            "type": "mesh3d"
           }
          ],
          "parcoords": [
           {
            "line": {
             "colorbar": {
              "outlinewidth": 0,
              "ticks": ""
             }
            },
            "type": "parcoords"
           }
          ],
          "pie": [
           {
            "automargin": true,
            "type": "pie"
           }
          ],
          "scatter": [
           {
            "marker": {
             "colorbar": {
              "outlinewidth": 0,
              "ticks": ""
             }
            },
            "type": "scatter"
           }
          ],
          "scatter3d": [
           {
            "line": {
             "colorbar": {
              "outlinewidth": 0,
              "ticks": ""
             }
            },
            "marker": {
             "colorbar": {
              "outlinewidth": 0,
              "ticks": ""
             }
            },
            "type": "scatter3d"
           }
          ],
          "scattercarpet": [
           {
            "marker": {
             "colorbar": {
              "outlinewidth": 0,
              "ticks": ""
             }
            },
            "type": "scattercarpet"
           }
          ],
          "scattergeo": [
           {
            "marker": {
             "colorbar": {
              "outlinewidth": 0,
              "ticks": ""
             }
            },
            "type": "scattergeo"
           }
          ],
          "scattergl": [
           {
            "marker": {
             "colorbar": {
              "outlinewidth": 0,
              "ticks": ""
             }
            },
            "type": "scattergl"
           }
          ],
          "scattermapbox": [
           {
            "marker": {
             "colorbar": {
              "outlinewidth": 0,
              "ticks": ""
             }
            },
            "type": "scattermapbox"
           }
          ],
          "scatterpolar": [
           {
            "marker": {
             "colorbar": {
              "outlinewidth": 0,
              "ticks": ""
             }
            },
            "type": "scatterpolar"
           }
          ],
          "scatterpolargl": [
           {
            "marker": {
             "colorbar": {
              "outlinewidth": 0,
              "ticks": ""
             }
            },
            "type": "scatterpolargl"
           }
          ],
          "scatterternary": [
           {
            "marker": {
             "colorbar": {
              "outlinewidth": 0,
              "ticks": ""
             }
            },
            "type": "scatterternary"
           }
          ],
          "surface": [
           {
            "colorbar": {
             "outlinewidth": 0,
             "ticks": ""
            },
            "colorscale": [
             [
              0,
              "#0d0887"
             ],
             [
              0.1111111111111111,
              "#46039f"
             ],
             [
              0.2222222222222222,
              "#7201a8"
             ],
             [
              0.3333333333333333,
              "#9c179e"
             ],
             [
              0.4444444444444444,
              "#bd3786"
             ],
             [
              0.5555555555555556,
              "#d8576b"
             ],
             [
              0.6666666666666666,
              "#ed7953"
             ],
             [
              0.7777777777777778,
              "#fb9f3a"
             ],
             [
              0.8888888888888888,
              "#fdca26"
             ],
             [
              1,
              "#f0f921"
             ]
            ],
            "type": "surface"
           }
          ],
          "table": [
           {
            "cells": {
             "fill": {
              "color": "#EBF0F8"
             },
             "line": {
              "color": "white"
             }
            },
            "header": {
             "fill": {
              "color": "#C8D4E3"
             },
             "line": {
              "color": "white"
             }
            },
            "type": "table"
           }
          ]
         },
         "layout": {
          "annotationdefaults": {
           "arrowcolor": "#2a3f5f",
           "arrowhead": 0,
           "arrowwidth": 1
          },
          "coloraxis": {
           "colorbar": {
            "outlinewidth": 0,
            "ticks": ""
           }
          },
          "colorscale": {
           "diverging": [
            [
             0,
             "#8e0152"
            ],
            [
             0.1,
             "#c51b7d"
            ],
            [
             0.2,
             "#de77ae"
            ],
            [
             0.3,
             "#f1b6da"
            ],
            [
             0.4,
             "#fde0ef"
            ],
            [
             0.5,
             "#f7f7f7"
            ],
            [
             0.6,
             "#e6f5d0"
            ],
            [
             0.7,
             "#b8e186"
            ],
            [
             0.8,
             "#7fbc41"
            ],
            [
             0.9,
             "#4d9221"
            ],
            [
             1,
             "#276419"
            ]
           ],
           "sequential": [
            [
             0,
             "#0d0887"
            ],
            [
             0.1111111111111111,
             "#46039f"
            ],
            [
             0.2222222222222222,
             "#7201a8"
            ],
            [
             0.3333333333333333,
             "#9c179e"
            ],
            [
             0.4444444444444444,
             "#bd3786"
            ],
            [
             0.5555555555555556,
             "#d8576b"
            ],
            [
             0.6666666666666666,
             "#ed7953"
            ],
            [
             0.7777777777777778,
             "#fb9f3a"
            ],
            [
             0.8888888888888888,
             "#fdca26"
            ],
            [
             1,
             "#f0f921"
            ]
           ],
           "sequentialminus": [
            [
             0,
             "#0d0887"
            ],
            [
             0.1111111111111111,
             "#46039f"
            ],
            [
             0.2222222222222222,
             "#7201a8"
            ],
            [
             0.3333333333333333,
             "#9c179e"
            ],
            [
             0.4444444444444444,
             "#bd3786"
            ],
            [
             0.5555555555555556,
             "#d8576b"
            ],
            [
             0.6666666666666666,
             "#ed7953"
            ],
            [
             0.7777777777777778,
             "#fb9f3a"
            ],
            [
             0.8888888888888888,
             "#fdca26"
            ],
            [
             1,
             "#f0f921"
            ]
           ]
          },
          "colorway": [
           "#636efa",
           "#EF553B",
           "#00cc96",
           "#ab63fa",
           "#FFA15A",
           "#19d3f3",
           "#FF6692",
           "#B6E880",
           "#FF97FF",
           "#FECB52"
          ],
          "font": {
           "color": "#2a3f5f"
          },
          "geo": {
           "bgcolor": "white",
           "lakecolor": "white",
           "landcolor": "#E5ECF6",
           "showlakes": true,
           "showland": true,
           "subunitcolor": "white"
          },
          "hoverlabel": {
           "align": "left"
          },
          "hovermode": "closest",
          "mapbox": {
           "style": "light"
          },
          "paper_bgcolor": "white",
          "plot_bgcolor": "#E5ECF6",
          "polar": {
           "angularaxis": {
            "gridcolor": "white",
            "linecolor": "white",
            "ticks": ""
           },
           "bgcolor": "#E5ECF6",
           "radialaxis": {
            "gridcolor": "white",
            "linecolor": "white",
            "ticks": ""
           }
          },
          "scene": {
           "xaxis": {
            "backgroundcolor": "#E5ECF6",
            "gridcolor": "white",
            "gridwidth": 2,
            "linecolor": "white",
            "showbackground": true,
            "ticks": "",
            "zerolinecolor": "white"
           },
           "yaxis": {
            "backgroundcolor": "#E5ECF6",
            "gridcolor": "white",
            "gridwidth": 2,
            "linecolor": "white",
            "showbackground": true,
            "ticks": "",
            "zerolinecolor": "white"
           },
           "zaxis": {
            "backgroundcolor": "#E5ECF6",
            "gridcolor": "white",
            "gridwidth": 2,
            "linecolor": "white",
            "showbackground": true,
            "ticks": "",
            "zerolinecolor": "white"
           }
          },
          "shapedefaults": {
           "line": {
            "color": "#2a3f5f"
           }
          },
          "ternary": {
           "aaxis": {
            "gridcolor": "white",
            "linecolor": "white",
            "ticks": ""
           },
           "baxis": {
            "gridcolor": "white",
            "linecolor": "white",
            "ticks": ""
           },
           "bgcolor": "#E5ECF6",
           "caxis": {
            "gridcolor": "white",
            "linecolor": "white",
            "ticks": ""
           }
          },
          "title": {
           "x": 0.05
          },
          "xaxis": {
           "automargin": true,
           "gridcolor": "white",
           "linecolor": "white",
           "ticks": "",
           "title": {
            "standoff": 15
           },
           "zerolinecolor": "white",
           "zerolinewidth": 2
          },
          "yaxis": {
           "automargin": true,
           "gridcolor": "white",
           "linecolor": "white",
           "ticks": "",
           "title": {
            "standoff": 15
           },
           "zerolinecolor": "white",
           "zerolinewidth": 2
          }
         }
        },
        "width": 800,
        "xaxis": {
         "showgrid": false,
         "showticklabels": false,
         "zeroline": false
        },
        "yaxis": {
         "showgrid": false,
         "showticklabels": false,
         "zeroline": false
        }
       }
      },
      "text/html": "<div>                            <div id=\"32680e56-365b-4afa-8961-602cf207b2ff\" class=\"plotly-graph-div\" style=\"height:450px; width:800px;\"></div>            <script type=\"text/javascript\">                require([\"plotly\"], function(Plotly) {                    window.PLOTLYENV=window.PLOTLYENV || {};                                    if (document.getElementById(\"32680e56-365b-4afa-8961-602cf207b2ff\")) {                    Plotly.newPlot(                        \"32680e56-365b-4afa-8961-602cf207b2ff\",                        [{\"hoverinfo\": \"none\", \"line\": {\"color\": \"rgb(127, 127, 127)\", \"dash\": \"solid\", \"width\": 0}, \"mode\": \"lines\", \"type\": \"scatter\", \"x\": [0.5100350785143586, 0.5100350785143586, null, 0, 1, null], \"y\": [0, 1, null, 0.5163856403664588, 0.5163856403664588, null]}, {\"hoverinfo\": \"none\", \"line\": {\"color\": \"rgb(0, 0, 0)\", \"dash\": \"solid\", \"width\": 1}, \"mode\": \"lines\", \"type\": \"scatter\", \"x\": [0.1331612477254179, 0.0, null, 0.0, 0.07235341579694378, null], \"y\": [0.8489906144317237, 0.334564961920949, null, 0.334564961920949, 0.3238704559518399, null]}, {\"hoverinfo\": \"text\", \"marker\": {\"color\": \"rgb(255, 255, 255)\", \"line\": {\"color\": \"rgb(0, 0, 0)\", \"width\": 1}, \"size\": 5, \"symbol\": \"circle\"}, \"mode\": \"markers\", \"text\": [\"super-intergalactic-gang\", \"aporia-darkmist-forest\", \"the-corridor\", \"spockadelic\", \"diamond-pusher\", \"tile-runner\", \"cherry-fm-demo\", \"ha-ni-ha-ni-luo-li-hua-zhuang-huan-zhuang-yue-hui-\", \"volk-i-semero-kozliat-zhivaia-i-dobraia-interaktiv\", \"teremok-zhivaia-i-dobraia-interaktivnaia-razvivaiu\", \"quatris-origins\", \"black-men\", \"table-warriors\", \"lb-khtbr-lgny-lb-dhk-lb-mgmrt\", \"snow-thy-enemy\", \"celestial-antodias\", \"deadhop\", \"flappyowen\", \"criminel\"], \"textfont\": {\"color\": \"rgb(0, 0, 0)\"}, \"textposition\": \"middle center\", \"type\": \"scatter\", \"x\": [0.4128540105787203, 0.6678276374263341, 0.49129811459735295, 0.19923018499263445, 0.8739026975645874, 0.26008826036260607, 0.1331612477254179, 0.3385640137822345, 0.2066804141089036, 0.29858278969049595, 0.32871294603715656, 1.0, 0.898852244704716, 0.3519237084789418, 0.86743568907918, 0.07235341579694378, 0.5833300468773287, 0.19383539357865304, 0.6325649119651414], \"y\": [1.0, 0.10207837624870035, 0.45268365198772315, 0.11322933066658697, 0.6328755236902099, 0.7676452782060752, 0.8489906144317237, 0.6309745968735709, 0.2599496755103504, 0.42472213206656667, 0.025350768715767434, 0.5849979153699116, 0.10528520773006977, 0.16651203096889933, 0.8824765403057616, 0.3238704559518399, 0.6367226285137244, 0.03136926589966471, 0.0]}, {\"hoverinfo\": \"text\", \"marker\": {\"color\": \"rgb(255, 255, 255)\", \"line\": {\"color\": \"rgb(0, 0, 0)\", \"width\": 1}, \"size\": 50, \"symbol\": \"circle\"}, \"mode\": \"markers\", \"text\": [\"space-rush\"], \"textfont\": {\"color\": \"rgb(0, 0, 0)\"}, \"textposition\": \"middle center\", \"type\": \"scatter\", \"x\": [0.0], \"y\": [0.334564961920949]}, {\"hoverinfo\": \"none\", \"mode\": \"text\", \"text\": [], \"textfont\": {\"color\": \"rgb(255, 255, 255)\"}, \"textposition\": \"middle center\", \"type\": \"scatter\", \"x\": [], \"y\": []}, {\"hoverinfo\": \"none\", \"mode\": \"text\", \"text\": [null, null, null, null, null, null, null, null, null, null, null, null, null, null, null, null, null, null, null, null], \"textfont\": {\"color\": \"rgb(0, 0, 0)\"}, \"textposition\": \"middle center\", \"type\": \"scatter\", \"x\": [0.4128540105787203, 0.6678276374263341, 0.49129811459735295, 0.19923018499263445, 0.8739026975645874, 0.26008826036260607, 0.1331612477254179, 0.3385640137822345, 0.2066804141089036, 0.29858278969049595, 0.32871294603715656, 1.0, 0.898852244704716, 0.3519237084789418, 0.0, 0.86743568907918, 0.07235341579694378, 0.5833300468773287, 0.19383539357865304, 0.6325649119651414], \"y\": [1.0, 0.10207837624870035, 0.45268365198772315, 0.11322933066658697, 0.6328755236902099, 0.7676452782060752, 0.8489906144317237, 0.6309745968735709, 0.2599496755103504, 0.42472213206656667, 0.025350768715767434, 0.5849979153699116, 0.10528520773006977, 0.16651203096889933, 0.334564961920949, 0.8824765403057616, 0.3238704559518399, 0.6367226285137244, 0.03136926589966471, 0.0]}, {\"hoverinfo\": \"none\", \"mode\": \"text\", \"text\": [null, null], \"textfont\": {\"color\": \"rgb(0, 0, 0)\"}, \"textposition\": \"middle center\", \"type\": \"scatter\", \"x\": [0.07956946388449604, 0.03733546172071687], \"y\": [0.5805577551722448, 0.35537893052247427]}, {\"hoverinfo\": \"none\", \"marker\": {\"color\": \"rgba(255, 255, 255, 0)\", \"line\": {\"color\": \"rgba(255, 255, 255, 0)\", \"width\": 0}, \"size\": 0, \"symbol\": \"circle\"}, \"mode\": \"markers\", \"type\": \"scatter\", \"x\": [0.5, 0.0, 1.0, 0.5], \"y\": [0.0, 0.5, 0.5, 1.0]}],                        {\"height\": 450, \"hovermode\": \"closest\", \"margin\": {\"b\": 10, \"l\": 10, \"r\": 10, \"t\": 10}, \"plot_bgcolor\": \"rgb(255, 255, 255)\", \"showlegend\": false, \"template\": {\"data\": {\"bar\": [{\"error_x\": {\"color\": \"#2a3f5f\"}, \"error_y\": {\"color\": \"#2a3f5f\"}, \"marker\": {\"line\": {\"color\": \"#E5ECF6\", \"width\": 0.5}}, \"type\": \"bar\"}], \"barpolar\": [{\"marker\": {\"line\": {\"color\": \"#E5ECF6\", \"width\": 0.5}}, \"type\": \"barpolar\"}], \"carpet\": [{\"aaxis\": {\"endlinecolor\": \"#2a3f5f\", \"gridcolor\": \"white\", \"linecolor\": \"white\", \"minorgridcolor\": \"white\", \"startlinecolor\": \"#2a3f5f\"}, \"baxis\": {\"endlinecolor\": \"#2a3f5f\", \"gridcolor\": \"white\", \"linecolor\": \"white\", \"minorgridcolor\": \"white\", \"startlinecolor\": \"#2a3f5f\"}, \"type\": \"carpet\"}], \"choropleth\": [{\"colorbar\": {\"outlinewidth\": 0, \"ticks\": \"\"}, \"type\": \"choropleth\"}], \"contour\": [{\"colorbar\": {\"outlinewidth\": 0, \"ticks\": \"\"}, \"colorscale\": [[0.0, \"#0d0887\"], [0.1111111111111111, \"#46039f\"], [0.2222222222222222, \"#7201a8\"], [0.3333333333333333, \"#9c179e\"], [0.4444444444444444, \"#bd3786\"], [0.5555555555555556, \"#d8576b\"], [0.6666666666666666, \"#ed7953\"], [0.7777777777777778, \"#fb9f3a\"], [0.8888888888888888, \"#fdca26\"], [1.0, \"#f0f921\"]], \"type\": \"contour\"}], \"contourcarpet\": [{\"colorbar\": {\"outlinewidth\": 0, \"ticks\": \"\"}, \"type\": \"contourcarpet\"}], \"heatmap\": [{\"colorbar\": {\"outlinewidth\": 0, \"ticks\": \"\"}, \"colorscale\": [[0.0, \"#0d0887\"], [0.1111111111111111, \"#46039f\"], [0.2222222222222222, \"#7201a8\"], [0.3333333333333333, \"#9c179e\"], [0.4444444444444444, \"#bd3786\"], [0.5555555555555556, \"#d8576b\"], [0.6666666666666666, \"#ed7953\"], [0.7777777777777778, \"#fb9f3a\"], [0.8888888888888888, \"#fdca26\"], [1.0, \"#f0f921\"]], \"type\": \"heatmap\"}], \"heatmapgl\": [{\"colorbar\": {\"outlinewidth\": 0, \"ticks\": \"\"}, \"colorscale\": [[0.0, \"#0d0887\"], [0.1111111111111111, \"#46039f\"], [0.2222222222222222, \"#7201a8\"], [0.3333333333333333, \"#9c179e\"], [0.4444444444444444, \"#bd3786\"], [0.5555555555555556, \"#d8576b\"], [0.6666666666666666, \"#ed7953\"], [0.7777777777777778, \"#fb9f3a\"], [0.8888888888888888, \"#fdca26\"], [1.0, \"#f0f921\"]], \"type\": \"heatmapgl\"}], \"histogram\": [{\"marker\": {\"colorbar\": {\"outlinewidth\": 0, \"ticks\": \"\"}}, \"type\": \"histogram\"}], \"histogram2d\": [{\"colorbar\": {\"outlinewidth\": 0, \"ticks\": \"\"}, \"colorscale\": [[0.0, \"#0d0887\"], [0.1111111111111111, \"#46039f\"], [0.2222222222222222, \"#7201a8\"], [0.3333333333333333, \"#9c179e\"], [0.4444444444444444, \"#bd3786\"], [0.5555555555555556, \"#d8576b\"], [0.6666666666666666, \"#ed7953\"], [0.7777777777777778, \"#fb9f3a\"], [0.8888888888888888, \"#fdca26\"], [1.0, \"#f0f921\"]], \"type\": \"histogram2d\"}], \"histogram2dcontour\": [{\"colorbar\": {\"outlinewidth\": 0, \"ticks\": \"\"}, \"colorscale\": [[0.0, \"#0d0887\"], [0.1111111111111111, \"#46039f\"], [0.2222222222222222, \"#7201a8\"], [0.3333333333333333, \"#9c179e\"], [0.4444444444444444, \"#bd3786\"], [0.5555555555555556, \"#d8576b\"], [0.6666666666666666, \"#ed7953\"], [0.7777777777777778, \"#fb9f3a\"], [0.8888888888888888, \"#fdca26\"], [1.0, \"#f0f921\"]], \"type\": \"histogram2dcontour\"}], \"mesh3d\": [{\"colorbar\": {\"outlinewidth\": 0, \"ticks\": \"\"}, \"type\": \"mesh3d\"}], \"parcoords\": [{\"line\": {\"colorbar\": {\"outlinewidth\": 0, \"ticks\": \"\"}}, \"type\": \"parcoords\"}], \"pie\": [{\"automargin\": true, \"type\": \"pie\"}], \"scatter\": [{\"marker\": {\"colorbar\": {\"outlinewidth\": 0, \"ticks\": \"\"}}, \"type\": \"scatter\"}], \"scatter3d\": [{\"line\": {\"colorbar\": {\"outlinewidth\": 0, \"ticks\": \"\"}}, \"marker\": {\"colorbar\": {\"outlinewidth\": 0, \"ticks\": \"\"}}, \"type\": \"scatter3d\"}], \"scattercarpet\": [{\"marker\": {\"colorbar\": {\"outlinewidth\": 0, \"ticks\": \"\"}}, \"type\": \"scattercarpet\"}], \"scattergeo\": [{\"marker\": {\"colorbar\": {\"outlinewidth\": 0, \"ticks\": \"\"}}, \"type\": \"scattergeo\"}], \"scattergl\": [{\"marker\": {\"colorbar\": {\"outlinewidth\": 0, \"ticks\": \"\"}}, \"type\": \"scattergl\"}], \"scattermapbox\": [{\"marker\": {\"colorbar\": {\"outlinewidth\": 0, \"ticks\": \"\"}}, \"type\": \"scattermapbox\"}], \"scatterpolar\": [{\"marker\": {\"colorbar\": {\"outlinewidth\": 0, \"ticks\": \"\"}}, \"type\": \"scatterpolar\"}], \"scatterpolargl\": [{\"marker\": {\"colorbar\": {\"outlinewidth\": 0, \"ticks\": \"\"}}, \"type\": \"scatterpolargl\"}], \"scatterternary\": [{\"marker\": {\"colorbar\": {\"outlinewidth\": 0, \"ticks\": \"\"}}, \"type\": \"scatterternary\"}], \"surface\": [{\"colorbar\": {\"outlinewidth\": 0, \"ticks\": \"\"}, \"colorscale\": [[0.0, \"#0d0887\"], [0.1111111111111111, \"#46039f\"], [0.2222222222222222, \"#7201a8\"], [0.3333333333333333, \"#9c179e\"], [0.4444444444444444, \"#bd3786\"], [0.5555555555555556, \"#d8576b\"], [0.6666666666666666, \"#ed7953\"], [0.7777777777777778, \"#fb9f3a\"], [0.8888888888888888, \"#fdca26\"], [1.0, \"#f0f921\"]], \"type\": \"surface\"}], \"table\": [{\"cells\": {\"fill\": {\"color\": \"#EBF0F8\"}, \"line\": {\"color\": \"white\"}}, \"header\": {\"fill\": {\"color\": \"#C8D4E3\"}, \"line\": {\"color\": \"white\"}}, \"type\": \"table\"}]}, \"layout\": {\"annotationdefaults\": {\"arrowcolor\": \"#2a3f5f\", \"arrowhead\": 0, \"arrowwidth\": 1}, \"coloraxis\": {\"colorbar\": {\"outlinewidth\": 0, \"ticks\": \"\"}}, \"colorscale\": {\"diverging\": [[0, \"#8e0152\"], [0.1, \"#c51b7d\"], [0.2, \"#de77ae\"], [0.3, \"#f1b6da\"], [0.4, \"#fde0ef\"], [0.5, \"#f7f7f7\"], [0.6, \"#e6f5d0\"], [0.7, \"#b8e186\"], [0.8, \"#7fbc41\"], [0.9, \"#4d9221\"], [1, \"#276419\"]], \"sequential\": [[0.0, \"#0d0887\"], [0.1111111111111111, \"#46039f\"], [0.2222222222222222, \"#7201a8\"], [0.3333333333333333, \"#9c179e\"], [0.4444444444444444, \"#bd3786\"], [0.5555555555555556, \"#d8576b\"], [0.6666666666666666, \"#ed7953\"], [0.7777777777777778, \"#fb9f3a\"], [0.8888888888888888, \"#fdca26\"], [1.0, \"#f0f921\"]], \"sequentialminus\": [[0.0, \"#0d0887\"], [0.1111111111111111, \"#46039f\"], [0.2222222222222222, \"#7201a8\"], [0.3333333333333333, \"#9c179e\"], [0.4444444444444444, \"#bd3786\"], [0.5555555555555556, \"#d8576b\"], [0.6666666666666666, \"#ed7953\"], [0.7777777777777778, \"#fb9f3a\"], [0.8888888888888888, \"#fdca26\"], [1.0, \"#f0f921\"]]}, \"colorway\": [\"#636efa\", \"#EF553B\", \"#00cc96\", \"#ab63fa\", \"#FFA15A\", \"#19d3f3\", \"#FF6692\", \"#B6E880\", \"#FF97FF\", \"#FECB52\"], \"font\": {\"color\": \"#2a3f5f\"}, \"geo\": {\"bgcolor\": \"white\", \"lakecolor\": \"white\", \"landcolor\": \"#E5ECF6\", \"showlakes\": true, \"showland\": true, \"subunitcolor\": \"white\"}, \"hoverlabel\": {\"align\": \"left\"}, \"hovermode\": \"closest\", \"mapbox\": {\"style\": \"light\"}, \"paper_bgcolor\": \"white\", \"plot_bgcolor\": \"#E5ECF6\", \"polar\": {\"angularaxis\": {\"gridcolor\": \"white\", \"linecolor\": \"white\", \"ticks\": \"\"}, \"bgcolor\": \"#E5ECF6\", \"radialaxis\": {\"gridcolor\": \"white\", \"linecolor\": \"white\", \"ticks\": \"\"}}, \"scene\": {\"xaxis\": {\"backgroundcolor\": \"#E5ECF6\", \"gridcolor\": \"white\", \"gridwidth\": 2, \"linecolor\": \"white\", \"showbackground\": true, \"ticks\": \"\", \"zerolinecolor\": \"white\"}, \"yaxis\": {\"backgroundcolor\": \"#E5ECF6\", \"gridcolor\": \"white\", \"gridwidth\": 2, \"linecolor\": \"white\", \"showbackground\": true, \"ticks\": \"\", \"zerolinecolor\": \"white\"}, \"zaxis\": {\"backgroundcolor\": \"#E5ECF6\", \"gridcolor\": \"white\", \"gridwidth\": 2, \"linecolor\": \"white\", \"showbackground\": true, \"ticks\": \"\", \"zerolinecolor\": \"white\"}}, \"shapedefaults\": {\"line\": {\"color\": \"#2a3f5f\"}}, \"ternary\": {\"aaxis\": {\"gridcolor\": \"white\", \"linecolor\": \"white\", \"ticks\": \"\"}, \"baxis\": {\"gridcolor\": \"white\", \"linecolor\": \"white\", \"ticks\": \"\"}, \"bgcolor\": \"#E5ECF6\", \"caxis\": {\"gridcolor\": \"white\", \"linecolor\": \"white\", \"ticks\": \"\"}}, \"title\": {\"x\": 0.05}, \"xaxis\": {\"automargin\": true, \"gridcolor\": \"white\", \"linecolor\": \"white\", \"ticks\": \"\", \"title\": {\"standoff\": 15}, \"zerolinecolor\": \"white\", \"zerolinewidth\": 2}, \"yaxis\": {\"automargin\": true, \"gridcolor\": \"white\", \"linecolor\": \"white\", \"ticks\": \"\", \"title\": {\"standoff\": 15}, \"zerolinecolor\": \"white\", \"zerolinewidth\": 2}}}, \"width\": 800, \"xaxis\": {\"showgrid\": false, \"showticklabels\": false, \"zeroline\": false}, \"yaxis\": {\"showgrid\": false, \"showticklabels\": false, \"zeroline\": false}},                        {\"displayModeBar\": false, \"responsive\": true}                    ).then(function(){\n                            \nvar gd = document.getElementById('32680e56-365b-4afa-8961-602cf207b2ff');\nvar x = new MutationObserver(function (mutations, observer) {{\n        var display = window.getComputedStyle(gd).display;\n        if (!display || display === 'none') {{\n            console.log([gd, 'removed!']);\n            Plotly.purge(gd);\n            observer.disconnect();\n        }}\n}});\n\n// Listen for the removal of the full notebook cells\nvar notebookContainer = gd.closest('#notebook-container');\nif (notebookContainer) {{\n    x.observe(notebookContainer, {childList: true});\n}}\n\n// Listen for the clearing of the current output cell\nvar outputEl = gd.closest('.output');\nif (outputEl) {{\n    x.observe(outputEl, {childList: true});\n}}\n\n                        })                };                });            </script>        </div>"
     },
     "metadata": {}
    },
    {
     "output_type": "stream",
     "name": "stdout",
     "text": [
      "REDE 2\nNós: jogos;\nArestas: jogos que compartilham a mesma plataforma de jogo;\n"
     ]
    },
    {
     "output_type": "display_data",
     "data": {
      "application/vnd.plotly.v1+json": {
       "config": {
        "displayModeBar": false,
        "linkText": "Export to plot.ly",
        "plotlyServerURL": "https://plot.ly",
        "showLink": false
       },
       "data": [
        {
         "hoverinfo": "none",
         "line": {
          "color": "rgb(127, 127, 127)",
          "dash": "solid",
          "width": 0
         },
         "mode": "lines",
         "type": "scatter",
         "x": [
          0.525346720019549,
          0.525346720019549,
          null,
          0,
          1,
          null
         ],
         "y": [
          0,
          1,
          null,
          0.5151972686690497,
          0.5151972686690497,
          null
         ]
        },
        {
         "hoverinfo": "none",
         "line": {
          "color": "rgb(0, 0, 0)",
          "dash": "solid",
          "width": 1
         },
         "mode": "lines",
         "type": "scatter",
         "x": [
          0.9823908812083434,
          0.5873010613540907,
          null,
          0.9823908812083434,
          0.750587387748178,
          null,
          0.9823908812083434,
          0.7880386498095213,
          null,
          0.9823908812083434,
          0.9282716408463717,
          null,
          0.9823908812083434,
          0.46616313700546785,
          null,
          0.9823908812083434,
          0.42052312464936903,
          null,
          0.9823908812083434,
          0.8010594105175385,
          null,
          0.9823908812083434,
          0,
          null,
          0.9823908812083434,
          0.32555326144736324,
          null,
          0.5873010613540907,
          0.750587387748178,
          null,
          0.5873010613540907,
          0.7880386498095213,
          null,
          0.5873010613540907,
          0.9282716408463717,
          null,
          0.5873010613540907,
          0.46616313700546785,
          null,
          0.5873010613540907,
          0.42052312464936903,
          null,
          0.5873010613540907,
          0.8010594105175385,
          null,
          0.5873010613540907,
          0,
          null,
          0.5873010613540907,
          0.32555326144736324,
          null,
          0.7269020366156637,
          0.750587387748178,
          null,
          0.7269020366156637,
          0,
          null,
          0.7269020366156637,
          0.32555326144736324,
          null,
          0.750587387748178,
          0.7880386498095213,
          null,
          0.750587387748178,
          0.9282716408463717,
          null,
          0.750587387748178,
          0.46616313700546785,
          null,
          0.750587387748178,
          0.42052312464936903,
          null,
          0.750587387748178,
          0.8010594105175385,
          null,
          0.750587387748178,
          0,
          null,
          0.750587387748178,
          0.32555326144736324,
          null,
          0.7880386498095213,
          0.9282716408463717,
          null,
          0.7880386498095213,
          0.46616313700546785,
          null,
          0.7880386498095213,
          0.42052312464936903,
          null,
          0.7880386498095213,
          0.8010594105175385,
          null,
          0.7880386498095213,
          0,
          null,
          0.7880386498095213,
          0.32555326144736324,
          null,
          0.0893416328577264,
          0.6303323957631627,
          null,
          0.0893416328577264,
          0.30859254617144133,
          null,
          0.0893416328577264,
          0.23231567880877146,
          null,
          0.0893416328577264,
          0.2244398632612155,
          null,
          0.0893416328577264,
          1,
          null,
          0.6303323957631627,
          0.30859254617144133,
          null,
          0.6303323957631627,
          0.23231567880877146,
          null,
          0.6303323957631627,
          0.2244398632612155,
          null,
          0.6303323957631627,
          1,
          null,
          0.30859254617144133,
          0.23231567880877146,
          null,
          0.30859254617144133,
          0.2244398632612155,
          null,
          0.30859254617144133,
          1,
          null,
          0.9282716408463717,
          0.46616313700546785,
          null,
          0.9282716408463717,
          0.42052312464936903,
          null,
          0.9282716408463717,
          0.8010594105175385,
          null,
          0.9282716408463717,
          0,
          null,
          0.9282716408463717,
          0.32555326144736324,
          null,
          0.46616313700546785,
          0.42052312464936903,
          null,
          0.46616313700546785,
          0.8010594105175385,
          null,
          0.46616313700546785,
          0,
          null,
          0.46616313700546785,
          0.32555326144736324,
          null,
          0.42052312464936903,
          0.8010594105175385,
          null,
          0.42052312464936903,
          0,
          null,
          0.42052312464936903,
          0.32555326144736324,
          null,
          0.23231567880877146,
          0.2244398632612155,
          null,
          0.23231567880877146,
          1,
          null,
          0.8010594105175385,
          0,
          null,
          0.8010594105175385,
          0.32555326144736324,
          null,
          0,
          0.32555326144736324,
          null,
          0.2244398632612155,
          1,
          null
         ],
         "y": [
          0.33376773680782035,
          1,
          null,
          0.33376773680782035,
          0.9001843406128097,
          null,
          0.33376773680782035,
          0.7042406658913957,
          null,
          0.33376773680782035,
          0.507835333172526,
          null,
          0.33376773680782035,
          0.725048322936125,
          null,
          0.33376773680782035,
          0.053205493503730744,
          null,
          0.33376773680782035,
          0.8237306370289622,
          null,
          0.33376773680782035,
          0.6199696073125159,
          null,
          0.33376773680782035,
          0.8410213756734193,
          null,
          1,
          0.9001843406128097,
          null,
          1,
          0.7042406658913957,
          null,
          1,
          0.507835333172526,
          null,
          1,
          0.725048322936125,
          null,
          1,
          0.053205493503730744,
          null,
          1,
          0.8237306370289622,
          null,
          1,
          0.6199696073125159,
          null,
          1,
          0.8410213756734193,
          null,
          0.9026172025523869,
          0.9001843406128097,
          null,
          0.9026172025523869,
          0.6199696073125159,
          null,
          0.9026172025523869,
          0.8410213756734193,
          null,
          0.9001843406128097,
          0.7042406658913957,
          null,
          0.9001843406128097,
          0.507835333172526,
          null,
          0.9001843406128097,
          0.725048322936125,
          null,
          0.9001843406128097,
          0.053205493503730744,
          null,
          0.9001843406128097,
          0.8237306370289622,
          null,
          0.9001843406128097,
          0.6199696073125159,
          null,
          0.9001843406128097,
          0.8410213756734193,
          null,
          0.7042406658913957,
          0.507835333172526,
          null,
          0.7042406658913957,
          0.725048322936125,
          null,
          0.7042406658913957,
          0.053205493503730744,
          null,
          0.7042406658913957,
          0.8237306370289622,
          null,
          0.7042406658913957,
          0.6199696073125159,
          null,
          0.7042406658913957,
          0.8410213756734193,
          null,
          0.6612889914658469,
          0.2694029429624374,
          null,
          0.6612889914658469,
          0.2713408949513841,
          null,
          0.6612889914658469,
          0.6601632659277991,
          null,
          0.6612889914658469,
          0,
          null,
          0.6612889914658469,
          0.6272301041260748,
          null,
          0.2694029429624374,
          0.2713408949513841,
          null,
          0.2694029429624374,
          0.6601632659277991,
          null,
          0.2694029429624374,
          0,
          null,
          0.2694029429624374,
          0.6272301041260748,
          null,
          0.2713408949513841,
          0.6601632659277991,
          null,
          0.2713408949513841,
          0,
          null,
          0.2713408949513841,
          0.6272301041260748,
          null,
          0.507835333172526,
          0.725048322936125,
          null,
          0.507835333172526,
          0.053205493503730744,
          null,
          0.507835333172526,
          0.8237306370289622,
          null,
          0.507835333172526,
          0.6199696073125159,
          null,
          0.507835333172526,
          0.8410213756734193,
          null,
          0.725048322936125,
          0.053205493503730744,
          null,
          0.725048322936125,
          0.8237306370289622,
          null,
          0.725048322936125,
          0.6199696073125159,
          null,
          0.725048322936125,
          0.8410213756734193,
          null,
          0.053205493503730744,
          0.8237306370289622,
          null,
          0.053205493503730744,
          0.6199696073125159,
          null,
          0.053205493503730744,
          0.8410213756734193,
          null,
          0.6601632659277991,
          0,
          null,
          0.6601632659277991,
          0.6272301041260748,
          null,
          0.8237306370289622,
          0.6199696073125159,
          null,
          0.8237306370289622,
          0.8410213756734193,
          null,
          0.6199696073125159,
          0.8410213756734193,
          null,
          0,
          0.6272301041260748,
          null
         ]
        },
        {
         "hoverinfo": "text",
         "marker": {
          "color": "rgb(255, 255, 255)",
          "line": {
           "color": "rgb(0, 0, 0)",
           "width": 1
          },
          "size": 10,
          "symbol": "circle"
         },
         "mode": "markers",
         "text": [
          "super-intergalactic-gang",
          "aporia-darkmist-forest",
          "the-corridor",
          "spockadelic",
          "diamond-pusher",
          "tile-runner",
          "cherry-fm-demo",
          "ha-ni-ha-ni-luo-li-hua-zhuang-huan-zhuang-yue-hui-",
          "volk-i-semero-kozliat-zhivaia-i-dobraia-interaktiv",
          "teremok-zhivaia-i-dobraia-interaktivnaia-razvivaiu",
          "quatris-origins",
          "black-men",
          "table-warriors",
          "lb-khtbr-lgny-lb-dhk-lb-mgmrt",
          "space-rush",
          "snow-thy-enemy",
          "celestial-antodias",
          "deadhop",
          "flappyowen",
          "criminel"
         ],
         "textfont": {
          "color": "rgb(0, 0, 0)"
         },
         "textposition": "middle center",
         "type": "scatter",
         "x": [
          0.9823908812083434,
          0.5873010613540907,
          0.8831024368075151,
          0.7269020366156637,
          0.750587387748178,
          0.07123982669672346,
          0.7880386498095213,
          0.0893416328577264,
          0.6303323957631627,
          0.30859254617144133,
          0.9282716408463717,
          0.46616313700546785,
          0.42052312464936903,
          0.23231567880877146,
          0.8010594105175385,
          0,
          0.32555326144736324,
          0.9447658749478213,
          0.2244398632612155,
          1
         ],
         "y": [
          0.33376773680782035,
          1,
          0.7885084875213654,
          0.9026172025523869,
          0.9001843406128097,
          0.7820398038916646,
          0.7042406658913957,
          0.6612889914658469,
          0.2694029429624374,
          0.2713408949513841,
          0.507835333172526,
          0.725048322936125,
          0.053205493503730744,
          0.6601632659277991,
          0.8237306370289622,
          0.6199696073125159,
          0.8410213756734193,
          0.7031065983864658,
          0,
          0.6272301041260748
         ]
        },
        {
         "hoverinfo": "none",
         "mode": "text",
         "text": [],
         "textfont": {
          "color": "rgb(255, 255, 255)"
         },
         "textposition": "middle center",
         "type": "scatter",
         "x": [],
         "y": []
        },
        {
         "hoverinfo": "none",
         "mode": "text",
         "text": [
          null,
          null,
          null,
          null,
          null,
          null,
          null,
          null,
          null,
          null,
          null,
          null,
          null,
          null,
          null,
          null,
          null,
          null,
          null,
          null
         ],
         "textfont": {
          "color": "rgb(0, 0, 0)"
         },
         "textposition": "middle center",
         "type": "scatter",
         "x": [
          0.9823908812083434,
          0.5873010613540907,
          0.8831024368075151,
          0.7269020366156637,
          0.750587387748178,
          0.07123982669672346,
          0.7880386498095213,
          0.0893416328577264,
          0.6303323957631627,
          0.30859254617144133,
          0.9282716408463717,
          0.46616313700546785,
          0.42052312464936903,
          0.23231567880877146,
          0.8010594105175385,
          0,
          0.32555326144736324,
          0.9447658749478213,
          0.2244398632612155,
          1
         ],
         "y": [
          0.33376773680782035,
          1,
          0.7885084875213654,
          0.9026172025523869,
          0.9001843406128097,
          0.7820398038916646,
          0.7042406658913957,
          0.6612889914658469,
          0.2694029429624374,
          0.2713408949513841,
          0.507835333172526,
          0.725048322936125,
          0.053205493503730744,
          0.6601632659277991,
          0.8237306370289622,
          0.6199696073125159,
          0.8410213756734193,
          0.7031065983864658,
          0,
          0.6272301041260748
         ]
        },
        {
         "hoverinfo": "none",
         "mode": "text",
         "text": [
          null,
          null,
          null,
          null,
          null,
          null,
          null,
          null,
          null,
          null,
          null,
          null,
          null,
          null,
          null,
          null,
          null,
          null,
          null,
          null,
          null,
          null,
          null,
          null,
          null,
          null,
          null,
          null,
          null,
          null,
          null,
          null,
          null,
          null,
          null,
          null,
          null,
          null,
          null,
          null,
          null,
          null,
          null,
          null,
          null,
          null,
          null,
          null,
          null,
          null,
          null,
          null,
          null,
          null,
          null,
          null,
          null,
          null,
          null,
          null,
          null,
          null,
          null
         ],
         "textfont": {
          "color": "rgb(0, 0, 0)"
         },
         "textposition": "middle center",
         "type": "scatter",
         "x": [
          0.7751004746623079,
          0.8549816287977166,
          0.8748413800110892,
          0.942837880892238,
          0.7187707009743306,
          0.7052453911103217,
          0.8798223319277845,
          0.48893266821499554,
          0.6483774733743771,
          0.6735036218478742,
          0.6966898810353078,
          0.7666939788258128,
          0.5379250193596605,
          0.5175892394143287,
          0.7000916120830104,
          0.2984478288012608,
          0.4609602470369224,
          0.7395513130475527,
          0.366442276274436,
          0.5274304909993038,
          0.7828777680833005,
          0.8504999789557253,
          0.6129645694716807,
          0.5972601015093384,
          0.7849944972700679,
          0.3781705050087174,
          0.5391619546804962,
          0.866897132932818,
          0.6265927690895907,
          0.6142830829888349,
          0.780457692215622,
          0.3948589677114709,
          0.5544997277756666,
          0.36513321171345287,
          0.20898987938677527,
          0.16089058250989338,
          0.17035169887300566,
          0.5449649133442849,
          0.46941509672305787,
          0.42452234487124574,
          0.43229263421957725,
          0.8084390290053284,
          0.25692858262411367,
          0.2790171578612251,
          0.6503995722556829,
          0.6936370246444419,
          0.6807209544659507,
          0.8530920341830309,
          0.46318778989662346,
          0.6227509300413417,
          0.4576015753754838,
          0.6313232642845161,
          0.2348411199273594,
          0.38994583344355505,
          0.6001233291538949,
          0.20173154449078362,
          0.3590065759930693,
          0.24274217627408642,
          0.6164951558638133,
          0.40251120048746536,
          0.5630203940273215,
          0.15777078797220778,
          0.6064035557180343
         ],
         "y": [
          0.647597845314556,
          0.6012603388156001,
          0.5008439398620117,
          0.40783922981389203,
          0.5051652688742664,
          0.1681687031639385,
          0.5640488205054542,
          0.4509494923188173,
          0.5632193461220074,
          0.9749822967925016,
          0.872550246719532,
          0.7745114936781953,
          0.8460677290921389,
          0.5185629162825672,
          0.9357876428680725,
          0.7852443481511211,
          0.8956045288106327,
          0.9276060980704383,
          0.735621801992063,
          0.8456647089788574,
          0.8108644832871538,
          0.720740407783145,
          0.7877445556500188,
          0.46147332260536644,
          0.8821617070377804,
          0.7343617580395502,
          0.8444320041833033,
          0.6268673456225095,
          0.6884141939747744,
          0.3598807275614352,
          0.7691098465956803,
          0.6359032737906767,
          0.7467216616005168,
          0.4897444454260163,
          0.4851207409001176,
          0.6869726040640173,
          0.33982153590039665,
          0.6705007678772423,
          0.24412534247226453,
          0.44166371453098574,
          0.11003258915009856,
          0.4715085633633778,
          0.4568975727394947,
          0.12273253023887712,
          0.47454849412693884,
          0.5910230943712885,
          0.25695246910059866,
          0.6502298257337208,
          0.5377129491856428,
          0.6493066984181244,
          0.3858945554985133,
          0.8003012652974979,
          0.646459808693475,
          0.7591133411065578,
          0.45604966094158883,
          0.31546696236019567,
          0.4414687805115397,
          0.32950975895589313,
          0.6699361698551316,
          0.6958542041458284,
          0.8061344855023658,
          0.7550976826097267,
          0.3376149601974438
         ]
        },
        {
         "hoverinfo": "none",
         "marker": {
          "color": "rgba(255, 255, 255, 0)",
          "line": {
           "color": "rgba(255, 255, 255, 0)",
           "width": 0
          },
          "size": 0,
          "symbol": "circle"
         },
         "mode": "markers",
         "type": "scatter",
         "x": [
          0.5,
          0,
          1,
          0.5
         ],
         "y": [
          0,
          0.5,
          0.5,
          1
         ]
        }
       ],
       "layout": {
        "height": 450,
        "hovermode": "closest",
        "margin": {
         "b": 10,
         "l": 10,
         "r": 10,
         "t": 10
        },
        "plot_bgcolor": "rgb(255, 255, 255)",
        "showlegend": false,
        "template": {
         "data": {
          "bar": [
           {
            "error_x": {
             "color": "#2a3f5f"
            },
            "error_y": {
             "color": "#2a3f5f"
            },
            "marker": {
             "line": {
              "color": "#E5ECF6",
              "width": 0.5
             }
            },
            "type": "bar"
           }
          ],
          "barpolar": [
           {
            "marker": {
             "line": {
              "color": "#E5ECF6",
              "width": 0.5
             }
            },
            "type": "barpolar"
           }
          ],
          "carpet": [
           {
            "aaxis": {
             "endlinecolor": "#2a3f5f",
             "gridcolor": "white",
             "linecolor": "white",
             "minorgridcolor": "white",
             "startlinecolor": "#2a3f5f"
            },
            "baxis": {
             "endlinecolor": "#2a3f5f",
             "gridcolor": "white",
             "linecolor": "white",
             "minorgridcolor": "white",
             "startlinecolor": "#2a3f5f"
            },
            "type": "carpet"
           }
          ],
          "choropleth": [
           {
            "colorbar": {
             "outlinewidth": 0,
             "ticks": ""
            },
            "type": "choropleth"
           }
          ],
          "contour": [
           {
            "colorbar": {
             "outlinewidth": 0,
             "ticks": ""
            },
            "colorscale": [
             [
              0,
              "#0d0887"
             ],
             [
              0.1111111111111111,
              "#46039f"
             ],
             [
              0.2222222222222222,
              "#7201a8"
             ],
             [
              0.3333333333333333,
              "#9c179e"
             ],
             [
              0.4444444444444444,
              "#bd3786"
             ],
             [
              0.5555555555555556,
              "#d8576b"
             ],
             [
              0.6666666666666666,
              "#ed7953"
             ],
             [
              0.7777777777777778,
              "#fb9f3a"
             ],
             [
              0.8888888888888888,
              "#fdca26"
             ],
             [
              1,
              "#f0f921"
             ]
            ],
            "type": "contour"
           }
          ],
          "contourcarpet": [
           {
            "colorbar": {
             "outlinewidth": 0,
             "ticks": ""
            },
            "type": "contourcarpet"
           }
          ],
          "heatmap": [
           {
            "colorbar": {
             "outlinewidth": 0,
             "ticks": ""
            },
            "colorscale": [
             [
              0,
              "#0d0887"
             ],
             [
              0.1111111111111111,
              "#46039f"
             ],
             [
              0.2222222222222222,
              "#7201a8"
             ],
             [
              0.3333333333333333,
              "#9c179e"
             ],
             [
              0.4444444444444444,
              "#bd3786"
             ],
             [
              0.5555555555555556,
              "#d8576b"
             ],
             [
              0.6666666666666666,
              "#ed7953"
             ],
             [
              0.7777777777777778,
              "#fb9f3a"
             ],
             [
              0.8888888888888888,
              "#fdca26"
             ],
             [
              1,
              "#f0f921"
             ]
            ],
            "type": "heatmap"
           }
          ],
          "heatmapgl": [
           {
            "colorbar": {
             "outlinewidth": 0,
             "ticks": ""
            },
            "colorscale": [
             [
              0,
              "#0d0887"
             ],
             [
              0.1111111111111111,
              "#46039f"
             ],
             [
              0.2222222222222222,
              "#7201a8"
             ],
             [
              0.3333333333333333,
              "#9c179e"
             ],
             [
              0.4444444444444444,
              "#bd3786"
             ],
             [
              0.5555555555555556,
              "#d8576b"
             ],
             [
              0.6666666666666666,
              "#ed7953"
             ],
             [
              0.7777777777777778,
              "#fb9f3a"
             ],
             [
              0.8888888888888888,
              "#fdca26"
             ],
             [
              1,
              "#f0f921"
             ]
            ],
            "type": "heatmapgl"
           }
          ],
          "histogram": [
           {
            "marker": {
             "colorbar": {
              "outlinewidth": 0,
              "ticks": ""
             }
            },
            "type": "histogram"
           }
          ],
          "histogram2d": [
           {
            "colorbar": {
             "outlinewidth": 0,
             "ticks": ""
            },
            "colorscale": [
             [
              0,
              "#0d0887"
             ],
             [
              0.1111111111111111,
              "#46039f"
             ],
             [
              0.2222222222222222,
              "#7201a8"
             ],
             [
              0.3333333333333333,
              "#9c179e"
             ],
             [
              0.4444444444444444,
              "#bd3786"
             ],
             [
              0.5555555555555556,
              "#d8576b"
             ],
             [
              0.6666666666666666,
              "#ed7953"
             ],
             [
              0.7777777777777778,
              "#fb9f3a"
             ],
             [
              0.8888888888888888,
              "#fdca26"
             ],
             [
              1,
              "#f0f921"
             ]
            ],
            "type": "histogram2d"
           }
          ],
          "histogram2dcontour": [
           {
            "colorbar": {
             "outlinewidth": 0,
             "ticks": ""
            },
            "colorscale": [
             [
              0,
              "#0d0887"
             ],
             [
              0.1111111111111111,
              "#46039f"
             ],
             [
              0.2222222222222222,
              "#7201a8"
             ],
             [
              0.3333333333333333,
              "#9c179e"
             ],
             [
              0.4444444444444444,
              "#bd3786"
             ],
             [
              0.5555555555555556,
              "#d8576b"
             ],
             [
              0.6666666666666666,
              "#ed7953"
             ],
             [
              0.7777777777777778,
              "#fb9f3a"
             ],
             [
              0.8888888888888888,
              "#fdca26"
             ],
             [
              1,
              "#f0f921"
             ]
            ],
            "type": "histogram2dcontour"
           }
          ],
          "mesh3d": [
           {
            "colorbar": {
             "outlinewidth": 0,
             "ticks": ""
            },
            "type": "mesh3d"
           }
          ],
          "parcoords": [
           {
            "line": {
             "colorbar": {
              "outlinewidth": 0,
              "ticks": ""
             }
            },
            "type": "parcoords"
           }
          ],
          "pie": [
           {
            "automargin": true,
            "type": "pie"
           }
          ],
          "scatter": [
           {
            "marker": {
             "colorbar": {
              "outlinewidth": 0,
              "ticks": ""
             }
            },
            "type": "scatter"
           }
          ],
          "scatter3d": [
           {
            "line": {
             "colorbar": {
              "outlinewidth": 0,
              "ticks": ""
             }
            },
            "marker": {
             "colorbar": {
              "outlinewidth": 0,
              "ticks": ""
             }
            },
            "type": "scatter3d"
           }
          ],
          "scattercarpet": [
           {
            "marker": {
             "colorbar": {
              "outlinewidth": 0,
              "ticks": ""
             }
            },
            "type": "scattercarpet"
           }
          ],
          "scattergeo": [
           {
            "marker": {
             "colorbar": {
              "outlinewidth": 0,
              "ticks": ""
             }
            },
            "type": "scattergeo"
           }
          ],
          "scattergl": [
           {
            "marker": {
             "colorbar": {
              "outlinewidth": 0,
              "ticks": ""
             }
            },
            "type": "scattergl"
           }
          ],
          "scattermapbox": [
           {
            "marker": {
             "colorbar": {
              "outlinewidth": 0,
              "ticks": ""
             }
            },
            "type": "scattermapbox"
           }
          ],
          "scatterpolar": [
           {
            "marker": {
             "colorbar": {
              "outlinewidth": 0,
              "ticks": ""
             }
            },
            "type": "scatterpolar"
           }
          ],
          "scatterpolargl": [
           {
            "marker": {
             "colorbar": {
              "outlinewidth": 0,
              "ticks": ""
             }
            },
            "type": "scatterpolargl"
           }
          ],
          "scatterternary": [
           {
            "marker": {
             "colorbar": {
              "outlinewidth": 0,
              "ticks": ""
             }
            },
            "type": "scatterternary"
           }
          ],
          "surface": [
           {
            "colorbar": {
             "outlinewidth": 0,
             "ticks": ""
            },
            "colorscale": [
             [
              0,
              "#0d0887"
             ],
             [
              0.1111111111111111,
              "#46039f"
             ],
             [
              0.2222222222222222,
              "#7201a8"
             ],
             [
              0.3333333333333333,
              "#9c179e"
             ],
             [
              0.4444444444444444,
              "#bd3786"
             ],
             [
              0.5555555555555556,
              "#d8576b"
             ],
             [
              0.6666666666666666,
              "#ed7953"
             ],
             [
              0.7777777777777778,
              "#fb9f3a"
             ],
             [
              0.8888888888888888,
              "#fdca26"
             ],
             [
              1,
              "#f0f921"
             ]
            ],
            "type": "surface"
           }
          ],
          "table": [
           {
            "cells": {
             "fill": {
              "color": "#EBF0F8"
             },
             "line": {
              "color": "white"
             }
            },
            "header": {
             "fill": {
              "color": "#C8D4E3"
             },
             "line": {
              "color": "white"
             }
            },
            "type": "table"
           }
          ]
         },
         "layout": {
          "annotationdefaults": {
           "arrowcolor": "#2a3f5f",
           "arrowhead": 0,
           "arrowwidth": 1
          },
          "coloraxis": {
           "colorbar": {
            "outlinewidth": 0,
            "ticks": ""
           }
          },
          "colorscale": {
           "diverging": [
            [
             0,
             "#8e0152"
            ],
            [
             0.1,
             "#c51b7d"
            ],
            [
             0.2,
             "#de77ae"
            ],
            [
             0.3,
             "#f1b6da"
            ],
            [
             0.4,
             "#fde0ef"
            ],
            [
             0.5,
             "#f7f7f7"
            ],
            [
             0.6,
             "#e6f5d0"
            ],
            [
             0.7,
             "#b8e186"
            ],
            [
             0.8,
             "#7fbc41"
            ],
            [
             0.9,
             "#4d9221"
            ],
            [
             1,
             "#276419"
            ]
           ],
           "sequential": [
            [
             0,
             "#0d0887"
            ],
            [
             0.1111111111111111,
             "#46039f"
            ],
            [
             0.2222222222222222,
             "#7201a8"
            ],
            [
             0.3333333333333333,
             "#9c179e"
            ],
            [
             0.4444444444444444,
             "#bd3786"
            ],
            [
             0.5555555555555556,
             "#d8576b"
            ],
            [
             0.6666666666666666,
             "#ed7953"
            ],
            [
             0.7777777777777778,
             "#fb9f3a"
            ],
            [
             0.8888888888888888,
             "#fdca26"
            ],
            [
             1,
             "#f0f921"
            ]
           ],
           "sequentialminus": [
            [
             0,
             "#0d0887"
            ],
            [
             0.1111111111111111,
             "#46039f"
            ],
            [
             0.2222222222222222,
             "#7201a8"
            ],
            [
             0.3333333333333333,
             "#9c179e"
            ],
            [
             0.4444444444444444,
             "#bd3786"
            ],
            [
             0.5555555555555556,
             "#d8576b"
            ],
            [
             0.6666666666666666,
             "#ed7953"
            ],
            [
             0.7777777777777778,
             "#fb9f3a"
            ],
            [
             0.8888888888888888,
             "#fdca26"
            ],
            [
             1,
             "#f0f921"
            ]
           ]
          },
          "colorway": [
           "#636efa",
           "#EF553B",
           "#00cc96",
           "#ab63fa",
           "#FFA15A",
           "#19d3f3",
           "#FF6692",
           "#B6E880",
           "#FF97FF",
           "#FECB52"
          ],
          "font": {
           "color": "#2a3f5f"
          },
          "geo": {
           "bgcolor": "white",
           "lakecolor": "white",
           "landcolor": "#E5ECF6",
           "showlakes": true,
           "showland": true,
           "subunitcolor": "white"
          },
          "hoverlabel": {
           "align": "left"
          },
          "hovermode": "closest",
          "mapbox": {
           "style": "light"
          },
          "paper_bgcolor": "white",
          "plot_bgcolor": "#E5ECF6",
          "polar": {
           "angularaxis": {
            "gridcolor": "white",
            "linecolor": "white",
            "ticks": ""
           },
           "bgcolor": "#E5ECF6",
           "radialaxis": {
            "gridcolor": "white",
            "linecolor": "white",
            "ticks": ""
           }
          },
          "scene": {
           "xaxis": {
            "backgroundcolor": "#E5ECF6",
            "gridcolor": "white",
            "gridwidth": 2,
            "linecolor": "white",
            "showbackground": true,
            "ticks": "",
            "zerolinecolor": "white"
           },
           "yaxis": {
            "backgroundcolor": "#E5ECF6",
            "gridcolor": "white",
            "gridwidth": 2,
            "linecolor": "white",
            "showbackground": true,
            "ticks": "",
            "zerolinecolor": "white"
           },
           "zaxis": {
            "backgroundcolor": "#E5ECF6",
            "gridcolor": "white",
            "gridwidth": 2,
            "linecolor": "white",
            "showbackground": true,
            "ticks": "",
            "zerolinecolor": "white"
           }
          },
          "shapedefaults": {
           "line": {
            "color": "#2a3f5f"
           }
          },
          "ternary": {
           "aaxis": {
            "gridcolor": "white",
            "linecolor": "white",
            "ticks": ""
           },
           "baxis": {
            "gridcolor": "white",
            "linecolor": "white",
            "ticks": ""
           },
           "bgcolor": "#E5ECF6",
           "caxis": {
            "gridcolor": "white",
            "linecolor": "white",
            "ticks": ""
           }
          },
          "title": {
           "x": 0.05
          },
          "xaxis": {
           "automargin": true,
           "gridcolor": "white",
           "linecolor": "white",
           "ticks": "",
           "title": {
            "standoff": 15
           },
           "zerolinecolor": "white",
           "zerolinewidth": 2
          },
          "yaxis": {
           "automargin": true,
           "gridcolor": "white",
           "linecolor": "white",
           "ticks": "",
           "title": {
            "standoff": 15
           },
           "zerolinecolor": "white",
           "zerolinewidth": 2
          }
         }
        },
        "width": 800,
        "xaxis": {
         "showgrid": false,
         "showticklabels": false,
         "zeroline": false
        },
        "yaxis": {
         "showgrid": false,
         "showticklabels": false,
         "zeroline": false
        }
       }
      },
      "text/html": "<div>                            <div id=\"b6ae655d-463a-48a0-aefe-ee5db2a98493\" class=\"plotly-graph-div\" style=\"height:450px; width:800px;\"></div>            <script type=\"text/javascript\">                require([\"plotly\"], function(Plotly) {                    window.PLOTLYENV=window.PLOTLYENV || {};                                    if (document.getElementById(\"b6ae655d-463a-48a0-aefe-ee5db2a98493\")) {                    Plotly.newPlot(                        \"b6ae655d-463a-48a0-aefe-ee5db2a98493\",                        [{\"hoverinfo\": \"none\", \"line\": {\"color\": \"rgb(127, 127, 127)\", \"dash\": \"solid\", \"width\": 0}, \"mode\": \"lines\", \"type\": \"scatter\", \"x\": [0.525346720019549, 0.525346720019549, null, 0, 1, null], \"y\": [0, 1, null, 0.5151972686690497, 0.5151972686690497, null]}, {\"hoverinfo\": \"none\", \"line\": {\"color\": \"rgb(0, 0, 0)\", \"dash\": \"solid\", \"width\": 1}, \"mode\": \"lines\", \"type\": \"scatter\", \"x\": [0.9823908812083434, 0.5873010613540907, null, 0.9823908812083434, 0.750587387748178, null, 0.9823908812083434, 0.7880386498095213, null, 0.9823908812083434, 0.9282716408463717, null, 0.9823908812083434, 0.46616313700546785, null, 0.9823908812083434, 0.42052312464936903, null, 0.9823908812083434, 0.8010594105175385, null, 0.9823908812083434, 0.0, null, 0.9823908812083434, 0.32555326144736324, null, 0.5873010613540907, 0.750587387748178, null, 0.5873010613540907, 0.7880386498095213, null, 0.5873010613540907, 0.9282716408463717, null, 0.5873010613540907, 0.46616313700546785, null, 0.5873010613540907, 0.42052312464936903, null, 0.5873010613540907, 0.8010594105175385, null, 0.5873010613540907, 0.0, null, 0.5873010613540907, 0.32555326144736324, null, 0.7269020366156637, 0.750587387748178, null, 0.7269020366156637, 0.0, null, 0.7269020366156637, 0.32555326144736324, null, 0.750587387748178, 0.7880386498095213, null, 0.750587387748178, 0.9282716408463717, null, 0.750587387748178, 0.46616313700546785, null, 0.750587387748178, 0.42052312464936903, null, 0.750587387748178, 0.8010594105175385, null, 0.750587387748178, 0.0, null, 0.750587387748178, 0.32555326144736324, null, 0.7880386498095213, 0.9282716408463717, null, 0.7880386498095213, 0.46616313700546785, null, 0.7880386498095213, 0.42052312464936903, null, 0.7880386498095213, 0.8010594105175385, null, 0.7880386498095213, 0.0, null, 0.7880386498095213, 0.32555326144736324, null, 0.0893416328577264, 0.6303323957631627, null, 0.0893416328577264, 0.30859254617144133, null, 0.0893416328577264, 0.23231567880877146, null, 0.0893416328577264, 0.2244398632612155, null, 0.0893416328577264, 1.0, null, 0.6303323957631627, 0.30859254617144133, null, 0.6303323957631627, 0.23231567880877146, null, 0.6303323957631627, 0.2244398632612155, null, 0.6303323957631627, 1.0, null, 0.30859254617144133, 0.23231567880877146, null, 0.30859254617144133, 0.2244398632612155, null, 0.30859254617144133, 1.0, null, 0.9282716408463717, 0.46616313700546785, null, 0.9282716408463717, 0.42052312464936903, null, 0.9282716408463717, 0.8010594105175385, null, 0.9282716408463717, 0.0, null, 0.9282716408463717, 0.32555326144736324, null, 0.46616313700546785, 0.42052312464936903, null, 0.46616313700546785, 0.8010594105175385, null, 0.46616313700546785, 0.0, null, 0.46616313700546785, 0.32555326144736324, null, 0.42052312464936903, 0.8010594105175385, null, 0.42052312464936903, 0.0, null, 0.42052312464936903, 0.32555326144736324, null, 0.23231567880877146, 0.2244398632612155, null, 0.23231567880877146, 1.0, null, 0.8010594105175385, 0.0, null, 0.8010594105175385, 0.32555326144736324, null, 0.0, 0.32555326144736324, null, 0.2244398632612155, 1.0, null], \"y\": [0.33376773680782035, 1.0, null, 0.33376773680782035, 0.9001843406128097, null, 0.33376773680782035, 0.7042406658913957, null, 0.33376773680782035, 0.507835333172526, null, 0.33376773680782035, 0.725048322936125, null, 0.33376773680782035, 0.053205493503730744, null, 0.33376773680782035, 0.8237306370289622, null, 0.33376773680782035, 0.6199696073125159, null, 0.33376773680782035, 0.8410213756734193, null, 1.0, 0.9001843406128097, null, 1.0, 0.7042406658913957, null, 1.0, 0.507835333172526, null, 1.0, 0.725048322936125, null, 1.0, 0.053205493503730744, null, 1.0, 0.8237306370289622, null, 1.0, 0.6199696073125159, null, 1.0, 0.8410213756734193, null, 0.9026172025523869, 0.9001843406128097, null, 0.9026172025523869, 0.6199696073125159, null, 0.9026172025523869, 0.8410213756734193, null, 0.9001843406128097, 0.7042406658913957, null, 0.9001843406128097, 0.507835333172526, null, 0.9001843406128097, 0.725048322936125, null, 0.9001843406128097, 0.053205493503730744, null, 0.9001843406128097, 0.8237306370289622, null, 0.9001843406128097, 0.6199696073125159, null, 0.9001843406128097, 0.8410213756734193, null, 0.7042406658913957, 0.507835333172526, null, 0.7042406658913957, 0.725048322936125, null, 0.7042406658913957, 0.053205493503730744, null, 0.7042406658913957, 0.8237306370289622, null, 0.7042406658913957, 0.6199696073125159, null, 0.7042406658913957, 0.8410213756734193, null, 0.6612889914658469, 0.2694029429624374, null, 0.6612889914658469, 0.2713408949513841, null, 0.6612889914658469, 0.6601632659277991, null, 0.6612889914658469, 0.0, null, 0.6612889914658469, 0.6272301041260748, null, 0.2694029429624374, 0.2713408949513841, null, 0.2694029429624374, 0.6601632659277991, null, 0.2694029429624374, 0.0, null, 0.2694029429624374, 0.6272301041260748, null, 0.2713408949513841, 0.6601632659277991, null, 0.2713408949513841, 0.0, null, 0.2713408949513841, 0.6272301041260748, null, 0.507835333172526, 0.725048322936125, null, 0.507835333172526, 0.053205493503730744, null, 0.507835333172526, 0.8237306370289622, null, 0.507835333172526, 0.6199696073125159, null, 0.507835333172526, 0.8410213756734193, null, 0.725048322936125, 0.053205493503730744, null, 0.725048322936125, 0.8237306370289622, null, 0.725048322936125, 0.6199696073125159, null, 0.725048322936125, 0.8410213756734193, null, 0.053205493503730744, 0.8237306370289622, null, 0.053205493503730744, 0.6199696073125159, null, 0.053205493503730744, 0.8410213756734193, null, 0.6601632659277991, 0.0, null, 0.6601632659277991, 0.6272301041260748, null, 0.8237306370289622, 0.6199696073125159, null, 0.8237306370289622, 0.8410213756734193, null, 0.6199696073125159, 0.8410213756734193, null, 0.0, 0.6272301041260748, null]}, {\"hoverinfo\": \"text\", \"marker\": {\"color\": \"rgb(255, 255, 255)\", \"line\": {\"color\": \"rgb(0, 0, 0)\", \"width\": 1}, \"size\": 10, \"symbol\": \"circle\"}, \"mode\": \"markers\", \"text\": [\"super-intergalactic-gang\", \"aporia-darkmist-forest\", \"the-corridor\", \"spockadelic\", \"diamond-pusher\", \"tile-runner\", \"cherry-fm-demo\", \"ha-ni-ha-ni-luo-li-hua-zhuang-huan-zhuang-yue-hui-\", \"volk-i-semero-kozliat-zhivaia-i-dobraia-interaktiv\", \"teremok-zhivaia-i-dobraia-interaktivnaia-razvivaiu\", \"quatris-origins\", \"black-men\", \"table-warriors\", \"lb-khtbr-lgny-lb-dhk-lb-mgmrt\", \"space-rush\", \"snow-thy-enemy\", \"celestial-antodias\", \"deadhop\", \"flappyowen\", \"criminel\"], \"textfont\": {\"color\": \"rgb(0, 0, 0)\"}, \"textposition\": \"middle center\", \"type\": \"scatter\", \"x\": [0.9823908812083434, 0.5873010613540907, 0.8831024368075151, 0.7269020366156637, 0.750587387748178, 0.07123982669672346, 0.7880386498095213, 0.0893416328577264, 0.6303323957631627, 0.30859254617144133, 0.9282716408463717, 0.46616313700546785, 0.42052312464936903, 0.23231567880877146, 0.8010594105175385, 0.0, 0.32555326144736324, 0.9447658749478213, 0.2244398632612155, 1.0], \"y\": [0.33376773680782035, 1.0, 0.7885084875213654, 0.9026172025523869, 0.9001843406128097, 0.7820398038916646, 0.7042406658913957, 0.6612889914658469, 0.2694029429624374, 0.2713408949513841, 0.507835333172526, 0.725048322936125, 0.053205493503730744, 0.6601632659277991, 0.8237306370289622, 0.6199696073125159, 0.8410213756734193, 0.7031065983864658, 0.0, 0.6272301041260748]}, {\"hoverinfo\": \"none\", \"mode\": \"text\", \"text\": [], \"textfont\": {\"color\": \"rgb(255, 255, 255)\"}, \"textposition\": \"middle center\", \"type\": \"scatter\", \"x\": [], \"y\": []}, {\"hoverinfo\": \"none\", \"mode\": \"text\", \"text\": [null, null, null, null, null, null, null, null, null, null, null, null, null, null, null, null, null, null, null, null], \"textfont\": {\"color\": \"rgb(0, 0, 0)\"}, \"textposition\": \"middle center\", \"type\": \"scatter\", \"x\": [0.9823908812083434, 0.5873010613540907, 0.8831024368075151, 0.7269020366156637, 0.750587387748178, 0.07123982669672346, 0.7880386498095213, 0.0893416328577264, 0.6303323957631627, 0.30859254617144133, 0.9282716408463717, 0.46616313700546785, 0.42052312464936903, 0.23231567880877146, 0.8010594105175385, 0.0, 0.32555326144736324, 0.9447658749478213, 0.2244398632612155, 1.0], \"y\": [0.33376773680782035, 1.0, 0.7885084875213654, 0.9026172025523869, 0.9001843406128097, 0.7820398038916646, 0.7042406658913957, 0.6612889914658469, 0.2694029429624374, 0.2713408949513841, 0.507835333172526, 0.725048322936125, 0.053205493503730744, 0.6601632659277991, 0.8237306370289622, 0.6199696073125159, 0.8410213756734193, 0.7031065983864658, 0.0, 0.6272301041260748]}, {\"hoverinfo\": \"none\", \"mode\": \"text\", \"text\": [null, null, null, null, null, null, null, null, null, null, null, null, null, null, null, null, null, null, null, null, null, null, null, null, null, null, null, null, null, null, null, null, null, null, null, null, null, null, null, null, null, null, null, null, null, null, null, null, null, null, null, null, null, null, null, null, null, null, null, null, null, null, null], \"textfont\": {\"color\": \"rgb(0, 0, 0)\"}, \"textposition\": \"middle center\", \"type\": \"scatter\", \"x\": [0.7751004746623079, 0.8549816287977166, 0.8748413800110892, 0.942837880892238, 0.7187707009743306, 0.7052453911103217, 0.8798223319277845, 0.48893266821499554, 0.6483774733743771, 0.6735036218478742, 0.6966898810353078, 0.7666939788258128, 0.5379250193596605, 0.5175892394143287, 0.7000916120830104, 0.2984478288012608, 0.4609602470369224, 0.7395513130475527, 0.366442276274436, 0.5274304909993038, 0.7828777680833005, 0.8504999789557253, 0.6129645694716807, 0.5972601015093384, 0.7849944972700679, 0.3781705050087174, 0.5391619546804962, 0.866897132932818, 0.6265927690895907, 0.6142830829888349, 0.780457692215622, 0.3948589677114709, 0.5544997277756666, 0.36513321171345287, 0.20898987938677527, 0.16089058250989338, 0.17035169887300566, 0.5449649133442849, 0.46941509672305787, 0.42452234487124574, 0.43229263421957725, 0.8084390290053284, 0.25692858262411367, 0.2790171578612251, 0.6503995722556829, 0.6936370246444419, 0.6807209544659507, 0.8530920341830309, 0.46318778989662346, 0.6227509300413417, 0.4576015753754838, 0.6313232642845161, 0.2348411199273594, 0.38994583344355505, 0.6001233291538949, 0.20173154449078362, 0.3590065759930693, 0.24274217627408642, 0.6164951558638133, 0.40251120048746536, 0.5630203940273215, 0.15777078797220778, 0.6064035557180343], \"y\": [0.647597845314556, 0.6012603388156001, 0.5008439398620117, 0.40783922981389203, 0.5051652688742664, 0.1681687031639385, 0.5640488205054542, 0.4509494923188173, 0.5632193461220074, 0.9749822967925016, 0.872550246719532, 0.7745114936781953, 0.8460677290921389, 0.5185629162825672, 0.9357876428680725, 0.7852443481511211, 0.8956045288106327, 0.9276060980704383, 0.735621801992063, 0.8456647089788574, 0.8108644832871538, 0.720740407783145, 0.7877445556500188, 0.46147332260536644, 0.8821617070377804, 0.7343617580395502, 0.8444320041833033, 0.6268673456225095, 0.6884141939747744, 0.3598807275614352, 0.7691098465956803, 0.6359032737906767, 0.7467216616005168, 0.4897444454260163, 0.4851207409001176, 0.6869726040640173, 0.33982153590039665, 0.6705007678772423, 0.24412534247226453, 0.44166371453098574, 0.11003258915009856, 0.4715085633633778, 0.4568975727394947, 0.12273253023887712, 0.47454849412693884, 0.5910230943712885, 0.25695246910059866, 0.6502298257337208, 0.5377129491856428, 0.6493066984181244, 0.3858945554985133, 0.8003012652974979, 0.646459808693475, 0.7591133411065578, 0.45604966094158883, 0.31546696236019567, 0.4414687805115397, 0.32950975895589313, 0.6699361698551316, 0.6958542041458284, 0.8061344855023658, 0.7550976826097267, 0.3376149601974438]}, {\"hoverinfo\": \"none\", \"marker\": {\"color\": \"rgba(255, 255, 255, 0)\", \"line\": {\"color\": \"rgba(255, 255, 255, 0)\", \"width\": 0}, \"size\": 0, \"symbol\": \"circle\"}, \"mode\": \"markers\", \"type\": \"scatter\", \"x\": [0.5, 0.0, 1.0, 0.5], \"y\": [0.0, 0.5, 0.5, 1.0]}],                        {\"height\": 450, \"hovermode\": \"closest\", \"margin\": {\"b\": 10, \"l\": 10, \"r\": 10, \"t\": 10}, \"plot_bgcolor\": \"rgb(255, 255, 255)\", \"showlegend\": false, \"template\": {\"data\": {\"bar\": [{\"error_x\": {\"color\": \"#2a3f5f\"}, \"error_y\": {\"color\": \"#2a3f5f\"}, \"marker\": {\"line\": {\"color\": \"#E5ECF6\", \"width\": 0.5}}, \"type\": \"bar\"}], \"barpolar\": [{\"marker\": {\"line\": {\"color\": \"#E5ECF6\", \"width\": 0.5}}, \"type\": \"barpolar\"}], \"carpet\": [{\"aaxis\": {\"endlinecolor\": \"#2a3f5f\", \"gridcolor\": \"white\", \"linecolor\": \"white\", \"minorgridcolor\": \"white\", \"startlinecolor\": \"#2a3f5f\"}, \"baxis\": {\"endlinecolor\": \"#2a3f5f\", \"gridcolor\": \"white\", \"linecolor\": \"white\", \"minorgridcolor\": \"white\", \"startlinecolor\": \"#2a3f5f\"}, \"type\": \"carpet\"}], \"choropleth\": [{\"colorbar\": {\"outlinewidth\": 0, \"ticks\": \"\"}, \"type\": \"choropleth\"}], \"contour\": [{\"colorbar\": {\"outlinewidth\": 0, \"ticks\": \"\"}, \"colorscale\": [[0.0, \"#0d0887\"], [0.1111111111111111, \"#46039f\"], [0.2222222222222222, \"#7201a8\"], [0.3333333333333333, \"#9c179e\"], [0.4444444444444444, \"#bd3786\"], [0.5555555555555556, \"#d8576b\"], [0.6666666666666666, \"#ed7953\"], [0.7777777777777778, \"#fb9f3a\"], [0.8888888888888888, \"#fdca26\"], [1.0, \"#f0f921\"]], \"type\": \"contour\"}], \"contourcarpet\": [{\"colorbar\": {\"outlinewidth\": 0, \"ticks\": \"\"}, \"type\": \"contourcarpet\"}], \"heatmap\": [{\"colorbar\": {\"outlinewidth\": 0, \"ticks\": \"\"}, \"colorscale\": [[0.0, \"#0d0887\"], [0.1111111111111111, \"#46039f\"], [0.2222222222222222, \"#7201a8\"], [0.3333333333333333, \"#9c179e\"], [0.4444444444444444, \"#bd3786\"], [0.5555555555555556, \"#d8576b\"], [0.6666666666666666, \"#ed7953\"], [0.7777777777777778, \"#fb9f3a\"], [0.8888888888888888, \"#fdca26\"], [1.0, \"#f0f921\"]], \"type\": \"heatmap\"}], \"heatmapgl\": [{\"colorbar\": {\"outlinewidth\": 0, \"ticks\": \"\"}, \"colorscale\": [[0.0, \"#0d0887\"], [0.1111111111111111, \"#46039f\"], [0.2222222222222222, \"#7201a8\"], [0.3333333333333333, \"#9c179e\"], [0.4444444444444444, \"#bd3786\"], [0.5555555555555556, \"#d8576b\"], [0.6666666666666666, \"#ed7953\"], [0.7777777777777778, \"#fb9f3a\"], [0.8888888888888888, \"#fdca26\"], [1.0, \"#f0f921\"]], \"type\": \"heatmapgl\"}], \"histogram\": [{\"marker\": {\"colorbar\": {\"outlinewidth\": 0, \"ticks\": \"\"}}, \"type\": \"histogram\"}], \"histogram2d\": [{\"colorbar\": {\"outlinewidth\": 0, \"ticks\": \"\"}, \"colorscale\": [[0.0, \"#0d0887\"], [0.1111111111111111, \"#46039f\"], [0.2222222222222222, \"#7201a8\"], [0.3333333333333333, \"#9c179e\"], [0.4444444444444444, \"#bd3786\"], [0.5555555555555556, \"#d8576b\"], [0.6666666666666666, \"#ed7953\"], [0.7777777777777778, \"#fb9f3a\"], [0.8888888888888888, \"#fdca26\"], [1.0, \"#f0f921\"]], \"type\": \"histogram2d\"}], \"histogram2dcontour\": [{\"colorbar\": {\"outlinewidth\": 0, \"ticks\": \"\"}, \"colorscale\": [[0.0, \"#0d0887\"], [0.1111111111111111, \"#46039f\"], [0.2222222222222222, \"#7201a8\"], [0.3333333333333333, \"#9c179e\"], [0.4444444444444444, \"#bd3786\"], [0.5555555555555556, \"#d8576b\"], [0.6666666666666666, \"#ed7953\"], [0.7777777777777778, \"#fb9f3a\"], [0.8888888888888888, \"#fdca26\"], [1.0, \"#f0f921\"]], \"type\": \"histogram2dcontour\"}], \"mesh3d\": [{\"colorbar\": {\"outlinewidth\": 0, \"ticks\": \"\"}, \"type\": \"mesh3d\"}], \"parcoords\": [{\"line\": {\"colorbar\": {\"outlinewidth\": 0, \"ticks\": \"\"}}, \"type\": \"parcoords\"}], \"pie\": [{\"automargin\": true, \"type\": \"pie\"}], \"scatter\": [{\"marker\": {\"colorbar\": {\"outlinewidth\": 0, \"ticks\": \"\"}}, \"type\": \"scatter\"}], \"scatter3d\": [{\"line\": {\"colorbar\": {\"outlinewidth\": 0, \"ticks\": \"\"}}, \"marker\": {\"colorbar\": {\"outlinewidth\": 0, \"ticks\": \"\"}}, \"type\": \"scatter3d\"}], \"scattercarpet\": [{\"marker\": {\"colorbar\": {\"outlinewidth\": 0, \"ticks\": \"\"}}, \"type\": \"scattercarpet\"}], \"scattergeo\": [{\"marker\": {\"colorbar\": {\"outlinewidth\": 0, \"ticks\": \"\"}}, \"type\": \"scattergeo\"}], \"scattergl\": [{\"marker\": {\"colorbar\": {\"outlinewidth\": 0, \"ticks\": \"\"}}, \"type\": \"scattergl\"}], \"scattermapbox\": [{\"marker\": {\"colorbar\": {\"outlinewidth\": 0, \"ticks\": \"\"}}, \"type\": \"scattermapbox\"}], \"scatterpolar\": [{\"marker\": {\"colorbar\": {\"outlinewidth\": 0, \"ticks\": \"\"}}, \"type\": \"scatterpolar\"}], \"scatterpolargl\": [{\"marker\": {\"colorbar\": {\"outlinewidth\": 0, \"ticks\": \"\"}}, \"type\": \"scatterpolargl\"}], \"scatterternary\": [{\"marker\": {\"colorbar\": {\"outlinewidth\": 0, \"ticks\": \"\"}}, \"type\": \"scatterternary\"}], \"surface\": [{\"colorbar\": {\"outlinewidth\": 0, \"ticks\": \"\"}, \"colorscale\": [[0.0, \"#0d0887\"], [0.1111111111111111, \"#46039f\"], [0.2222222222222222, \"#7201a8\"], [0.3333333333333333, \"#9c179e\"], [0.4444444444444444, \"#bd3786\"], [0.5555555555555556, \"#d8576b\"], [0.6666666666666666, \"#ed7953\"], [0.7777777777777778, \"#fb9f3a\"], [0.8888888888888888, \"#fdca26\"], [1.0, \"#f0f921\"]], \"type\": \"surface\"}], \"table\": [{\"cells\": {\"fill\": {\"color\": \"#EBF0F8\"}, \"line\": {\"color\": \"white\"}}, \"header\": {\"fill\": {\"color\": \"#C8D4E3\"}, \"line\": {\"color\": \"white\"}}, \"type\": \"table\"}]}, \"layout\": {\"annotationdefaults\": {\"arrowcolor\": \"#2a3f5f\", \"arrowhead\": 0, \"arrowwidth\": 1}, \"coloraxis\": {\"colorbar\": {\"outlinewidth\": 0, \"ticks\": \"\"}}, \"colorscale\": {\"diverging\": [[0, \"#8e0152\"], [0.1, \"#c51b7d\"], [0.2, \"#de77ae\"], [0.3, \"#f1b6da\"], [0.4, \"#fde0ef\"], [0.5, \"#f7f7f7\"], [0.6, \"#e6f5d0\"], [0.7, \"#b8e186\"], [0.8, \"#7fbc41\"], [0.9, \"#4d9221\"], [1, \"#276419\"]], \"sequential\": [[0.0, \"#0d0887\"], [0.1111111111111111, \"#46039f\"], [0.2222222222222222, \"#7201a8\"], [0.3333333333333333, \"#9c179e\"], [0.4444444444444444, \"#bd3786\"], [0.5555555555555556, \"#d8576b\"], [0.6666666666666666, \"#ed7953\"], [0.7777777777777778, \"#fb9f3a\"], [0.8888888888888888, \"#fdca26\"], [1.0, \"#f0f921\"]], \"sequentialminus\": [[0.0, \"#0d0887\"], [0.1111111111111111, \"#46039f\"], [0.2222222222222222, \"#7201a8\"], [0.3333333333333333, \"#9c179e\"], [0.4444444444444444, \"#bd3786\"], [0.5555555555555556, \"#d8576b\"], [0.6666666666666666, \"#ed7953\"], [0.7777777777777778, \"#fb9f3a\"], [0.8888888888888888, \"#fdca26\"], [1.0, \"#f0f921\"]]}, \"colorway\": [\"#636efa\", \"#EF553B\", \"#00cc96\", \"#ab63fa\", \"#FFA15A\", \"#19d3f3\", \"#FF6692\", \"#B6E880\", \"#FF97FF\", \"#FECB52\"], \"font\": {\"color\": \"#2a3f5f\"}, \"geo\": {\"bgcolor\": \"white\", \"lakecolor\": \"white\", \"landcolor\": \"#E5ECF6\", \"showlakes\": true, \"showland\": true, \"subunitcolor\": \"white\"}, \"hoverlabel\": {\"align\": \"left\"}, \"hovermode\": \"closest\", \"mapbox\": {\"style\": \"light\"}, \"paper_bgcolor\": \"white\", \"plot_bgcolor\": \"#E5ECF6\", \"polar\": {\"angularaxis\": {\"gridcolor\": \"white\", \"linecolor\": \"white\", \"ticks\": \"\"}, \"bgcolor\": \"#E5ECF6\", \"radialaxis\": {\"gridcolor\": \"white\", \"linecolor\": \"white\", \"ticks\": \"\"}}, \"scene\": {\"xaxis\": {\"backgroundcolor\": \"#E5ECF6\", \"gridcolor\": \"white\", \"gridwidth\": 2, \"linecolor\": \"white\", \"showbackground\": true, \"ticks\": \"\", \"zerolinecolor\": \"white\"}, \"yaxis\": {\"backgroundcolor\": \"#E5ECF6\", \"gridcolor\": \"white\", \"gridwidth\": 2, \"linecolor\": \"white\", \"showbackground\": true, \"ticks\": \"\", \"zerolinecolor\": \"white\"}, \"zaxis\": {\"backgroundcolor\": \"#E5ECF6\", \"gridcolor\": \"white\", \"gridwidth\": 2, \"linecolor\": \"white\", \"showbackground\": true, \"ticks\": \"\", \"zerolinecolor\": \"white\"}}, \"shapedefaults\": {\"line\": {\"color\": \"#2a3f5f\"}}, \"ternary\": {\"aaxis\": {\"gridcolor\": \"white\", \"linecolor\": \"white\", \"ticks\": \"\"}, \"baxis\": {\"gridcolor\": \"white\", \"linecolor\": \"white\", \"ticks\": \"\"}, \"bgcolor\": \"#E5ECF6\", \"caxis\": {\"gridcolor\": \"white\", \"linecolor\": \"white\", \"ticks\": \"\"}}, \"title\": {\"x\": 0.05}, \"xaxis\": {\"automargin\": true, \"gridcolor\": \"white\", \"linecolor\": \"white\", \"ticks\": \"\", \"title\": {\"standoff\": 15}, \"zerolinecolor\": \"white\", \"zerolinewidth\": 2}, \"yaxis\": {\"automargin\": true, \"gridcolor\": \"white\", \"linecolor\": \"white\", \"ticks\": \"\", \"title\": {\"standoff\": 15}, \"zerolinecolor\": \"white\", \"zerolinewidth\": 2}}}, \"width\": 800, \"xaxis\": {\"showgrid\": false, \"showticklabels\": false, \"zeroline\": false}, \"yaxis\": {\"showgrid\": false, \"showticklabels\": false, \"zeroline\": false}},                        {\"displayModeBar\": false, \"responsive\": true}                    ).then(function(){\n                            \nvar gd = document.getElementById('b6ae655d-463a-48a0-aefe-ee5db2a98493');\nvar x = new MutationObserver(function (mutations, observer) {{\n        var display = window.getComputedStyle(gd).display;\n        if (!display || display === 'none') {{\n            console.log([gd, 'removed!']);\n            Plotly.purge(gd);\n            observer.disconnect();\n        }}\n}});\n\n// Listen for the removal of the full notebook cells\nvar notebookContainer = gd.closest('#notebook-container');\nif (notebookContainer) {{\n    x.observe(notebookContainer, {childList: true});\n}}\n\n// Listen for the clearing of the current output cell\nvar outputEl = gd.closest('.output');\nif (outputEl) {{\n    x.observe(outputEl, {childList: true});\n}}\n\n                        })                };                });            </script>        </div>"
     },
     "metadata": {}
    },
    {
     "output_type": "display_data",
     "data": {
      "application/vnd.plotly.v1+json": {
       "config": {
        "displayModeBar": false,
        "linkText": "Export to plot.ly",
        "plotlyServerURL": "https://plot.ly",
        "showLink": false
       },
       "data": [
        {
         "hoverinfo": "none",
         "line": {
          "color": "rgb(127, 127, 127)",
          "dash": "solid",
          "width": 0
         },
         "mode": "lines",
         "type": "scatter",
         "x": [
          0.525346720019549,
          0.525346720019549,
          null,
          0,
          1,
          null
         ],
         "y": [
          0,
          1,
          null,
          0.5151972686690497,
          0.5151972686690497,
          null
         ]
        },
        {
         "hoverinfo": "none",
         "line": {
          "color": "rgb(0, 0, 0)",
          "dash": "solid",
          "width": 1
         },
         "mode": "lines",
         "type": "scatter",
         "x": [
          0.9823908812083434,
          0.5873010613540907,
          null,
          0.9823908812083434,
          0.750587387748178,
          null,
          0.9823908812083434,
          0.7880386498095213,
          null,
          0.9823908812083434,
          0.9282716408463717,
          null,
          0.9823908812083434,
          0.46616313700546785,
          null,
          0.9823908812083434,
          0.42052312464936903,
          null,
          0.9823908812083434,
          0.8010594105175385,
          null,
          0.9823908812083434,
          0,
          null,
          0.9823908812083434,
          0.32555326144736324,
          null,
          0.5873010613540907,
          0.750587387748178,
          null,
          0.5873010613540907,
          0.7880386498095213,
          null,
          0.5873010613540907,
          0.9282716408463717,
          null,
          0.5873010613540907,
          0.46616313700546785,
          null,
          0.5873010613540907,
          0.42052312464936903,
          null,
          0.5873010613540907,
          0.8010594105175385,
          null,
          0.5873010613540907,
          0,
          null,
          0.5873010613540907,
          0.32555326144736324,
          null,
          0.7269020366156637,
          0.750587387748178,
          null,
          0.7269020366156637,
          0,
          null,
          0.7269020366156637,
          0.32555326144736324,
          null,
          0.750587387748178,
          0.7880386498095213,
          null,
          0.750587387748178,
          0.9282716408463717,
          null,
          0.750587387748178,
          0.46616313700546785,
          null,
          0.750587387748178,
          0.42052312464936903,
          null,
          0.750587387748178,
          0.8010594105175385,
          null,
          0.750587387748178,
          0,
          null,
          0.750587387748178,
          0.32555326144736324,
          null,
          0.7880386498095213,
          0.9282716408463717,
          null,
          0.7880386498095213,
          0.46616313700546785,
          null,
          0.7880386498095213,
          0.42052312464936903,
          null,
          0.7880386498095213,
          0.8010594105175385,
          null,
          0.7880386498095213,
          0,
          null,
          0.7880386498095213,
          0.32555326144736324,
          null,
          0.0893416328577264,
          0.6303323957631627,
          null,
          0.0893416328577264,
          0.30859254617144133,
          null,
          0.0893416328577264,
          0.23231567880877146,
          null,
          0.0893416328577264,
          0.2244398632612155,
          null,
          0.0893416328577264,
          1,
          null,
          0.6303323957631627,
          0.30859254617144133,
          null,
          0.6303323957631627,
          0.23231567880877146,
          null,
          0.6303323957631627,
          0.2244398632612155,
          null,
          0.6303323957631627,
          1,
          null,
          0.30859254617144133,
          0.23231567880877146,
          null,
          0.30859254617144133,
          0.2244398632612155,
          null,
          0.30859254617144133,
          1,
          null,
          0.9282716408463717,
          0.46616313700546785,
          null,
          0.9282716408463717,
          0.42052312464936903,
          null,
          0.9282716408463717,
          0.8010594105175385,
          null,
          0.9282716408463717,
          0,
          null,
          0.9282716408463717,
          0.32555326144736324,
          null,
          0.46616313700546785,
          0.42052312464936903,
          null,
          0.46616313700546785,
          0.8010594105175385,
          null,
          0.46616313700546785,
          0,
          null,
          0.46616313700546785,
          0.32555326144736324,
          null,
          0.42052312464936903,
          0.8010594105175385,
          null,
          0.42052312464936903,
          0,
          null,
          0.42052312464936903,
          0.32555326144736324,
          null,
          0.23231567880877146,
          0.2244398632612155,
          null,
          0.23231567880877146,
          1,
          null,
          0.8010594105175385,
          0,
          null,
          0.8010594105175385,
          0.32555326144736324,
          null,
          0,
          0.32555326144736324,
          null,
          0.2244398632612155,
          1,
          null
         ],
         "y": [
          0.33376773680782035,
          1,
          null,
          0.33376773680782035,
          0.9001843406128097,
          null,
          0.33376773680782035,
          0.7042406658913957,
          null,
          0.33376773680782035,
          0.507835333172526,
          null,
          0.33376773680782035,
          0.725048322936125,
          null,
          0.33376773680782035,
          0.053205493503730744,
          null,
          0.33376773680782035,
          0.8237306370289622,
          null,
          0.33376773680782035,
          0.6199696073125159,
          null,
          0.33376773680782035,
          0.8410213756734193,
          null,
          1,
          0.9001843406128097,
          null,
          1,
          0.7042406658913957,
          null,
          1,
          0.507835333172526,
          null,
          1,
          0.725048322936125,
          null,
          1,
          0.053205493503730744,
          null,
          1,
          0.8237306370289622,
          null,
          1,
          0.6199696073125159,
          null,
          1,
          0.8410213756734193,
          null,
          0.9026172025523869,
          0.9001843406128097,
          null,
          0.9026172025523869,
          0.6199696073125159,
          null,
          0.9026172025523869,
          0.8410213756734193,
          null,
          0.9001843406128097,
          0.7042406658913957,
          null,
          0.9001843406128097,
          0.507835333172526,
          null,
          0.9001843406128097,
          0.725048322936125,
          null,
          0.9001843406128097,
          0.053205493503730744,
          null,
          0.9001843406128097,
          0.8237306370289622,
          null,
          0.9001843406128097,
          0.6199696073125159,
          null,
          0.9001843406128097,
          0.8410213756734193,
          null,
          0.7042406658913957,
          0.507835333172526,
          null,
          0.7042406658913957,
          0.725048322936125,
          null,
          0.7042406658913957,
          0.053205493503730744,
          null,
          0.7042406658913957,
          0.8237306370289622,
          null,
          0.7042406658913957,
          0.6199696073125159,
          null,
          0.7042406658913957,
          0.8410213756734193,
          null,
          0.6612889914658469,
          0.2694029429624374,
          null,
          0.6612889914658469,
          0.2713408949513841,
          null,
          0.6612889914658469,
          0.6601632659277991,
          null,
          0.6612889914658469,
          0,
          null,
          0.6612889914658469,
          0.6272301041260748,
          null,
          0.2694029429624374,
          0.2713408949513841,
          null,
          0.2694029429624374,
          0.6601632659277991,
          null,
          0.2694029429624374,
          0,
          null,
          0.2694029429624374,
          0.6272301041260748,
          null,
          0.2713408949513841,
          0.6601632659277991,
          null,
          0.2713408949513841,
          0,
          null,
          0.2713408949513841,
          0.6272301041260748,
          null,
          0.507835333172526,
          0.725048322936125,
          null,
          0.507835333172526,
          0.053205493503730744,
          null,
          0.507835333172526,
          0.8237306370289622,
          null,
          0.507835333172526,
          0.6199696073125159,
          null,
          0.507835333172526,
          0.8410213756734193,
          null,
          0.725048322936125,
          0.053205493503730744,
          null,
          0.725048322936125,
          0.8237306370289622,
          null,
          0.725048322936125,
          0.6199696073125159,
          null,
          0.725048322936125,
          0.8410213756734193,
          null,
          0.053205493503730744,
          0.8237306370289622,
          null,
          0.053205493503730744,
          0.6199696073125159,
          null,
          0.053205493503730744,
          0.8410213756734193,
          null,
          0.6601632659277991,
          0,
          null,
          0.6601632659277991,
          0.6272301041260748,
          null,
          0.8237306370289622,
          0.6199696073125159,
          null,
          0.8237306370289622,
          0.8410213756734193,
          null,
          0.6199696073125159,
          0.8410213756734193,
          null,
          0,
          0.6272301041260748,
          null
         ]
        },
        {
         "hoverinfo": "text",
         "marker": {
          "color": "rgb(255, 255, 255)",
          "line": {
           "color": "rgb(0, 0, 0)",
           "width": 1
          },
          "size": 5,
          "symbol": "circle"
         },
         "mode": "markers",
         "text": [
          "super-intergalactic-gang",
          "aporia-darkmist-forest",
          "the-corridor",
          "spockadelic",
          "tile-runner",
          "cherry-fm-demo",
          "ha-ni-ha-ni-luo-li-hua-zhuang-huan-zhuang-yue-hui-",
          "volk-i-semero-kozliat-zhivaia-i-dobraia-interaktiv",
          "teremok-zhivaia-i-dobraia-interaktivnaia-razvivaiu",
          "quatris-origins",
          "black-men",
          "table-warriors",
          "lb-khtbr-lgny-lb-dhk-lb-mgmrt",
          "space-rush",
          "deadhop",
          "flappyowen",
          "criminel"
         ],
         "textfont": {
          "color": "rgb(0, 0, 0)"
         },
         "textposition": "middle center",
         "type": "scatter",
         "x": [
          0.9823908812083434,
          0.5873010613540907,
          0.8831024368075151,
          0.7269020366156637,
          0.07123982669672346,
          0.7880386498095213,
          0.0893416328577264,
          0.6303323957631627,
          0.30859254617144133,
          0.9282716408463717,
          0.46616313700546785,
          0.42052312464936903,
          0.23231567880877146,
          0.8010594105175385,
          0.9447658749478213,
          0.2244398632612155,
          1
         ],
         "y": [
          0.33376773680782035,
          1,
          0.7885084875213654,
          0.9026172025523869,
          0.7820398038916646,
          0.7042406658913957,
          0.6612889914658469,
          0.2694029429624374,
          0.2713408949513841,
          0.507835333172526,
          0.725048322936125,
          0.053205493503730744,
          0.6601632659277991,
          0.8237306370289622,
          0.7031065983864658,
          0,
          0.6272301041260748
         ]
        },
        {
         "hoverinfo": "text",
         "marker": {
          "color": "rgb(255, 255, 255)",
          "line": {
           "color": "rgb(0, 0, 0)",
           "width": 1
          },
          "size": 50,
          "symbol": "circle"
         },
         "mode": "markers",
         "text": [
          "diamond-pusher",
          "snow-thy-enemy",
          "celestial-antodias"
         ],
         "textfont": {
          "color": "rgb(0, 0, 0)"
         },
         "textposition": "middle center",
         "type": "scatter",
         "x": [
          0.750587387748178,
          0,
          0.32555326144736324
         ],
         "y": [
          0.9001843406128097,
          0.6199696073125159,
          0.8410213756734193
         ]
        },
        {
         "hoverinfo": "none",
         "mode": "text",
         "text": [],
         "textfont": {
          "color": "rgb(255, 255, 255)"
         },
         "textposition": "middle center",
         "type": "scatter",
         "x": [],
         "y": []
        },
        {
         "hoverinfo": "none",
         "mode": "text",
         "text": [
          null,
          null,
          null,
          null,
          null,
          null,
          null,
          null,
          null,
          null,
          null,
          null,
          null,
          null,
          null,
          null,
          null,
          null,
          null,
          null
         ],
         "textfont": {
          "color": "rgb(0, 0, 0)"
         },
         "textposition": "middle center",
         "type": "scatter",
         "x": [
          0.9823908812083434,
          0.5873010613540907,
          0.8831024368075151,
          0.7269020366156637,
          0.750587387748178,
          0.07123982669672346,
          0.7880386498095213,
          0.0893416328577264,
          0.6303323957631627,
          0.30859254617144133,
          0.9282716408463717,
          0.46616313700546785,
          0.42052312464936903,
          0.23231567880877146,
          0.8010594105175385,
          0,
          0.32555326144736324,
          0.9447658749478213,
          0.2244398632612155,
          1
         ],
         "y": [
          0.33376773680782035,
          1,
          0.7885084875213654,
          0.9026172025523869,
          0.9001843406128097,
          0.7820398038916646,
          0.7042406658913957,
          0.6612889914658469,
          0.2694029429624374,
          0.2713408949513841,
          0.507835333172526,
          0.725048322936125,
          0.053205493503730744,
          0.6601632659277991,
          0.8237306370289622,
          0.6199696073125159,
          0.8410213756734193,
          0.7031065983864658,
          0,
          0.6272301041260748
         ]
        },
        {
         "hoverinfo": "none",
         "mode": "text",
         "text": [
          null,
          null,
          null,
          null,
          null,
          null,
          null,
          null,
          null,
          null,
          null,
          null,
          null,
          null,
          null,
          null,
          null,
          null,
          null,
          null,
          null,
          null,
          null,
          null,
          null,
          null,
          null,
          null,
          null,
          null,
          null,
          null,
          null,
          null,
          null,
          null,
          null,
          null,
          null,
          null,
          null,
          null,
          null,
          null,
          null,
          null,
          null,
          null,
          null,
          null,
          null,
          null,
          null,
          null,
          null,
          null,
          null,
          null,
          null,
          null,
          null,
          null,
          null
         ],
         "textfont": {
          "color": "rgb(0, 0, 0)"
         },
         "textposition": "middle center",
         "type": "scatter",
         "x": [
          0.7751004746623079,
          0.8549816287977166,
          0.8748413800110892,
          0.942837880892238,
          0.7187707009743306,
          0.7052453911103217,
          0.8798223319277845,
          0.48893266821499554,
          0.6483774733743771,
          0.6735036218478742,
          0.6966898810353078,
          0.7666939788258128,
          0.5379250193596605,
          0.5175892394143287,
          0.7000916120830104,
          0.2984478288012608,
          0.4609602470369224,
          0.7395513130475527,
          0.366442276274436,
          0.5274304909993038,
          0.7828777680833005,
          0.8504999789557253,
          0.6129645694716807,
          0.5972601015093384,
          0.7849944972700679,
          0.3781705050087174,
          0.5391619546804962,
          0.866897132932818,
          0.6265927690895907,
          0.6142830829888349,
          0.780457692215622,
          0.3948589677114709,
          0.5544997277756666,
          0.36513321171345287,
          0.20898987938677527,
          0.16089058250989338,
          0.17035169887300566,
          0.5449649133442849,
          0.46941509672305787,
          0.42452234487124574,
          0.43229263421957725,
          0.8084390290053284,
          0.25692858262411367,
          0.2790171578612251,
          0.6503995722556829,
          0.6936370246444419,
          0.6807209544659507,
          0.8530920341830309,
          0.46318778989662346,
          0.6227509300413417,
          0.4576015753754838,
          0.6313232642845161,
          0.2348411199273594,
          0.38994583344355505,
          0.6001233291538949,
          0.20173154449078362,
          0.3590065759930693,
          0.24274217627408642,
          0.6164951558638133,
          0.40251120048746536,
          0.5630203940273215,
          0.15777078797220778,
          0.6064035557180343
         ],
         "y": [
          0.647597845314556,
          0.6012603388156001,
          0.5008439398620117,
          0.40783922981389203,
          0.5051652688742664,
          0.1681687031639385,
          0.5640488205054542,
          0.4509494923188173,
          0.5632193461220074,
          0.9749822967925016,
          0.872550246719532,
          0.7745114936781953,
          0.8460677290921389,
          0.5185629162825672,
          0.9357876428680725,
          0.7852443481511211,
          0.8956045288106327,
          0.9276060980704383,
          0.735621801992063,
          0.8456647089788574,
          0.8108644832871538,
          0.720740407783145,
          0.7877445556500188,
          0.46147332260536644,
          0.8821617070377804,
          0.7343617580395502,
          0.8444320041833033,
          0.6268673456225095,
          0.6884141939747744,
          0.3598807275614352,
          0.7691098465956803,
          0.6359032737906767,
          0.7467216616005168,
          0.4897444454260163,
          0.4851207409001176,
          0.6869726040640173,
          0.33982153590039665,
          0.6705007678772423,
          0.24412534247226453,
          0.44166371453098574,
          0.11003258915009856,
          0.4715085633633778,
          0.4568975727394947,
          0.12273253023887712,
          0.47454849412693884,
          0.5910230943712885,
          0.25695246910059866,
          0.6502298257337208,
          0.5377129491856428,
          0.6493066984181244,
          0.3858945554985133,
          0.8003012652974979,
          0.646459808693475,
          0.7591133411065578,
          0.45604966094158883,
          0.31546696236019567,
          0.4414687805115397,
          0.32950975895589313,
          0.6699361698551316,
          0.6958542041458284,
          0.8061344855023658,
          0.7550976826097267,
          0.3376149601974438
         ]
        },
        {
         "hoverinfo": "none",
         "marker": {
          "color": "rgba(255, 255, 255, 0)",
          "line": {
           "color": "rgba(255, 255, 255, 0)",
           "width": 0
          },
          "size": 0,
          "symbol": "circle"
         },
         "mode": "markers",
         "type": "scatter",
         "x": [
          0.5,
          0,
          1,
          0.5
         ],
         "y": [
          0,
          0.5,
          0.5,
          1
         ]
        }
       ],
       "layout": {
        "height": 450,
        "hovermode": "closest",
        "margin": {
         "b": 10,
         "l": 10,
         "r": 10,
         "t": 10
        },
        "plot_bgcolor": "rgb(255, 255, 255)",
        "showlegend": false,
        "template": {
         "data": {
          "bar": [
           {
            "error_x": {
             "color": "#2a3f5f"
            },
            "error_y": {
             "color": "#2a3f5f"
            },
            "marker": {
             "line": {
              "color": "#E5ECF6",
              "width": 0.5
             }
            },
            "type": "bar"
           }
          ],
          "barpolar": [
           {
            "marker": {
             "line": {
              "color": "#E5ECF6",
              "width": 0.5
             }
            },
            "type": "barpolar"
           }
          ],
          "carpet": [
           {
            "aaxis": {
             "endlinecolor": "#2a3f5f",
             "gridcolor": "white",
             "linecolor": "white",
             "minorgridcolor": "white",
             "startlinecolor": "#2a3f5f"
            },
            "baxis": {
             "endlinecolor": "#2a3f5f",
             "gridcolor": "white",
             "linecolor": "white",
             "minorgridcolor": "white",
             "startlinecolor": "#2a3f5f"
            },
            "type": "carpet"
           }
          ],
          "choropleth": [
           {
            "colorbar": {
             "outlinewidth": 0,
             "ticks": ""
            },
            "type": "choropleth"
           }
          ],
          "contour": [
           {
            "colorbar": {
             "outlinewidth": 0,
             "ticks": ""
            },
            "colorscale": [
             [
              0,
              "#0d0887"
             ],
             [
              0.1111111111111111,
              "#46039f"
             ],
             [
              0.2222222222222222,
              "#7201a8"
             ],
             [
              0.3333333333333333,
              "#9c179e"
             ],
             [
              0.4444444444444444,
              "#bd3786"
             ],
             [
              0.5555555555555556,
              "#d8576b"
             ],
             [
              0.6666666666666666,
              "#ed7953"
             ],
             [
              0.7777777777777778,
              "#fb9f3a"
             ],
             [
              0.8888888888888888,
              "#fdca26"
             ],
             [
              1,
              "#f0f921"
             ]
            ],
            "type": "contour"
           }
          ],
          "contourcarpet": [
           {
            "colorbar": {
             "outlinewidth": 0,
             "ticks": ""
            },
            "type": "contourcarpet"
           }
          ],
          "heatmap": [
           {
            "colorbar": {
             "outlinewidth": 0,
             "ticks": ""
            },
            "colorscale": [
             [
              0,
              "#0d0887"
             ],
             [
              0.1111111111111111,
              "#46039f"
             ],
             [
              0.2222222222222222,
              "#7201a8"
             ],
             [
              0.3333333333333333,
              "#9c179e"
             ],
             [
              0.4444444444444444,
              "#bd3786"
             ],
             [
              0.5555555555555556,
              "#d8576b"
             ],
             [
              0.6666666666666666,
              "#ed7953"
             ],
             [
              0.7777777777777778,
              "#fb9f3a"
             ],
             [
              0.8888888888888888,
              "#fdca26"
             ],
             [
              1,
              "#f0f921"
             ]
            ],
            "type": "heatmap"
           }
          ],
          "heatmapgl": [
           {
            "colorbar": {
             "outlinewidth": 0,
             "ticks": ""
            },
            "colorscale": [
             [
              0,
              "#0d0887"
             ],
             [
              0.1111111111111111,
              "#46039f"
             ],
             [
              0.2222222222222222,
              "#7201a8"
             ],
             [
              0.3333333333333333,
              "#9c179e"
             ],
             [
              0.4444444444444444,
              "#bd3786"
             ],
             [
              0.5555555555555556,
              "#d8576b"
             ],
             [
              0.6666666666666666,
              "#ed7953"
             ],
             [
              0.7777777777777778,
              "#fb9f3a"
             ],
             [
              0.8888888888888888,
              "#fdca26"
             ],
             [
              1,
              "#f0f921"
             ]
            ],
            "type": "heatmapgl"
           }
          ],
          "histogram": [
           {
            "marker": {
             "colorbar": {
              "outlinewidth": 0,
              "ticks": ""
             }
            },
            "type": "histogram"
           }
          ],
          "histogram2d": [
           {
            "colorbar": {
             "outlinewidth": 0,
             "ticks": ""
            },
            "colorscale": [
             [
              0,
              "#0d0887"
             ],
             [
              0.1111111111111111,
              "#46039f"
             ],
             [
              0.2222222222222222,
              "#7201a8"
             ],
             [
              0.3333333333333333,
              "#9c179e"
             ],
             [
              0.4444444444444444,
              "#bd3786"
             ],
             [
              0.5555555555555556,
              "#d8576b"
             ],
             [
              0.6666666666666666,
              "#ed7953"
             ],
             [
              0.7777777777777778,
              "#fb9f3a"
             ],
             [
              0.8888888888888888,
              "#fdca26"
             ],
             [
              1,
              "#f0f921"
             ]
            ],
            "type": "histogram2d"
           }
          ],
          "histogram2dcontour": [
           {
            "colorbar": {
             "outlinewidth": 0,
             "ticks": ""
            },
            "colorscale": [
             [
              0,
              "#0d0887"
             ],
             [
              0.1111111111111111,
              "#46039f"
             ],
             [
              0.2222222222222222,
              "#7201a8"
             ],
             [
              0.3333333333333333,
              "#9c179e"
             ],
             [
              0.4444444444444444,
              "#bd3786"
             ],
             [
              0.5555555555555556,
              "#d8576b"
             ],
             [
              0.6666666666666666,
              "#ed7953"
             ],
             [
              0.7777777777777778,
              "#fb9f3a"
             ],
             [
              0.8888888888888888,
              "#fdca26"
             ],
             [
              1,
              "#f0f921"
             ]
            ],
            "type": "histogram2dcontour"
           }
          ],
          "mesh3d": [
           {
            "colorbar": {
             "outlinewidth": 0,
             "ticks": ""
            },
            "type": "mesh3d"
           }
          ],
          "parcoords": [
           {
            "line": {
             "colorbar": {
              "outlinewidth": 0,
              "ticks": ""
             }
            },
            "type": "parcoords"
           }
          ],
          "pie": [
           {
            "automargin": true,
            "type": "pie"
           }
          ],
          "scatter": [
           {
            "marker": {
             "colorbar": {
              "outlinewidth": 0,
              "ticks": ""
             }
            },
            "type": "scatter"
           }
          ],
          "scatter3d": [
           {
            "line": {
             "colorbar": {
              "outlinewidth": 0,
              "ticks": ""
             }
            },
            "marker": {
             "colorbar": {
              "outlinewidth": 0,
              "ticks": ""
             }
            },
            "type": "scatter3d"
           }
          ],
          "scattercarpet": [
           {
            "marker": {
             "colorbar": {
              "outlinewidth": 0,
              "ticks": ""
             }
            },
            "type": "scattercarpet"
           }
          ],
          "scattergeo": [
           {
            "marker": {
             "colorbar": {
              "outlinewidth": 0,
              "ticks": ""
             }
            },
            "type": "scattergeo"
           }
          ],
          "scattergl": [
           {
            "marker": {
             "colorbar": {
              "outlinewidth": 0,
              "ticks": ""
             }
            },
            "type": "scattergl"
           }
          ],
          "scattermapbox": [
           {
            "marker": {
             "colorbar": {
              "outlinewidth": 0,
              "ticks": ""
             }
            },
            "type": "scattermapbox"
           }
          ],
          "scatterpolar": [
           {
            "marker": {
             "colorbar": {
              "outlinewidth": 0,
              "ticks": ""
             }
            },
            "type": "scatterpolar"
           }
          ],
          "scatterpolargl": [
           {
            "marker": {
             "colorbar": {
              "outlinewidth": 0,
              "ticks": ""
             }
            },
            "type": "scatterpolargl"
           }
          ],
          "scatterternary": [
           {
            "marker": {
             "colorbar": {
              "outlinewidth": 0,
              "ticks": ""
             }
            },
            "type": "scatterternary"
           }
          ],
          "surface": [
           {
            "colorbar": {
             "outlinewidth": 0,
             "ticks": ""
            },
            "colorscale": [
             [
              0,
              "#0d0887"
             ],
             [
              0.1111111111111111,
              "#46039f"
             ],
             [
              0.2222222222222222,
              "#7201a8"
             ],
             [
              0.3333333333333333,
              "#9c179e"
             ],
             [
              0.4444444444444444,
              "#bd3786"
             ],
             [
              0.5555555555555556,
              "#d8576b"
             ],
             [
              0.6666666666666666,
              "#ed7953"
             ],
             [
              0.7777777777777778,
              "#fb9f3a"
             ],
             [
              0.8888888888888888,
              "#fdca26"
             ],
             [
              1,
              "#f0f921"
             ]
            ],
            "type": "surface"
           }
          ],
          "table": [
           {
            "cells": {
             "fill": {
              "color": "#EBF0F8"
             },
             "line": {
              "color": "white"
             }
            },
            "header": {
             "fill": {
              "color": "#C8D4E3"
             },
             "line": {
              "color": "white"
             }
            },
            "type": "table"
           }
          ]
         },
         "layout": {
          "annotationdefaults": {
           "arrowcolor": "#2a3f5f",
           "arrowhead": 0,
           "arrowwidth": 1
          },
          "coloraxis": {
           "colorbar": {
            "outlinewidth": 0,
            "ticks": ""
           }
          },
          "colorscale": {
           "diverging": [
            [
             0,
             "#8e0152"
            ],
            [
             0.1,
             "#c51b7d"
            ],
            [
             0.2,
             "#de77ae"
            ],
            [
             0.3,
             "#f1b6da"
            ],
            [
             0.4,
             "#fde0ef"
            ],
            [
             0.5,
             "#f7f7f7"
            ],
            [
             0.6,
             "#e6f5d0"
            ],
            [
             0.7,
             "#b8e186"
            ],
            [
             0.8,
             "#7fbc41"
            ],
            [
             0.9,
             "#4d9221"
            ],
            [
             1,
             "#276419"
            ]
           ],
           "sequential": [
            [
             0,
             "#0d0887"
            ],
            [
             0.1111111111111111,
             "#46039f"
            ],
            [
             0.2222222222222222,
             "#7201a8"
            ],
            [
             0.3333333333333333,
             "#9c179e"
            ],
            [
             0.4444444444444444,
             "#bd3786"
            ],
            [
             0.5555555555555556,
             "#d8576b"
            ],
            [
             0.6666666666666666,
             "#ed7953"
            ],
            [
             0.7777777777777778,
             "#fb9f3a"
            ],
            [
             0.8888888888888888,
             "#fdca26"
            ],
            [
             1,
             "#f0f921"
            ]
           ],
           "sequentialminus": [
            [
             0,
             "#0d0887"
            ],
            [
             0.1111111111111111,
             "#46039f"
            ],
            [
             0.2222222222222222,
             "#7201a8"
            ],
            [
             0.3333333333333333,
             "#9c179e"
            ],
            [
             0.4444444444444444,
             "#bd3786"
            ],
            [
             0.5555555555555556,
             "#d8576b"
            ],
            [
             0.6666666666666666,
             "#ed7953"
            ],
            [
             0.7777777777777778,
             "#fb9f3a"
            ],
            [
             0.8888888888888888,
             "#fdca26"
            ],
            [
             1,
             "#f0f921"
            ]
           ]
          },
          "colorway": [
           "#636efa",
           "#EF553B",
           "#00cc96",
           "#ab63fa",
           "#FFA15A",
           "#19d3f3",
           "#FF6692",
           "#B6E880",
           "#FF97FF",
           "#FECB52"
          ],
          "font": {
           "color": "#2a3f5f"
          },
          "geo": {
           "bgcolor": "white",
           "lakecolor": "white",
           "landcolor": "#E5ECF6",
           "showlakes": true,
           "showland": true,
           "subunitcolor": "white"
          },
          "hoverlabel": {
           "align": "left"
          },
          "hovermode": "closest",
          "mapbox": {
           "style": "light"
          },
          "paper_bgcolor": "white",
          "plot_bgcolor": "#E5ECF6",
          "polar": {
           "angularaxis": {
            "gridcolor": "white",
            "linecolor": "white",
            "ticks": ""
           },
           "bgcolor": "#E5ECF6",
           "radialaxis": {
            "gridcolor": "white",
            "linecolor": "white",
            "ticks": ""
           }
          },
          "scene": {
           "xaxis": {
            "backgroundcolor": "#E5ECF6",
            "gridcolor": "white",
            "gridwidth": 2,
            "linecolor": "white",
            "showbackground": true,
            "ticks": "",
            "zerolinecolor": "white"
           },
           "yaxis": {
            "backgroundcolor": "#E5ECF6",
            "gridcolor": "white",
            "gridwidth": 2,
            "linecolor": "white",
            "showbackground": true,
            "ticks": "",
            "zerolinecolor": "white"
           },
           "zaxis": {
            "backgroundcolor": "#E5ECF6",
            "gridcolor": "white",
            "gridwidth": 2,
            "linecolor": "white",
            "showbackground": true,
            "ticks": "",
            "zerolinecolor": "white"
           }
          },
          "shapedefaults": {
           "line": {
            "color": "#2a3f5f"
           }
          },
          "ternary": {
           "aaxis": {
            "gridcolor": "white",
            "linecolor": "white",
            "ticks": ""
           },
           "baxis": {
            "gridcolor": "white",
            "linecolor": "white",
            "ticks": ""
           },
           "bgcolor": "#E5ECF6",
           "caxis": {
            "gridcolor": "white",
            "linecolor": "white",
            "ticks": ""
           }
          },
          "title": {
           "x": 0.05
          },
          "xaxis": {
           "automargin": true,
           "gridcolor": "white",
           "linecolor": "white",
           "ticks": "",
           "title": {
            "standoff": 15
           },
           "zerolinecolor": "white",
           "zerolinewidth": 2
          },
          "yaxis": {
           "automargin": true,
           "gridcolor": "white",
           "linecolor": "white",
           "ticks": "",
           "title": {
            "standoff": 15
           },
           "zerolinecolor": "white",
           "zerolinewidth": 2
          }
         }
        },
        "width": 800,
        "xaxis": {
         "showgrid": false,
         "showticklabels": false,
         "zeroline": false
        },
        "yaxis": {
         "showgrid": false,
         "showticklabels": false,
         "zeroline": false
        }
       }
      },
      "text/html": "<div>                            <div id=\"841dad9e-f793-4f9c-8e9f-d91cacbcd67d\" class=\"plotly-graph-div\" style=\"height:450px; width:800px;\"></div>            <script type=\"text/javascript\">                require([\"plotly\"], function(Plotly) {                    window.PLOTLYENV=window.PLOTLYENV || {};                                    if (document.getElementById(\"841dad9e-f793-4f9c-8e9f-d91cacbcd67d\")) {                    Plotly.newPlot(                        \"841dad9e-f793-4f9c-8e9f-d91cacbcd67d\",                        [{\"hoverinfo\": \"none\", \"line\": {\"color\": \"rgb(127, 127, 127)\", \"dash\": \"solid\", \"width\": 0}, \"mode\": \"lines\", \"type\": \"scatter\", \"x\": [0.525346720019549, 0.525346720019549, null, 0, 1, null], \"y\": [0, 1, null, 0.5151972686690497, 0.5151972686690497, null]}, {\"hoverinfo\": \"none\", \"line\": {\"color\": \"rgb(0, 0, 0)\", \"dash\": \"solid\", \"width\": 1}, \"mode\": \"lines\", \"type\": \"scatter\", \"x\": [0.9823908812083434, 0.5873010613540907, null, 0.9823908812083434, 0.750587387748178, null, 0.9823908812083434, 0.7880386498095213, null, 0.9823908812083434, 0.9282716408463717, null, 0.9823908812083434, 0.46616313700546785, null, 0.9823908812083434, 0.42052312464936903, null, 0.9823908812083434, 0.8010594105175385, null, 0.9823908812083434, 0.0, null, 0.9823908812083434, 0.32555326144736324, null, 0.5873010613540907, 0.750587387748178, null, 0.5873010613540907, 0.7880386498095213, null, 0.5873010613540907, 0.9282716408463717, null, 0.5873010613540907, 0.46616313700546785, null, 0.5873010613540907, 0.42052312464936903, null, 0.5873010613540907, 0.8010594105175385, null, 0.5873010613540907, 0.0, null, 0.5873010613540907, 0.32555326144736324, null, 0.7269020366156637, 0.750587387748178, null, 0.7269020366156637, 0.0, null, 0.7269020366156637, 0.32555326144736324, null, 0.750587387748178, 0.7880386498095213, null, 0.750587387748178, 0.9282716408463717, null, 0.750587387748178, 0.46616313700546785, null, 0.750587387748178, 0.42052312464936903, null, 0.750587387748178, 0.8010594105175385, null, 0.750587387748178, 0.0, null, 0.750587387748178, 0.32555326144736324, null, 0.7880386498095213, 0.9282716408463717, null, 0.7880386498095213, 0.46616313700546785, null, 0.7880386498095213, 0.42052312464936903, null, 0.7880386498095213, 0.8010594105175385, null, 0.7880386498095213, 0.0, null, 0.7880386498095213, 0.32555326144736324, null, 0.0893416328577264, 0.6303323957631627, null, 0.0893416328577264, 0.30859254617144133, null, 0.0893416328577264, 0.23231567880877146, null, 0.0893416328577264, 0.2244398632612155, null, 0.0893416328577264, 1.0, null, 0.6303323957631627, 0.30859254617144133, null, 0.6303323957631627, 0.23231567880877146, null, 0.6303323957631627, 0.2244398632612155, null, 0.6303323957631627, 1.0, null, 0.30859254617144133, 0.23231567880877146, null, 0.30859254617144133, 0.2244398632612155, null, 0.30859254617144133, 1.0, null, 0.9282716408463717, 0.46616313700546785, null, 0.9282716408463717, 0.42052312464936903, null, 0.9282716408463717, 0.8010594105175385, null, 0.9282716408463717, 0.0, null, 0.9282716408463717, 0.32555326144736324, null, 0.46616313700546785, 0.42052312464936903, null, 0.46616313700546785, 0.8010594105175385, null, 0.46616313700546785, 0.0, null, 0.46616313700546785, 0.32555326144736324, null, 0.42052312464936903, 0.8010594105175385, null, 0.42052312464936903, 0.0, null, 0.42052312464936903, 0.32555326144736324, null, 0.23231567880877146, 0.2244398632612155, null, 0.23231567880877146, 1.0, null, 0.8010594105175385, 0.0, null, 0.8010594105175385, 0.32555326144736324, null, 0.0, 0.32555326144736324, null, 0.2244398632612155, 1.0, null], \"y\": [0.33376773680782035, 1.0, null, 0.33376773680782035, 0.9001843406128097, null, 0.33376773680782035, 0.7042406658913957, null, 0.33376773680782035, 0.507835333172526, null, 0.33376773680782035, 0.725048322936125, null, 0.33376773680782035, 0.053205493503730744, null, 0.33376773680782035, 0.8237306370289622, null, 0.33376773680782035, 0.6199696073125159, null, 0.33376773680782035, 0.8410213756734193, null, 1.0, 0.9001843406128097, null, 1.0, 0.7042406658913957, null, 1.0, 0.507835333172526, null, 1.0, 0.725048322936125, null, 1.0, 0.053205493503730744, null, 1.0, 0.8237306370289622, null, 1.0, 0.6199696073125159, null, 1.0, 0.8410213756734193, null, 0.9026172025523869, 0.9001843406128097, null, 0.9026172025523869, 0.6199696073125159, null, 0.9026172025523869, 0.8410213756734193, null, 0.9001843406128097, 0.7042406658913957, null, 0.9001843406128097, 0.507835333172526, null, 0.9001843406128097, 0.725048322936125, null, 0.9001843406128097, 0.053205493503730744, null, 0.9001843406128097, 0.8237306370289622, null, 0.9001843406128097, 0.6199696073125159, null, 0.9001843406128097, 0.8410213756734193, null, 0.7042406658913957, 0.507835333172526, null, 0.7042406658913957, 0.725048322936125, null, 0.7042406658913957, 0.053205493503730744, null, 0.7042406658913957, 0.8237306370289622, null, 0.7042406658913957, 0.6199696073125159, null, 0.7042406658913957, 0.8410213756734193, null, 0.6612889914658469, 0.2694029429624374, null, 0.6612889914658469, 0.2713408949513841, null, 0.6612889914658469, 0.6601632659277991, null, 0.6612889914658469, 0.0, null, 0.6612889914658469, 0.6272301041260748, null, 0.2694029429624374, 0.2713408949513841, null, 0.2694029429624374, 0.6601632659277991, null, 0.2694029429624374, 0.0, null, 0.2694029429624374, 0.6272301041260748, null, 0.2713408949513841, 0.6601632659277991, null, 0.2713408949513841, 0.0, null, 0.2713408949513841, 0.6272301041260748, null, 0.507835333172526, 0.725048322936125, null, 0.507835333172526, 0.053205493503730744, null, 0.507835333172526, 0.8237306370289622, null, 0.507835333172526, 0.6199696073125159, null, 0.507835333172526, 0.8410213756734193, null, 0.725048322936125, 0.053205493503730744, null, 0.725048322936125, 0.8237306370289622, null, 0.725048322936125, 0.6199696073125159, null, 0.725048322936125, 0.8410213756734193, null, 0.053205493503730744, 0.8237306370289622, null, 0.053205493503730744, 0.6199696073125159, null, 0.053205493503730744, 0.8410213756734193, null, 0.6601632659277991, 0.0, null, 0.6601632659277991, 0.6272301041260748, null, 0.8237306370289622, 0.6199696073125159, null, 0.8237306370289622, 0.8410213756734193, null, 0.6199696073125159, 0.8410213756734193, null, 0.0, 0.6272301041260748, null]}, {\"hoverinfo\": \"text\", \"marker\": {\"color\": \"rgb(255, 255, 255)\", \"line\": {\"color\": \"rgb(0, 0, 0)\", \"width\": 1}, \"size\": 5, \"symbol\": \"circle\"}, \"mode\": \"markers\", \"text\": [\"super-intergalactic-gang\", \"aporia-darkmist-forest\", \"the-corridor\", \"spockadelic\", \"tile-runner\", \"cherry-fm-demo\", \"ha-ni-ha-ni-luo-li-hua-zhuang-huan-zhuang-yue-hui-\", \"volk-i-semero-kozliat-zhivaia-i-dobraia-interaktiv\", \"teremok-zhivaia-i-dobraia-interaktivnaia-razvivaiu\", \"quatris-origins\", \"black-men\", \"table-warriors\", \"lb-khtbr-lgny-lb-dhk-lb-mgmrt\", \"space-rush\", \"deadhop\", \"flappyowen\", \"criminel\"], \"textfont\": {\"color\": \"rgb(0, 0, 0)\"}, \"textposition\": \"middle center\", \"type\": \"scatter\", \"x\": [0.9823908812083434, 0.5873010613540907, 0.8831024368075151, 0.7269020366156637, 0.07123982669672346, 0.7880386498095213, 0.0893416328577264, 0.6303323957631627, 0.30859254617144133, 0.9282716408463717, 0.46616313700546785, 0.42052312464936903, 0.23231567880877146, 0.8010594105175385, 0.9447658749478213, 0.2244398632612155, 1.0], \"y\": [0.33376773680782035, 1.0, 0.7885084875213654, 0.9026172025523869, 0.7820398038916646, 0.7042406658913957, 0.6612889914658469, 0.2694029429624374, 0.2713408949513841, 0.507835333172526, 0.725048322936125, 0.053205493503730744, 0.6601632659277991, 0.8237306370289622, 0.7031065983864658, 0.0, 0.6272301041260748]}, {\"hoverinfo\": \"text\", \"marker\": {\"color\": \"rgb(255, 255, 255)\", \"line\": {\"color\": \"rgb(0, 0, 0)\", \"width\": 1}, \"size\": 50, \"symbol\": \"circle\"}, \"mode\": \"markers\", \"text\": [\"diamond-pusher\", \"snow-thy-enemy\", \"celestial-antodias\"], \"textfont\": {\"color\": \"rgb(0, 0, 0)\"}, \"textposition\": \"middle center\", \"type\": \"scatter\", \"x\": [0.750587387748178, 0.0, 0.32555326144736324], \"y\": [0.9001843406128097, 0.6199696073125159, 0.8410213756734193]}, {\"hoverinfo\": \"none\", \"mode\": \"text\", \"text\": [], \"textfont\": {\"color\": \"rgb(255, 255, 255)\"}, \"textposition\": \"middle center\", \"type\": \"scatter\", \"x\": [], \"y\": []}, {\"hoverinfo\": \"none\", \"mode\": \"text\", \"text\": [null, null, null, null, null, null, null, null, null, null, null, null, null, null, null, null, null, null, null, null], \"textfont\": {\"color\": \"rgb(0, 0, 0)\"}, \"textposition\": \"middle center\", \"type\": \"scatter\", \"x\": [0.9823908812083434, 0.5873010613540907, 0.8831024368075151, 0.7269020366156637, 0.750587387748178, 0.07123982669672346, 0.7880386498095213, 0.0893416328577264, 0.6303323957631627, 0.30859254617144133, 0.9282716408463717, 0.46616313700546785, 0.42052312464936903, 0.23231567880877146, 0.8010594105175385, 0.0, 0.32555326144736324, 0.9447658749478213, 0.2244398632612155, 1.0], \"y\": [0.33376773680782035, 1.0, 0.7885084875213654, 0.9026172025523869, 0.9001843406128097, 0.7820398038916646, 0.7042406658913957, 0.6612889914658469, 0.2694029429624374, 0.2713408949513841, 0.507835333172526, 0.725048322936125, 0.053205493503730744, 0.6601632659277991, 0.8237306370289622, 0.6199696073125159, 0.8410213756734193, 0.7031065983864658, 0.0, 0.6272301041260748]}, {\"hoverinfo\": \"none\", \"mode\": \"text\", \"text\": [null, null, null, null, null, null, null, null, null, null, null, null, null, null, null, null, null, null, null, null, null, null, null, null, null, null, null, null, null, null, null, null, null, null, null, null, null, null, null, null, null, null, null, null, null, null, null, null, null, null, null, null, null, null, null, null, null, null, null, null, null, null, null], \"textfont\": {\"color\": \"rgb(0, 0, 0)\"}, \"textposition\": \"middle center\", \"type\": \"scatter\", \"x\": [0.7751004746623079, 0.8549816287977166, 0.8748413800110892, 0.942837880892238, 0.7187707009743306, 0.7052453911103217, 0.8798223319277845, 0.48893266821499554, 0.6483774733743771, 0.6735036218478742, 0.6966898810353078, 0.7666939788258128, 0.5379250193596605, 0.5175892394143287, 0.7000916120830104, 0.2984478288012608, 0.4609602470369224, 0.7395513130475527, 0.366442276274436, 0.5274304909993038, 0.7828777680833005, 0.8504999789557253, 0.6129645694716807, 0.5972601015093384, 0.7849944972700679, 0.3781705050087174, 0.5391619546804962, 0.866897132932818, 0.6265927690895907, 0.6142830829888349, 0.780457692215622, 0.3948589677114709, 0.5544997277756666, 0.36513321171345287, 0.20898987938677527, 0.16089058250989338, 0.17035169887300566, 0.5449649133442849, 0.46941509672305787, 0.42452234487124574, 0.43229263421957725, 0.8084390290053284, 0.25692858262411367, 0.2790171578612251, 0.6503995722556829, 0.6936370246444419, 0.6807209544659507, 0.8530920341830309, 0.46318778989662346, 0.6227509300413417, 0.4576015753754838, 0.6313232642845161, 0.2348411199273594, 0.38994583344355505, 0.6001233291538949, 0.20173154449078362, 0.3590065759930693, 0.24274217627408642, 0.6164951558638133, 0.40251120048746536, 0.5630203940273215, 0.15777078797220778, 0.6064035557180343], \"y\": [0.647597845314556, 0.6012603388156001, 0.5008439398620117, 0.40783922981389203, 0.5051652688742664, 0.1681687031639385, 0.5640488205054542, 0.4509494923188173, 0.5632193461220074, 0.9749822967925016, 0.872550246719532, 0.7745114936781953, 0.8460677290921389, 0.5185629162825672, 0.9357876428680725, 0.7852443481511211, 0.8956045288106327, 0.9276060980704383, 0.735621801992063, 0.8456647089788574, 0.8108644832871538, 0.720740407783145, 0.7877445556500188, 0.46147332260536644, 0.8821617070377804, 0.7343617580395502, 0.8444320041833033, 0.6268673456225095, 0.6884141939747744, 0.3598807275614352, 0.7691098465956803, 0.6359032737906767, 0.7467216616005168, 0.4897444454260163, 0.4851207409001176, 0.6869726040640173, 0.33982153590039665, 0.6705007678772423, 0.24412534247226453, 0.44166371453098574, 0.11003258915009856, 0.4715085633633778, 0.4568975727394947, 0.12273253023887712, 0.47454849412693884, 0.5910230943712885, 0.25695246910059866, 0.6502298257337208, 0.5377129491856428, 0.6493066984181244, 0.3858945554985133, 0.8003012652974979, 0.646459808693475, 0.7591133411065578, 0.45604966094158883, 0.31546696236019567, 0.4414687805115397, 0.32950975895589313, 0.6699361698551316, 0.6958542041458284, 0.8061344855023658, 0.7550976826097267, 0.3376149601974438]}, {\"hoverinfo\": \"none\", \"marker\": {\"color\": \"rgba(255, 255, 255, 0)\", \"line\": {\"color\": \"rgba(255, 255, 255, 0)\", \"width\": 0}, \"size\": 0, \"symbol\": \"circle\"}, \"mode\": \"markers\", \"type\": \"scatter\", \"x\": [0.5, 0.0, 1.0, 0.5], \"y\": [0.0, 0.5, 0.5, 1.0]}],                        {\"height\": 450, \"hovermode\": \"closest\", \"margin\": {\"b\": 10, \"l\": 10, \"r\": 10, \"t\": 10}, \"plot_bgcolor\": \"rgb(255, 255, 255)\", \"showlegend\": false, \"template\": {\"data\": {\"bar\": [{\"error_x\": {\"color\": \"#2a3f5f\"}, \"error_y\": {\"color\": \"#2a3f5f\"}, \"marker\": {\"line\": {\"color\": \"#E5ECF6\", \"width\": 0.5}}, \"type\": \"bar\"}], \"barpolar\": [{\"marker\": {\"line\": {\"color\": \"#E5ECF6\", \"width\": 0.5}}, \"type\": \"barpolar\"}], \"carpet\": [{\"aaxis\": {\"endlinecolor\": \"#2a3f5f\", \"gridcolor\": \"white\", \"linecolor\": \"white\", \"minorgridcolor\": \"white\", \"startlinecolor\": \"#2a3f5f\"}, \"baxis\": {\"endlinecolor\": \"#2a3f5f\", \"gridcolor\": \"white\", \"linecolor\": \"white\", \"minorgridcolor\": \"white\", \"startlinecolor\": \"#2a3f5f\"}, \"type\": \"carpet\"}], \"choropleth\": [{\"colorbar\": {\"outlinewidth\": 0, \"ticks\": \"\"}, \"type\": \"choropleth\"}], \"contour\": [{\"colorbar\": {\"outlinewidth\": 0, \"ticks\": \"\"}, \"colorscale\": [[0.0, \"#0d0887\"], [0.1111111111111111, \"#46039f\"], [0.2222222222222222, \"#7201a8\"], [0.3333333333333333, \"#9c179e\"], [0.4444444444444444, \"#bd3786\"], [0.5555555555555556, \"#d8576b\"], [0.6666666666666666, \"#ed7953\"], [0.7777777777777778, \"#fb9f3a\"], [0.8888888888888888, \"#fdca26\"], [1.0, \"#f0f921\"]], \"type\": \"contour\"}], \"contourcarpet\": [{\"colorbar\": {\"outlinewidth\": 0, \"ticks\": \"\"}, \"type\": \"contourcarpet\"}], \"heatmap\": [{\"colorbar\": {\"outlinewidth\": 0, \"ticks\": \"\"}, \"colorscale\": [[0.0, \"#0d0887\"], [0.1111111111111111, \"#46039f\"], [0.2222222222222222, \"#7201a8\"], [0.3333333333333333, \"#9c179e\"], [0.4444444444444444, \"#bd3786\"], [0.5555555555555556, \"#d8576b\"], [0.6666666666666666, \"#ed7953\"], [0.7777777777777778, \"#fb9f3a\"], [0.8888888888888888, \"#fdca26\"], [1.0, \"#f0f921\"]], \"type\": \"heatmap\"}], \"heatmapgl\": [{\"colorbar\": {\"outlinewidth\": 0, \"ticks\": \"\"}, \"colorscale\": [[0.0, \"#0d0887\"], [0.1111111111111111, \"#46039f\"], [0.2222222222222222, \"#7201a8\"], [0.3333333333333333, \"#9c179e\"], [0.4444444444444444, \"#bd3786\"], [0.5555555555555556, \"#d8576b\"], [0.6666666666666666, \"#ed7953\"], [0.7777777777777778, \"#fb9f3a\"], [0.8888888888888888, \"#fdca26\"], [1.0, \"#f0f921\"]], \"type\": \"heatmapgl\"}], \"histogram\": [{\"marker\": {\"colorbar\": {\"outlinewidth\": 0, \"ticks\": \"\"}}, \"type\": \"histogram\"}], \"histogram2d\": [{\"colorbar\": {\"outlinewidth\": 0, \"ticks\": \"\"}, \"colorscale\": [[0.0, \"#0d0887\"], [0.1111111111111111, \"#46039f\"], [0.2222222222222222, \"#7201a8\"], [0.3333333333333333, \"#9c179e\"], [0.4444444444444444, \"#bd3786\"], [0.5555555555555556, \"#d8576b\"], [0.6666666666666666, \"#ed7953\"], [0.7777777777777778, \"#fb9f3a\"], [0.8888888888888888, \"#fdca26\"], [1.0, \"#f0f921\"]], \"type\": \"histogram2d\"}], \"histogram2dcontour\": [{\"colorbar\": {\"outlinewidth\": 0, \"ticks\": \"\"}, \"colorscale\": [[0.0, \"#0d0887\"], [0.1111111111111111, \"#46039f\"], [0.2222222222222222, \"#7201a8\"], [0.3333333333333333, \"#9c179e\"], [0.4444444444444444, \"#bd3786\"], [0.5555555555555556, \"#d8576b\"], [0.6666666666666666, \"#ed7953\"], [0.7777777777777778, \"#fb9f3a\"], [0.8888888888888888, \"#fdca26\"], [1.0, \"#f0f921\"]], \"type\": \"histogram2dcontour\"}], \"mesh3d\": [{\"colorbar\": {\"outlinewidth\": 0, \"ticks\": \"\"}, \"type\": \"mesh3d\"}], \"parcoords\": [{\"line\": {\"colorbar\": {\"outlinewidth\": 0, \"ticks\": \"\"}}, \"type\": \"parcoords\"}], \"pie\": [{\"automargin\": true, \"type\": \"pie\"}], \"scatter\": [{\"marker\": {\"colorbar\": {\"outlinewidth\": 0, \"ticks\": \"\"}}, \"type\": \"scatter\"}], \"scatter3d\": [{\"line\": {\"colorbar\": {\"outlinewidth\": 0, \"ticks\": \"\"}}, \"marker\": {\"colorbar\": {\"outlinewidth\": 0, \"ticks\": \"\"}}, \"type\": \"scatter3d\"}], \"scattercarpet\": [{\"marker\": {\"colorbar\": {\"outlinewidth\": 0, \"ticks\": \"\"}}, \"type\": \"scattercarpet\"}], \"scattergeo\": [{\"marker\": {\"colorbar\": {\"outlinewidth\": 0, \"ticks\": \"\"}}, \"type\": \"scattergeo\"}], \"scattergl\": [{\"marker\": {\"colorbar\": {\"outlinewidth\": 0, \"ticks\": \"\"}}, \"type\": \"scattergl\"}], \"scattermapbox\": [{\"marker\": {\"colorbar\": {\"outlinewidth\": 0, \"ticks\": \"\"}}, \"type\": \"scattermapbox\"}], \"scatterpolar\": [{\"marker\": {\"colorbar\": {\"outlinewidth\": 0, \"ticks\": \"\"}}, \"type\": \"scatterpolar\"}], \"scatterpolargl\": [{\"marker\": {\"colorbar\": {\"outlinewidth\": 0, \"ticks\": \"\"}}, \"type\": \"scatterpolargl\"}], \"scatterternary\": [{\"marker\": {\"colorbar\": {\"outlinewidth\": 0, \"ticks\": \"\"}}, \"type\": \"scatterternary\"}], \"surface\": [{\"colorbar\": {\"outlinewidth\": 0, \"ticks\": \"\"}, \"colorscale\": [[0.0, \"#0d0887\"], [0.1111111111111111, \"#46039f\"], [0.2222222222222222, \"#7201a8\"], [0.3333333333333333, \"#9c179e\"], [0.4444444444444444, \"#bd3786\"], [0.5555555555555556, \"#d8576b\"], [0.6666666666666666, \"#ed7953\"], [0.7777777777777778, \"#fb9f3a\"], [0.8888888888888888, \"#fdca26\"], [1.0, \"#f0f921\"]], \"type\": \"surface\"}], \"table\": [{\"cells\": {\"fill\": {\"color\": \"#EBF0F8\"}, \"line\": {\"color\": \"white\"}}, \"header\": {\"fill\": {\"color\": \"#C8D4E3\"}, \"line\": {\"color\": \"white\"}}, \"type\": \"table\"}]}, \"layout\": {\"annotationdefaults\": {\"arrowcolor\": \"#2a3f5f\", \"arrowhead\": 0, \"arrowwidth\": 1}, \"coloraxis\": {\"colorbar\": {\"outlinewidth\": 0, \"ticks\": \"\"}}, \"colorscale\": {\"diverging\": [[0, \"#8e0152\"], [0.1, \"#c51b7d\"], [0.2, \"#de77ae\"], [0.3, \"#f1b6da\"], [0.4, \"#fde0ef\"], [0.5, \"#f7f7f7\"], [0.6, \"#e6f5d0\"], [0.7, \"#b8e186\"], [0.8, \"#7fbc41\"], [0.9, \"#4d9221\"], [1, \"#276419\"]], \"sequential\": [[0.0, \"#0d0887\"], [0.1111111111111111, \"#46039f\"], [0.2222222222222222, \"#7201a8\"], [0.3333333333333333, \"#9c179e\"], [0.4444444444444444, \"#bd3786\"], [0.5555555555555556, \"#d8576b\"], [0.6666666666666666, \"#ed7953\"], [0.7777777777777778, \"#fb9f3a\"], [0.8888888888888888, \"#fdca26\"], [1.0, \"#f0f921\"]], \"sequentialminus\": [[0.0, \"#0d0887\"], [0.1111111111111111, \"#46039f\"], [0.2222222222222222, \"#7201a8\"], [0.3333333333333333, \"#9c179e\"], [0.4444444444444444, \"#bd3786\"], [0.5555555555555556, \"#d8576b\"], [0.6666666666666666, \"#ed7953\"], [0.7777777777777778, \"#fb9f3a\"], [0.8888888888888888, \"#fdca26\"], [1.0, \"#f0f921\"]]}, \"colorway\": [\"#636efa\", \"#EF553B\", \"#00cc96\", \"#ab63fa\", \"#FFA15A\", \"#19d3f3\", \"#FF6692\", \"#B6E880\", \"#FF97FF\", \"#FECB52\"], \"font\": {\"color\": \"#2a3f5f\"}, \"geo\": {\"bgcolor\": \"white\", \"lakecolor\": \"white\", \"landcolor\": \"#E5ECF6\", \"showlakes\": true, \"showland\": true, \"subunitcolor\": \"white\"}, \"hoverlabel\": {\"align\": \"left\"}, \"hovermode\": \"closest\", \"mapbox\": {\"style\": \"light\"}, \"paper_bgcolor\": \"white\", \"plot_bgcolor\": \"#E5ECF6\", \"polar\": {\"angularaxis\": {\"gridcolor\": \"white\", \"linecolor\": \"white\", \"ticks\": \"\"}, \"bgcolor\": \"#E5ECF6\", \"radialaxis\": {\"gridcolor\": \"white\", \"linecolor\": \"white\", \"ticks\": \"\"}}, \"scene\": {\"xaxis\": {\"backgroundcolor\": \"#E5ECF6\", \"gridcolor\": \"white\", \"gridwidth\": 2, \"linecolor\": \"white\", \"showbackground\": true, \"ticks\": \"\", \"zerolinecolor\": \"white\"}, \"yaxis\": {\"backgroundcolor\": \"#E5ECF6\", \"gridcolor\": \"white\", \"gridwidth\": 2, \"linecolor\": \"white\", \"showbackground\": true, \"ticks\": \"\", \"zerolinecolor\": \"white\"}, \"zaxis\": {\"backgroundcolor\": \"#E5ECF6\", \"gridcolor\": \"white\", \"gridwidth\": 2, \"linecolor\": \"white\", \"showbackground\": true, \"ticks\": \"\", \"zerolinecolor\": \"white\"}}, \"shapedefaults\": {\"line\": {\"color\": \"#2a3f5f\"}}, \"ternary\": {\"aaxis\": {\"gridcolor\": \"white\", \"linecolor\": \"white\", \"ticks\": \"\"}, \"baxis\": {\"gridcolor\": \"white\", \"linecolor\": \"white\", \"ticks\": \"\"}, \"bgcolor\": \"#E5ECF6\", \"caxis\": {\"gridcolor\": \"white\", \"linecolor\": \"white\", \"ticks\": \"\"}}, \"title\": {\"x\": 0.05}, \"xaxis\": {\"automargin\": true, \"gridcolor\": \"white\", \"linecolor\": \"white\", \"ticks\": \"\", \"title\": {\"standoff\": 15}, \"zerolinecolor\": \"white\", \"zerolinewidth\": 2}, \"yaxis\": {\"automargin\": true, \"gridcolor\": \"white\", \"linecolor\": \"white\", \"ticks\": \"\", \"title\": {\"standoff\": 15}, \"zerolinecolor\": \"white\", \"zerolinewidth\": 2}}}, \"width\": 800, \"xaxis\": {\"showgrid\": false, \"showticklabels\": false, \"zeroline\": false}, \"yaxis\": {\"showgrid\": false, \"showticklabels\": false, \"zeroline\": false}},                        {\"displayModeBar\": false, \"responsive\": true}                    ).then(function(){\n                            \nvar gd = document.getElementById('841dad9e-f793-4f9c-8e9f-d91cacbcd67d');\nvar x = new MutationObserver(function (mutations, observer) {{\n        var display = window.getComputedStyle(gd).display;\n        if (!display || display === 'none') {{\n            console.log([gd, 'removed!']);\n            Plotly.purge(gd);\n            observer.disconnect();\n        }}\n}});\n\n// Listen for the removal of the full notebook cells\nvar notebookContainer = gd.closest('#notebook-container');\nif (notebookContainer) {{\n    x.observe(notebookContainer, {childList: true});\n}}\n\n// Listen for the clearing of the current output cell\nvar outputEl = gd.closest('.output');\nif (outputEl) {{\n    x.observe(outputEl, {childList: true});\n}}\n\n                        })                };                });            </script>        </div>"
     },
     "metadata": {}
    }
   ],
   "source": [
    "import http.client\n",
    "import networkx as nx\n",
    "import freeman as fm\n",
    "from json import loads\n",
    "from scipy import stats\n",
    "from unidecode import unidecode\n",
    "\n",
    "# https://api.rawg.io/docs/#operation/games_list\n",
    "\n",
    "# game_nodes = {\n",
    "#     id: {name: name, list: [l]},\n",
    "#     id: {name: name, list: [l]},\n",
    "#     id: {name: name, list: [l]}\n",
    "# }\n",
    "\n",
    "# game_edges = {\n",
    "#     id: { \n",
    "#           l : peso,\n",
    "#           l : peso,\n",
    "#         },\n",
    "#     id: { \n",
    "#           l : peso,\n",
    "#           l : peso,\n",
    "#         },\n",
    "#     id: { \n",
    "#           l : peso,\n",
    "#           l : peso,\n",
    "#         },\n",
    "# }\n",
    "\n",
    "def get_rawg_api_endpoint(endpoint, conn, h) -> str:\n",
    "    conn.request(\"GET\", endpoint, headers=h)\n",
    "    return loads(conn.getresponse().read())\n",
    "\n",
    "def rawg_api_connection() -> None:\n",
    "    conn = http.client.HTTPSConnection(\"rawg-video-games-database.p.rapidapi.com\")\n",
    "    headers = {\n",
    "        'x-rapidapi-host': \"rawg-video-games-database.p.rapidapi.com\",\n",
    "        'x-rapidapi-key': \"c665cc5f66mshee40894946e0d28p1c5de7jsn49fab80d50ae\"\n",
    "        }\n",
    "\n",
    "    return conn, headers\n",
    "\n",
    "def gen_game_nodes(game_nodes, data, network_type) -> None:\n",
    "    for game in data[\"results\"]:\n",
    "        l = []\n",
    "\n",
    "        if network_type == 1:\n",
    "            for game_tag in game[\"tags\"]: l += [game_tag[\"slug\"]]\n",
    "\n",
    "        if network_type == 2:\n",
    "            if game[\"platforms\"] != None:\n",
    "                for game_platform in game[\"platforms\"]: l += [game_platform[\"platform\"][\"slug\"]]\n",
    "        \n",
    "        # deixar vazio se platform == null?\n",
    "        game_nodes[game[\"id\"]] = { \"name\" : game[\"slug\"], \"list\" : l }\n",
    "\n",
    "def gen_game_edges(game_nodes, game_edges) -> None:\n",
    "    for game1 in game_nodes:\n",
    "        targets = {}\n",
    "        \n",
    "        for game2 in game_nodes:\n",
    "            if game1 != game2:\n",
    "                for e in game_nodes[game1][\"list\"]:\n",
    "                    if e in game_nodes[game2][\"list\"] and game2 in game_edges and game1 not in game_edges[game2]:\n",
    "                        if game2 in targets:\n",
    "                            targets[game2] += 1\n",
    "                        else: \n",
    "                            targets[game2] = 0 \n",
    "        \n",
    "        game_edges[game1] = targets\n",
    "\n",
    "def build_gml(game_nodes, game_edges, network) -> None:\n",
    "\n",
    "    with open(network, 'w') as file:\n",
    "        file.write('graph [\\n')\n",
    "        file.write('  directed 0\\n')\n",
    "\n",
    "        for n in game_nodes.keys():\n",
    "            file.write('  node [\\n')\n",
    "            file.write('    id {}\\n'.format(n))\n",
    "            file.write('    name \"{}\"\\n'.format(unidecode(game_nodes[n][\"name\"])))\n",
    "            file.write('  ]\\n')\n",
    "\n",
    "        for n in game_edges.keys():\n",
    "            for m in game_edges[n].keys():\n",
    "                file.write('  edge [\\n')\n",
    "                file.write('    source {}\\n'.format(n))\n",
    "                file.write('    target {}\\n'.format(m))\n",
    "                file.write('    weight {}\\n'.format(game_edges[n][m]))\n",
    "                file.write('  ]\\n')\n",
    "\n",
    "        file.write(']\\n')\n",
    "\n",
    "def network_nx(network):  \n",
    "\n",
    "    g = fm.load(network)\n",
    "    g.label_nodes('name')\n",
    "    g.set_all_nodes(size=10, labpos='hover')\n",
    "    g.draw()\n",
    "    return g\n",
    "\n",
    "def betweeness_network(network):\n",
    "    bc = nx.betweenness_centrality(network)\n",
    "    network.scale_nodes_size(bc)\n",
    "    network.draw()\n",
    "\n",
    "def gen_x_y(data, x1, x2, y):\n",
    "    for game in data[\"results\"]:\n",
    "        lx1 = []\n",
    "        lx2 = []\n",
    "\n",
    "        for game_tag in game[\"tags\"]: lx1 += [game_tag[\"slug\"]]\n",
    "\n",
    "        if game[\"platforms\"] != None:\n",
    "            for game_platform in game[\"platforms\"]: lx2 += [game_platform[\"platform\"][\"slug\"]]\n",
    "\n",
    "        x1 += [lx1]\n",
    "        x2 += [lx2]\n",
    "        y += [game[\"rating\"] + game[\"ratings_count\"]]\n",
    "\n",
    "def main() -> None:\n",
    "    print(\"-------------------------------------------\")\n",
    "\n",
    "    # A. obter os dados (chamadas de API, parsing de CSV, etc.);\n",
    "    \n",
    "    # !: maximo de 20 jogos, talvez tenha que ser feito um for para pegar mais jogos.\n",
    "    rawg_connection, rawg_headers = rawg_api_connection()\n",
    "    rawg_data = get_rawg_api_endpoint(endpoint = \"/games?dates=2015-03-01,2015-03-01\", conn = rawg_connection, h = rawg_headers)\n",
    "    \n",
    "    # Rede 1: Nos: jogos; Arestas: jogos que compartilham a mesma categoria.\n",
    "    # B. construir a rede (escrever GML, carregar na NetworkX);\n",
    "    print(\"REDE 1\")\n",
    "    print(\"Nós: jogos;\")\n",
    "    print(\"Arestas: jogos que compartilham a mesma categoria;\")\n",
    "     \n",
    "    game_nodes = {}\n",
    "    game_edges = {}\n",
    "\n",
    "    gen_game_nodes(game_nodes, rawg_data, 1)\n",
    "    gen_game_edges(game_nodes, game_edges)\n",
    "    build_gml(game_nodes, game_edges, 'rede1.gml')\n",
    "    \n",
    "    g = network_nx('rede1.gml')\n",
    "\n",
    "    # C. calcular as métricas (chamar as funções vistas em aula ou outras);\n",
    "    betweeness_network(g)\n",
    "\n",
    "    # Rede 2: Nos: jogos; Arestas: jogos que compartilham a mesma plataforma de jogo.\n",
    "    # B. construir a rede (escrever GML, carregar na NetworkX);\n",
    "    print(\"REDE 2\")\n",
    "    print(\"Nós: jogos;\")\n",
    "    print(\"Arestas: jogos que compartilham a mesma plataforma de jogo;\")\n",
    "     \n",
    "    game_nodes = {}\n",
    "    game_edges = {}\n",
    "\n",
    "    gen_game_nodes(game_nodes, rawg_data, 2)\n",
    "    gen_game_edges(game_nodes, game_edges)\n",
    "    build_gml(game_nodes, game_edges, 'rede2.gml')\n",
    "    \n",
    "    g = network_nx('rede2.gml')\n",
    "\n",
    "    # C. calcular as métricas (chamar as funções vistas em aula ou outras);\n",
    "    betweeness_network(g)\n",
    "\n",
    "    # Rede 3: Nos: jogos; Arestas: jogos que compartilham mesma faixa de preco.\n",
    "    # Nao foi achado dados sobre o preco dos jogos nas diferentes plataformas na api.\n",
    "\n",
    "    # D. fazer os testes de hipótese (regressão, teste-t, etc.).\n",
    "    x_tag = []\n",
    "    x_platforms = []\n",
    "    y_rv = []\n",
    "    gen_x_y(rawg_data, x_tag, x_platforms, y_rv)\n",
    "\n",
    "    # nao esta funcionando o teste-t\n",
    "    # motivo: os x's sao uma lista que contem varias outras dentro.\n",
    "    #t2, p2 = stats.ttest_ind(x_tag, y_rv)\n",
    "    #print(\"t = \" + str(t2))\n",
    "    #print(\"p = \" + str(p2))\n",
    "\n",
    "if __name__ == \"__main__\":\n",
    "    main()"
   ]
  },
  {
   "cell_type": "code",
   "execution_count": null,
   "metadata": {},
   "outputs": [],
   "source": []
  }
 ],
 "metadata": {
  "kernelspec": {
   "display_name": "Python 3",
   "language": "python",
   "name": "python3"
  },
  "language_info": {
   "codemirror_mode": {
    "name": "ipython",
    "version": 3
   },
   "file_extension": ".py",
   "mimetype": "text/x-python",
   "name": "python",
   "nbconvert_exporter": "python",
   "pygments_lexer": "ipython3",
   "version": "3.8.3-final"
  }
 },
 "nbformat": 4,
 "nbformat_minor": 4
}