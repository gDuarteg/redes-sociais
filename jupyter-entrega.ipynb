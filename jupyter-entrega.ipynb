{
 "cells": [
  {
   "cell_type": "code",
   "execution_count": 1,
   "metadata": {
    "scrolled": false
   },
   "outputs": [
    {
     "data": {
      "text/html": [
       "        <script type=\"text/javascript\">\n",
       "        window.PlotlyConfig = {MathJaxConfig: 'local'};\n",
       "        if (window.MathJax) {MathJax.Hub.Config({SVG: {font: \"STIX-Web\"}});}\n",
       "        if (typeof require !== 'undefined') {\n",
       "        require.undef(\"plotly\");\n",
       "        requirejs.config({\n",
       "            paths: {\n",
       "                'plotly': ['https://cdn.plot.ly/plotly-latest.min']\n",
       "            }\n",
       "        });\n",
       "        require(['plotly'], function(Plotly) {\n",
       "            window._Plotly = Plotly;\n",
       "        });\n",
       "        }\n",
       "        </script>\n",
       "        "
      ]
     },
     "metadata": {},
     "output_type": "display_data"
    },
    {
     "name": "stdout",
     "output_type": "stream",
     "text": [
      "-------------------------------------------\n",
      "REDE 1\n",
      "Nós: jogos;\n",
      "Arestas: jogos que compartilham a mesma categoria;\n"
     ]
    },
    {
     "data": {
      "application/vnd.plotly.v1+json": {
       "config": {
        "displayModeBar": false,
        "linkText": "Export to plot.ly",
        "plotlyServerURL": "https://plot.ly",
        "showLink": false
       },
       "data": [
        {
         "hoverinfo": "none",
         "line": {
          "color": "rgb(127, 127, 127)",
          "dash": "solid",
          "width": 0
         },
         "mode": "lines",
         "type": "scatter",
         "x": [
          0.5066842868043261,
          0.5066842868043261,
          null,
          0,
          1,
          null
         ],
         "y": [
          0,
          1,
          null,
          0.506323851532032,
          0.506323851532032,
          null
         ]
        },
        {
         "hoverinfo": "none",
         "line": {
          "color": "rgb(0, 0, 0)",
          "dash": "solid",
          "width": 1
         },
         "mode": "lines",
         "type": "scatter",
         "x": [
          0.10125967544075036,
          0.47086174805196956,
          null,
          0.6681927793934938,
          0,
          null,
          0.6681927793934938,
          0.58332742648664,
          null,
          0.6681927793934938,
          0.4691488442429678,
          null,
          0.6681927793934938,
          0.9401420625907755,
          null,
          0.6681927793934938,
          0.7223574707007677,
          null,
          0,
          0.8029969258457315,
          null,
          0,
          0.58332742648664,
          null,
          0,
          0.4691488442429678,
          null,
          0.20484291907286648,
          0.23662331519522345,
          null,
          0.8029969258457315,
          0.58332742648664,
          null,
          0.8029969258457315,
          0.9401420625907755,
          null,
          0.8029969258457315,
          0.7223574707007677,
          null,
          0.58332742648664,
          0.4691488442429678,
          null,
          0.58332742648664,
          0.9401420625907755,
          null,
          0.58332742648664,
          0.7223574707007677,
          null,
          0.4691488442429678,
          0.9401420625907755,
          null,
          0.4691488442429678,
          0.7223574707007677,
          null,
          0.4691488442429678,
          0.0945580068697344,
          null,
          0.9401420625907755,
          0.7223574707007677,
          null,
          0.7223574707007677,
          0.18318338549507648,
          null,
          0.23662331519522345,
          0.18318338549507648,
          null,
          0.18318338549507648,
          0.0945580068697344,
          null
         ],
         "y": [
          0.7074131006510443,
          0.27250829586581593,
          null,
          0.24667819624622006,
          0.38426425160492944,
          null,
          0.24667819624622006,
          0.5033168958500682,
          null,
          0.24667819624622006,
          0.7301430393819415,
          null,
          0.24667819624622006,
          0.22124840377646998,
          null,
          0.24667819624622006,
          0.3448503459725159,
          null,
          0.38426425160492944,
          0,
          null,
          0.38426425160492944,
          0.5033168958500682,
          null,
          0.38426425160492944,
          0.7301430393819415,
          null,
          0.9495636779078307,
          0.8637451216161804,
          null,
          0,
          0.5033168958500682,
          null,
          0,
          0.22124840377646998,
          null,
          0,
          0.3448503459725159,
          null,
          0.5033168958500682,
          0.7301430393819415,
          null,
          0.5033168958500682,
          0.22124840377646998,
          null,
          0.5033168958500682,
          0.3448503459725159,
          null,
          0.7301430393819415,
          0.22124840377646998,
          null,
          0.7301430393819415,
          0.3448503459725159,
          null,
          0.7301430393819415,
          1,
          null,
          0.22124840377646998,
          0.3448503459725159,
          null,
          0.3448503459725159,
          0.11516134776086077,
          null,
          0.8637451216161804,
          0.11516134776086077,
          null,
          0.11516134776086077,
          1,
          null
         ]
        },
        {
         "hoverinfo": "text",
         "marker": {
          "color": "rgb(255, 255, 255)",
          "line": {
           "color": "rgb(0, 0, 0)",
           "width": 1
          },
          "size": 10,
          "symbol": "circle"
         },
         "mode": "markers",
         "text": [
          "fake-colours",
          "dimmdrive-gaming-ramdrive-10000-mbs",
          "my-talking-angela",
          "wrc-the-official-game",
          "i-wanna-be-the-co-op",
          "perfect-glowing-bodies",
          "funeral",
          "tanktrouble-mobile-mayhem",
          "mlg-bouncing-simulator-2015",
          "extreme-motor-bike-ride-simulator-3d-steer-the-mot",
          "ice-age-avalanche",
          "best-casino-social-slots-fun",
          "brutal-donut",
          "pengu-the-flying-penguin-unforgettable-chilly-adve",
          "fruits-pair-festival-january",
          "lunar-lander-relaunched",
          "no-idea-for-name",
          "armageddon-itch-4xisblack",
          "jashanoid",
          "death-duel-itch"
         ],
         "textfont": {
          "color": "rgb(0, 0, 0)"
         },
         "textposition": "middle center",
         "type": "scatter",
         "x": [
          0.10125967544075036,
          0.47086174805196956,
          0.6681927793934938,
          0,
          0.0977168705702624,
          0.20484291907286648,
          1,
          0.8029969258457315,
          0.37033013679291527,
          0.58332742648664,
          0.8502408700434678,
          0.4691488442429678,
          0.9401420625907755,
          0.7223574707007677,
          0.7171513334332582,
          0.2782971040584209,
          0.5509454896765477,
          0.23662331519522345,
          0.18318338549507648,
          0.0945580068697344
         ],
         "y": [
          0.7074131006510443,
          0.27250829586581593,
          0.24667819624622006,
          0.38426425160492944,
          0.7605383685704094,
          0.9495636779078307,
          0.6650232364929527,
          0,
          0.8056498137424003,
          0.5033168958500682,
          0.5362474750565907,
          0.7301430393819415,
          0.22124840377646998,
          0.3448503459725159,
          0.7293543991773697,
          0.45790257722327943,
          0.035827739877884686,
          0.8637451216161804,
          0.11516134776086077,
          1
         ]
        },
        {
         "hoverinfo": "none",
         "mode": "text",
         "text": [],
         "textfont": {
          "color": "rgb(255, 255, 255)"
         },
         "textposition": "middle center",
         "type": "scatter",
         "x": [],
         "y": []
        },
        {
         "hoverinfo": "none",
         "mode": "text",
         "text": [
          null,
          null,
          null,
          null,
          null,
          null,
          null,
          null,
          null,
          null,
          null,
          null,
          null,
          null,
          null,
          null,
          null,
          null,
          null,
          null
         ],
         "textfont": {
          "color": "rgb(0, 0, 0)"
         },
         "textposition": "middle center",
         "type": "scatter",
         "x": [
          0.10125967544075036,
          0.47086174805196956,
          0.6681927793934938,
          0,
          0.0977168705702624,
          0.20484291907286648,
          1,
          0.8029969258457315,
          0.37033013679291527,
          0.58332742648664,
          0.8502408700434678,
          0.4691488442429678,
          0.9401420625907755,
          0.7223574707007677,
          0.7171513334332582,
          0.2782971040584209,
          0.5509454896765477,
          0.23662331519522345,
          0.18318338549507648,
          0.0945580068697344
         ],
         "y": [
          0.7074131006510443,
          0.27250829586581593,
          0.24667819624622006,
          0.38426425160492944,
          0.7605383685704094,
          0.9495636779078307,
          0.6650232364929527,
          0,
          0.8056498137424003,
          0.5033168958500682,
          0.5362474750565907,
          0.7301430393819415,
          0.22124840377646998,
          0.3448503459725159,
          0.7293543991773697,
          0.45790257722327943,
          0.035827739877884686,
          0.8637451216161804,
          0.11516134776086077,
          1
         ]
        },
        {
         "hoverinfo": "none",
         "mode": "text",
         "text": [
          null,
          null,
          null,
          null,
          null,
          null,
          null,
          null,
          null,
          null,
          null,
          null,
          null,
          null,
          null,
          null,
          null,
          null,
          null,
          null,
          null,
          null,
          null
         ],
         "textfont": {
          "color": "rgb(0, 0, 0)"
         },
         "textposition": "middle center",
         "type": "scatter",
         "x": [
          0.2938411186206296,
          0.33248708733937765,
          0.6134619796019202,
          0.5571880743520969,
          0.8049019232919444,
          0.6851555344566738,
          0.4051393778570018,
          0.29006842381631653,
          0.2291972615568453,
          0.23263362520298855,
          0.6819279227695849,
          0.8620588447033776,
          0.7494643984833854,
          0.515662047918923,
          0.7674409142432894,
          0.6604481054331209,
          0.7119598763077557,
          0.6049488249373729,
          0.2765824092414596,
          0.8269869573667741,
          0.45603344048712857,
          0.2241505286067946,
          0.12473750642537407
         ],
         "y": [
          0.5120260588449862,
          0.28938966572019353,
          0.3614264273921115,
          0.4726345772494734,
          0.2601757002325236,
          0.3143962696595799,
          0.21752214090340238,
          0.4698750045831804,
          0.5815429551113392,
          0.9213609947693792,
          0.23529627440166187,
          0.13029758145323522,
          0.1621146593527118,
          0.5989641541479723,
          0.3863706804581977,
          0.4463513696724414,
          0.4982867173792092,
          0.5576636096314193,
          0.8406548508001377,
          0.2579844570116283,
          0.2044449512271931,
          0.4860591485891001,
          0.5528567516867781
         ]
        },
        {
         "hoverinfo": "none",
         "marker": {
          "color": "rgba(255, 255, 255, 0)",
          "line": {
           "color": "rgba(255, 255, 255, 0)",
           "width": 0
          },
          "size": 0,
          "symbol": "circle"
         },
         "mode": "markers",
         "type": "scatter",
         "x": [
          0.5,
          0,
          1,
          0.5
         ],
         "y": [
          0,
          0.5,
          0.5,
          1
         ]
        }
       ],
       "layout": {
        "height": 450,
        "hovermode": "closest",
        "margin": {
         "b": 10,
         "l": 10,
         "r": 10,
         "t": 10
        },
        "plot_bgcolor": "rgb(255, 255, 255)",
        "showlegend": false,
        "template": {
         "data": {
          "bar": [
           {
            "error_x": {
             "color": "#2a3f5f"
            },
            "error_y": {
             "color": "#2a3f5f"
            },
            "marker": {
             "line": {
              "color": "#E5ECF6",
              "width": 0.5
             }
            },
            "type": "bar"
           }
          ],
          "barpolar": [
           {
            "marker": {
             "line": {
              "color": "#E5ECF6",
              "width": 0.5
             }
            },
            "type": "barpolar"
           }
          ],
          "carpet": [
           {
            "aaxis": {
             "endlinecolor": "#2a3f5f",
             "gridcolor": "white",
             "linecolor": "white",
             "minorgridcolor": "white",
             "startlinecolor": "#2a3f5f"
            },
            "baxis": {
             "endlinecolor": "#2a3f5f",
             "gridcolor": "white",
             "linecolor": "white",
             "minorgridcolor": "white",
             "startlinecolor": "#2a3f5f"
            },
            "type": "carpet"
           }
          ],
          "choropleth": [
           {
            "colorbar": {
             "outlinewidth": 0,
             "ticks": ""
            },
            "type": "choropleth"
           }
          ],
          "contour": [
           {
            "colorbar": {
             "outlinewidth": 0,
             "ticks": ""
            },
            "colorscale": [
             [
              0,
              "#0d0887"
             ],
             [
              0.1111111111111111,
              "#46039f"
             ],
             [
              0.2222222222222222,
              "#7201a8"
             ],
             [
              0.3333333333333333,
              "#9c179e"
             ],
             [
              0.4444444444444444,
              "#bd3786"
             ],
             [
              0.5555555555555556,
              "#d8576b"
             ],
             [
              0.6666666666666666,
              "#ed7953"
             ],
             [
              0.7777777777777778,
              "#fb9f3a"
             ],
             [
              0.8888888888888888,
              "#fdca26"
             ],
             [
              1,
              "#f0f921"
             ]
            ],
            "type": "contour"
           }
          ],
          "contourcarpet": [
           {
            "colorbar": {
             "outlinewidth": 0,
             "ticks": ""
            },
            "type": "contourcarpet"
           }
          ],
          "heatmap": [
           {
            "colorbar": {
             "outlinewidth": 0,
             "ticks": ""
            },
            "colorscale": [
             [
              0,
              "#0d0887"
             ],
             [
              0.1111111111111111,
              "#46039f"
             ],
             [
              0.2222222222222222,
              "#7201a8"
             ],
             [
              0.3333333333333333,
              "#9c179e"
             ],
             [
              0.4444444444444444,
              "#bd3786"
             ],
             [
              0.5555555555555556,
              "#d8576b"
             ],
             [
              0.6666666666666666,
              "#ed7953"
             ],
             [
              0.7777777777777778,
              "#fb9f3a"
             ],
             [
              0.8888888888888888,
              "#fdca26"
             ],
             [
              1,
              "#f0f921"
             ]
            ],
            "type": "heatmap"
           }
          ],
          "heatmapgl": [
           {
            "colorbar": {
             "outlinewidth": 0,
             "ticks": ""
            },
            "colorscale": [
             [
              0,
              "#0d0887"
             ],
             [
              0.1111111111111111,
              "#46039f"
             ],
             [
              0.2222222222222222,
              "#7201a8"
             ],
             [
              0.3333333333333333,
              "#9c179e"
             ],
             [
              0.4444444444444444,
              "#bd3786"
             ],
             [
              0.5555555555555556,
              "#d8576b"
             ],
             [
              0.6666666666666666,
              "#ed7953"
             ],
             [
              0.7777777777777778,
              "#fb9f3a"
             ],
             [
              0.8888888888888888,
              "#fdca26"
             ],
             [
              1,
              "#f0f921"
             ]
            ],
            "type": "heatmapgl"
           }
          ],
          "histogram": [
           {
            "marker": {
             "colorbar": {
              "outlinewidth": 0,
              "ticks": ""
             }
            },
            "type": "histogram"
           }
          ],
          "histogram2d": [
           {
            "colorbar": {
             "outlinewidth": 0,
             "ticks": ""
            },
            "colorscale": [
             [
              0,
              "#0d0887"
             ],
             [
              0.1111111111111111,
              "#46039f"
             ],
             [
              0.2222222222222222,
              "#7201a8"
             ],
             [
              0.3333333333333333,
              "#9c179e"
             ],
             [
              0.4444444444444444,
              "#bd3786"
             ],
             [
              0.5555555555555556,
              "#d8576b"
             ],
             [
              0.6666666666666666,
              "#ed7953"
             ],
             [
              0.7777777777777778,
              "#fb9f3a"
             ],
             [
              0.8888888888888888,
              "#fdca26"
             ],
             [
              1,
              "#f0f921"
             ]
            ],
            "type": "histogram2d"
           }
          ],
          "histogram2dcontour": [
           {
            "colorbar": {
             "outlinewidth": 0,
             "ticks": ""
            },
            "colorscale": [
             [
              0,
              "#0d0887"
             ],
             [
              0.1111111111111111,
              "#46039f"
             ],
             [
              0.2222222222222222,
              "#7201a8"
             ],
             [
              0.3333333333333333,
              "#9c179e"
             ],
             [
              0.4444444444444444,
              "#bd3786"
             ],
             [
              0.5555555555555556,
              "#d8576b"
             ],
             [
              0.6666666666666666,
              "#ed7953"
             ],
             [
              0.7777777777777778,
              "#fb9f3a"
             ],
             [
              0.8888888888888888,
              "#fdca26"
             ],
             [
              1,
              "#f0f921"
             ]
            ],
            "type": "histogram2dcontour"
           }
          ],
          "mesh3d": [
           {
            "colorbar": {
             "outlinewidth": 0,
             "ticks": ""
            },
            "type": "mesh3d"
           }
          ],
          "parcoords": [
           {
            "line": {
             "colorbar": {
              "outlinewidth": 0,
              "ticks": ""
             }
            },
            "type": "parcoords"
           }
          ],
          "pie": [
           {
            "automargin": true,
            "type": "pie"
           }
          ],
          "scatter": [
           {
            "marker": {
             "colorbar": {
              "outlinewidth": 0,
              "ticks": ""
             }
            },
            "type": "scatter"
           }
          ],
          "scatter3d": [
           {
            "line": {
             "colorbar": {
              "outlinewidth": 0,
              "ticks": ""
             }
            },
            "marker": {
             "colorbar": {
              "outlinewidth": 0,
              "ticks": ""
             }
            },
            "type": "scatter3d"
           }
          ],
          "scattercarpet": [
           {
            "marker": {
             "colorbar": {
              "outlinewidth": 0,
              "ticks": ""
             }
            },
            "type": "scattercarpet"
           }
          ],
          "scattergeo": [
           {
            "marker": {
             "colorbar": {
              "outlinewidth": 0,
              "ticks": ""
             }
            },
            "type": "scattergeo"
           }
          ],
          "scattergl": [
           {
            "marker": {
             "colorbar": {
              "outlinewidth": 0,
              "ticks": ""
             }
            },
            "type": "scattergl"
           }
          ],
          "scattermapbox": [
           {
            "marker": {
             "colorbar": {
              "outlinewidth": 0,
              "ticks": ""
             }
            },
            "type": "scattermapbox"
           }
          ],
          "scatterpolar": [
           {
            "marker": {
             "colorbar": {
              "outlinewidth": 0,
              "ticks": ""
             }
            },
            "type": "scatterpolar"
           }
          ],
          "scatterpolargl": [
           {
            "marker": {
             "colorbar": {
              "outlinewidth": 0,
              "ticks": ""
             }
            },
            "type": "scatterpolargl"
           }
          ],
          "scatterternary": [
           {
            "marker": {
             "colorbar": {
              "outlinewidth": 0,
              "ticks": ""
             }
            },
            "type": "scatterternary"
           }
          ],
          "surface": [
           {
            "colorbar": {
             "outlinewidth": 0,
             "ticks": ""
            },
            "colorscale": [
             [
              0,
              "#0d0887"
             ],
             [
              0.1111111111111111,
              "#46039f"
             ],
             [
              0.2222222222222222,
              "#7201a8"
             ],
             [
              0.3333333333333333,
              "#9c179e"
             ],
             [
              0.4444444444444444,
              "#bd3786"
             ],
             [
              0.5555555555555556,
              "#d8576b"
             ],
             [
              0.6666666666666666,
              "#ed7953"
             ],
             [
              0.7777777777777778,
              "#fb9f3a"
             ],
             [
              0.8888888888888888,
              "#fdca26"
             ],
             [
              1,
              "#f0f921"
             ]
            ],
            "type": "surface"
           }
          ],
          "table": [
           {
            "cells": {
             "fill": {
              "color": "#EBF0F8"
             },
             "line": {
              "color": "white"
             }
            },
            "header": {
             "fill": {
              "color": "#C8D4E3"
             },
             "line": {
              "color": "white"
             }
            },
            "type": "table"
           }
          ]
         },
         "layout": {
          "annotationdefaults": {
           "arrowcolor": "#2a3f5f",
           "arrowhead": 0,
           "arrowwidth": 1
          },
          "coloraxis": {
           "colorbar": {
            "outlinewidth": 0,
            "ticks": ""
           }
          },
          "colorscale": {
           "diverging": [
            [
             0,
             "#8e0152"
            ],
            [
             0.1,
             "#c51b7d"
            ],
            [
             0.2,
             "#de77ae"
            ],
            [
             0.3,
             "#f1b6da"
            ],
            [
             0.4,
             "#fde0ef"
            ],
            [
             0.5,
             "#f7f7f7"
            ],
            [
             0.6,
             "#e6f5d0"
            ],
            [
             0.7,
             "#b8e186"
            ],
            [
             0.8,
             "#7fbc41"
            ],
            [
             0.9,
             "#4d9221"
            ],
            [
             1,
             "#276419"
            ]
           ],
           "sequential": [
            [
             0,
             "#0d0887"
            ],
            [
             0.1111111111111111,
             "#46039f"
            ],
            [
             0.2222222222222222,
             "#7201a8"
            ],
            [
             0.3333333333333333,
             "#9c179e"
            ],
            [
             0.4444444444444444,
             "#bd3786"
            ],
            [
             0.5555555555555556,
             "#d8576b"
            ],
            [
             0.6666666666666666,
             "#ed7953"
            ],
            [
             0.7777777777777778,
             "#fb9f3a"
            ],
            [
             0.8888888888888888,
             "#fdca26"
            ],
            [
             1,
             "#f0f921"
            ]
           ],
           "sequentialminus": [
            [
             0,
             "#0d0887"
            ],
            [
             0.1111111111111111,
             "#46039f"
            ],
            [
             0.2222222222222222,
             "#7201a8"
            ],
            [
             0.3333333333333333,
             "#9c179e"
            ],
            [
             0.4444444444444444,
             "#bd3786"
            ],
            [
             0.5555555555555556,
             "#d8576b"
            ],
            [
             0.6666666666666666,
             "#ed7953"
            ],
            [
             0.7777777777777778,
             "#fb9f3a"
            ],
            [
             0.8888888888888888,
             "#fdca26"
            ],
            [
             1,
             "#f0f921"
            ]
           ]
          },
          "colorway": [
           "#636efa",
           "#EF553B",
           "#00cc96",
           "#ab63fa",
           "#FFA15A",
           "#19d3f3",
           "#FF6692",
           "#B6E880",
           "#FF97FF",
           "#FECB52"
          ],
          "font": {
           "color": "#2a3f5f"
          },
          "geo": {
           "bgcolor": "white",
           "lakecolor": "white",
           "landcolor": "#E5ECF6",
           "showlakes": true,
           "showland": true,
           "subunitcolor": "white"
          },
          "hoverlabel": {
           "align": "left"
          },
          "hovermode": "closest",
          "mapbox": {
           "style": "light"
          },
          "paper_bgcolor": "white",
          "plot_bgcolor": "#E5ECF6",
          "polar": {
           "angularaxis": {
            "gridcolor": "white",
            "linecolor": "white",
            "ticks": ""
           },
           "bgcolor": "#E5ECF6",
           "radialaxis": {
            "gridcolor": "white",
            "linecolor": "white",
            "ticks": ""
           }
          },
          "scene": {
           "xaxis": {
            "backgroundcolor": "#E5ECF6",
            "gridcolor": "white",
            "gridwidth": 2,
            "linecolor": "white",
            "showbackground": true,
            "ticks": "",
            "zerolinecolor": "white"
           },
           "yaxis": {
            "backgroundcolor": "#E5ECF6",
            "gridcolor": "white",
            "gridwidth": 2,
            "linecolor": "white",
            "showbackground": true,
            "ticks": "",
            "zerolinecolor": "white"
           },
           "zaxis": {
            "backgroundcolor": "#E5ECF6",
            "gridcolor": "white",
            "gridwidth": 2,
            "linecolor": "white",
            "showbackground": true,
            "ticks": "",
            "zerolinecolor": "white"
           }
          },
          "shapedefaults": {
           "line": {
            "color": "#2a3f5f"
           }
          },
          "ternary": {
           "aaxis": {
            "gridcolor": "white",
            "linecolor": "white",
            "ticks": ""
           },
           "baxis": {
            "gridcolor": "white",
            "linecolor": "white",
            "ticks": ""
           },
           "bgcolor": "#E5ECF6",
           "caxis": {
            "gridcolor": "white",
            "linecolor": "white",
            "ticks": ""
           }
          },
          "title": {
           "x": 0.05
          },
          "xaxis": {
           "automargin": true,
           "gridcolor": "white",
           "linecolor": "white",
           "ticks": "",
           "title": {
            "standoff": 15
           },
           "zerolinecolor": "white",
           "zerolinewidth": 2
          },
          "yaxis": {
           "automargin": true,
           "gridcolor": "white",
           "linecolor": "white",
           "ticks": "",
           "title": {
            "standoff": 15
           },
           "zerolinecolor": "white",
           "zerolinewidth": 2
          }
         }
        },
        "width": 800,
        "xaxis": {
         "showgrid": false,
         "showticklabels": false,
         "zeroline": false
        },
        "yaxis": {
         "showgrid": false,
         "showticklabels": false,
         "zeroline": false
        }
       }
      },
      "text/html": [
       "<div>                            <div id=\"b42a9a63-9004-4061-b9d1-ba9ef279c110\" class=\"plotly-graph-div\" style=\"height:450px; width:800px;\"></div>            <script type=\"text/javascript\">                require([\"plotly\"], function(Plotly) {                    window.PLOTLYENV=window.PLOTLYENV || {};                                    if (document.getElementById(\"b42a9a63-9004-4061-b9d1-ba9ef279c110\")) {                    Plotly.newPlot(                        \"b42a9a63-9004-4061-b9d1-ba9ef279c110\",                        [{\"hoverinfo\": \"none\", \"line\": {\"color\": \"rgb(127, 127, 127)\", \"dash\": \"solid\", \"width\": 0}, \"mode\": \"lines\", \"type\": \"scatter\", \"x\": [0.5066842868043261, 0.5066842868043261, null, 0, 1, null], \"y\": [0, 1, null, 0.506323851532032, 0.506323851532032, null]}, {\"hoverinfo\": \"none\", \"line\": {\"color\": \"rgb(0, 0, 0)\", \"dash\": \"solid\", \"width\": 1}, \"mode\": \"lines\", \"type\": \"scatter\", \"x\": [0.10125967544075036, 0.47086174805196956, null, 0.6681927793934938, 0.0, null, 0.6681927793934938, 0.58332742648664, null, 0.6681927793934938, 0.4691488442429678, null, 0.6681927793934938, 0.9401420625907755, null, 0.6681927793934938, 0.7223574707007677, null, 0.0, 0.8029969258457315, null, 0.0, 0.58332742648664, null, 0.0, 0.4691488442429678, null, 0.20484291907286648, 0.23662331519522345, null, 0.8029969258457315, 0.58332742648664, null, 0.8029969258457315, 0.9401420625907755, null, 0.8029969258457315, 0.7223574707007677, null, 0.58332742648664, 0.4691488442429678, null, 0.58332742648664, 0.9401420625907755, null, 0.58332742648664, 0.7223574707007677, null, 0.4691488442429678, 0.9401420625907755, null, 0.4691488442429678, 0.7223574707007677, null, 0.4691488442429678, 0.0945580068697344, null, 0.9401420625907755, 0.7223574707007677, null, 0.7223574707007677, 0.18318338549507648, null, 0.23662331519522345, 0.18318338549507648, null, 0.18318338549507648, 0.0945580068697344, null], \"y\": [0.7074131006510443, 0.27250829586581593, null, 0.24667819624622006, 0.38426425160492944, null, 0.24667819624622006, 0.5033168958500682, null, 0.24667819624622006, 0.7301430393819415, null, 0.24667819624622006, 0.22124840377646998, null, 0.24667819624622006, 0.3448503459725159, null, 0.38426425160492944, 0.0, null, 0.38426425160492944, 0.5033168958500682, null, 0.38426425160492944, 0.7301430393819415, null, 0.9495636779078307, 0.8637451216161804, null, 0.0, 0.5033168958500682, null, 0.0, 0.22124840377646998, null, 0.0, 0.3448503459725159, null, 0.5033168958500682, 0.7301430393819415, null, 0.5033168958500682, 0.22124840377646998, null, 0.5033168958500682, 0.3448503459725159, null, 0.7301430393819415, 0.22124840377646998, null, 0.7301430393819415, 0.3448503459725159, null, 0.7301430393819415, 1.0, null, 0.22124840377646998, 0.3448503459725159, null, 0.3448503459725159, 0.11516134776086077, null, 0.8637451216161804, 0.11516134776086077, null, 0.11516134776086077, 1.0, null]}, {\"hoverinfo\": \"text\", \"marker\": {\"color\": \"rgb(255, 255, 255)\", \"line\": {\"color\": \"rgb(0, 0, 0)\", \"width\": 1}, \"size\": 10, \"symbol\": \"circle\"}, \"mode\": \"markers\", \"text\": [\"fake-colours\", \"dimmdrive-gaming-ramdrive-10000-mbs\", \"my-talking-angela\", \"wrc-the-official-game\", \"i-wanna-be-the-co-op\", \"perfect-glowing-bodies\", \"funeral\", \"tanktrouble-mobile-mayhem\", \"mlg-bouncing-simulator-2015\", \"extreme-motor-bike-ride-simulator-3d-steer-the-mot\", \"ice-age-avalanche\", \"best-casino-social-slots-fun\", \"brutal-donut\", \"pengu-the-flying-penguin-unforgettable-chilly-adve\", \"fruits-pair-festival-january\", \"lunar-lander-relaunched\", \"no-idea-for-name\", \"armageddon-itch-4xisblack\", \"jashanoid\", \"death-duel-itch\"], \"textfont\": {\"color\": \"rgb(0, 0, 0)\"}, \"textposition\": \"middle center\", \"type\": \"scatter\", \"x\": [0.10125967544075036, 0.47086174805196956, 0.6681927793934938, 0.0, 0.0977168705702624, 0.20484291907286648, 1.0, 0.8029969258457315, 0.37033013679291527, 0.58332742648664, 0.8502408700434678, 0.4691488442429678, 0.9401420625907755, 0.7223574707007677, 0.7171513334332582, 0.2782971040584209, 0.5509454896765477, 0.23662331519522345, 0.18318338549507648, 0.0945580068697344], \"y\": [0.7074131006510443, 0.27250829586581593, 0.24667819624622006, 0.38426425160492944, 0.7605383685704094, 0.9495636779078307, 0.6650232364929527, 0.0, 0.8056498137424003, 0.5033168958500682, 0.5362474750565907, 0.7301430393819415, 0.22124840377646998, 0.3448503459725159, 0.7293543991773697, 0.45790257722327943, 0.035827739877884686, 0.8637451216161804, 0.11516134776086077, 1.0]}, {\"hoverinfo\": \"none\", \"mode\": \"text\", \"text\": [], \"textfont\": {\"color\": \"rgb(255, 255, 255)\"}, \"textposition\": \"middle center\", \"type\": \"scatter\", \"x\": [], \"y\": []}, {\"hoverinfo\": \"none\", \"mode\": \"text\", \"text\": [null, null, null, null, null, null, null, null, null, null, null, null, null, null, null, null, null, null, null, null], \"textfont\": {\"color\": \"rgb(0, 0, 0)\"}, \"textposition\": \"middle center\", \"type\": \"scatter\", \"x\": [0.10125967544075036, 0.47086174805196956, 0.6681927793934938, 0.0, 0.0977168705702624, 0.20484291907286648, 1.0, 0.8029969258457315, 0.37033013679291527, 0.58332742648664, 0.8502408700434678, 0.4691488442429678, 0.9401420625907755, 0.7223574707007677, 0.7171513334332582, 0.2782971040584209, 0.5509454896765477, 0.23662331519522345, 0.18318338549507648, 0.0945580068697344], \"y\": [0.7074131006510443, 0.27250829586581593, 0.24667819624622006, 0.38426425160492944, 0.7605383685704094, 0.9495636779078307, 0.6650232364929527, 0.0, 0.8056498137424003, 0.5033168958500682, 0.5362474750565907, 0.7301430393819415, 0.22124840377646998, 0.3448503459725159, 0.7293543991773697, 0.45790257722327943, 0.035827739877884686, 0.8637451216161804, 0.11516134776086077, 1.0]}, {\"hoverinfo\": \"none\", \"mode\": \"text\", \"text\": [null, null, null, null, null, null, null, null, null, null, null, null, null, null, null, null, null, null, null, null, null, null, null], \"textfont\": {\"color\": \"rgb(0, 0, 0)\"}, \"textposition\": \"middle center\", \"type\": \"scatter\", \"x\": [0.2938411186206296, 0.33248708733937765, 0.6134619796019202, 0.5571880743520969, 0.8049019232919444, 0.6851555344566738, 0.4051393778570018, 0.29006842381631653, 0.2291972615568453, 0.23263362520298855, 0.6819279227695849, 0.8620588447033776, 0.7494643984833854, 0.515662047918923, 0.7674409142432894, 0.6604481054331209, 0.7119598763077557, 0.6049488249373729, 0.2765824092414596, 0.8269869573667741, 0.45603344048712857, 0.2241505286067946, 0.12473750642537407], \"y\": [0.5120260588449862, 0.28938966572019353, 0.3614264273921115, 0.4726345772494734, 0.2601757002325236, 0.3143962696595799, 0.21752214090340238, 0.4698750045831804, 0.5815429551113392, 0.9213609947693792, 0.23529627440166187, 0.13029758145323522, 0.1621146593527118, 0.5989641541479723, 0.3863706804581977, 0.4463513696724414, 0.4982867173792092, 0.5576636096314193, 0.8406548508001377, 0.2579844570116283, 0.2044449512271931, 0.4860591485891001, 0.5528567516867781]}, {\"hoverinfo\": \"none\", \"marker\": {\"color\": \"rgba(255, 255, 255, 0)\", \"line\": {\"color\": \"rgba(255, 255, 255, 0)\", \"width\": 0}, \"size\": 0, \"symbol\": \"circle\"}, \"mode\": \"markers\", \"type\": \"scatter\", \"x\": [0.5, 0.0, 1.0, 0.5], \"y\": [0.0, 0.5, 0.5, 1.0]}],                        {\"height\": 450, \"hovermode\": \"closest\", \"margin\": {\"b\": 10, \"l\": 10, \"r\": 10, \"t\": 10}, \"plot_bgcolor\": \"rgb(255, 255, 255)\", \"showlegend\": false, \"template\": {\"data\": {\"bar\": [{\"error_x\": {\"color\": \"#2a3f5f\"}, \"error_y\": {\"color\": \"#2a3f5f\"}, \"marker\": {\"line\": {\"color\": \"#E5ECF6\", \"width\": 0.5}}, \"type\": \"bar\"}], \"barpolar\": [{\"marker\": {\"line\": {\"color\": \"#E5ECF6\", \"width\": 0.5}}, \"type\": \"barpolar\"}], \"carpet\": [{\"aaxis\": {\"endlinecolor\": \"#2a3f5f\", \"gridcolor\": \"white\", \"linecolor\": \"white\", \"minorgridcolor\": \"white\", \"startlinecolor\": \"#2a3f5f\"}, \"baxis\": {\"endlinecolor\": \"#2a3f5f\", \"gridcolor\": \"white\", \"linecolor\": \"white\", \"minorgridcolor\": \"white\", \"startlinecolor\": \"#2a3f5f\"}, \"type\": \"carpet\"}], \"choropleth\": [{\"colorbar\": {\"outlinewidth\": 0, \"ticks\": \"\"}, \"type\": \"choropleth\"}], \"contour\": [{\"colorbar\": {\"outlinewidth\": 0, \"ticks\": \"\"}, \"colorscale\": [[0.0, \"#0d0887\"], [0.1111111111111111, \"#46039f\"], [0.2222222222222222, \"#7201a8\"], [0.3333333333333333, \"#9c179e\"], [0.4444444444444444, \"#bd3786\"], [0.5555555555555556, \"#d8576b\"], [0.6666666666666666, \"#ed7953\"], [0.7777777777777778, \"#fb9f3a\"], [0.8888888888888888, \"#fdca26\"], [1.0, \"#f0f921\"]], \"type\": \"contour\"}], \"contourcarpet\": [{\"colorbar\": {\"outlinewidth\": 0, \"ticks\": \"\"}, \"type\": \"contourcarpet\"}], \"heatmap\": [{\"colorbar\": {\"outlinewidth\": 0, \"ticks\": \"\"}, \"colorscale\": [[0.0, \"#0d0887\"], [0.1111111111111111, \"#46039f\"], [0.2222222222222222, \"#7201a8\"], [0.3333333333333333, \"#9c179e\"], [0.4444444444444444, \"#bd3786\"], [0.5555555555555556, \"#d8576b\"], [0.6666666666666666, \"#ed7953\"], [0.7777777777777778, \"#fb9f3a\"], [0.8888888888888888, \"#fdca26\"], [1.0, \"#f0f921\"]], \"type\": \"heatmap\"}], \"heatmapgl\": [{\"colorbar\": {\"outlinewidth\": 0, \"ticks\": \"\"}, \"colorscale\": [[0.0, \"#0d0887\"], [0.1111111111111111, \"#46039f\"], [0.2222222222222222, \"#7201a8\"], [0.3333333333333333, \"#9c179e\"], [0.4444444444444444, \"#bd3786\"], [0.5555555555555556, \"#d8576b\"], [0.6666666666666666, \"#ed7953\"], [0.7777777777777778, \"#fb9f3a\"], [0.8888888888888888, \"#fdca26\"], [1.0, \"#f0f921\"]], \"type\": \"heatmapgl\"}], \"histogram\": [{\"marker\": {\"colorbar\": {\"outlinewidth\": 0, \"ticks\": \"\"}}, \"type\": \"histogram\"}], \"histogram2d\": [{\"colorbar\": {\"outlinewidth\": 0, \"ticks\": \"\"}, \"colorscale\": [[0.0, \"#0d0887\"], [0.1111111111111111, \"#46039f\"], [0.2222222222222222, \"#7201a8\"], [0.3333333333333333, \"#9c179e\"], [0.4444444444444444, \"#bd3786\"], [0.5555555555555556, \"#d8576b\"], [0.6666666666666666, \"#ed7953\"], [0.7777777777777778, \"#fb9f3a\"], [0.8888888888888888, \"#fdca26\"], [1.0, \"#f0f921\"]], \"type\": \"histogram2d\"}], \"histogram2dcontour\": [{\"colorbar\": {\"outlinewidth\": 0, \"ticks\": \"\"}, \"colorscale\": [[0.0, \"#0d0887\"], [0.1111111111111111, \"#46039f\"], [0.2222222222222222, \"#7201a8\"], [0.3333333333333333, \"#9c179e\"], [0.4444444444444444, \"#bd3786\"], [0.5555555555555556, \"#d8576b\"], [0.6666666666666666, \"#ed7953\"], [0.7777777777777778, \"#fb9f3a\"], [0.8888888888888888, \"#fdca26\"], [1.0, \"#f0f921\"]], \"type\": \"histogram2dcontour\"}], \"mesh3d\": [{\"colorbar\": {\"outlinewidth\": 0, \"ticks\": \"\"}, \"type\": \"mesh3d\"}], \"parcoords\": [{\"line\": {\"colorbar\": {\"outlinewidth\": 0, \"ticks\": \"\"}}, \"type\": \"parcoords\"}], \"pie\": [{\"automargin\": true, \"type\": \"pie\"}], \"scatter\": [{\"marker\": {\"colorbar\": {\"outlinewidth\": 0, \"ticks\": \"\"}}, \"type\": \"scatter\"}], \"scatter3d\": [{\"line\": {\"colorbar\": {\"outlinewidth\": 0, \"ticks\": \"\"}}, \"marker\": {\"colorbar\": {\"outlinewidth\": 0, \"ticks\": \"\"}}, \"type\": \"scatter3d\"}], \"scattercarpet\": [{\"marker\": {\"colorbar\": {\"outlinewidth\": 0, \"ticks\": \"\"}}, \"type\": \"scattercarpet\"}], \"scattergeo\": [{\"marker\": {\"colorbar\": {\"outlinewidth\": 0, \"ticks\": \"\"}}, \"type\": \"scattergeo\"}], \"scattergl\": [{\"marker\": {\"colorbar\": {\"outlinewidth\": 0, \"ticks\": \"\"}}, \"type\": \"scattergl\"}], \"scattermapbox\": [{\"marker\": {\"colorbar\": {\"outlinewidth\": 0, \"ticks\": \"\"}}, \"type\": \"scattermapbox\"}], \"scatterpolar\": [{\"marker\": {\"colorbar\": {\"outlinewidth\": 0, \"ticks\": \"\"}}, \"type\": \"scatterpolar\"}], \"scatterpolargl\": [{\"marker\": {\"colorbar\": {\"outlinewidth\": 0, \"ticks\": \"\"}}, \"type\": \"scatterpolargl\"}], \"scatterternary\": [{\"marker\": {\"colorbar\": {\"outlinewidth\": 0, \"ticks\": \"\"}}, \"type\": \"scatterternary\"}], \"surface\": [{\"colorbar\": {\"outlinewidth\": 0, \"ticks\": \"\"}, \"colorscale\": [[0.0, \"#0d0887\"], [0.1111111111111111, \"#46039f\"], [0.2222222222222222, \"#7201a8\"], [0.3333333333333333, \"#9c179e\"], [0.4444444444444444, \"#bd3786\"], [0.5555555555555556, \"#d8576b\"], [0.6666666666666666, \"#ed7953\"], [0.7777777777777778, \"#fb9f3a\"], [0.8888888888888888, \"#fdca26\"], [1.0, \"#f0f921\"]], \"type\": \"surface\"}], \"table\": [{\"cells\": {\"fill\": {\"color\": \"#EBF0F8\"}, \"line\": {\"color\": \"white\"}}, \"header\": {\"fill\": {\"color\": \"#C8D4E3\"}, \"line\": {\"color\": \"white\"}}, \"type\": \"table\"}]}, \"layout\": {\"annotationdefaults\": {\"arrowcolor\": \"#2a3f5f\", \"arrowhead\": 0, \"arrowwidth\": 1}, \"coloraxis\": {\"colorbar\": {\"outlinewidth\": 0, \"ticks\": \"\"}}, \"colorscale\": {\"diverging\": [[0, \"#8e0152\"], [0.1, \"#c51b7d\"], [0.2, \"#de77ae\"], [0.3, \"#f1b6da\"], [0.4, \"#fde0ef\"], [0.5, \"#f7f7f7\"], [0.6, \"#e6f5d0\"], [0.7, \"#b8e186\"], [0.8, \"#7fbc41\"], [0.9, \"#4d9221\"], [1, \"#276419\"]], \"sequential\": [[0.0, \"#0d0887\"], [0.1111111111111111, \"#46039f\"], [0.2222222222222222, \"#7201a8\"], [0.3333333333333333, \"#9c179e\"], [0.4444444444444444, \"#bd3786\"], [0.5555555555555556, \"#d8576b\"], [0.6666666666666666, \"#ed7953\"], [0.7777777777777778, \"#fb9f3a\"], [0.8888888888888888, \"#fdca26\"], [1.0, \"#f0f921\"]], \"sequentialminus\": [[0.0, \"#0d0887\"], [0.1111111111111111, \"#46039f\"], [0.2222222222222222, \"#7201a8\"], [0.3333333333333333, \"#9c179e\"], [0.4444444444444444, \"#bd3786\"], [0.5555555555555556, \"#d8576b\"], [0.6666666666666666, \"#ed7953\"], [0.7777777777777778, \"#fb9f3a\"], [0.8888888888888888, \"#fdca26\"], [1.0, \"#f0f921\"]]}, \"colorway\": [\"#636efa\", \"#EF553B\", \"#00cc96\", \"#ab63fa\", \"#FFA15A\", \"#19d3f3\", \"#FF6692\", \"#B6E880\", \"#FF97FF\", \"#FECB52\"], \"font\": {\"color\": \"#2a3f5f\"}, \"geo\": {\"bgcolor\": \"white\", \"lakecolor\": \"white\", \"landcolor\": \"#E5ECF6\", \"showlakes\": true, \"showland\": true, \"subunitcolor\": \"white\"}, \"hoverlabel\": {\"align\": \"left\"}, \"hovermode\": \"closest\", \"mapbox\": {\"style\": \"light\"}, \"paper_bgcolor\": \"white\", \"plot_bgcolor\": \"#E5ECF6\", \"polar\": {\"angularaxis\": {\"gridcolor\": \"white\", \"linecolor\": \"white\", \"ticks\": \"\"}, \"bgcolor\": \"#E5ECF6\", \"radialaxis\": {\"gridcolor\": \"white\", \"linecolor\": \"white\", \"ticks\": \"\"}}, \"scene\": {\"xaxis\": {\"backgroundcolor\": \"#E5ECF6\", \"gridcolor\": \"white\", \"gridwidth\": 2, \"linecolor\": \"white\", \"showbackground\": true, \"ticks\": \"\", \"zerolinecolor\": \"white\"}, \"yaxis\": {\"backgroundcolor\": \"#E5ECF6\", \"gridcolor\": \"white\", \"gridwidth\": 2, \"linecolor\": \"white\", \"showbackground\": true, \"ticks\": \"\", \"zerolinecolor\": \"white\"}, \"zaxis\": {\"backgroundcolor\": \"#E5ECF6\", \"gridcolor\": \"white\", \"gridwidth\": 2, \"linecolor\": \"white\", \"showbackground\": true, \"ticks\": \"\", \"zerolinecolor\": \"white\"}}, \"shapedefaults\": {\"line\": {\"color\": \"#2a3f5f\"}}, \"ternary\": {\"aaxis\": {\"gridcolor\": \"white\", \"linecolor\": \"white\", \"ticks\": \"\"}, \"baxis\": {\"gridcolor\": \"white\", \"linecolor\": \"white\", \"ticks\": \"\"}, \"bgcolor\": \"#E5ECF6\", \"caxis\": {\"gridcolor\": \"white\", \"linecolor\": \"white\", \"ticks\": \"\"}}, \"title\": {\"x\": 0.05}, \"xaxis\": {\"automargin\": true, \"gridcolor\": \"white\", \"linecolor\": \"white\", \"ticks\": \"\", \"title\": {\"standoff\": 15}, \"zerolinecolor\": \"white\", \"zerolinewidth\": 2}, \"yaxis\": {\"automargin\": true, \"gridcolor\": \"white\", \"linecolor\": \"white\", \"ticks\": \"\", \"title\": {\"standoff\": 15}, \"zerolinecolor\": \"white\", \"zerolinewidth\": 2}}}, \"width\": 800, \"xaxis\": {\"showgrid\": false, \"showticklabels\": false, \"zeroline\": false}, \"yaxis\": {\"showgrid\": false, \"showticklabels\": false, \"zeroline\": false}},                        {\"displayModeBar\": false, \"responsive\": true}                    ).then(function(){\n",
       "                            \n",
       "var gd = document.getElementById('b42a9a63-9004-4061-b9d1-ba9ef279c110');\n",
       "var x = new MutationObserver(function (mutations, observer) {{\n",
       "        var display = window.getComputedStyle(gd).display;\n",
       "        if (!display || display === 'none') {{\n",
       "            console.log([gd, 'removed!']);\n",
       "            Plotly.purge(gd);\n",
       "            observer.disconnect();\n",
       "        }}\n",
       "}});\n",
       "\n",
       "// Listen for the removal of the full notebook cells\n",
       "var notebookContainer = gd.closest('#notebook-container');\n",
       "if (notebookContainer) {{\n",
       "    x.observe(notebookContainer, {childList: true});\n",
       "}}\n",
       "\n",
       "// Listen for the clearing of the current output cell\n",
       "var outputEl = gd.closest('.output');\n",
       "if (outputEl) {{\n",
       "    x.observe(outputEl, {childList: true});\n",
       "}}\n",
       "\n",
       "                        })                };                });            </script>        </div>"
      ]
     },
     "metadata": {},
     "output_type": "display_data"
    },
    {
     "data": {
      "application/vnd.plotly.v1+json": {
       "config": {
        "displayModeBar": false,
        "linkText": "Export to plot.ly",
        "plotlyServerURL": "https://plot.ly",
        "showLink": false
       },
       "data": [
        {
         "hoverinfo": "none",
         "line": {
          "color": "rgb(127, 127, 127)",
          "dash": "solid",
          "width": 0
         },
         "mode": "lines",
         "type": "scatter",
         "x": [
          0.5066842868043261,
          0.5066842868043261,
          null,
          0,
          1,
          null
         ],
         "y": [
          0,
          1,
          null,
          0.506323851532032,
          0.506323851532032,
          null
         ]
        },
        {
         "hoverinfo": "none",
         "line": {
          "color": "rgb(0, 0, 0)",
          "dash": "solid",
          "width": 1
         },
         "mode": "lines",
         "type": "scatter",
         "x": [
          0.10125967544075036,
          0.47086174805196956,
          null,
          0.6681927793934938,
          0,
          null,
          0.6681927793934938,
          0.58332742648664,
          null,
          0.6681927793934938,
          0.4691488442429678,
          null,
          0.6681927793934938,
          0.9401420625907755,
          null,
          0.6681927793934938,
          0.7223574707007677,
          null,
          0,
          0.8029969258457315,
          null,
          0,
          0.58332742648664,
          null,
          0,
          0.4691488442429678,
          null,
          0.20484291907286648,
          0.23662331519522345,
          null,
          0.8029969258457315,
          0.58332742648664,
          null,
          0.8029969258457315,
          0.9401420625907755,
          null,
          0.8029969258457315,
          0.7223574707007677,
          null,
          0.58332742648664,
          0.4691488442429678,
          null,
          0.58332742648664,
          0.9401420625907755,
          null,
          0.58332742648664,
          0.7223574707007677,
          null,
          0.4691488442429678,
          0.9401420625907755,
          null,
          0.4691488442429678,
          0.7223574707007677,
          null,
          0.4691488442429678,
          0.0945580068697344,
          null,
          0.9401420625907755,
          0.7223574707007677,
          null,
          0.7223574707007677,
          0.18318338549507648,
          null,
          0.23662331519522345,
          0.18318338549507648,
          null,
          0.18318338549507648,
          0.0945580068697344,
          null
         ],
         "y": [
          0.7074131006510443,
          0.27250829586581593,
          null,
          0.24667819624622006,
          0.38426425160492944,
          null,
          0.24667819624622006,
          0.5033168958500682,
          null,
          0.24667819624622006,
          0.7301430393819415,
          null,
          0.24667819624622006,
          0.22124840377646998,
          null,
          0.24667819624622006,
          0.3448503459725159,
          null,
          0.38426425160492944,
          0,
          null,
          0.38426425160492944,
          0.5033168958500682,
          null,
          0.38426425160492944,
          0.7301430393819415,
          null,
          0.9495636779078307,
          0.8637451216161804,
          null,
          0,
          0.5033168958500682,
          null,
          0,
          0.22124840377646998,
          null,
          0,
          0.3448503459725159,
          null,
          0.5033168958500682,
          0.7301430393819415,
          null,
          0.5033168958500682,
          0.22124840377646998,
          null,
          0.5033168958500682,
          0.3448503459725159,
          null,
          0.7301430393819415,
          0.22124840377646998,
          null,
          0.7301430393819415,
          0.3448503459725159,
          null,
          0.7301430393819415,
          1,
          null,
          0.22124840377646998,
          0.3448503459725159,
          null,
          0.3448503459725159,
          0.11516134776086077,
          null,
          0.8637451216161804,
          0.11516134776086077,
          null,
          0.11516134776086077,
          1,
          null
         ]
        },
        {
         "hoverinfo": "text",
         "marker": {
          "color": "rgb(255, 255, 255)",
          "line": {
           "color": "rgb(0, 0, 0)",
           "width": 1
          },
          "size": 5,
          "symbol": "circle"
         },
         "mode": "markers",
         "text": [
          "fake-colours",
          "dimmdrive-gaming-ramdrive-10000-mbs",
          "i-wanna-be-the-co-op",
          "perfect-glowing-bodies",
          "funeral",
          "mlg-bouncing-simulator-2015",
          "ice-age-avalanche",
          "fruits-pair-festival-january",
          "lunar-lander-relaunched",
          "no-idea-for-name"
         ],
         "textfont": {
          "color": "rgb(0, 0, 0)"
         },
         "textposition": "middle center",
         "type": "scatter",
         "x": [
          0.10125967544075036,
          0.47086174805196956,
          0.0977168705702624,
          0.20484291907286648,
          1,
          0.37033013679291527,
          0.8502408700434678,
          0.7171513334332582,
          0.2782971040584209,
          0.5509454896765477
         ],
         "y": [
          0.7074131006510443,
          0.27250829586581593,
          0.7605383685704094,
          0.9495636779078307,
          0.6650232364929527,
          0.8056498137424003,
          0.5362474750565907,
          0.7293543991773697,
          0.45790257722327943,
          0.035827739877884686
         ]
        },
        {
         "hoverinfo": "text",
         "marker": {
          "color": "rgb(255, 255, 255)",
          "line": {
           "color": "rgb(0, 0, 0)",
           "width": 1
          },
          "size": 8,
          "symbol": "circle"
         },
         "mode": "markers",
         "text": [
          "my-talking-angela",
          "tanktrouble-mobile-mayhem"
         ],
         "textfont": {
          "color": "rgb(0, 0, 0)"
         },
         "textposition": "middle center",
         "type": "scatter",
         "x": [
          0.6681927793934938,
          0.8029969258457315
         ],
         "y": [
          0.24667819624622006,
          0
         ]
        },
        {
         "hoverinfo": "text",
         "marker": {
          "color": "rgb(255, 255, 255)",
          "line": {
           "color": "rgb(0, 0, 0)",
           "width": 1
          },
          "size": 7,
          "symbol": "circle"
         },
         "mode": "markers",
         "text": [
          "wrc-the-official-game",
          "brutal-donut"
         ],
         "textfont": {
          "color": "rgb(0, 0, 0)"
         },
         "textposition": "middle center",
         "type": "scatter",
         "x": [
          0,
          0.9401420625907755
         ],
         "y": [
          0.38426425160492944,
          0.22124840377646998
         ]
        },
        {
         "hoverinfo": "text",
         "marker": {
          "color": "rgb(255, 255, 255)",
          "line": {
           "color": "rgb(0, 0, 0)",
           "width": 1
          },
          "size": 10,
          "symbol": "circle"
         },
         "mode": "markers",
         "text": [
          "extreme-motor-bike-ride-simulator-3d-steer-the-mot"
         ],
         "textfont": {
          "color": "rgb(0, 0, 0)"
         },
         "textposition": "middle center",
         "type": "scatter",
         "x": [
          0.58332742648664
         ],
         "y": [
          0.5033168958500682
         ]
        },
        {
         "hoverinfo": "text",
         "marker": {
          "color": "rgb(255, 255, 255)",
          "line": {
           "color": "rgb(0, 0, 0)",
           "width": 1
          },
          "size": 24,
          "symbol": "circle"
         },
         "mode": "markers",
         "text": [
          "best-casino-social-slots-fun"
         ],
         "textfont": {
          "color": "rgb(0, 0, 0)"
         },
         "textposition": "middle center",
         "type": "scatter",
         "x": [
          0.4691488442429678
         ],
         "y": [
          0.7301430393819415
         ]
        },
        {
         "hoverinfo": "text",
         "marker": {
          "color": "rgb(255, 255, 255)",
          "line": {
           "color": "rgb(0, 0, 0)",
           "width": 1
          },
          "size": 50,
          "symbol": "circle"
         },
         "mode": "markers",
         "text": [
          "pengu-the-flying-penguin-unforgettable-chilly-adve",
          "jashanoid"
         ],
         "textfont": {
          "color": "rgb(0, 0, 0)"
         },
         "textposition": "middle center",
         "type": "scatter",
         "x": [
          0.7223574707007677,
          0.18318338549507648
         ],
         "y": [
          0.3448503459725159,
          0.11516134776086077
         ]
        },
        {
         "hoverinfo": "text",
         "marker": {
          "color": "rgb(255, 255, 255)",
          "line": {
           "color": "rgb(0, 0, 0)",
           "width": 1
          },
          "size": 29,
          "symbol": "circle"
         },
         "mode": "markers",
         "text": [
          "armageddon-itch-4xisblack"
         ],
         "textfont": {
          "color": "rgb(0, 0, 0)"
         },
         "textposition": "middle center",
         "type": "scatter",
         "x": [
          0.23662331519522345
         ],
         "y": [
          0.8637451216161804
         ]
        },
        {
         "hoverinfo": "text",
         "marker": {
          "color": "rgb(255, 255, 255)",
          "line": {
           "color": "rgb(0, 0, 0)",
           "width": 1
          },
          "size": 11,
          "symbol": "circle"
         },
         "mode": "markers",
         "text": [
          "death-duel-itch"
         ],
         "textfont": {
          "color": "rgb(0, 0, 0)"
         },
         "textposition": "middle center",
         "type": "scatter",
         "x": [
          0.0945580068697344
         ],
         "y": [
          1
         ]
        },
        {
         "hoverinfo": "none",
         "mode": "text",
         "text": [],
         "textfont": {
          "color": "rgb(255, 255, 255)"
         },
         "textposition": "middle center",
         "type": "scatter",
         "x": [],
         "y": []
        },
        {
         "hoverinfo": "none",
         "mode": "text",
         "text": [
          null,
          null,
          null,
          null,
          null,
          null,
          null,
          null,
          null,
          null,
          null,
          null,
          null,
          null,
          null,
          null,
          null,
          null,
          null,
          null
         ],
         "textfont": {
          "color": "rgb(0, 0, 0)"
         },
         "textposition": "middle center",
         "type": "scatter",
         "x": [
          0.10125967544075036,
          0.47086174805196956,
          0.6681927793934938,
          0,
          0.0977168705702624,
          0.20484291907286648,
          1,
          0.8029969258457315,
          0.37033013679291527,
          0.58332742648664,
          0.8502408700434678,
          0.4691488442429678,
          0.9401420625907755,
          0.7223574707007677,
          0.7171513334332582,
          0.2782971040584209,
          0.5509454896765477,
          0.23662331519522345,
          0.18318338549507648,
          0.0945580068697344
         ],
         "y": [
          0.7074131006510443,
          0.27250829586581593,
          0.24667819624622006,
          0.38426425160492944,
          0.7605383685704094,
          0.9495636779078307,
          0.6650232364929527,
          0,
          0.8056498137424003,
          0.5033168958500682,
          0.5362474750565907,
          0.7301430393819415,
          0.22124840377646998,
          0.3448503459725159,
          0.7293543991773697,
          0.45790257722327943,
          0.035827739877884686,
          0.8637451216161804,
          0.11516134776086077,
          1
         ]
        },
        {
         "hoverinfo": "none",
         "mode": "text",
         "text": [
          null,
          null,
          null,
          null,
          null,
          null,
          null,
          null,
          null,
          null,
          null,
          null,
          null,
          null,
          null,
          null,
          null,
          null,
          null,
          null,
          null,
          null,
          null
         ],
         "textfont": {
          "color": "rgb(0, 0, 0)"
         },
         "textposition": "middle center",
         "type": "scatter",
         "x": [
          0.2938411186206296,
          0.33248708733937765,
          0.6134619796019202,
          0.5571880743520969,
          0.8049019232919444,
          0.6851555344566738,
          0.4051393778570018,
          0.29006842381631653,
          0.2291972615568453,
          0.23263362520298855,
          0.6819279227695849,
          0.8620588447033776,
          0.7494643984833854,
          0.515662047918923,
          0.7674409142432894,
          0.6604481054331209,
          0.7119598763077557,
          0.6049488249373729,
          0.2765824092414596,
          0.8269869573667741,
          0.45603344048712857,
          0.2241505286067946,
          0.12473750642537407
         ],
         "y": [
          0.5120260588449862,
          0.28938966572019353,
          0.3614264273921115,
          0.4726345772494734,
          0.2601757002325236,
          0.3143962696595799,
          0.21752214090340238,
          0.4698750045831804,
          0.5815429551113392,
          0.9213609947693792,
          0.23529627440166187,
          0.13029758145323522,
          0.1621146593527118,
          0.5989641541479723,
          0.3863706804581977,
          0.4463513696724414,
          0.4982867173792092,
          0.5576636096314193,
          0.8406548508001377,
          0.2579844570116283,
          0.2044449512271931,
          0.4860591485891001,
          0.5528567516867781
         ]
        },
        {
         "hoverinfo": "none",
         "marker": {
          "color": "rgba(255, 255, 255, 0)",
          "line": {
           "color": "rgba(255, 255, 255, 0)",
           "width": 0
          },
          "size": 0,
          "symbol": "circle"
         },
         "mode": "markers",
         "type": "scatter",
         "x": [
          0.5,
          0,
          1,
          0.5
         ],
         "y": [
          0,
          0.5,
          0.5,
          1
         ]
        }
       ],
       "layout": {
        "height": 450,
        "hovermode": "closest",
        "margin": {
         "b": 10,
         "l": 10,
         "r": 10,
         "t": 10
        },
        "plot_bgcolor": "rgb(255, 255, 255)",
        "showlegend": false,
        "template": {
         "data": {
          "bar": [
           {
            "error_x": {
             "color": "#2a3f5f"
            },
            "error_y": {
             "color": "#2a3f5f"
            },
            "marker": {
             "line": {
              "color": "#E5ECF6",
              "width": 0.5
             }
            },
            "type": "bar"
           }
          ],
          "barpolar": [
           {
            "marker": {
             "line": {
              "color": "#E5ECF6",
              "width": 0.5
             }
            },
            "type": "barpolar"
           }
          ],
          "carpet": [
           {
            "aaxis": {
             "endlinecolor": "#2a3f5f",
             "gridcolor": "white",
             "linecolor": "white",
             "minorgridcolor": "white",
             "startlinecolor": "#2a3f5f"
            },
            "baxis": {
             "endlinecolor": "#2a3f5f",
             "gridcolor": "white",
             "linecolor": "white",
             "minorgridcolor": "white",
             "startlinecolor": "#2a3f5f"
            },
            "type": "carpet"
           }
          ],
          "choropleth": [
           {
            "colorbar": {
             "outlinewidth": 0,
             "ticks": ""
            },
            "type": "choropleth"
           }
          ],
          "contour": [
           {
            "colorbar": {
             "outlinewidth": 0,
             "ticks": ""
            },
            "colorscale": [
             [
              0,
              "#0d0887"
             ],
             [
              0.1111111111111111,
              "#46039f"
             ],
             [
              0.2222222222222222,
              "#7201a8"
             ],
             [
              0.3333333333333333,
              "#9c179e"
             ],
             [
              0.4444444444444444,
              "#bd3786"
             ],
             [
              0.5555555555555556,
              "#d8576b"
             ],
             [
              0.6666666666666666,
              "#ed7953"
             ],
             [
              0.7777777777777778,
              "#fb9f3a"
             ],
             [
              0.8888888888888888,
              "#fdca26"
             ],
             [
              1,
              "#f0f921"
             ]
            ],
            "type": "contour"
           }
          ],
          "contourcarpet": [
           {
            "colorbar": {
             "outlinewidth": 0,
             "ticks": ""
            },
            "type": "contourcarpet"
           }
          ],
          "heatmap": [
           {
            "colorbar": {
             "outlinewidth": 0,
             "ticks": ""
            },
            "colorscale": [
             [
              0,
              "#0d0887"
             ],
             [
              0.1111111111111111,
              "#46039f"
             ],
             [
              0.2222222222222222,
              "#7201a8"
             ],
             [
              0.3333333333333333,
              "#9c179e"
             ],
             [
              0.4444444444444444,
              "#bd3786"
             ],
             [
              0.5555555555555556,
              "#d8576b"
             ],
             [
              0.6666666666666666,
              "#ed7953"
             ],
             [
              0.7777777777777778,
              "#fb9f3a"
             ],
             [
              0.8888888888888888,
              "#fdca26"
             ],
             [
              1,
              "#f0f921"
             ]
            ],
            "type": "heatmap"
           }
          ],
          "heatmapgl": [
           {
            "colorbar": {
             "outlinewidth": 0,
             "ticks": ""
            },
            "colorscale": [
             [
              0,
              "#0d0887"
             ],
             [
              0.1111111111111111,
              "#46039f"
             ],
             [
              0.2222222222222222,
              "#7201a8"
             ],
             [
              0.3333333333333333,
              "#9c179e"
             ],
             [
              0.4444444444444444,
              "#bd3786"
             ],
             [
              0.5555555555555556,
              "#d8576b"
             ],
             [
              0.6666666666666666,
              "#ed7953"
             ],
             [
              0.7777777777777778,
              "#fb9f3a"
             ],
             [
              0.8888888888888888,
              "#fdca26"
             ],
             [
              1,
              "#f0f921"
             ]
            ],
            "type": "heatmapgl"
           }
          ],
          "histogram": [
           {
            "marker": {
             "colorbar": {
              "outlinewidth": 0,
              "ticks": ""
             }
            },
            "type": "histogram"
           }
          ],
          "histogram2d": [
           {
            "colorbar": {
             "outlinewidth": 0,
             "ticks": ""
            },
            "colorscale": [
             [
              0,
              "#0d0887"
             ],
             [
              0.1111111111111111,
              "#46039f"
             ],
             [
              0.2222222222222222,
              "#7201a8"
             ],
             [
              0.3333333333333333,
              "#9c179e"
             ],
             [
              0.4444444444444444,
              "#bd3786"
             ],
             [
              0.5555555555555556,
              "#d8576b"
             ],
             [
              0.6666666666666666,
              "#ed7953"
             ],
             [
              0.7777777777777778,
              "#fb9f3a"
             ],
             [
              0.8888888888888888,
              "#fdca26"
             ],
             [
              1,
              "#f0f921"
             ]
            ],
            "type": "histogram2d"
           }
          ],
          "histogram2dcontour": [
           {
            "colorbar": {
             "outlinewidth": 0,
             "ticks": ""
            },
            "colorscale": [
             [
              0,
              "#0d0887"
             ],
             [
              0.1111111111111111,
              "#46039f"
             ],
             [
              0.2222222222222222,
              "#7201a8"
             ],
             [
              0.3333333333333333,
              "#9c179e"
             ],
             [
              0.4444444444444444,
              "#bd3786"
             ],
             [
              0.5555555555555556,
              "#d8576b"
             ],
             [
              0.6666666666666666,
              "#ed7953"
             ],
             [
              0.7777777777777778,
              "#fb9f3a"
             ],
             [
              0.8888888888888888,
              "#fdca26"
             ],
             [
              1,
              "#f0f921"
             ]
            ],
            "type": "histogram2dcontour"
           }
          ],
          "mesh3d": [
           {
            "colorbar": {
             "outlinewidth": 0,
             "ticks": ""
            },
            "type": "mesh3d"
           }
          ],
          "parcoords": [
           {
            "line": {
             "colorbar": {
              "outlinewidth": 0,
              "ticks": ""
             }
            },
            "type": "parcoords"
           }
          ],
          "pie": [
           {
            "automargin": true,
            "type": "pie"
           }
          ],
          "scatter": [
           {
            "marker": {
             "colorbar": {
              "outlinewidth": 0,
              "ticks": ""
             }
            },
            "type": "scatter"
           }
          ],
          "scatter3d": [
           {
            "line": {
             "colorbar": {
              "outlinewidth": 0,
              "ticks": ""
             }
            },
            "marker": {
             "colorbar": {
              "outlinewidth": 0,
              "ticks": ""
             }
            },
            "type": "scatter3d"
           }
          ],
          "scattercarpet": [
           {
            "marker": {
             "colorbar": {
              "outlinewidth": 0,
              "ticks": ""
             }
            },
            "type": "scattercarpet"
           }
          ],
          "scattergeo": [
           {
            "marker": {
             "colorbar": {
              "outlinewidth": 0,
              "ticks": ""
             }
            },
            "type": "scattergeo"
           }
          ],
          "scattergl": [
           {
            "marker": {
             "colorbar": {
              "outlinewidth": 0,
              "ticks": ""
             }
            },
            "type": "scattergl"
           }
          ],
          "scattermapbox": [
           {
            "marker": {
             "colorbar": {
              "outlinewidth": 0,
              "ticks": ""
             }
            },
            "type": "scattermapbox"
           }
          ],
          "scatterpolar": [
           {
            "marker": {
             "colorbar": {
              "outlinewidth": 0,
              "ticks": ""
             }
            },
            "type": "scatterpolar"
           }
          ],
          "scatterpolargl": [
           {
            "marker": {
             "colorbar": {
              "outlinewidth": 0,
              "ticks": ""
             }
            },
            "type": "scatterpolargl"
           }
          ],
          "scatterternary": [
           {
            "marker": {
             "colorbar": {
              "outlinewidth": 0,
              "ticks": ""
             }
            },
            "type": "scatterternary"
           }
          ],
          "surface": [
           {
            "colorbar": {
             "outlinewidth": 0,
             "ticks": ""
            },
            "colorscale": [
             [
              0,
              "#0d0887"
             ],
             [
              0.1111111111111111,
              "#46039f"
             ],
             [
              0.2222222222222222,
              "#7201a8"
             ],
             [
              0.3333333333333333,
              "#9c179e"
             ],
             [
              0.4444444444444444,
              "#bd3786"
             ],
             [
              0.5555555555555556,
              "#d8576b"
             ],
             [
              0.6666666666666666,
              "#ed7953"
             ],
             [
              0.7777777777777778,
              "#fb9f3a"
             ],
             [
              0.8888888888888888,
              "#fdca26"
             ],
             [
              1,
              "#f0f921"
             ]
            ],
            "type": "surface"
           }
          ],
          "table": [
           {
            "cells": {
             "fill": {
              "color": "#EBF0F8"
             },
             "line": {
              "color": "white"
             }
            },
            "header": {
             "fill": {
              "color": "#C8D4E3"
             },
             "line": {
              "color": "white"
             }
            },
            "type": "table"
           }
          ]
         },
         "layout": {
          "annotationdefaults": {
           "arrowcolor": "#2a3f5f",
           "arrowhead": 0,
           "arrowwidth": 1
          },
          "coloraxis": {
           "colorbar": {
            "outlinewidth": 0,
            "ticks": ""
           }
          },
          "colorscale": {
           "diverging": [
            [
             0,
             "#8e0152"
            ],
            [
             0.1,
             "#c51b7d"
            ],
            [
             0.2,
             "#de77ae"
            ],
            [
             0.3,
             "#f1b6da"
            ],
            [
             0.4,
             "#fde0ef"
            ],
            [
             0.5,
             "#f7f7f7"
            ],
            [
             0.6,
             "#e6f5d0"
            ],
            [
             0.7,
             "#b8e186"
            ],
            [
             0.8,
             "#7fbc41"
            ],
            [
             0.9,
             "#4d9221"
            ],
            [
             1,
             "#276419"
            ]
           ],
           "sequential": [
            [
             0,
             "#0d0887"
            ],
            [
             0.1111111111111111,
             "#46039f"
            ],
            [
             0.2222222222222222,
             "#7201a8"
            ],
            [
             0.3333333333333333,
             "#9c179e"
            ],
            [
             0.4444444444444444,
             "#bd3786"
            ],
            [
             0.5555555555555556,
             "#d8576b"
            ],
            [
             0.6666666666666666,
             "#ed7953"
            ],
            [
             0.7777777777777778,
             "#fb9f3a"
            ],
            [
             0.8888888888888888,
             "#fdca26"
            ],
            [
             1,
             "#f0f921"
            ]
           ],
           "sequentialminus": [
            [
             0,
             "#0d0887"
            ],
            [
             0.1111111111111111,
             "#46039f"
            ],
            [
             0.2222222222222222,
             "#7201a8"
            ],
            [
             0.3333333333333333,
             "#9c179e"
            ],
            [
             0.4444444444444444,
             "#bd3786"
            ],
            [
             0.5555555555555556,
             "#d8576b"
            ],
            [
             0.6666666666666666,
             "#ed7953"
            ],
            [
             0.7777777777777778,
             "#fb9f3a"
            ],
            [
             0.8888888888888888,
             "#fdca26"
            ],
            [
             1,
             "#f0f921"
            ]
           ]
          },
          "colorway": [
           "#636efa",
           "#EF553B",
           "#00cc96",
           "#ab63fa",
           "#FFA15A",
           "#19d3f3",
           "#FF6692",
           "#B6E880",
           "#FF97FF",
           "#FECB52"
          ],
          "font": {
           "color": "#2a3f5f"
          },
          "geo": {
           "bgcolor": "white",
           "lakecolor": "white",
           "landcolor": "#E5ECF6",
           "showlakes": true,
           "showland": true,
           "subunitcolor": "white"
          },
          "hoverlabel": {
           "align": "left"
          },
          "hovermode": "closest",
          "mapbox": {
           "style": "light"
          },
          "paper_bgcolor": "white",
          "plot_bgcolor": "#E5ECF6",
          "polar": {
           "angularaxis": {
            "gridcolor": "white",
            "linecolor": "white",
            "ticks": ""
           },
           "bgcolor": "#E5ECF6",
           "radialaxis": {
            "gridcolor": "white",
            "linecolor": "white",
            "ticks": ""
           }
          },
          "scene": {
           "xaxis": {
            "backgroundcolor": "#E5ECF6",
            "gridcolor": "white",
            "gridwidth": 2,
            "linecolor": "white",
            "showbackground": true,
            "ticks": "",
            "zerolinecolor": "white"
           },
           "yaxis": {
            "backgroundcolor": "#E5ECF6",
            "gridcolor": "white",
            "gridwidth": 2,
            "linecolor": "white",
            "showbackground": true,
            "ticks": "",
            "zerolinecolor": "white"
           },
           "zaxis": {
            "backgroundcolor": "#E5ECF6",
            "gridcolor": "white",
            "gridwidth": 2,
            "linecolor": "white",
            "showbackground": true,
            "ticks": "",
            "zerolinecolor": "white"
           }
          },
          "shapedefaults": {
           "line": {
            "color": "#2a3f5f"
           }
          },
          "ternary": {
           "aaxis": {
            "gridcolor": "white",
            "linecolor": "white",
            "ticks": ""
           },
           "baxis": {
            "gridcolor": "white",
            "linecolor": "white",
            "ticks": ""
           },
           "bgcolor": "#E5ECF6",
           "caxis": {
            "gridcolor": "white",
            "linecolor": "white",
            "ticks": ""
           }
          },
          "title": {
           "x": 0.05
          },
          "xaxis": {
           "automargin": true,
           "gridcolor": "white",
           "linecolor": "white",
           "ticks": "",
           "title": {
            "standoff": 15
           },
           "zerolinecolor": "white",
           "zerolinewidth": 2
          },
          "yaxis": {
           "automargin": true,
           "gridcolor": "white",
           "linecolor": "white",
           "ticks": "",
           "title": {
            "standoff": 15
           },
           "zerolinecolor": "white",
           "zerolinewidth": 2
          }
         }
        },
        "width": 800,
        "xaxis": {
         "showgrid": false,
         "showticklabels": false,
         "zeroline": false
        },
        "yaxis": {
         "showgrid": false,
         "showticklabels": false,
         "zeroline": false
        }
       }
      },
      "text/html": [
       "<div>                            <div id=\"8d4a640e-9ace-4317-9d04-2193b5c4e1d0\" class=\"plotly-graph-div\" style=\"height:450px; width:800px;\"></div>            <script type=\"text/javascript\">                require([\"plotly\"], function(Plotly) {                    window.PLOTLYENV=window.PLOTLYENV || {};                                    if (document.getElementById(\"8d4a640e-9ace-4317-9d04-2193b5c4e1d0\")) {                    Plotly.newPlot(                        \"8d4a640e-9ace-4317-9d04-2193b5c4e1d0\",                        [{\"hoverinfo\": \"none\", \"line\": {\"color\": \"rgb(127, 127, 127)\", \"dash\": \"solid\", \"width\": 0}, \"mode\": \"lines\", \"type\": \"scatter\", \"x\": [0.5066842868043261, 0.5066842868043261, null, 0, 1, null], \"y\": [0, 1, null, 0.506323851532032, 0.506323851532032, null]}, {\"hoverinfo\": \"none\", \"line\": {\"color\": \"rgb(0, 0, 0)\", \"dash\": \"solid\", \"width\": 1}, \"mode\": \"lines\", \"type\": \"scatter\", \"x\": [0.10125967544075036, 0.47086174805196956, null, 0.6681927793934938, 0.0, null, 0.6681927793934938, 0.58332742648664, null, 0.6681927793934938, 0.4691488442429678, null, 0.6681927793934938, 0.9401420625907755, null, 0.6681927793934938, 0.7223574707007677, null, 0.0, 0.8029969258457315, null, 0.0, 0.58332742648664, null, 0.0, 0.4691488442429678, null, 0.20484291907286648, 0.23662331519522345, null, 0.8029969258457315, 0.58332742648664, null, 0.8029969258457315, 0.9401420625907755, null, 0.8029969258457315, 0.7223574707007677, null, 0.58332742648664, 0.4691488442429678, null, 0.58332742648664, 0.9401420625907755, null, 0.58332742648664, 0.7223574707007677, null, 0.4691488442429678, 0.9401420625907755, null, 0.4691488442429678, 0.7223574707007677, null, 0.4691488442429678, 0.0945580068697344, null, 0.9401420625907755, 0.7223574707007677, null, 0.7223574707007677, 0.18318338549507648, null, 0.23662331519522345, 0.18318338549507648, null, 0.18318338549507648, 0.0945580068697344, null], \"y\": [0.7074131006510443, 0.27250829586581593, null, 0.24667819624622006, 0.38426425160492944, null, 0.24667819624622006, 0.5033168958500682, null, 0.24667819624622006, 0.7301430393819415, null, 0.24667819624622006, 0.22124840377646998, null, 0.24667819624622006, 0.3448503459725159, null, 0.38426425160492944, 0.0, null, 0.38426425160492944, 0.5033168958500682, null, 0.38426425160492944, 0.7301430393819415, null, 0.9495636779078307, 0.8637451216161804, null, 0.0, 0.5033168958500682, null, 0.0, 0.22124840377646998, null, 0.0, 0.3448503459725159, null, 0.5033168958500682, 0.7301430393819415, null, 0.5033168958500682, 0.22124840377646998, null, 0.5033168958500682, 0.3448503459725159, null, 0.7301430393819415, 0.22124840377646998, null, 0.7301430393819415, 0.3448503459725159, null, 0.7301430393819415, 1.0, null, 0.22124840377646998, 0.3448503459725159, null, 0.3448503459725159, 0.11516134776086077, null, 0.8637451216161804, 0.11516134776086077, null, 0.11516134776086077, 1.0, null]}, {\"hoverinfo\": \"text\", \"marker\": {\"color\": \"rgb(255, 255, 255)\", \"line\": {\"color\": \"rgb(0, 0, 0)\", \"width\": 1}, \"size\": 5, \"symbol\": \"circle\"}, \"mode\": \"markers\", \"text\": [\"fake-colours\", \"dimmdrive-gaming-ramdrive-10000-mbs\", \"i-wanna-be-the-co-op\", \"perfect-glowing-bodies\", \"funeral\", \"mlg-bouncing-simulator-2015\", \"ice-age-avalanche\", \"fruits-pair-festival-january\", \"lunar-lander-relaunched\", \"no-idea-for-name\"], \"textfont\": {\"color\": \"rgb(0, 0, 0)\"}, \"textposition\": \"middle center\", \"type\": \"scatter\", \"x\": [0.10125967544075036, 0.47086174805196956, 0.0977168705702624, 0.20484291907286648, 1.0, 0.37033013679291527, 0.8502408700434678, 0.7171513334332582, 0.2782971040584209, 0.5509454896765477], \"y\": [0.7074131006510443, 0.27250829586581593, 0.7605383685704094, 0.9495636779078307, 0.6650232364929527, 0.8056498137424003, 0.5362474750565907, 0.7293543991773697, 0.45790257722327943, 0.035827739877884686]}, {\"hoverinfo\": \"text\", \"marker\": {\"color\": \"rgb(255, 255, 255)\", \"line\": {\"color\": \"rgb(0, 0, 0)\", \"width\": 1}, \"size\": 8, \"symbol\": \"circle\"}, \"mode\": \"markers\", \"text\": [\"my-talking-angela\", \"tanktrouble-mobile-mayhem\"], \"textfont\": {\"color\": \"rgb(0, 0, 0)\"}, \"textposition\": \"middle center\", \"type\": \"scatter\", \"x\": [0.6681927793934938, 0.8029969258457315], \"y\": [0.24667819624622006, 0.0]}, {\"hoverinfo\": \"text\", \"marker\": {\"color\": \"rgb(255, 255, 255)\", \"line\": {\"color\": \"rgb(0, 0, 0)\", \"width\": 1}, \"size\": 7, \"symbol\": \"circle\"}, \"mode\": \"markers\", \"text\": [\"wrc-the-official-game\", \"brutal-donut\"], \"textfont\": {\"color\": \"rgb(0, 0, 0)\"}, \"textposition\": \"middle center\", \"type\": \"scatter\", \"x\": [0.0, 0.9401420625907755], \"y\": [0.38426425160492944, 0.22124840377646998]}, {\"hoverinfo\": \"text\", \"marker\": {\"color\": \"rgb(255, 255, 255)\", \"line\": {\"color\": \"rgb(0, 0, 0)\", \"width\": 1}, \"size\": 10, \"symbol\": \"circle\"}, \"mode\": \"markers\", \"text\": [\"extreme-motor-bike-ride-simulator-3d-steer-the-mot\"], \"textfont\": {\"color\": \"rgb(0, 0, 0)\"}, \"textposition\": \"middle center\", \"type\": \"scatter\", \"x\": [0.58332742648664], \"y\": [0.5033168958500682]}, {\"hoverinfo\": \"text\", \"marker\": {\"color\": \"rgb(255, 255, 255)\", \"line\": {\"color\": \"rgb(0, 0, 0)\", \"width\": 1}, \"size\": 24, \"symbol\": \"circle\"}, \"mode\": \"markers\", \"text\": [\"best-casino-social-slots-fun\"], \"textfont\": {\"color\": \"rgb(0, 0, 0)\"}, \"textposition\": \"middle center\", \"type\": \"scatter\", \"x\": [0.4691488442429678], \"y\": [0.7301430393819415]}, {\"hoverinfo\": \"text\", \"marker\": {\"color\": \"rgb(255, 255, 255)\", \"line\": {\"color\": \"rgb(0, 0, 0)\", \"width\": 1}, \"size\": 50, \"symbol\": \"circle\"}, \"mode\": \"markers\", \"text\": [\"pengu-the-flying-penguin-unforgettable-chilly-adve\", \"jashanoid\"], \"textfont\": {\"color\": \"rgb(0, 0, 0)\"}, \"textposition\": \"middle center\", \"type\": \"scatter\", \"x\": [0.7223574707007677, 0.18318338549507648], \"y\": [0.3448503459725159, 0.11516134776086077]}, {\"hoverinfo\": \"text\", \"marker\": {\"color\": \"rgb(255, 255, 255)\", \"line\": {\"color\": \"rgb(0, 0, 0)\", \"width\": 1}, \"size\": 29, \"symbol\": \"circle\"}, \"mode\": \"markers\", \"text\": [\"armageddon-itch-4xisblack\"], \"textfont\": {\"color\": \"rgb(0, 0, 0)\"}, \"textposition\": \"middle center\", \"type\": \"scatter\", \"x\": [0.23662331519522345], \"y\": [0.8637451216161804]}, {\"hoverinfo\": \"text\", \"marker\": {\"color\": \"rgb(255, 255, 255)\", \"line\": {\"color\": \"rgb(0, 0, 0)\", \"width\": 1}, \"size\": 11, \"symbol\": \"circle\"}, \"mode\": \"markers\", \"text\": [\"death-duel-itch\"], \"textfont\": {\"color\": \"rgb(0, 0, 0)\"}, \"textposition\": \"middle center\", \"type\": \"scatter\", \"x\": [0.0945580068697344], \"y\": [1.0]}, {\"hoverinfo\": \"none\", \"mode\": \"text\", \"text\": [], \"textfont\": {\"color\": \"rgb(255, 255, 255)\"}, \"textposition\": \"middle center\", \"type\": \"scatter\", \"x\": [], \"y\": []}, {\"hoverinfo\": \"none\", \"mode\": \"text\", \"text\": [null, null, null, null, null, null, null, null, null, null, null, null, null, null, null, null, null, null, null, null], \"textfont\": {\"color\": \"rgb(0, 0, 0)\"}, \"textposition\": \"middle center\", \"type\": \"scatter\", \"x\": [0.10125967544075036, 0.47086174805196956, 0.6681927793934938, 0.0, 0.0977168705702624, 0.20484291907286648, 1.0, 0.8029969258457315, 0.37033013679291527, 0.58332742648664, 0.8502408700434678, 0.4691488442429678, 0.9401420625907755, 0.7223574707007677, 0.7171513334332582, 0.2782971040584209, 0.5509454896765477, 0.23662331519522345, 0.18318338549507648, 0.0945580068697344], \"y\": [0.7074131006510443, 0.27250829586581593, 0.24667819624622006, 0.38426425160492944, 0.7605383685704094, 0.9495636779078307, 0.6650232364929527, 0.0, 0.8056498137424003, 0.5033168958500682, 0.5362474750565907, 0.7301430393819415, 0.22124840377646998, 0.3448503459725159, 0.7293543991773697, 0.45790257722327943, 0.035827739877884686, 0.8637451216161804, 0.11516134776086077, 1.0]}, {\"hoverinfo\": \"none\", \"mode\": \"text\", \"text\": [null, null, null, null, null, null, null, null, null, null, null, null, null, null, null, null, null, null, null, null, null, null, null], \"textfont\": {\"color\": \"rgb(0, 0, 0)\"}, \"textposition\": \"middle center\", \"type\": \"scatter\", \"x\": [0.2938411186206296, 0.33248708733937765, 0.6134619796019202, 0.5571880743520969, 0.8049019232919444, 0.6851555344566738, 0.4051393778570018, 0.29006842381631653, 0.2291972615568453, 0.23263362520298855, 0.6819279227695849, 0.8620588447033776, 0.7494643984833854, 0.515662047918923, 0.7674409142432894, 0.6604481054331209, 0.7119598763077557, 0.6049488249373729, 0.2765824092414596, 0.8269869573667741, 0.45603344048712857, 0.2241505286067946, 0.12473750642537407], \"y\": [0.5120260588449862, 0.28938966572019353, 0.3614264273921115, 0.4726345772494734, 0.2601757002325236, 0.3143962696595799, 0.21752214090340238, 0.4698750045831804, 0.5815429551113392, 0.9213609947693792, 0.23529627440166187, 0.13029758145323522, 0.1621146593527118, 0.5989641541479723, 0.3863706804581977, 0.4463513696724414, 0.4982867173792092, 0.5576636096314193, 0.8406548508001377, 0.2579844570116283, 0.2044449512271931, 0.4860591485891001, 0.5528567516867781]}, {\"hoverinfo\": \"none\", \"marker\": {\"color\": \"rgba(255, 255, 255, 0)\", \"line\": {\"color\": \"rgba(255, 255, 255, 0)\", \"width\": 0}, \"size\": 0, \"symbol\": \"circle\"}, \"mode\": \"markers\", \"type\": \"scatter\", \"x\": [0.5, 0.0, 1.0, 0.5], \"y\": [0.0, 0.5, 0.5, 1.0]}],                        {\"height\": 450, \"hovermode\": \"closest\", \"margin\": {\"b\": 10, \"l\": 10, \"r\": 10, \"t\": 10}, \"plot_bgcolor\": \"rgb(255, 255, 255)\", \"showlegend\": false, \"template\": {\"data\": {\"bar\": [{\"error_x\": {\"color\": \"#2a3f5f\"}, \"error_y\": {\"color\": \"#2a3f5f\"}, \"marker\": {\"line\": {\"color\": \"#E5ECF6\", \"width\": 0.5}}, \"type\": \"bar\"}], \"barpolar\": [{\"marker\": {\"line\": {\"color\": \"#E5ECF6\", \"width\": 0.5}}, \"type\": \"barpolar\"}], \"carpet\": [{\"aaxis\": {\"endlinecolor\": \"#2a3f5f\", \"gridcolor\": \"white\", \"linecolor\": \"white\", \"minorgridcolor\": \"white\", \"startlinecolor\": \"#2a3f5f\"}, \"baxis\": {\"endlinecolor\": \"#2a3f5f\", \"gridcolor\": \"white\", \"linecolor\": \"white\", \"minorgridcolor\": \"white\", \"startlinecolor\": \"#2a3f5f\"}, \"type\": \"carpet\"}], \"choropleth\": [{\"colorbar\": {\"outlinewidth\": 0, \"ticks\": \"\"}, \"type\": \"choropleth\"}], \"contour\": [{\"colorbar\": {\"outlinewidth\": 0, \"ticks\": \"\"}, \"colorscale\": [[0.0, \"#0d0887\"], [0.1111111111111111, \"#46039f\"], [0.2222222222222222, \"#7201a8\"], [0.3333333333333333, \"#9c179e\"], [0.4444444444444444, \"#bd3786\"], [0.5555555555555556, \"#d8576b\"], [0.6666666666666666, \"#ed7953\"], [0.7777777777777778, \"#fb9f3a\"], [0.8888888888888888, \"#fdca26\"], [1.0, \"#f0f921\"]], \"type\": \"contour\"}], \"contourcarpet\": [{\"colorbar\": {\"outlinewidth\": 0, \"ticks\": \"\"}, \"type\": \"contourcarpet\"}], \"heatmap\": [{\"colorbar\": {\"outlinewidth\": 0, \"ticks\": \"\"}, \"colorscale\": [[0.0, \"#0d0887\"], [0.1111111111111111, \"#46039f\"], [0.2222222222222222, \"#7201a8\"], [0.3333333333333333, \"#9c179e\"], [0.4444444444444444, \"#bd3786\"], [0.5555555555555556, \"#d8576b\"], [0.6666666666666666, \"#ed7953\"], [0.7777777777777778, \"#fb9f3a\"], [0.8888888888888888, \"#fdca26\"], [1.0, \"#f0f921\"]], \"type\": \"heatmap\"}], \"heatmapgl\": [{\"colorbar\": {\"outlinewidth\": 0, \"ticks\": \"\"}, \"colorscale\": [[0.0, \"#0d0887\"], [0.1111111111111111, \"#46039f\"], [0.2222222222222222, \"#7201a8\"], [0.3333333333333333, \"#9c179e\"], [0.4444444444444444, \"#bd3786\"], [0.5555555555555556, \"#d8576b\"], [0.6666666666666666, \"#ed7953\"], [0.7777777777777778, \"#fb9f3a\"], [0.8888888888888888, \"#fdca26\"], [1.0, \"#f0f921\"]], \"type\": \"heatmapgl\"}], \"histogram\": [{\"marker\": {\"colorbar\": {\"outlinewidth\": 0, \"ticks\": \"\"}}, \"type\": \"histogram\"}], \"histogram2d\": [{\"colorbar\": {\"outlinewidth\": 0, \"ticks\": \"\"}, \"colorscale\": [[0.0, \"#0d0887\"], [0.1111111111111111, \"#46039f\"], [0.2222222222222222, \"#7201a8\"], [0.3333333333333333, \"#9c179e\"], [0.4444444444444444, \"#bd3786\"], [0.5555555555555556, \"#d8576b\"], [0.6666666666666666, \"#ed7953\"], [0.7777777777777778, \"#fb9f3a\"], [0.8888888888888888, \"#fdca26\"], [1.0, \"#f0f921\"]], \"type\": \"histogram2d\"}], \"histogram2dcontour\": [{\"colorbar\": {\"outlinewidth\": 0, \"ticks\": \"\"}, \"colorscale\": [[0.0, \"#0d0887\"], [0.1111111111111111, \"#46039f\"], [0.2222222222222222, \"#7201a8\"], [0.3333333333333333, \"#9c179e\"], [0.4444444444444444, \"#bd3786\"], [0.5555555555555556, \"#d8576b\"], [0.6666666666666666, \"#ed7953\"], [0.7777777777777778, \"#fb9f3a\"], [0.8888888888888888, \"#fdca26\"], [1.0, \"#f0f921\"]], \"type\": \"histogram2dcontour\"}], \"mesh3d\": [{\"colorbar\": {\"outlinewidth\": 0, \"ticks\": \"\"}, \"type\": \"mesh3d\"}], \"parcoords\": [{\"line\": {\"colorbar\": {\"outlinewidth\": 0, \"ticks\": \"\"}}, \"type\": \"parcoords\"}], \"pie\": [{\"automargin\": true, \"type\": \"pie\"}], \"scatter\": [{\"marker\": {\"colorbar\": {\"outlinewidth\": 0, \"ticks\": \"\"}}, \"type\": \"scatter\"}], \"scatter3d\": [{\"line\": {\"colorbar\": {\"outlinewidth\": 0, \"ticks\": \"\"}}, \"marker\": {\"colorbar\": {\"outlinewidth\": 0, \"ticks\": \"\"}}, \"type\": \"scatter3d\"}], \"scattercarpet\": [{\"marker\": {\"colorbar\": {\"outlinewidth\": 0, \"ticks\": \"\"}}, \"type\": \"scattercarpet\"}], \"scattergeo\": [{\"marker\": {\"colorbar\": {\"outlinewidth\": 0, \"ticks\": \"\"}}, \"type\": \"scattergeo\"}], \"scattergl\": [{\"marker\": {\"colorbar\": {\"outlinewidth\": 0, \"ticks\": \"\"}}, \"type\": \"scattergl\"}], \"scattermapbox\": [{\"marker\": {\"colorbar\": {\"outlinewidth\": 0, \"ticks\": \"\"}}, \"type\": \"scattermapbox\"}], \"scatterpolar\": [{\"marker\": {\"colorbar\": {\"outlinewidth\": 0, \"ticks\": \"\"}}, \"type\": \"scatterpolar\"}], \"scatterpolargl\": [{\"marker\": {\"colorbar\": {\"outlinewidth\": 0, \"ticks\": \"\"}}, \"type\": \"scatterpolargl\"}], \"scatterternary\": [{\"marker\": {\"colorbar\": {\"outlinewidth\": 0, \"ticks\": \"\"}}, \"type\": \"scatterternary\"}], \"surface\": [{\"colorbar\": {\"outlinewidth\": 0, \"ticks\": \"\"}, \"colorscale\": [[0.0, \"#0d0887\"], [0.1111111111111111, \"#46039f\"], [0.2222222222222222, \"#7201a8\"], [0.3333333333333333, \"#9c179e\"], [0.4444444444444444, \"#bd3786\"], [0.5555555555555556, \"#d8576b\"], [0.6666666666666666, \"#ed7953\"], [0.7777777777777778, \"#fb9f3a\"], [0.8888888888888888, \"#fdca26\"], [1.0, \"#f0f921\"]], \"type\": \"surface\"}], \"table\": [{\"cells\": {\"fill\": {\"color\": \"#EBF0F8\"}, \"line\": {\"color\": \"white\"}}, \"header\": {\"fill\": {\"color\": \"#C8D4E3\"}, \"line\": {\"color\": \"white\"}}, \"type\": \"table\"}]}, \"layout\": {\"annotationdefaults\": {\"arrowcolor\": \"#2a3f5f\", \"arrowhead\": 0, \"arrowwidth\": 1}, \"coloraxis\": {\"colorbar\": {\"outlinewidth\": 0, \"ticks\": \"\"}}, \"colorscale\": {\"diverging\": [[0, \"#8e0152\"], [0.1, \"#c51b7d\"], [0.2, \"#de77ae\"], [0.3, \"#f1b6da\"], [0.4, \"#fde0ef\"], [0.5, \"#f7f7f7\"], [0.6, \"#e6f5d0\"], [0.7, \"#b8e186\"], [0.8, \"#7fbc41\"], [0.9, \"#4d9221\"], [1, \"#276419\"]], \"sequential\": [[0.0, \"#0d0887\"], [0.1111111111111111, \"#46039f\"], [0.2222222222222222, \"#7201a8\"], [0.3333333333333333, \"#9c179e\"], [0.4444444444444444, \"#bd3786\"], [0.5555555555555556, \"#d8576b\"], [0.6666666666666666, \"#ed7953\"], [0.7777777777777778, \"#fb9f3a\"], [0.8888888888888888, \"#fdca26\"], [1.0, \"#f0f921\"]], \"sequentialminus\": [[0.0, \"#0d0887\"], [0.1111111111111111, \"#46039f\"], [0.2222222222222222, \"#7201a8\"], [0.3333333333333333, \"#9c179e\"], [0.4444444444444444, \"#bd3786\"], [0.5555555555555556, \"#d8576b\"], [0.6666666666666666, \"#ed7953\"], [0.7777777777777778, \"#fb9f3a\"], [0.8888888888888888, \"#fdca26\"], [1.0, \"#f0f921\"]]}, \"colorway\": [\"#636efa\", \"#EF553B\", \"#00cc96\", \"#ab63fa\", \"#FFA15A\", \"#19d3f3\", \"#FF6692\", \"#B6E880\", \"#FF97FF\", \"#FECB52\"], \"font\": {\"color\": \"#2a3f5f\"}, \"geo\": {\"bgcolor\": \"white\", \"lakecolor\": \"white\", \"landcolor\": \"#E5ECF6\", \"showlakes\": true, \"showland\": true, \"subunitcolor\": \"white\"}, \"hoverlabel\": {\"align\": \"left\"}, \"hovermode\": \"closest\", \"mapbox\": {\"style\": \"light\"}, \"paper_bgcolor\": \"white\", \"plot_bgcolor\": \"#E5ECF6\", \"polar\": {\"angularaxis\": {\"gridcolor\": \"white\", \"linecolor\": \"white\", \"ticks\": \"\"}, \"bgcolor\": \"#E5ECF6\", \"radialaxis\": {\"gridcolor\": \"white\", \"linecolor\": \"white\", \"ticks\": \"\"}}, \"scene\": {\"xaxis\": {\"backgroundcolor\": \"#E5ECF6\", \"gridcolor\": \"white\", \"gridwidth\": 2, \"linecolor\": \"white\", \"showbackground\": true, \"ticks\": \"\", \"zerolinecolor\": \"white\"}, \"yaxis\": {\"backgroundcolor\": \"#E5ECF6\", \"gridcolor\": \"white\", \"gridwidth\": 2, \"linecolor\": \"white\", \"showbackground\": true, \"ticks\": \"\", \"zerolinecolor\": \"white\"}, \"zaxis\": {\"backgroundcolor\": \"#E5ECF6\", \"gridcolor\": \"white\", \"gridwidth\": 2, \"linecolor\": \"white\", \"showbackground\": true, \"ticks\": \"\", \"zerolinecolor\": \"white\"}}, \"shapedefaults\": {\"line\": {\"color\": \"#2a3f5f\"}}, \"ternary\": {\"aaxis\": {\"gridcolor\": \"white\", \"linecolor\": \"white\", \"ticks\": \"\"}, \"baxis\": {\"gridcolor\": \"white\", \"linecolor\": \"white\", \"ticks\": \"\"}, \"bgcolor\": \"#E5ECF6\", \"caxis\": {\"gridcolor\": \"white\", \"linecolor\": \"white\", \"ticks\": \"\"}}, \"title\": {\"x\": 0.05}, \"xaxis\": {\"automargin\": true, \"gridcolor\": \"white\", \"linecolor\": \"white\", \"ticks\": \"\", \"title\": {\"standoff\": 15}, \"zerolinecolor\": \"white\", \"zerolinewidth\": 2}, \"yaxis\": {\"automargin\": true, \"gridcolor\": \"white\", \"linecolor\": \"white\", \"ticks\": \"\", \"title\": {\"standoff\": 15}, \"zerolinecolor\": \"white\", \"zerolinewidth\": 2}}}, \"width\": 800, \"xaxis\": {\"showgrid\": false, \"showticklabels\": false, \"zeroline\": false}, \"yaxis\": {\"showgrid\": false, \"showticklabels\": false, \"zeroline\": false}},                        {\"displayModeBar\": false, \"responsive\": true}                    ).then(function(){\n",
       "                            \n",
       "var gd = document.getElementById('8d4a640e-9ace-4317-9d04-2193b5c4e1d0');\n",
       "var x = new MutationObserver(function (mutations, observer) {{\n",
       "        var display = window.getComputedStyle(gd).display;\n",
       "        if (!display || display === 'none') {{\n",
       "            console.log([gd, 'removed!']);\n",
       "            Plotly.purge(gd);\n",
       "            observer.disconnect();\n",
       "        }}\n",
       "}});\n",
       "\n",
       "// Listen for the removal of the full notebook cells\n",
       "var notebookContainer = gd.closest('#notebook-container');\n",
       "if (notebookContainer) {{\n",
       "    x.observe(notebookContainer, {childList: true});\n",
       "}}\n",
       "\n",
       "// Listen for the clearing of the current output cell\n",
       "var outputEl = gd.closest('.output');\n",
       "if (outputEl) {{\n",
       "    x.observe(outputEl, {childList: true});\n",
       "}}\n",
       "\n",
       "                        })                };                });            </script>        </div>"
      ]
     },
     "metadata": {},
     "output_type": "display_data"
    },
    {
     "name": "stdout",
     "output_type": "stream",
     "text": [
      "REDE 2\n",
      "Nós: jogos;\n",
      "Arestas: jogos que compartilham a mesma plataforma de jogo;\n"
     ]
    },
    {
     "data": {
      "application/vnd.plotly.v1+json": {
       "config": {
        "displayModeBar": false,
        "linkText": "Export to plot.ly",
        "plotlyServerURL": "https://plot.ly",
        "showLink": false
       },
       "data": [
        {
         "hoverinfo": "none",
         "line": {
          "color": "rgb(127, 127, 127)",
          "dash": "solid",
          "width": 0
         },
         "mode": "lines",
         "type": "scatter",
         "x": [
          0.546269814995793,
          0.546269814995793,
          null,
          0,
          1,
          null
         ],
         "y": [
          0,
          1,
          null,
          0.36101132830364424,
          0.36101132830364424,
          null
         ]
        },
        {
         "hoverinfo": "none",
         "line": {
          "color": "rgb(0, 0, 0)",
          "dash": "solid",
          "width": 1
         },
         "mode": "lines",
         "type": "scatter",
         "x": [
          0.37265872599259936,
          0.6788024470103502,
          null,
          0.37265872599259936,
          0.3303791934704298,
          null,
          0.37265872599259936,
          0.5566252710960476,
          null,
          0.37265872599259936,
          0,
          null,
          0.37265872599259936,
          1,
          null,
          0.37265872599259936,
          0.3928613909299098,
          null,
          0.6788024470103502,
          0.3303791934704298,
          null,
          0.6788024470103502,
          0.5566252710960476,
          null,
          0.6788024470103502,
          0,
          null,
          0.6788024470103502,
          0.3928613909299098,
          null,
          0.40028254289827303,
          0.020926583418838532,
          null,
          0.40028254289827303,
          0.18199391475503096,
          null,
          0.40028254289827303,
          0.2227547743213947,
          null,
          0.40028254289827303,
          0.01941314893122773,
          null,
          0.40028254289827303,
          0.7423350673644973,
          null,
          0.40028254289827303,
          0.8314847669515028,
          null,
          0.40028254289827303,
          0.5027559071184092,
          null,
          0.40028254289827303,
          0.5350401803659522,
          null,
          0.40028254289827303,
          1,
          null,
          0.020926583418838532,
          0.18199391475503096,
          null,
          0.020926583418838532,
          0.2227547743213947,
          null,
          0.020926583418838532,
          0.01941314893122773,
          null,
          0.020926583418838532,
          0.7423350673644973,
          null,
          0.020926583418838532,
          0.8314847669515028,
          null,
          0.020926583418838532,
          0.5027559071184092,
          null,
          0.020926583418838532,
          0.5350401803659522,
          null,
          0.020926583418838532,
          1,
          null,
          0.3303791934704298,
          0.5566252710960476,
          null,
          0.3303791934704298,
          0,
          null,
          0.3303791934704298,
          1,
          null,
          0.3303791934704298,
          0.7811867997474524,
          null,
          0.3303791934704298,
          0.3928613909299098,
          null,
          0.5566252710960476,
          0,
          null,
          0.5566252710960476,
          0.3928613909299098,
          null,
          0.18199391475503096,
          0.2227547743213947,
          null,
          0.18199391475503096,
          0.01941314893122773,
          null,
          0.18199391475503096,
          0.7423350673644973,
          null,
          0.18199391475503096,
          0.8314847669515028,
          null,
          0.18199391475503096,
          0.5027559071184092,
          null,
          0.18199391475503096,
          0.5350401803659522,
          null,
          0.18199391475503096,
          1,
          null,
          0,
          0.3928613909299098,
          null,
          0.2227547743213947,
          0.01941314893122773,
          null,
          0.2227547743213947,
          0.7423350673644973,
          null,
          0.2227547743213947,
          0.8314847669515028,
          null,
          0.2227547743213947,
          0.5027559071184092,
          null,
          0.2227547743213947,
          0.5350401803659522,
          null,
          0.2227547743213947,
          1,
          null,
          0.01941314893122773,
          0.7423350673644973,
          null,
          0.01941314893122773,
          0.8314847669515028,
          null,
          0.01941314893122773,
          0.5027559071184092,
          null,
          0.01941314893122773,
          0.5350401803659522,
          null,
          0.01941314893122773,
          1,
          null,
          0.7423350673644973,
          0.8314847669515028,
          null,
          0.7423350673644973,
          0.5027559071184092,
          null,
          0.7423350673644973,
          0.5350401803659522,
          null,
          0.7423350673644973,
          1,
          null,
          0.8314847669515028,
          0.5027559071184092,
          null,
          0.8314847669515028,
          0.5350401803659522,
          null,
          0.8314847669515028,
          1,
          null,
          0.5027559071184092,
          0.5350401803659522,
          null,
          0.5027559071184092,
          1,
          null,
          0.5350401803659522,
          1,
          null
         ],
         "y": [
          0.543997709607628,
          0.21226127496885275,
          null,
          0.543997709607628,
          0.4302887479932822,
          null,
          0.543997709607628,
          0.7191987235630543,
          null,
          0.543997709607628,
          0.9309618722640631,
          null,
          0.543997709607628,
          0.7284729698400034,
          null,
          0.543997709607628,
          0.8585432350503199,
          null,
          0.21226127496885275,
          0.4302887479932822,
          null,
          0.21226127496885275,
          0.7191987235630543,
          null,
          0.21226127496885275,
          0.9309618722640631,
          null,
          0.21226127496885275,
          0.8585432350503199,
          null,
          0.5868020101556358,
          0.9338020869841407,
          null,
          0.5868020101556358,
          0.7206005659400839,
          null,
          0.5868020101556358,
          0.4598711996658542,
          null,
          0.5868020101556358,
          1,
          null,
          0.5868020101556358,
          0.4861553034441465,
          null,
          0.5868020101556358,
          0.9584792021525821,
          null,
          0.5868020101556358,
          0.42862017750132936,
          null,
          0.5868020101556358,
          0.5919677742994793,
          null,
          0.5868020101556358,
          0.7284729698400034,
          null,
          0.9338020869841407,
          0.7206005659400839,
          null,
          0.9338020869841407,
          0.4598711996658542,
          null,
          0.9338020869841407,
          1,
          null,
          0.9338020869841407,
          0.4861553034441465,
          null,
          0.9338020869841407,
          0.9584792021525821,
          null,
          0.9338020869841407,
          0.42862017750132936,
          null,
          0.9338020869841407,
          0.5919677742994793,
          null,
          0.9338020869841407,
          0.7284729698400034,
          null,
          0.4302887479932822,
          0.7191987235630543,
          null,
          0.4302887479932822,
          0.9309618722640631,
          null,
          0.4302887479932822,
          0.7284729698400034,
          null,
          0.4302887479932822,
          0.23425634651225014,
          null,
          0.4302887479932822,
          0.8585432350503199,
          null,
          0.7191987235630543,
          0.9309618722640631,
          null,
          0.7191987235630543,
          0.8585432350503199,
          null,
          0.7206005659400839,
          0.4598711996658542,
          null,
          0.7206005659400839,
          1,
          null,
          0.7206005659400839,
          0.4861553034441465,
          null,
          0.7206005659400839,
          0.9584792021525821,
          null,
          0.7206005659400839,
          0.42862017750132936,
          null,
          0.7206005659400839,
          0.5919677742994793,
          null,
          0.7206005659400839,
          0.7284729698400034,
          null,
          0.9309618722640631,
          0.8585432350503199,
          null,
          0.4598711996658542,
          1,
          null,
          0.4598711996658542,
          0.4861553034441465,
          null,
          0.4598711996658542,
          0.9584792021525821,
          null,
          0.4598711996658542,
          0.42862017750132936,
          null,
          0.4598711996658542,
          0.5919677742994793,
          null,
          0.4598711996658542,
          0.7284729698400034,
          null,
          1,
          0.4861553034441465,
          null,
          1,
          0.9584792021525821,
          null,
          1,
          0.42862017750132936,
          null,
          1,
          0.5919677742994793,
          null,
          1,
          0.7284729698400034,
          null,
          0.4861553034441465,
          0.9584792021525821,
          null,
          0.4861553034441465,
          0.42862017750132936,
          null,
          0.4861553034441465,
          0.5919677742994793,
          null,
          0.4861553034441465,
          0.7284729698400034,
          null,
          0.9584792021525821,
          0.42862017750132936,
          null,
          0.9584792021525821,
          0.5919677742994793,
          null,
          0.9584792021525821,
          0.7284729698400034,
          null,
          0.42862017750132936,
          0.5919677742994793,
          null,
          0.42862017750132936,
          0.7284729698400034,
          null,
          0.5919677742994793,
          0.7284729698400034,
          null
         ]
        },
        {
         "hoverinfo": "text",
         "marker": {
          "color": "rgb(255, 255, 255)",
          "line": {
           "color": "rgb(0, 0, 0)",
           "width": 1
          },
          "size": 10,
          "symbol": "circle"
         },
         "mode": "markers",
         "text": [
          "fake-colours",
          "dimmdrive-gaming-ramdrive-10000-mbs",
          "my-talking-angela",
          "wrc-the-official-game",
          "i-wanna-be-the-co-op",
          "perfect-glowing-bodies",
          "funeral",
          "tanktrouble-mobile-mayhem",
          "mlg-bouncing-simulator-2015",
          "extreme-motor-bike-ride-simulator-3d-steer-the-mot",
          "ice-age-avalanche",
          "best-casino-social-slots-fun",
          "brutal-donut",
          "pengu-the-flying-penguin-unforgettable-chilly-adve",
          "fruits-pair-festival-january",
          "lunar-lander-relaunched",
          "no-idea-for-name",
          "armageddon-itch-4xisblack",
          "jashanoid",
          "death-duel-itch"
         ],
         "textfont": {
          "color": "rgb(0, 0, 0)"
         },
         "textposition": "middle center",
         "type": "scatter",
         "x": [
          0.37265872599259936,
          0.6788024470103502,
          0.40028254289827303,
          0.020926583418838532,
          0.3303791934704298,
          0.5566252710960476,
          0.49381121264289674,
          0.18199391475503096,
          0,
          0.2227547743213947,
          0.01941314893122773,
          0.7423350673644973,
          0.8314847669515028,
          0.5027559071184092,
          0.5350401803659522,
          1,
          0.7474465939312464,
          0.7811867997474524,
          0.3928613909299098,
          0.47089817316227794
         ],
         "y": [
          0.543997709607628,
          0.21226127496885275,
          0.5868020101556358,
          0.9338020869841407,
          0.4302887479932822,
          0.7191987235630543,
          0,
          0.7206005659400839,
          0.9309618722640631,
          0.4598711996658542,
          1,
          0.4861553034441465,
          0.9584792021525821,
          0.42862017750132936,
          0.5919677742994793,
          0.7284729698400034,
          0.09277900368381141,
          0.23425634651225014,
          0.8585432350503199,
          0.6391502326061227
         ]
        },
        {
         "hoverinfo": "none",
         "mode": "text",
         "text": [],
         "textfont": {
          "color": "rgb(255, 255, 255)"
         },
         "textposition": "middle center",
         "type": "scatter",
         "x": [],
         "y": []
        },
        {
         "hoverinfo": "none",
         "mode": "text",
         "text": [
          null,
          null,
          null,
          null,
          null,
          null,
          null,
          null,
          null,
          null,
          null,
          null,
          null,
          null,
          null,
          null,
          null,
          null,
          null,
          null
         ],
         "textfont": {
          "color": "rgb(0, 0, 0)"
         },
         "textposition": "middle center",
         "type": "scatter",
         "x": [
          0.37265872599259936,
          0.6788024470103502,
          0.40028254289827303,
          0.020926583418838532,
          0.3303791934704298,
          0.5566252710960476,
          0.49381121264289674,
          0.18199391475503096,
          0,
          0.2227547743213947,
          0.01941314893122773,
          0.7423350673644973,
          0.8314847669515028,
          0.5027559071184092,
          0.5350401803659522,
          1,
          0.7474465939312464,
          0.7811867997474524,
          0.3928613909299098,
          0.47089817316227794
         ],
         "y": [
          0.543997709607628,
          0.21226127496885275,
          0.5868020101556358,
          0.9338020869841407,
          0.4302887479932822,
          0.7191987235630543,
          0,
          0.7206005659400839,
          0.9309618722640631,
          0.4598711996658542,
          1,
          0.4861553034441465,
          0.9584792021525821,
          0.42862017750132936,
          0.5919677742994793,
          0.7284729698400034,
          0.09277900368381141,
          0.23425634651225014,
          0.8585432350503199,
          0.6391502326061227
         ]
        },
        {
         "hoverinfo": "none",
         "mode": "text",
         "text": [
          null,
          null,
          null,
          null,
          null,
          null,
          null,
          null,
          null,
          null,
          null,
          null,
          null,
          null,
          null,
          null,
          null,
          null,
          null,
          null,
          null,
          null,
          null,
          null,
          null,
          null,
          null,
          null,
          null,
          null,
          null,
          null,
          null,
          null,
          null,
          null,
          null,
          null,
          null,
          null,
          null,
          null,
          null,
          null,
          null,
          null,
          null,
          null,
          null,
          null,
          null,
          null,
          null,
          null,
          null,
          null,
          null,
          null,
          null,
          null,
          null,
          null,
          null
         ],
         "textfont": {
          "color": "rgb(0, 0, 0)"
         },
         "textposition": "middle center",
         "type": "scatter",
         "x": [
          0.5330606682356623,
          0.3634043164984557,
          0.45800002336418105,
          0.17922920562338332,
          0.684045943402708,
          0.3684901290610047,
          0.49993476364703954,
          0.6045640944610141,
          0.33219645102600115,
          0.5246575791417337,
          0.20417164055934117,
          0.286567761200804,
          0.316755346018687,
          0.2025113421279683,
          0.5735936216774828,
          0.6097525000449832,
          0.4607926806258751,
          0.46735992773898954,
          0.6982986359404282,
          0.10989064356267798,
          0.13318100579633643,
          0.005814564201675873,
          0.38625196200463774,
          0.425966257412836,
          0.2689933047150231,
          0.28289752867830514,
          0.5121019883379363,
          0.43527048091566517,
          0.15601607398667258,
          0.6617868639565593,
          0.5591101646291415,
          0.3477371182043759,
          0.27538326414873954,
          0.46867679875081475,
          0.2161898100872411,
          0.0908587304007877,
          0.46537218638252903,
          0.5039149093396167,
          0.34878284682025446,
          0.36132736713753416,
          0.590921265147038,
          0.19787320130101504,
          0.10924550851517689,
          0.4821471979929162,
          0.5212413482137408,
          0.36363153793078024,
          0.3756562853476001,
          0.6087067066245355,
          0.3860840725146496,
          0.42585094105669274,
          0.2688903901986768,
          0.2829377810194716,
          0.5118598551962131,
          0.7733268464774778,
          0.6244181940920878,
          0.6348210198750144,
          0.8645911632384141,
          0.676626344588748,
          0.6913155766092103,
          0.9243421709613938,
          0.5053840571863718,
          0.7468740924286308,
          0.7652402580216604
         ],
         "y": [
          0.4007035446941078,
          0.4723958025282664,
          0.6548720549237144,
          0.7146618184871215,
          0.6621484761263803,
          0.7043290217468199,
          0.2964446701944876,
          0.4551539804784914,
          0.5489032961551817,
          0.5189037388672014,
          0.7368330697016987,
          0.6288179379056156,
          0.4988952982813141,
          0.7708339157115514,
          0.5623913822872798,
          0.7963776097562435,
          0.5277587920941331,
          0.6156258344794137,
          0.6836674690676251,
          0.8484549796136392,
          0.7129527790565302,
          0.9658058264604127,
          0.7348307963649976,
          0.9723837194930037,
          0.7039749489771419,
          0.7875487362256574,
          0.8572129781194037,
          0.5962556616902113,
          0.6604247654692377,
          0.6048808866506403,
          0.35780582889980644,
          0.651175446309619,
          0.7993848910515348,
          0.7650786319421157,
          0.5974434290361913,
          0.8411833097364028,
          0.6289621850711618,
          0.8652744693933112,
          0.5981021506843862,
          0.6820239105919197,
          0.7507831228256724,
          0.9208666564184896,
          0.7150628099668737,
          0.49924991280351616,
          0.7331246084816894,
          0.47044355695424006,
          0.5514896453847541,
          0.6199613911353901,
          0.7675380089184913,
          1.0054760456548297,
          0.7363454270733972,
          0.8200680053518313,
          0.8901867726593151,
          0.7308727736061589,
          0.43136492409231403,
          0.5137831170287254,
          0.6306500624442966,
          0.673868824903223,
          0.7534870799671146,
          0.8645020447692192,
          0.5192071066095972,
          0.6034704193840011,
          0.686134562538437
         ]
        },
        {
         "hoverinfo": "none",
         "marker": {
          "color": "rgba(255, 255, 255, 0)",
          "line": {
           "color": "rgba(255, 255, 255, 0)",
           "width": 0
          },
          "size": 0,
          "symbol": "circle"
         },
         "mode": "markers",
         "type": "scatter",
         "x": [
          0.5,
          0,
          1,
          0.5
         ],
         "y": [
          0,
          0.5,
          0.5,
          1
         ]
        }
       ],
       "layout": {
        "height": 450,
        "hovermode": "closest",
        "margin": {
         "b": 10,
         "l": 10,
         "r": 10,
         "t": 10
        },
        "plot_bgcolor": "rgb(255, 255, 255)",
        "showlegend": false,
        "template": {
         "data": {
          "bar": [
           {
            "error_x": {
             "color": "#2a3f5f"
            },
            "error_y": {
             "color": "#2a3f5f"
            },
            "marker": {
             "line": {
              "color": "#E5ECF6",
              "width": 0.5
             }
            },
            "type": "bar"
           }
          ],
          "barpolar": [
           {
            "marker": {
             "line": {
              "color": "#E5ECF6",
              "width": 0.5
             }
            },
            "type": "barpolar"
           }
          ],
          "carpet": [
           {
            "aaxis": {
             "endlinecolor": "#2a3f5f",
             "gridcolor": "white",
             "linecolor": "white",
             "minorgridcolor": "white",
             "startlinecolor": "#2a3f5f"
            },
            "baxis": {
             "endlinecolor": "#2a3f5f",
             "gridcolor": "white",
             "linecolor": "white",
             "minorgridcolor": "white",
             "startlinecolor": "#2a3f5f"
            },
            "type": "carpet"
           }
          ],
          "choropleth": [
           {
            "colorbar": {
             "outlinewidth": 0,
             "ticks": ""
            },
            "type": "choropleth"
           }
          ],
          "contour": [
           {
            "colorbar": {
             "outlinewidth": 0,
             "ticks": ""
            },
            "colorscale": [
             [
              0,
              "#0d0887"
             ],
             [
              0.1111111111111111,
              "#46039f"
             ],
             [
              0.2222222222222222,
              "#7201a8"
             ],
             [
              0.3333333333333333,
              "#9c179e"
             ],
             [
              0.4444444444444444,
              "#bd3786"
             ],
             [
              0.5555555555555556,
              "#d8576b"
             ],
             [
              0.6666666666666666,
              "#ed7953"
             ],
             [
              0.7777777777777778,
              "#fb9f3a"
             ],
             [
              0.8888888888888888,
              "#fdca26"
             ],
             [
              1,
              "#f0f921"
             ]
            ],
            "type": "contour"
           }
          ],
          "contourcarpet": [
           {
            "colorbar": {
             "outlinewidth": 0,
             "ticks": ""
            },
            "type": "contourcarpet"
           }
          ],
          "heatmap": [
           {
            "colorbar": {
             "outlinewidth": 0,
             "ticks": ""
            },
            "colorscale": [
             [
              0,
              "#0d0887"
             ],
             [
              0.1111111111111111,
              "#46039f"
             ],
             [
              0.2222222222222222,
              "#7201a8"
             ],
             [
              0.3333333333333333,
              "#9c179e"
             ],
             [
              0.4444444444444444,
              "#bd3786"
             ],
             [
              0.5555555555555556,
              "#d8576b"
             ],
             [
              0.6666666666666666,
              "#ed7953"
             ],
             [
              0.7777777777777778,
              "#fb9f3a"
             ],
             [
              0.8888888888888888,
              "#fdca26"
             ],
             [
              1,
              "#f0f921"
             ]
            ],
            "type": "heatmap"
           }
          ],
          "heatmapgl": [
           {
            "colorbar": {
             "outlinewidth": 0,
             "ticks": ""
            },
            "colorscale": [
             [
              0,
              "#0d0887"
             ],
             [
              0.1111111111111111,
              "#46039f"
             ],
             [
              0.2222222222222222,
              "#7201a8"
             ],
             [
              0.3333333333333333,
              "#9c179e"
             ],
             [
              0.4444444444444444,
              "#bd3786"
             ],
             [
              0.5555555555555556,
              "#d8576b"
             ],
             [
              0.6666666666666666,
              "#ed7953"
             ],
             [
              0.7777777777777778,
              "#fb9f3a"
             ],
             [
              0.8888888888888888,
              "#fdca26"
             ],
             [
              1,
              "#f0f921"
             ]
            ],
            "type": "heatmapgl"
           }
          ],
          "histogram": [
           {
            "marker": {
             "colorbar": {
              "outlinewidth": 0,
              "ticks": ""
             }
            },
            "type": "histogram"
           }
          ],
          "histogram2d": [
           {
            "colorbar": {
             "outlinewidth": 0,
             "ticks": ""
            },
            "colorscale": [
             [
              0,
              "#0d0887"
             ],
             [
              0.1111111111111111,
              "#46039f"
             ],
             [
              0.2222222222222222,
              "#7201a8"
             ],
             [
              0.3333333333333333,
              "#9c179e"
             ],
             [
              0.4444444444444444,
              "#bd3786"
             ],
             [
              0.5555555555555556,
              "#d8576b"
             ],
             [
              0.6666666666666666,
              "#ed7953"
             ],
             [
              0.7777777777777778,
              "#fb9f3a"
             ],
             [
              0.8888888888888888,
              "#fdca26"
             ],
             [
              1,
              "#f0f921"
             ]
            ],
            "type": "histogram2d"
           }
          ],
          "histogram2dcontour": [
           {
            "colorbar": {
             "outlinewidth": 0,
             "ticks": ""
            },
            "colorscale": [
             [
              0,
              "#0d0887"
             ],
             [
              0.1111111111111111,
              "#46039f"
             ],
             [
              0.2222222222222222,
              "#7201a8"
             ],
             [
              0.3333333333333333,
              "#9c179e"
             ],
             [
              0.4444444444444444,
              "#bd3786"
             ],
             [
              0.5555555555555556,
              "#d8576b"
             ],
             [
              0.6666666666666666,
              "#ed7953"
             ],
             [
              0.7777777777777778,
              "#fb9f3a"
             ],
             [
              0.8888888888888888,
              "#fdca26"
             ],
             [
              1,
              "#f0f921"
             ]
            ],
            "type": "histogram2dcontour"
           }
          ],
          "mesh3d": [
           {
            "colorbar": {
             "outlinewidth": 0,
             "ticks": ""
            },
            "type": "mesh3d"
           }
          ],
          "parcoords": [
           {
            "line": {
             "colorbar": {
              "outlinewidth": 0,
              "ticks": ""
             }
            },
            "type": "parcoords"
           }
          ],
          "pie": [
           {
            "automargin": true,
            "type": "pie"
           }
          ],
          "scatter": [
           {
            "marker": {
             "colorbar": {
              "outlinewidth": 0,
              "ticks": ""
             }
            },
            "type": "scatter"
           }
          ],
          "scatter3d": [
           {
            "line": {
             "colorbar": {
              "outlinewidth": 0,
              "ticks": ""
             }
            },
            "marker": {
             "colorbar": {
              "outlinewidth": 0,
              "ticks": ""
             }
            },
            "type": "scatter3d"
           }
          ],
          "scattercarpet": [
           {
            "marker": {
             "colorbar": {
              "outlinewidth": 0,
              "ticks": ""
             }
            },
            "type": "scattercarpet"
           }
          ],
          "scattergeo": [
           {
            "marker": {
             "colorbar": {
              "outlinewidth": 0,
              "ticks": ""
             }
            },
            "type": "scattergeo"
           }
          ],
          "scattergl": [
           {
            "marker": {
             "colorbar": {
              "outlinewidth": 0,
              "ticks": ""
             }
            },
            "type": "scattergl"
           }
          ],
          "scattermapbox": [
           {
            "marker": {
             "colorbar": {
              "outlinewidth": 0,
              "ticks": ""
             }
            },
            "type": "scattermapbox"
           }
          ],
          "scatterpolar": [
           {
            "marker": {
             "colorbar": {
              "outlinewidth": 0,
              "ticks": ""
             }
            },
            "type": "scatterpolar"
           }
          ],
          "scatterpolargl": [
           {
            "marker": {
             "colorbar": {
              "outlinewidth": 0,
              "ticks": ""
             }
            },
            "type": "scatterpolargl"
           }
          ],
          "scatterternary": [
           {
            "marker": {
             "colorbar": {
              "outlinewidth": 0,
              "ticks": ""
             }
            },
            "type": "scatterternary"
           }
          ],
          "surface": [
           {
            "colorbar": {
             "outlinewidth": 0,
             "ticks": ""
            },
            "colorscale": [
             [
              0,
              "#0d0887"
             ],
             [
              0.1111111111111111,
              "#46039f"
             ],
             [
              0.2222222222222222,
              "#7201a8"
             ],
             [
              0.3333333333333333,
              "#9c179e"
             ],
             [
              0.4444444444444444,
              "#bd3786"
             ],
             [
              0.5555555555555556,
              "#d8576b"
             ],
             [
              0.6666666666666666,
              "#ed7953"
             ],
             [
              0.7777777777777778,
              "#fb9f3a"
             ],
             [
              0.8888888888888888,
              "#fdca26"
             ],
             [
              1,
              "#f0f921"
             ]
            ],
            "type": "surface"
           }
          ],
          "table": [
           {
            "cells": {
             "fill": {
              "color": "#EBF0F8"
             },
             "line": {
              "color": "white"
             }
            },
            "header": {
             "fill": {
              "color": "#C8D4E3"
             },
             "line": {
              "color": "white"
             }
            },
            "type": "table"
           }
          ]
         },
         "layout": {
          "annotationdefaults": {
           "arrowcolor": "#2a3f5f",
           "arrowhead": 0,
           "arrowwidth": 1
          },
          "coloraxis": {
           "colorbar": {
            "outlinewidth": 0,
            "ticks": ""
           }
          },
          "colorscale": {
           "diverging": [
            [
             0,
             "#8e0152"
            ],
            [
             0.1,
             "#c51b7d"
            ],
            [
             0.2,
             "#de77ae"
            ],
            [
             0.3,
             "#f1b6da"
            ],
            [
             0.4,
             "#fde0ef"
            ],
            [
             0.5,
             "#f7f7f7"
            ],
            [
             0.6,
             "#e6f5d0"
            ],
            [
             0.7,
             "#b8e186"
            ],
            [
             0.8,
             "#7fbc41"
            ],
            [
             0.9,
             "#4d9221"
            ],
            [
             1,
             "#276419"
            ]
           ],
           "sequential": [
            [
             0,
             "#0d0887"
            ],
            [
             0.1111111111111111,
             "#46039f"
            ],
            [
             0.2222222222222222,
             "#7201a8"
            ],
            [
             0.3333333333333333,
             "#9c179e"
            ],
            [
             0.4444444444444444,
             "#bd3786"
            ],
            [
             0.5555555555555556,
             "#d8576b"
            ],
            [
             0.6666666666666666,
             "#ed7953"
            ],
            [
             0.7777777777777778,
             "#fb9f3a"
            ],
            [
             0.8888888888888888,
             "#fdca26"
            ],
            [
             1,
             "#f0f921"
            ]
           ],
           "sequentialminus": [
            [
             0,
             "#0d0887"
            ],
            [
             0.1111111111111111,
             "#46039f"
            ],
            [
             0.2222222222222222,
             "#7201a8"
            ],
            [
             0.3333333333333333,
             "#9c179e"
            ],
            [
             0.4444444444444444,
             "#bd3786"
            ],
            [
             0.5555555555555556,
             "#d8576b"
            ],
            [
             0.6666666666666666,
             "#ed7953"
            ],
            [
             0.7777777777777778,
             "#fb9f3a"
            ],
            [
             0.8888888888888888,
             "#fdca26"
            ],
            [
             1,
             "#f0f921"
            ]
           ]
          },
          "colorway": [
           "#636efa",
           "#EF553B",
           "#00cc96",
           "#ab63fa",
           "#FFA15A",
           "#19d3f3",
           "#FF6692",
           "#B6E880",
           "#FF97FF",
           "#FECB52"
          ],
          "font": {
           "color": "#2a3f5f"
          },
          "geo": {
           "bgcolor": "white",
           "lakecolor": "white",
           "landcolor": "#E5ECF6",
           "showlakes": true,
           "showland": true,
           "subunitcolor": "white"
          },
          "hoverlabel": {
           "align": "left"
          },
          "hovermode": "closest",
          "mapbox": {
           "style": "light"
          },
          "paper_bgcolor": "white",
          "plot_bgcolor": "#E5ECF6",
          "polar": {
           "angularaxis": {
            "gridcolor": "white",
            "linecolor": "white",
            "ticks": ""
           },
           "bgcolor": "#E5ECF6",
           "radialaxis": {
            "gridcolor": "white",
            "linecolor": "white",
            "ticks": ""
           }
          },
          "scene": {
           "xaxis": {
            "backgroundcolor": "#E5ECF6",
            "gridcolor": "white",
            "gridwidth": 2,
            "linecolor": "white",
            "showbackground": true,
            "ticks": "",
            "zerolinecolor": "white"
           },
           "yaxis": {
            "backgroundcolor": "#E5ECF6",
            "gridcolor": "white",
            "gridwidth": 2,
            "linecolor": "white",
            "showbackground": true,
            "ticks": "",
            "zerolinecolor": "white"
           },
           "zaxis": {
            "backgroundcolor": "#E5ECF6",
            "gridcolor": "white",
            "gridwidth": 2,
            "linecolor": "white",
            "showbackground": true,
            "ticks": "",
            "zerolinecolor": "white"
           }
          },
          "shapedefaults": {
           "line": {
            "color": "#2a3f5f"
           }
          },
          "ternary": {
           "aaxis": {
            "gridcolor": "white",
            "linecolor": "white",
            "ticks": ""
           },
           "baxis": {
            "gridcolor": "white",
            "linecolor": "white",
            "ticks": ""
           },
           "bgcolor": "#E5ECF6",
           "caxis": {
            "gridcolor": "white",
            "linecolor": "white",
            "ticks": ""
           }
          },
          "title": {
           "x": 0.05
          },
          "xaxis": {
           "automargin": true,
           "gridcolor": "white",
           "linecolor": "white",
           "ticks": "",
           "title": {
            "standoff": 15
           },
           "zerolinecolor": "white",
           "zerolinewidth": 2
          },
          "yaxis": {
           "automargin": true,
           "gridcolor": "white",
           "linecolor": "white",
           "ticks": "",
           "title": {
            "standoff": 15
           },
           "zerolinecolor": "white",
           "zerolinewidth": 2
          }
         }
        },
        "width": 800,
        "xaxis": {
         "showgrid": false,
         "showticklabels": false,
         "zeroline": false
        },
        "yaxis": {
         "showgrid": false,
         "showticklabels": false,
         "zeroline": false
        }
       }
      },
      "text/html": [
       "<div>                            <div id=\"f3139d8c-a022-4cee-bb33-34ac21f8acd2\" class=\"plotly-graph-div\" style=\"height:450px; width:800px;\"></div>            <script type=\"text/javascript\">                require([\"plotly\"], function(Plotly) {                    window.PLOTLYENV=window.PLOTLYENV || {};                                    if (document.getElementById(\"f3139d8c-a022-4cee-bb33-34ac21f8acd2\")) {                    Plotly.newPlot(                        \"f3139d8c-a022-4cee-bb33-34ac21f8acd2\",                        [{\"hoverinfo\": \"none\", \"line\": {\"color\": \"rgb(127, 127, 127)\", \"dash\": \"solid\", \"width\": 0}, \"mode\": \"lines\", \"type\": \"scatter\", \"x\": [0.546269814995793, 0.546269814995793, null, 0, 1, null], \"y\": [0, 1, null, 0.36101132830364424, 0.36101132830364424, null]}, {\"hoverinfo\": \"none\", \"line\": {\"color\": \"rgb(0, 0, 0)\", \"dash\": \"solid\", \"width\": 1}, \"mode\": \"lines\", \"type\": \"scatter\", \"x\": [0.37265872599259936, 0.6788024470103502, null, 0.37265872599259936, 0.3303791934704298, null, 0.37265872599259936, 0.5566252710960476, null, 0.37265872599259936, 0.0, null, 0.37265872599259936, 1.0, null, 0.37265872599259936, 0.3928613909299098, null, 0.6788024470103502, 0.3303791934704298, null, 0.6788024470103502, 0.5566252710960476, null, 0.6788024470103502, 0.0, null, 0.6788024470103502, 0.3928613909299098, null, 0.40028254289827303, 0.020926583418838532, null, 0.40028254289827303, 0.18199391475503096, null, 0.40028254289827303, 0.2227547743213947, null, 0.40028254289827303, 0.01941314893122773, null, 0.40028254289827303, 0.7423350673644973, null, 0.40028254289827303, 0.8314847669515028, null, 0.40028254289827303, 0.5027559071184092, null, 0.40028254289827303, 0.5350401803659522, null, 0.40028254289827303, 1.0, null, 0.020926583418838532, 0.18199391475503096, null, 0.020926583418838532, 0.2227547743213947, null, 0.020926583418838532, 0.01941314893122773, null, 0.020926583418838532, 0.7423350673644973, null, 0.020926583418838532, 0.8314847669515028, null, 0.020926583418838532, 0.5027559071184092, null, 0.020926583418838532, 0.5350401803659522, null, 0.020926583418838532, 1.0, null, 0.3303791934704298, 0.5566252710960476, null, 0.3303791934704298, 0.0, null, 0.3303791934704298, 1.0, null, 0.3303791934704298, 0.7811867997474524, null, 0.3303791934704298, 0.3928613909299098, null, 0.5566252710960476, 0.0, null, 0.5566252710960476, 0.3928613909299098, null, 0.18199391475503096, 0.2227547743213947, null, 0.18199391475503096, 0.01941314893122773, null, 0.18199391475503096, 0.7423350673644973, null, 0.18199391475503096, 0.8314847669515028, null, 0.18199391475503096, 0.5027559071184092, null, 0.18199391475503096, 0.5350401803659522, null, 0.18199391475503096, 1.0, null, 0.0, 0.3928613909299098, null, 0.2227547743213947, 0.01941314893122773, null, 0.2227547743213947, 0.7423350673644973, null, 0.2227547743213947, 0.8314847669515028, null, 0.2227547743213947, 0.5027559071184092, null, 0.2227547743213947, 0.5350401803659522, null, 0.2227547743213947, 1.0, null, 0.01941314893122773, 0.7423350673644973, null, 0.01941314893122773, 0.8314847669515028, null, 0.01941314893122773, 0.5027559071184092, null, 0.01941314893122773, 0.5350401803659522, null, 0.01941314893122773, 1.0, null, 0.7423350673644973, 0.8314847669515028, null, 0.7423350673644973, 0.5027559071184092, null, 0.7423350673644973, 0.5350401803659522, null, 0.7423350673644973, 1.0, null, 0.8314847669515028, 0.5027559071184092, null, 0.8314847669515028, 0.5350401803659522, null, 0.8314847669515028, 1.0, null, 0.5027559071184092, 0.5350401803659522, null, 0.5027559071184092, 1.0, null, 0.5350401803659522, 1.0, null], \"y\": [0.543997709607628, 0.21226127496885275, null, 0.543997709607628, 0.4302887479932822, null, 0.543997709607628, 0.7191987235630543, null, 0.543997709607628, 0.9309618722640631, null, 0.543997709607628, 0.7284729698400034, null, 0.543997709607628, 0.8585432350503199, null, 0.21226127496885275, 0.4302887479932822, null, 0.21226127496885275, 0.7191987235630543, null, 0.21226127496885275, 0.9309618722640631, null, 0.21226127496885275, 0.8585432350503199, null, 0.5868020101556358, 0.9338020869841407, null, 0.5868020101556358, 0.7206005659400839, null, 0.5868020101556358, 0.4598711996658542, null, 0.5868020101556358, 1.0, null, 0.5868020101556358, 0.4861553034441465, null, 0.5868020101556358, 0.9584792021525821, null, 0.5868020101556358, 0.42862017750132936, null, 0.5868020101556358, 0.5919677742994793, null, 0.5868020101556358, 0.7284729698400034, null, 0.9338020869841407, 0.7206005659400839, null, 0.9338020869841407, 0.4598711996658542, null, 0.9338020869841407, 1.0, null, 0.9338020869841407, 0.4861553034441465, null, 0.9338020869841407, 0.9584792021525821, null, 0.9338020869841407, 0.42862017750132936, null, 0.9338020869841407, 0.5919677742994793, null, 0.9338020869841407, 0.7284729698400034, null, 0.4302887479932822, 0.7191987235630543, null, 0.4302887479932822, 0.9309618722640631, null, 0.4302887479932822, 0.7284729698400034, null, 0.4302887479932822, 0.23425634651225014, null, 0.4302887479932822, 0.8585432350503199, null, 0.7191987235630543, 0.9309618722640631, null, 0.7191987235630543, 0.8585432350503199, null, 0.7206005659400839, 0.4598711996658542, null, 0.7206005659400839, 1.0, null, 0.7206005659400839, 0.4861553034441465, null, 0.7206005659400839, 0.9584792021525821, null, 0.7206005659400839, 0.42862017750132936, null, 0.7206005659400839, 0.5919677742994793, null, 0.7206005659400839, 0.7284729698400034, null, 0.9309618722640631, 0.8585432350503199, null, 0.4598711996658542, 1.0, null, 0.4598711996658542, 0.4861553034441465, null, 0.4598711996658542, 0.9584792021525821, null, 0.4598711996658542, 0.42862017750132936, null, 0.4598711996658542, 0.5919677742994793, null, 0.4598711996658542, 0.7284729698400034, null, 1.0, 0.4861553034441465, null, 1.0, 0.9584792021525821, null, 1.0, 0.42862017750132936, null, 1.0, 0.5919677742994793, null, 1.0, 0.7284729698400034, null, 0.4861553034441465, 0.9584792021525821, null, 0.4861553034441465, 0.42862017750132936, null, 0.4861553034441465, 0.5919677742994793, null, 0.4861553034441465, 0.7284729698400034, null, 0.9584792021525821, 0.42862017750132936, null, 0.9584792021525821, 0.5919677742994793, null, 0.9584792021525821, 0.7284729698400034, null, 0.42862017750132936, 0.5919677742994793, null, 0.42862017750132936, 0.7284729698400034, null, 0.5919677742994793, 0.7284729698400034, null]}, {\"hoverinfo\": \"text\", \"marker\": {\"color\": \"rgb(255, 255, 255)\", \"line\": {\"color\": \"rgb(0, 0, 0)\", \"width\": 1}, \"size\": 10, \"symbol\": \"circle\"}, \"mode\": \"markers\", \"text\": [\"fake-colours\", \"dimmdrive-gaming-ramdrive-10000-mbs\", \"my-talking-angela\", \"wrc-the-official-game\", \"i-wanna-be-the-co-op\", \"perfect-glowing-bodies\", \"funeral\", \"tanktrouble-mobile-mayhem\", \"mlg-bouncing-simulator-2015\", \"extreme-motor-bike-ride-simulator-3d-steer-the-mot\", \"ice-age-avalanche\", \"best-casino-social-slots-fun\", \"brutal-donut\", \"pengu-the-flying-penguin-unforgettable-chilly-adve\", \"fruits-pair-festival-january\", \"lunar-lander-relaunched\", \"no-idea-for-name\", \"armageddon-itch-4xisblack\", \"jashanoid\", \"death-duel-itch\"], \"textfont\": {\"color\": \"rgb(0, 0, 0)\"}, \"textposition\": \"middle center\", \"type\": \"scatter\", \"x\": [0.37265872599259936, 0.6788024470103502, 0.40028254289827303, 0.020926583418838532, 0.3303791934704298, 0.5566252710960476, 0.49381121264289674, 0.18199391475503096, 0.0, 0.2227547743213947, 0.01941314893122773, 0.7423350673644973, 0.8314847669515028, 0.5027559071184092, 0.5350401803659522, 1.0, 0.7474465939312464, 0.7811867997474524, 0.3928613909299098, 0.47089817316227794], \"y\": [0.543997709607628, 0.21226127496885275, 0.5868020101556358, 0.9338020869841407, 0.4302887479932822, 0.7191987235630543, 0.0, 0.7206005659400839, 0.9309618722640631, 0.4598711996658542, 1.0, 0.4861553034441465, 0.9584792021525821, 0.42862017750132936, 0.5919677742994793, 0.7284729698400034, 0.09277900368381141, 0.23425634651225014, 0.8585432350503199, 0.6391502326061227]}, {\"hoverinfo\": \"none\", \"mode\": \"text\", \"text\": [], \"textfont\": {\"color\": \"rgb(255, 255, 255)\"}, \"textposition\": \"middle center\", \"type\": \"scatter\", \"x\": [], \"y\": []}, {\"hoverinfo\": \"none\", \"mode\": \"text\", \"text\": [null, null, null, null, null, null, null, null, null, null, null, null, null, null, null, null, null, null, null, null], \"textfont\": {\"color\": \"rgb(0, 0, 0)\"}, \"textposition\": \"middle center\", \"type\": \"scatter\", \"x\": [0.37265872599259936, 0.6788024470103502, 0.40028254289827303, 0.020926583418838532, 0.3303791934704298, 0.5566252710960476, 0.49381121264289674, 0.18199391475503096, 0.0, 0.2227547743213947, 0.01941314893122773, 0.7423350673644973, 0.8314847669515028, 0.5027559071184092, 0.5350401803659522, 1.0, 0.7474465939312464, 0.7811867997474524, 0.3928613909299098, 0.47089817316227794], \"y\": [0.543997709607628, 0.21226127496885275, 0.5868020101556358, 0.9338020869841407, 0.4302887479932822, 0.7191987235630543, 0.0, 0.7206005659400839, 0.9309618722640631, 0.4598711996658542, 1.0, 0.4861553034441465, 0.9584792021525821, 0.42862017750132936, 0.5919677742994793, 0.7284729698400034, 0.09277900368381141, 0.23425634651225014, 0.8585432350503199, 0.6391502326061227]}, {\"hoverinfo\": \"none\", \"mode\": \"text\", \"text\": [null, null, null, null, null, null, null, null, null, null, null, null, null, null, null, null, null, null, null, null, null, null, null, null, null, null, null, null, null, null, null, null, null, null, null, null, null, null, null, null, null, null, null, null, null, null, null, null, null, null, null, null, null, null, null, null, null, null, null, null, null, null, null], \"textfont\": {\"color\": \"rgb(0, 0, 0)\"}, \"textposition\": \"middle center\", \"type\": \"scatter\", \"x\": [0.5330606682356623, 0.3634043164984557, 0.45800002336418105, 0.17922920562338332, 0.684045943402708, 0.3684901290610047, 0.49993476364703954, 0.6045640944610141, 0.33219645102600115, 0.5246575791417337, 0.20417164055934117, 0.286567761200804, 0.316755346018687, 0.2025113421279683, 0.5735936216774828, 0.6097525000449832, 0.4607926806258751, 0.46735992773898954, 0.6982986359404282, 0.10989064356267798, 0.13318100579633643, 0.005814564201675873, 0.38625196200463774, 0.425966257412836, 0.2689933047150231, 0.28289752867830514, 0.5121019883379363, 0.43527048091566517, 0.15601607398667258, 0.6617868639565593, 0.5591101646291415, 0.3477371182043759, 0.27538326414873954, 0.46867679875081475, 0.2161898100872411, 0.0908587304007877, 0.46537218638252903, 0.5039149093396167, 0.34878284682025446, 0.36132736713753416, 0.590921265147038, 0.19787320130101504, 0.10924550851517689, 0.4821471979929162, 0.5212413482137408, 0.36363153793078024, 0.3756562853476001, 0.6087067066245355, 0.3860840725146496, 0.42585094105669274, 0.2688903901986768, 0.2829377810194716, 0.5118598551962131, 0.7733268464774778, 0.6244181940920878, 0.6348210198750144, 0.8645911632384141, 0.676626344588748, 0.6913155766092103, 0.9243421709613938, 0.5053840571863718, 0.7468740924286308, 0.7652402580216604], \"y\": [0.4007035446941078, 0.4723958025282664, 0.6548720549237144, 0.7146618184871215, 0.6621484761263803, 0.7043290217468199, 0.2964446701944876, 0.4551539804784914, 0.5489032961551817, 0.5189037388672014, 0.7368330697016987, 0.6288179379056156, 0.4988952982813141, 0.7708339157115514, 0.5623913822872798, 0.7963776097562435, 0.5277587920941331, 0.6156258344794137, 0.6836674690676251, 0.8484549796136392, 0.7129527790565302, 0.9658058264604127, 0.7348307963649976, 0.9723837194930037, 0.7039749489771419, 0.7875487362256574, 0.8572129781194037, 0.5962556616902113, 0.6604247654692377, 0.6048808866506403, 0.35780582889980644, 0.651175446309619, 0.7993848910515348, 0.7650786319421157, 0.5974434290361913, 0.8411833097364028, 0.6289621850711618, 0.8652744693933112, 0.5981021506843862, 0.6820239105919197, 0.7507831228256724, 0.9208666564184896, 0.7150628099668737, 0.49924991280351616, 0.7331246084816894, 0.47044355695424006, 0.5514896453847541, 0.6199613911353901, 0.7675380089184913, 1.0054760456548297, 0.7363454270733972, 0.8200680053518313, 0.8901867726593151, 0.7308727736061589, 0.43136492409231403, 0.5137831170287254, 0.6306500624442966, 0.673868824903223, 0.7534870799671146, 0.8645020447692192, 0.5192071066095972, 0.6034704193840011, 0.686134562538437]}, {\"hoverinfo\": \"none\", \"marker\": {\"color\": \"rgba(255, 255, 255, 0)\", \"line\": {\"color\": \"rgba(255, 255, 255, 0)\", \"width\": 0}, \"size\": 0, \"symbol\": \"circle\"}, \"mode\": \"markers\", \"type\": \"scatter\", \"x\": [0.5, 0.0, 1.0, 0.5], \"y\": [0.0, 0.5, 0.5, 1.0]}],                        {\"height\": 450, \"hovermode\": \"closest\", \"margin\": {\"b\": 10, \"l\": 10, \"r\": 10, \"t\": 10}, \"plot_bgcolor\": \"rgb(255, 255, 255)\", \"showlegend\": false, \"template\": {\"data\": {\"bar\": [{\"error_x\": {\"color\": \"#2a3f5f\"}, \"error_y\": {\"color\": \"#2a3f5f\"}, \"marker\": {\"line\": {\"color\": \"#E5ECF6\", \"width\": 0.5}}, \"type\": \"bar\"}], \"barpolar\": [{\"marker\": {\"line\": {\"color\": \"#E5ECF6\", \"width\": 0.5}}, \"type\": \"barpolar\"}], \"carpet\": [{\"aaxis\": {\"endlinecolor\": \"#2a3f5f\", \"gridcolor\": \"white\", \"linecolor\": \"white\", \"minorgridcolor\": \"white\", \"startlinecolor\": \"#2a3f5f\"}, \"baxis\": {\"endlinecolor\": \"#2a3f5f\", \"gridcolor\": \"white\", \"linecolor\": \"white\", \"minorgridcolor\": \"white\", \"startlinecolor\": \"#2a3f5f\"}, \"type\": \"carpet\"}], \"choropleth\": [{\"colorbar\": {\"outlinewidth\": 0, \"ticks\": \"\"}, \"type\": \"choropleth\"}], \"contour\": [{\"colorbar\": {\"outlinewidth\": 0, \"ticks\": \"\"}, \"colorscale\": [[0.0, \"#0d0887\"], [0.1111111111111111, \"#46039f\"], [0.2222222222222222, \"#7201a8\"], [0.3333333333333333, \"#9c179e\"], [0.4444444444444444, \"#bd3786\"], [0.5555555555555556, \"#d8576b\"], [0.6666666666666666, \"#ed7953\"], [0.7777777777777778, \"#fb9f3a\"], [0.8888888888888888, \"#fdca26\"], [1.0, \"#f0f921\"]], \"type\": \"contour\"}], \"contourcarpet\": [{\"colorbar\": {\"outlinewidth\": 0, \"ticks\": \"\"}, \"type\": \"contourcarpet\"}], \"heatmap\": [{\"colorbar\": {\"outlinewidth\": 0, \"ticks\": \"\"}, \"colorscale\": [[0.0, \"#0d0887\"], [0.1111111111111111, \"#46039f\"], [0.2222222222222222, \"#7201a8\"], [0.3333333333333333, \"#9c179e\"], [0.4444444444444444, \"#bd3786\"], [0.5555555555555556, \"#d8576b\"], [0.6666666666666666, \"#ed7953\"], [0.7777777777777778, \"#fb9f3a\"], [0.8888888888888888, \"#fdca26\"], [1.0, \"#f0f921\"]], \"type\": \"heatmap\"}], \"heatmapgl\": [{\"colorbar\": {\"outlinewidth\": 0, \"ticks\": \"\"}, \"colorscale\": [[0.0, \"#0d0887\"], [0.1111111111111111, \"#46039f\"], [0.2222222222222222, \"#7201a8\"], [0.3333333333333333, \"#9c179e\"], [0.4444444444444444, \"#bd3786\"], [0.5555555555555556, \"#d8576b\"], [0.6666666666666666, \"#ed7953\"], [0.7777777777777778, \"#fb9f3a\"], [0.8888888888888888, \"#fdca26\"], [1.0, \"#f0f921\"]], \"type\": \"heatmapgl\"}], \"histogram\": [{\"marker\": {\"colorbar\": {\"outlinewidth\": 0, \"ticks\": \"\"}}, \"type\": \"histogram\"}], \"histogram2d\": [{\"colorbar\": {\"outlinewidth\": 0, \"ticks\": \"\"}, \"colorscale\": [[0.0, \"#0d0887\"], [0.1111111111111111, \"#46039f\"], [0.2222222222222222, \"#7201a8\"], [0.3333333333333333, \"#9c179e\"], [0.4444444444444444, \"#bd3786\"], [0.5555555555555556, \"#d8576b\"], [0.6666666666666666, \"#ed7953\"], [0.7777777777777778, \"#fb9f3a\"], [0.8888888888888888, \"#fdca26\"], [1.0, \"#f0f921\"]], \"type\": \"histogram2d\"}], \"histogram2dcontour\": [{\"colorbar\": {\"outlinewidth\": 0, \"ticks\": \"\"}, \"colorscale\": [[0.0, \"#0d0887\"], [0.1111111111111111, \"#46039f\"], [0.2222222222222222, \"#7201a8\"], [0.3333333333333333, \"#9c179e\"], [0.4444444444444444, \"#bd3786\"], [0.5555555555555556, \"#d8576b\"], [0.6666666666666666, \"#ed7953\"], [0.7777777777777778, \"#fb9f3a\"], [0.8888888888888888, \"#fdca26\"], [1.0, \"#f0f921\"]], \"type\": \"histogram2dcontour\"}], \"mesh3d\": [{\"colorbar\": {\"outlinewidth\": 0, \"ticks\": \"\"}, \"type\": \"mesh3d\"}], \"parcoords\": [{\"line\": {\"colorbar\": {\"outlinewidth\": 0, \"ticks\": \"\"}}, \"type\": \"parcoords\"}], \"pie\": [{\"automargin\": true, \"type\": \"pie\"}], \"scatter\": [{\"marker\": {\"colorbar\": {\"outlinewidth\": 0, \"ticks\": \"\"}}, \"type\": \"scatter\"}], \"scatter3d\": [{\"line\": {\"colorbar\": {\"outlinewidth\": 0, \"ticks\": \"\"}}, \"marker\": {\"colorbar\": {\"outlinewidth\": 0, \"ticks\": \"\"}}, \"type\": \"scatter3d\"}], \"scattercarpet\": [{\"marker\": {\"colorbar\": {\"outlinewidth\": 0, \"ticks\": \"\"}}, \"type\": \"scattercarpet\"}], \"scattergeo\": [{\"marker\": {\"colorbar\": {\"outlinewidth\": 0, \"ticks\": \"\"}}, \"type\": \"scattergeo\"}], \"scattergl\": [{\"marker\": {\"colorbar\": {\"outlinewidth\": 0, \"ticks\": \"\"}}, \"type\": \"scattergl\"}], \"scattermapbox\": [{\"marker\": {\"colorbar\": {\"outlinewidth\": 0, \"ticks\": \"\"}}, \"type\": \"scattermapbox\"}], \"scatterpolar\": [{\"marker\": {\"colorbar\": {\"outlinewidth\": 0, \"ticks\": \"\"}}, \"type\": \"scatterpolar\"}], \"scatterpolargl\": [{\"marker\": {\"colorbar\": {\"outlinewidth\": 0, \"ticks\": \"\"}}, \"type\": \"scatterpolargl\"}], \"scatterternary\": [{\"marker\": {\"colorbar\": {\"outlinewidth\": 0, \"ticks\": \"\"}}, \"type\": \"scatterternary\"}], \"surface\": [{\"colorbar\": {\"outlinewidth\": 0, \"ticks\": \"\"}, \"colorscale\": [[0.0, \"#0d0887\"], [0.1111111111111111, \"#46039f\"], [0.2222222222222222, \"#7201a8\"], [0.3333333333333333, \"#9c179e\"], [0.4444444444444444, \"#bd3786\"], [0.5555555555555556, \"#d8576b\"], [0.6666666666666666, \"#ed7953\"], [0.7777777777777778, \"#fb9f3a\"], [0.8888888888888888, \"#fdca26\"], [1.0, \"#f0f921\"]], \"type\": \"surface\"}], \"table\": [{\"cells\": {\"fill\": {\"color\": \"#EBF0F8\"}, \"line\": {\"color\": \"white\"}}, \"header\": {\"fill\": {\"color\": \"#C8D4E3\"}, \"line\": {\"color\": \"white\"}}, \"type\": \"table\"}]}, \"layout\": {\"annotationdefaults\": {\"arrowcolor\": \"#2a3f5f\", \"arrowhead\": 0, \"arrowwidth\": 1}, \"coloraxis\": {\"colorbar\": {\"outlinewidth\": 0, \"ticks\": \"\"}}, \"colorscale\": {\"diverging\": [[0, \"#8e0152\"], [0.1, \"#c51b7d\"], [0.2, \"#de77ae\"], [0.3, \"#f1b6da\"], [0.4, \"#fde0ef\"], [0.5, \"#f7f7f7\"], [0.6, \"#e6f5d0\"], [0.7, \"#b8e186\"], [0.8, \"#7fbc41\"], [0.9, \"#4d9221\"], [1, \"#276419\"]], \"sequential\": [[0.0, \"#0d0887\"], [0.1111111111111111, \"#46039f\"], [0.2222222222222222, \"#7201a8\"], [0.3333333333333333, \"#9c179e\"], [0.4444444444444444, \"#bd3786\"], [0.5555555555555556, \"#d8576b\"], [0.6666666666666666, \"#ed7953\"], [0.7777777777777778, \"#fb9f3a\"], [0.8888888888888888, \"#fdca26\"], [1.0, \"#f0f921\"]], \"sequentialminus\": [[0.0, \"#0d0887\"], [0.1111111111111111, \"#46039f\"], [0.2222222222222222, \"#7201a8\"], [0.3333333333333333, \"#9c179e\"], [0.4444444444444444, \"#bd3786\"], [0.5555555555555556, \"#d8576b\"], [0.6666666666666666, \"#ed7953\"], [0.7777777777777778, \"#fb9f3a\"], [0.8888888888888888, \"#fdca26\"], [1.0, \"#f0f921\"]]}, \"colorway\": [\"#636efa\", \"#EF553B\", \"#00cc96\", \"#ab63fa\", \"#FFA15A\", \"#19d3f3\", \"#FF6692\", \"#B6E880\", \"#FF97FF\", \"#FECB52\"], \"font\": {\"color\": \"#2a3f5f\"}, \"geo\": {\"bgcolor\": \"white\", \"lakecolor\": \"white\", \"landcolor\": \"#E5ECF6\", \"showlakes\": true, \"showland\": true, \"subunitcolor\": \"white\"}, \"hoverlabel\": {\"align\": \"left\"}, \"hovermode\": \"closest\", \"mapbox\": {\"style\": \"light\"}, \"paper_bgcolor\": \"white\", \"plot_bgcolor\": \"#E5ECF6\", \"polar\": {\"angularaxis\": {\"gridcolor\": \"white\", \"linecolor\": \"white\", \"ticks\": \"\"}, \"bgcolor\": \"#E5ECF6\", \"radialaxis\": {\"gridcolor\": \"white\", \"linecolor\": \"white\", \"ticks\": \"\"}}, \"scene\": {\"xaxis\": {\"backgroundcolor\": \"#E5ECF6\", \"gridcolor\": \"white\", \"gridwidth\": 2, \"linecolor\": \"white\", \"showbackground\": true, \"ticks\": \"\", \"zerolinecolor\": \"white\"}, \"yaxis\": {\"backgroundcolor\": \"#E5ECF6\", \"gridcolor\": \"white\", \"gridwidth\": 2, \"linecolor\": \"white\", \"showbackground\": true, \"ticks\": \"\", \"zerolinecolor\": \"white\"}, \"zaxis\": {\"backgroundcolor\": \"#E5ECF6\", \"gridcolor\": \"white\", \"gridwidth\": 2, \"linecolor\": \"white\", \"showbackground\": true, \"ticks\": \"\", \"zerolinecolor\": \"white\"}}, \"shapedefaults\": {\"line\": {\"color\": \"#2a3f5f\"}}, \"ternary\": {\"aaxis\": {\"gridcolor\": \"white\", \"linecolor\": \"white\", \"ticks\": \"\"}, \"baxis\": {\"gridcolor\": \"white\", \"linecolor\": \"white\", \"ticks\": \"\"}, \"bgcolor\": \"#E5ECF6\", \"caxis\": {\"gridcolor\": \"white\", \"linecolor\": \"white\", \"ticks\": \"\"}}, \"title\": {\"x\": 0.05}, \"xaxis\": {\"automargin\": true, \"gridcolor\": \"white\", \"linecolor\": \"white\", \"ticks\": \"\", \"title\": {\"standoff\": 15}, \"zerolinecolor\": \"white\", \"zerolinewidth\": 2}, \"yaxis\": {\"automargin\": true, \"gridcolor\": \"white\", \"linecolor\": \"white\", \"ticks\": \"\", \"title\": {\"standoff\": 15}, \"zerolinecolor\": \"white\", \"zerolinewidth\": 2}}}, \"width\": 800, \"xaxis\": {\"showgrid\": false, \"showticklabels\": false, \"zeroline\": false}, \"yaxis\": {\"showgrid\": false, \"showticklabels\": false, \"zeroline\": false}},                        {\"displayModeBar\": false, \"responsive\": true}                    ).then(function(){\n",
       "                            \n",
       "var gd = document.getElementById('f3139d8c-a022-4cee-bb33-34ac21f8acd2');\n",
       "var x = new MutationObserver(function (mutations, observer) {{\n",
       "        var display = window.getComputedStyle(gd).display;\n",
       "        if (!display || display === 'none') {{\n",
       "            console.log([gd, 'removed!']);\n",
       "            Plotly.purge(gd);\n",
       "            observer.disconnect();\n",
       "        }}\n",
       "}});\n",
       "\n",
       "// Listen for the removal of the full notebook cells\n",
       "var notebookContainer = gd.closest('#notebook-container');\n",
       "if (notebookContainer) {{\n",
       "    x.observe(notebookContainer, {childList: true});\n",
       "}}\n",
       "\n",
       "// Listen for the clearing of the current output cell\n",
       "var outputEl = gd.closest('.output');\n",
       "if (outputEl) {{\n",
       "    x.observe(outputEl, {childList: true});\n",
       "}}\n",
       "\n",
       "                        })                };                });            </script>        </div>"
      ]
     },
     "metadata": {},
     "output_type": "display_data"
    },
    {
     "data": {
      "application/vnd.plotly.v1+json": {
       "config": {
        "displayModeBar": false,
        "linkText": "Export to plot.ly",
        "plotlyServerURL": "https://plot.ly",
        "showLink": false
       },
       "data": [
        {
         "hoverinfo": "none",
         "line": {
          "color": "rgb(127, 127, 127)",
          "dash": "solid",
          "width": 0
         },
         "mode": "lines",
         "type": "scatter",
         "x": [
          0.546269814995793,
          0.546269814995793,
          null,
          0,
          1,
          null
         ],
         "y": [
          0,
          1,
          null,
          0.36101132830364424,
          0.36101132830364424,
          null
         ]
        },
        {
         "hoverinfo": "none",
         "line": {
          "color": "rgb(0, 0, 0)",
          "dash": "solid",
          "width": 1
         },
         "mode": "lines",
         "type": "scatter",
         "x": [
          0.37265872599259936,
          0.6788024470103502,
          null,
          0.37265872599259936,
          0.3303791934704298,
          null,
          0.37265872599259936,
          0.5566252710960476,
          null,
          0.37265872599259936,
          0,
          null,
          0.37265872599259936,
          1,
          null,
          0.37265872599259936,
          0.3928613909299098,
          null,
          0.6788024470103502,
          0.3303791934704298,
          null,
          0.6788024470103502,
          0.5566252710960476,
          null,
          0.6788024470103502,
          0,
          null,
          0.6788024470103502,
          0.3928613909299098,
          null,
          0.40028254289827303,
          0.020926583418838532,
          null,
          0.40028254289827303,
          0.18199391475503096,
          null,
          0.40028254289827303,
          0.2227547743213947,
          null,
          0.40028254289827303,
          0.01941314893122773,
          null,
          0.40028254289827303,
          0.7423350673644973,
          null,
          0.40028254289827303,
          0.8314847669515028,
          null,
          0.40028254289827303,
          0.5027559071184092,
          null,
          0.40028254289827303,
          0.5350401803659522,
          null,
          0.40028254289827303,
          1,
          null,
          0.020926583418838532,
          0.18199391475503096,
          null,
          0.020926583418838532,
          0.2227547743213947,
          null,
          0.020926583418838532,
          0.01941314893122773,
          null,
          0.020926583418838532,
          0.7423350673644973,
          null,
          0.020926583418838532,
          0.8314847669515028,
          null,
          0.020926583418838532,
          0.5027559071184092,
          null,
          0.020926583418838532,
          0.5350401803659522,
          null,
          0.020926583418838532,
          1,
          null,
          0.3303791934704298,
          0.5566252710960476,
          null,
          0.3303791934704298,
          0,
          null,
          0.3303791934704298,
          1,
          null,
          0.3303791934704298,
          0.7811867997474524,
          null,
          0.3303791934704298,
          0.3928613909299098,
          null,
          0.5566252710960476,
          0,
          null,
          0.5566252710960476,
          0.3928613909299098,
          null,
          0.18199391475503096,
          0.2227547743213947,
          null,
          0.18199391475503096,
          0.01941314893122773,
          null,
          0.18199391475503096,
          0.7423350673644973,
          null,
          0.18199391475503096,
          0.8314847669515028,
          null,
          0.18199391475503096,
          0.5027559071184092,
          null,
          0.18199391475503096,
          0.5350401803659522,
          null,
          0.18199391475503096,
          1,
          null,
          0,
          0.3928613909299098,
          null,
          0.2227547743213947,
          0.01941314893122773,
          null,
          0.2227547743213947,
          0.7423350673644973,
          null,
          0.2227547743213947,
          0.8314847669515028,
          null,
          0.2227547743213947,
          0.5027559071184092,
          null,
          0.2227547743213947,
          0.5350401803659522,
          null,
          0.2227547743213947,
          1,
          null,
          0.01941314893122773,
          0.7423350673644973,
          null,
          0.01941314893122773,
          0.8314847669515028,
          null,
          0.01941314893122773,
          0.5027559071184092,
          null,
          0.01941314893122773,
          0.5350401803659522,
          null,
          0.01941314893122773,
          1,
          null,
          0.7423350673644973,
          0.8314847669515028,
          null,
          0.7423350673644973,
          0.5027559071184092,
          null,
          0.7423350673644973,
          0.5350401803659522,
          null,
          0.7423350673644973,
          1,
          null,
          0.8314847669515028,
          0.5027559071184092,
          null,
          0.8314847669515028,
          0.5350401803659522,
          null,
          0.8314847669515028,
          1,
          null,
          0.5027559071184092,
          0.5350401803659522,
          null,
          0.5027559071184092,
          1,
          null,
          0.5350401803659522,
          1,
          null
         ],
         "y": [
          0.543997709607628,
          0.21226127496885275,
          null,
          0.543997709607628,
          0.4302887479932822,
          null,
          0.543997709607628,
          0.7191987235630543,
          null,
          0.543997709607628,
          0.9309618722640631,
          null,
          0.543997709607628,
          0.7284729698400034,
          null,
          0.543997709607628,
          0.8585432350503199,
          null,
          0.21226127496885275,
          0.4302887479932822,
          null,
          0.21226127496885275,
          0.7191987235630543,
          null,
          0.21226127496885275,
          0.9309618722640631,
          null,
          0.21226127496885275,
          0.8585432350503199,
          null,
          0.5868020101556358,
          0.9338020869841407,
          null,
          0.5868020101556358,
          0.7206005659400839,
          null,
          0.5868020101556358,
          0.4598711996658542,
          null,
          0.5868020101556358,
          1,
          null,
          0.5868020101556358,
          0.4861553034441465,
          null,
          0.5868020101556358,
          0.9584792021525821,
          null,
          0.5868020101556358,
          0.42862017750132936,
          null,
          0.5868020101556358,
          0.5919677742994793,
          null,
          0.5868020101556358,
          0.7284729698400034,
          null,
          0.9338020869841407,
          0.7206005659400839,
          null,
          0.9338020869841407,
          0.4598711996658542,
          null,
          0.9338020869841407,
          1,
          null,
          0.9338020869841407,
          0.4861553034441465,
          null,
          0.9338020869841407,
          0.9584792021525821,
          null,
          0.9338020869841407,
          0.42862017750132936,
          null,
          0.9338020869841407,
          0.5919677742994793,
          null,
          0.9338020869841407,
          0.7284729698400034,
          null,
          0.4302887479932822,
          0.7191987235630543,
          null,
          0.4302887479932822,
          0.9309618722640631,
          null,
          0.4302887479932822,
          0.7284729698400034,
          null,
          0.4302887479932822,
          0.23425634651225014,
          null,
          0.4302887479932822,
          0.8585432350503199,
          null,
          0.7191987235630543,
          0.9309618722640631,
          null,
          0.7191987235630543,
          0.8585432350503199,
          null,
          0.7206005659400839,
          0.4598711996658542,
          null,
          0.7206005659400839,
          1,
          null,
          0.7206005659400839,
          0.4861553034441465,
          null,
          0.7206005659400839,
          0.9584792021525821,
          null,
          0.7206005659400839,
          0.42862017750132936,
          null,
          0.7206005659400839,
          0.5919677742994793,
          null,
          0.7206005659400839,
          0.7284729698400034,
          null,
          0.9309618722640631,
          0.8585432350503199,
          null,
          0.4598711996658542,
          1,
          null,
          0.4598711996658542,
          0.4861553034441465,
          null,
          0.4598711996658542,
          0.9584792021525821,
          null,
          0.4598711996658542,
          0.42862017750132936,
          null,
          0.4598711996658542,
          0.5919677742994793,
          null,
          0.4598711996658542,
          0.7284729698400034,
          null,
          1,
          0.4861553034441465,
          null,
          1,
          0.9584792021525821,
          null,
          1,
          0.42862017750132936,
          null,
          1,
          0.5919677742994793,
          null,
          1,
          0.7284729698400034,
          null,
          0.4861553034441465,
          0.9584792021525821,
          null,
          0.4861553034441465,
          0.42862017750132936,
          null,
          0.4861553034441465,
          0.5919677742994793,
          null,
          0.4861553034441465,
          0.7284729698400034,
          null,
          0.9584792021525821,
          0.42862017750132936,
          null,
          0.9584792021525821,
          0.5919677742994793,
          null,
          0.9584792021525821,
          0.7284729698400034,
          null,
          0.42862017750132936,
          0.5919677742994793,
          null,
          0.42862017750132936,
          0.7284729698400034,
          null,
          0.5919677742994793,
          0.7284729698400034,
          null
         ]
        },
        {
         "hoverinfo": "text",
         "marker": {
          "color": "rgb(255, 255, 255)",
          "line": {
           "color": "rgb(0, 0, 0)",
           "width": 1
          },
          "size": 19,
          "symbol": "circle"
         },
         "mode": "markers",
         "text": [
          "fake-colours"
         ],
         "textfont": {
          "color": "rgb(0, 0, 0)"
         },
         "textposition": "middle center",
         "type": "scatter",
         "x": [
          0.37265872599259936
         ],
         "y": [
          0.543997709607628
         ]
        },
        {
         "hoverinfo": "text",
         "marker": {
          "color": "rgb(255, 255, 255)",
          "line": {
           "color": "rgb(0, 0, 0)",
           "width": 1
          },
          "size": 5,
          "symbol": "circle"
         },
         "mode": "markers",
         "text": [
          "dimmdrive-gaming-ramdrive-10000-mbs",
          "my-talking-angela",
          "wrc-the-official-game",
          "perfect-glowing-bodies",
          "funeral",
          "tanktrouble-mobile-mayhem",
          "mlg-bouncing-simulator-2015",
          "extreme-motor-bike-ride-simulator-3d-steer-the-mot",
          "ice-age-avalanche",
          "best-casino-social-slots-fun",
          "brutal-donut",
          "pengu-the-flying-penguin-unforgettable-chilly-adve",
          "fruits-pair-festival-january",
          "no-idea-for-name",
          "armageddon-itch-4xisblack",
          "jashanoid",
          "death-duel-itch"
         ],
         "textfont": {
          "color": "rgb(0, 0, 0)"
         },
         "textposition": "middle center",
         "type": "scatter",
         "x": [
          0.6788024470103502,
          0.40028254289827303,
          0.020926583418838532,
          0.5566252710960476,
          0.49381121264289674,
          0.18199391475503096,
          0,
          0.2227547743213947,
          0.01941314893122773,
          0.7423350673644973,
          0.8314847669515028,
          0.5027559071184092,
          0.5350401803659522,
          0.7474465939312464,
          0.7811867997474524,
          0.3928613909299098,
          0.47089817316227794
         ],
         "y": [
          0.21226127496885275,
          0.5868020101556358,
          0.9338020869841407,
          0.7191987235630543,
          0,
          0.7206005659400839,
          0.9309618722640631,
          0.4598711996658542,
          1,
          0.4861553034441465,
          0.9584792021525821,
          0.42862017750132936,
          0.5919677742994793,
          0.09277900368381141,
          0.23425634651225014,
          0.8585432350503199,
          0.6391502326061227
         ]
        },
        {
         "hoverinfo": "text",
         "marker": {
          "color": "rgb(255, 255, 255)",
          "line": {
           "color": "rgb(0, 0, 0)",
           "width": 1
          },
          "size": 30,
          "symbol": "circle"
         },
         "mode": "markers",
         "text": [
          "i-wanna-be-the-co-op"
         ],
         "textfont": {
          "color": "rgb(0, 0, 0)"
         },
         "textposition": "middle center",
         "type": "scatter",
         "x": [
          0.3303791934704298
         ],
         "y": [
          0.4302887479932822
         ]
        },
        {
         "hoverinfo": "text",
         "marker": {
          "color": "rgb(255, 255, 255)",
          "line": {
           "color": "rgb(0, 0, 0)",
           "width": 1
          },
          "size": 50,
          "symbol": "circle"
         },
         "mode": "markers",
         "text": [
          "lunar-lander-relaunched"
         ],
         "textfont": {
          "color": "rgb(0, 0, 0)"
         },
         "textposition": "middle center",
         "type": "scatter",
         "x": [
          1
         ],
         "y": [
          0.7284729698400034
         ]
        },
        {
         "hoverinfo": "none",
         "mode": "text",
         "text": [],
         "textfont": {
          "color": "rgb(255, 255, 255)"
         },
         "textposition": "middle center",
         "type": "scatter",
         "x": [],
         "y": []
        },
        {
         "hoverinfo": "none",
         "mode": "text",
         "text": [
          null,
          null,
          null,
          null,
          null,
          null,
          null,
          null,
          null,
          null,
          null,
          null,
          null,
          null,
          null,
          null,
          null,
          null,
          null,
          null
         ],
         "textfont": {
          "color": "rgb(0, 0, 0)"
         },
         "textposition": "middle center",
         "type": "scatter",
         "x": [
          0.37265872599259936,
          0.6788024470103502,
          0.40028254289827303,
          0.020926583418838532,
          0.3303791934704298,
          0.5566252710960476,
          0.49381121264289674,
          0.18199391475503096,
          0,
          0.2227547743213947,
          0.01941314893122773,
          0.7423350673644973,
          0.8314847669515028,
          0.5027559071184092,
          0.5350401803659522,
          1,
          0.7474465939312464,
          0.7811867997474524,
          0.3928613909299098,
          0.47089817316227794
         ],
         "y": [
          0.543997709607628,
          0.21226127496885275,
          0.5868020101556358,
          0.9338020869841407,
          0.4302887479932822,
          0.7191987235630543,
          0,
          0.7206005659400839,
          0.9309618722640631,
          0.4598711996658542,
          1,
          0.4861553034441465,
          0.9584792021525821,
          0.42862017750132936,
          0.5919677742994793,
          0.7284729698400034,
          0.09277900368381141,
          0.23425634651225014,
          0.8585432350503199,
          0.6391502326061227
         ]
        },
        {
         "hoverinfo": "none",
         "mode": "text",
         "text": [
          null,
          null,
          null,
          null,
          null,
          null,
          null,
          null,
          null,
          null,
          null,
          null,
          null,
          null,
          null,
          null,
          null,
          null,
          null,
          null,
          null,
          null,
          null,
          null,
          null,
          null,
          null,
          null,
          null,
          null,
          null,
          null,
          null,
          null,
          null,
          null,
          null,
          null,
          null,
          null,
          null,
          null,
          null,
          null,
          null,
          null,
          null,
          null,
          null,
          null,
          null,
          null,
          null,
          null,
          null,
          null,
          null,
          null,
          null,
          null,
          null,
          null,
          null
         ],
         "textfont": {
          "color": "rgb(0, 0, 0)"
         },
         "textposition": "middle center",
         "type": "scatter",
         "x": [
          0.5330606682356623,
          0.3634043164984557,
          0.45800002336418105,
          0.17922920562338332,
          0.684045943402708,
          0.3684901290610047,
          0.49993476364703954,
          0.6045640944610141,
          0.33219645102600115,
          0.5246575791417337,
          0.20417164055934117,
          0.286567761200804,
          0.316755346018687,
          0.2025113421279683,
          0.5735936216774828,
          0.6097525000449832,
          0.4607926806258751,
          0.46735992773898954,
          0.6982986359404282,
          0.10989064356267798,
          0.13318100579633643,
          0.005814564201675873,
          0.38625196200463774,
          0.425966257412836,
          0.2689933047150231,
          0.28289752867830514,
          0.5121019883379363,
          0.43527048091566517,
          0.15601607398667258,
          0.6617868639565593,
          0.5591101646291415,
          0.3477371182043759,
          0.27538326414873954,
          0.46867679875081475,
          0.2161898100872411,
          0.0908587304007877,
          0.46537218638252903,
          0.5039149093396167,
          0.34878284682025446,
          0.36132736713753416,
          0.590921265147038,
          0.19787320130101504,
          0.10924550851517689,
          0.4821471979929162,
          0.5212413482137408,
          0.36363153793078024,
          0.3756562853476001,
          0.6087067066245355,
          0.3860840725146496,
          0.42585094105669274,
          0.2688903901986768,
          0.2829377810194716,
          0.5118598551962131,
          0.7733268464774778,
          0.6244181940920878,
          0.6348210198750144,
          0.8645911632384141,
          0.676626344588748,
          0.6913155766092103,
          0.9243421709613938,
          0.5053840571863718,
          0.7468740924286308,
          0.7652402580216604
         ],
         "y": [
          0.4007035446941078,
          0.4723958025282664,
          0.6548720549237144,
          0.7146618184871215,
          0.6621484761263803,
          0.7043290217468199,
          0.2964446701944876,
          0.4551539804784914,
          0.5489032961551817,
          0.5189037388672014,
          0.7368330697016987,
          0.6288179379056156,
          0.4988952982813141,
          0.7708339157115514,
          0.5623913822872798,
          0.7963776097562435,
          0.5277587920941331,
          0.6156258344794137,
          0.6836674690676251,
          0.8484549796136392,
          0.7129527790565302,
          0.9658058264604127,
          0.7348307963649976,
          0.9723837194930037,
          0.7039749489771419,
          0.7875487362256574,
          0.8572129781194037,
          0.5962556616902113,
          0.6604247654692377,
          0.6048808866506403,
          0.35780582889980644,
          0.651175446309619,
          0.7993848910515348,
          0.7650786319421157,
          0.5974434290361913,
          0.8411833097364028,
          0.6289621850711618,
          0.8652744693933112,
          0.5981021506843862,
          0.6820239105919197,
          0.7507831228256724,
          0.9208666564184896,
          0.7150628099668737,
          0.49924991280351616,
          0.7331246084816894,
          0.47044355695424006,
          0.5514896453847541,
          0.6199613911353901,
          0.7675380089184913,
          1.0054760456548297,
          0.7363454270733972,
          0.8200680053518313,
          0.8901867726593151,
          0.7308727736061589,
          0.43136492409231403,
          0.5137831170287254,
          0.6306500624442966,
          0.673868824903223,
          0.7534870799671146,
          0.8645020447692192,
          0.5192071066095972,
          0.6034704193840011,
          0.686134562538437
         ]
        },
        {
         "hoverinfo": "none",
         "marker": {
          "color": "rgba(255, 255, 255, 0)",
          "line": {
           "color": "rgba(255, 255, 255, 0)",
           "width": 0
          },
          "size": 0,
          "symbol": "circle"
         },
         "mode": "markers",
         "type": "scatter",
         "x": [
          0.5,
          0,
          1,
          0.5
         ],
         "y": [
          0,
          0.5,
          0.5,
          1
         ]
        }
       ],
       "layout": {
        "height": 450,
        "hovermode": "closest",
        "margin": {
         "b": 10,
         "l": 10,
         "r": 10,
         "t": 10
        },
        "plot_bgcolor": "rgb(255, 255, 255)",
        "showlegend": false,
        "template": {
         "data": {
          "bar": [
           {
            "error_x": {
             "color": "#2a3f5f"
            },
            "error_y": {
             "color": "#2a3f5f"
            },
            "marker": {
             "line": {
              "color": "#E5ECF6",
              "width": 0.5
             }
            },
            "type": "bar"
           }
          ],
          "barpolar": [
           {
            "marker": {
             "line": {
              "color": "#E5ECF6",
              "width": 0.5
             }
            },
            "type": "barpolar"
           }
          ],
          "carpet": [
           {
            "aaxis": {
             "endlinecolor": "#2a3f5f",
             "gridcolor": "white",
             "linecolor": "white",
             "minorgridcolor": "white",
             "startlinecolor": "#2a3f5f"
            },
            "baxis": {
             "endlinecolor": "#2a3f5f",
             "gridcolor": "white",
             "linecolor": "white",
             "minorgridcolor": "white",
             "startlinecolor": "#2a3f5f"
            },
            "type": "carpet"
           }
          ],
          "choropleth": [
           {
            "colorbar": {
             "outlinewidth": 0,
             "ticks": ""
            },
            "type": "choropleth"
           }
          ],
          "contour": [
           {
            "colorbar": {
             "outlinewidth": 0,
             "ticks": ""
            },
            "colorscale": [
             [
              0,
              "#0d0887"
             ],
             [
              0.1111111111111111,
              "#46039f"
             ],
             [
              0.2222222222222222,
              "#7201a8"
             ],
             [
              0.3333333333333333,
              "#9c179e"
             ],
             [
              0.4444444444444444,
              "#bd3786"
             ],
             [
              0.5555555555555556,
              "#d8576b"
             ],
             [
              0.6666666666666666,
              "#ed7953"
             ],
             [
              0.7777777777777778,
              "#fb9f3a"
             ],
             [
              0.8888888888888888,
              "#fdca26"
             ],
             [
              1,
              "#f0f921"
             ]
            ],
            "type": "contour"
           }
          ],
          "contourcarpet": [
           {
            "colorbar": {
             "outlinewidth": 0,
             "ticks": ""
            },
            "type": "contourcarpet"
           }
          ],
          "heatmap": [
           {
            "colorbar": {
             "outlinewidth": 0,
             "ticks": ""
            },
            "colorscale": [
             [
              0,
              "#0d0887"
             ],
             [
              0.1111111111111111,
              "#46039f"
             ],
             [
              0.2222222222222222,
              "#7201a8"
             ],
             [
              0.3333333333333333,
              "#9c179e"
             ],
             [
              0.4444444444444444,
              "#bd3786"
             ],
             [
              0.5555555555555556,
              "#d8576b"
             ],
             [
              0.6666666666666666,
              "#ed7953"
             ],
             [
              0.7777777777777778,
              "#fb9f3a"
             ],
             [
              0.8888888888888888,
              "#fdca26"
             ],
             [
              1,
              "#f0f921"
             ]
            ],
            "type": "heatmap"
           }
          ],
          "heatmapgl": [
           {
            "colorbar": {
             "outlinewidth": 0,
             "ticks": ""
            },
            "colorscale": [
             [
              0,
              "#0d0887"
             ],
             [
              0.1111111111111111,
              "#46039f"
             ],
             [
              0.2222222222222222,
              "#7201a8"
             ],
             [
              0.3333333333333333,
              "#9c179e"
             ],
             [
              0.4444444444444444,
              "#bd3786"
             ],
             [
              0.5555555555555556,
              "#d8576b"
             ],
             [
              0.6666666666666666,
              "#ed7953"
             ],
             [
              0.7777777777777778,
              "#fb9f3a"
             ],
             [
              0.8888888888888888,
              "#fdca26"
             ],
             [
              1,
              "#f0f921"
             ]
            ],
            "type": "heatmapgl"
           }
          ],
          "histogram": [
           {
            "marker": {
             "colorbar": {
              "outlinewidth": 0,
              "ticks": ""
             }
            },
            "type": "histogram"
           }
          ],
          "histogram2d": [
           {
            "colorbar": {
             "outlinewidth": 0,
             "ticks": ""
            },
            "colorscale": [
             [
              0,
              "#0d0887"
             ],
             [
              0.1111111111111111,
              "#46039f"
             ],
             [
              0.2222222222222222,
              "#7201a8"
             ],
             [
              0.3333333333333333,
              "#9c179e"
             ],
             [
              0.4444444444444444,
              "#bd3786"
             ],
             [
              0.5555555555555556,
              "#d8576b"
             ],
             [
              0.6666666666666666,
              "#ed7953"
             ],
             [
              0.7777777777777778,
              "#fb9f3a"
             ],
             [
              0.8888888888888888,
              "#fdca26"
             ],
             [
              1,
              "#f0f921"
             ]
            ],
            "type": "histogram2d"
           }
          ],
          "histogram2dcontour": [
           {
            "colorbar": {
             "outlinewidth": 0,
             "ticks": ""
            },
            "colorscale": [
             [
              0,
              "#0d0887"
             ],
             [
              0.1111111111111111,
              "#46039f"
             ],
             [
              0.2222222222222222,
              "#7201a8"
             ],
             [
              0.3333333333333333,
              "#9c179e"
             ],
             [
              0.4444444444444444,
              "#bd3786"
             ],
             [
              0.5555555555555556,
              "#d8576b"
             ],
             [
              0.6666666666666666,
              "#ed7953"
             ],
             [
              0.7777777777777778,
              "#fb9f3a"
             ],
             [
              0.8888888888888888,
              "#fdca26"
             ],
             [
              1,
              "#f0f921"
             ]
            ],
            "type": "histogram2dcontour"
           }
          ],
          "mesh3d": [
           {
            "colorbar": {
             "outlinewidth": 0,
             "ticks": ""
            },
            "type": "mesh3d"
           }
          ],
          "parcoords": [
           {
            "line": {
             "colorbar": {
              "outlinewidth": 0,
              "ticks": ""
             }
            },
            "type": "parcoords"
           }
          ],
          "pie": [
           {
            "automargin": true,
            "type": "pie"
           }
          ],
          "scatter": [
           {
            "marker": {
             "colorbar": {
              "outlinewidth": 0,
              "ticks": ""
             }
            },
            "type": "scatter"
           }
          ],
          "scatter3d": [
           {
            "line": {
             "colorbar": {
              "outlinewidth": 0,
              "ticks": ""
             }
            },
            "marker": {
             "colorbar": {
              "outlinewidth": 0,
              "ticks": ""
             }
            },
            "type": "scatter3d"
           }
          ],
          "scattercarpet": [
           {
            "marker": {
             "colorbar": {
              "outlinewidth": 0,
              "ticks": ""
             }
            },
            "type": "scattercarpet"
           }
          ],
          "scattergeo": [
           {
            "marker": {
             "colorbar": {
              "outlinewidth": 0,
              "ticks": ""
             }
            },
            "type": "scattergeo"
           }
          ],
          "scattergl": [
           {
            "marker": {
             "colorbar": {
              "outlinewidth": 0,
              "ticks": ""
             }
            },
            "type": "scattergl"
           }
          ],
          "scattermapbox": [
           {
            "marker": {
             "colorbar": {
              "outlinewidth": 0,
              "ticks": ""
             }
            },
            "type": "scattermapbox"
           }
          ],
          "scatterpolar": [
           {
            "marker": {
             "colorbar": {
              "outlinewidth": 0,
              "ticks": ""
             }
            },
            "type": "scatterpolar"
           }
          ],
          "scatterpolargl": [
           {
            "marker": {
             "colorbar": {
              "outlinewidth": 0,
              "ticks": ""
             }
            },
            "type": "scatterpolargl"
           }
          ],
          "scatterternary": [
           {
            "marker": {
             "colorbar": {
              "outlinewidth": 0,
              "ticks": ""
             }
            },
            "type": "scatterternary"
           }
          ],
          "surface": [
           {
            "colorbar": {
             "outlinewidth": 0,
             "ticks": ""
            },
            "colorscale": [
             [
              0,
              "#0d0887"
             ],
             [
              0.1111111111111111,
              "#46039f"
             ],
             [
              0.2222222222222222,
              "#7201a8"
             ],
             [
              0.3333333333333333,
              "#9c179e"
             ],
             [
              0.4444444444444444,
              "#bd3786"
             ],
             [
              0.5555555555555556,
              "#d8576b"
             ],
             [
              0.6666666666666666,
              "#ed7953"
             ],
             [
              0.7777777777777778,
              "#fb9f3a"
             ],
             [
              0.8888888888888888,
              "#fdca26"
             ],
             [
              1,
              "#f0f921"
             ]
            ],
            "type": "surface"
           }
          ],
          "table": [
           {
            "cells": {
             "fill": {
              "color": "#EBF0F8"
             },
             "line": {
              "color": "white"
             }
            },
            "header": {
             "fill": {
              "color": "#C8D4E3"
             },
             "line": {
              "color": "white"
             }
            },
            "type": "table"
           }
          ]
         },
         "layout": {
          "annotationdefaults": {
           "arrowcolor": "#2a3f5f",
           "arrowhead": 0,
           "arrowwidth": 1
          },
          "coloraxis": {
           "colorbar": {
            "outlinewidth": 0,
            "ticks": ""
           }
          },
          "colorscale": {
           "diverging": [
            [
             0,
             "#8e0152"
            ],
            [
             0.1,
             "#c51b7d"
            ],
            [
             0.2,
             "#de77ae"
            ],
            [
             0.3,
             "#f1b6da"
            ],
            [
             0.4,
             "#fde0ef"
            ],
            [
             0.5,
             "#f7f7f7"
            ],
            [
             0.6,
             "#e6f5d0"
            ],
            [
             0.7,
             "#b8e186"
            ],
            [
             0.8,
             "#7fbc41"
            ],
            [
             0.9,
             "#4d9221"
            ],
            [
             1,
             "#276419"
            ]
           ],
           "sequential": [
            [
             0,
             "#0d0887"
            ],
            [
             0.1111111111111111,
             "#46039f"
            ],
            [
             0.2222222222222222,
             "#7201a8"
            ],
            [
             0.3333333333333333,
             "#9c179e"
            ],
            [
             0.4444444444444444,
             "#bd3786"
            ],
            [
             0.5555555555555556,
             "#d8576b"
            ],
            [
             0.6666666666666666,
             "#ed7953"
            ],
            [
             0.7777777777777778,
             "#fb9f3a"
            ],
            [
             0.8888888888888888,
             "#fdca26"
            ],
            [
             1,
             "#f0f921"
            ]
           ],
           "sequentialminus": [
            [
             0,
             "#0d0887"
            ],
            [
             0.1111111111111111,
             "#46039f"
            ],
            [
             0.2222222222222222,
             "#7201a8"
            ],
            [
             0.3333333333333333,
             "#9c179e"
            ],
            [
             0.4444444444444444,
             "#bd3786"
            ],
            [
             0.5555555555555556,
             "#d8576b"
            ],
            [
             0.6666666666666666,
             "#ed7953"
            ],
            [
             0.7777777777777778,
             "#fb9f3a"
            ],
            [
             0.8888888888888888,
             "#fdca26"
            ],
            [
             1,
             "#f0f921"
            ]
           ]
          },
          "colorway": [
           "#636efa",
           "#EF553B",
           "#00cc96",
           "#ab63fa",
           "#FFA15A",
           "#19d3f3",
           "#FF6692",
           "#B6E880",
           "#FF97FF",
           "#FECB52"
          ],
          "font": {
           "color": "#2a3f5f"
          },
          "geo": {
           "bgcolor": "white",
           "lakecolor": "white",
           "landcolor": "#E5ECF6",
           "showlakes": true,
           "showland": true,
           "subunitcolor": "white"
          },
          "hoverlabel": {
           "align": "left"
          },
          "hovermode": "closest",
          "mapbox": {
           "style": "light"
          },
          "paper_bgcolor": "white",
          "plot_bgcolor": "#E5ECF6",
          "polar": {
           "angularaxis": {
            "gridcolor": "white",
            "linecolor": "white",
            "ticks": ""
           },
           "bgcolor": "#E5ECF6",
           "radialaxis": {
            "gridcolor": "white",
            "linecolor": "white",
            "ticks": ""
           }
          },
          "scene": {
           "xaxis": {
            "backgroundcolor": "#E5ECF6",
            "gridcolor": "white",
            "gridwidth": 2,
            "linecolor": "white",
            "showbackground": true,
            "ticks": "",
            "zerolinecolor": "white"
           },
           "yaxis": {
            "backgroundcolor": "#E5ECF6",
            "gridcolor": "white",
            "gridwidth": 2,
            "linecolor": "white",
            "showbackground": true,
            "ticks": "",
            "zerolinecolor": "white"
           },
           "zaxis": {
            "backgroundcolor": "#E5ECF6",
            "gridcolor": "white",
            "gridwidth": 2,
            "linecolor": "white",
            "showbackground": true,
            "ticks": "",
            "zerolinecolor": "white"
           }
          },
          "shapedefaults": {
           "line": {
            "color": "#2a3f5f"
           }
          },
          "ternary": {
           "aaxis": {
            "gridcolor": "white",
            "linecolor": "white",
            "ticks": ""
           },
           "baxis": {
            "gridcolor": "white",
            "linecolor": "white",
            "ticks": ""
           },
           "bgcolor": "#E5ECF6",
           "caxis": {
            "gridcolor": "white",
            "linecolor": "white",
            "ticks": ""
           }
          },
          "title": {
           "x": 0.05
          },
          "xaxis": {
           "automargin": true,
           "gridcolor": "white",
           "linecolor": "white",
           "ticks": "",
           "title": {
            "standoff": 15
           },
           "zerolinecolor": "white",
           "zerolinewidth": 2
          },
          "yaxis": {
           "automargin": true,
           "gridcolor": "white",
           "linecolor": "white",
           "ticks": "",
           "title": {
            "standoff": 15
           },
           "zerolinecolor": "white",
           "zerolinewidth": 2
          }
         }
        },
        "width": 800,
        "xaxis": {
         "showgrid": false,
         "showticklabels": false,
         "zeroline": false
        },
        "yaxis": {
         "showgrid": false,
         "showticklabels": false,
         "zeroline": false
        }
       }
      },
      "text/html": [
       "<div>                            <div id=\"b940eb97-d570-418b-b075-72fe285072c5\" class=\"plotly-graph-div\" style=\"height:450px; width:800px;\"></div>            <script type=\"text/javascript\">                require([\"plotly\"], function(Plotly) {                    window.PLOTLYENV=window.PLOTLYENV || {};                                    if (document.getElementById(\"b940eb97-d570-418b-b075-72fe285072c5\")) {                    Plotly.newPlot(                        \"b940eb97-d570-418b-b075-72fe285072c5\",                        [{\"hoverinfo\": \"none\", \"line\": {\"color\": \"rgb(127, 127, 127)\", \"dash\": \"solid\", \"width\": 0}, \"mode\": \"lines\", \"type\": \"scatter\", \"x\": [0.546269814995793, 0.546269814995793, null, 0, 1, null], \"y\": [0, 1, null, 0.36101132830364424, 0.36101132830364424, null]}, {\"hoverinfo\": \"none\", \"line\": {\"color\": \"rgb(0, 0, 0)\", \"dash\": \"solid\", \"width\": 1}, \"mode\": \"lines\", \"type\": \"scatter\", \"x\": [0.37265872599259936, 0.6788024470103502, null, 0.37265872599259936, 0.3303791934704298, null, 0.37265872599259936, 0.5566252710960476, null, 0.37265872599259936, 0.0, null, 0.37265872599259936, 1.0, null, 0.37265872599259936, 0.3928613909299098, null, 0.6788024470103502, 0.3303791934704298, null, 0.6788024470103502, 0.5566252710960476, null, 0.6788024470103502, 0.0, null, 0.6788024470103502, 0.3928613909299098, null, 0.40028254289827303, 0.020926583418838532, null, 0.40028254289827303, 0.18199391475503096, null, 0.40028254289827303, 0.2227547743213947, null, 0.40028254289827303, 0.01941314893122773, null, 0.40028254289827303, 0.7423350673644973, null, 0.40028254289827303, 0.8314847669515028, null, 0.40028254289827303, 0.5027559071184092, null, 0.40028254289827303, 0.5350401803659522, null, 0.40028254289827303, 1.0, null, 0.020926583418838532, 0.18199391475503096, null, 0.020926583418838532, 0.2227547743213947, null, 0.020926583418838532, 0.01941314893122773, null, 0.020926583418838532, 0.7423350673644973, null, 0.020926583418838532, 0.8314847669515028, null, 0.020926583418838532, 0.5027559071184092, null, 0.020926583418838532, 0.5350401803659522, null, 0.020926583418838532, 1.0, null, 0.3303791934704298, 0.5566252710960476, null, 0.3303791934704298, 0.0, null, 0.3303791934704298, 1.0, null, 0.3303791934704298, 0.7811867997474524, null, 0.3303791934704298, 0.3928613909299098, null, 0.5566252710960476, 0.0, null, 0.5566252710960476, 0.3928613909299098, null, 0.18199391475503096, 0.2227547743213947, null, 0.18199391475503096, 0.01941314893122773, null, 0.18199391475503096, 0.7423350673644973, null, 0.18199391475503096, 0.8314847669515028, null, 0.18199391475503096, 0.5027559071184092, null, 0.18199391475503096, 0.5350401803659522, null, 0.18199391475503096, 1.0, null, 0.0, 0.3928613909299098, null, 0.2227547743213947, 0.01941314893122773, null, 0.2227547743213947, 0.7423350673644973, null, 0.2227547743213947, 0.8314847669515028, null, 0.2227547743213947, 0.5027559071184092, null, 0.2227547743213947, 0.5350401803659522, null, 0.2227547743213947, 1.0, null, 0.01941314893122773, 0.7423350673644973, null, 0.01941314893122773, 0.8314847669515028, null, 0.01941314893122773, 0.5027559071184092, null, 0.01941314893122773, 0.5350401803659522, null, 0.01941314893122773, 1.0, null, 0.7423350673644973, 0.8314847669515028, null, 0.7423350673644973, 0.5027559071184092, null, 0.7423350673644973, 0.5350401803659522, null, 0.7423350673644973, 1.0, null, 0.8314847669515028, 0.5027559071184092, null, 0.8314847669515028, 0.5350401803659522, null, 0.8314847669515028, 1.0, null, 0.5027559071184092, 0.5350401803659522, null, 0.5027559071184092, 1.0, null, 0.5350401803659522, 1.0, null], \"y\": [0.543997709607628, 0.21226127496885275, null, 0.543997709607628, 0.4302887479932822, null, 0.543997709607628, 0.7191987235630543, null, 0.543997709607628, 0.9309618722640631, null, 0.543997709607628, 0.7284729698400034, null, 0.543997709607628, 0.8585432350503199, null, 0.21226127496885275, 0.4302887479932822, null, 0.21226127496885275, 0.7191987235630543, null, 0.21226127496885275, 0.9309618722640631, null, 0.21226127496885275, 0.8585432350503199, null, 0.5868020101556358, 0.9338020869841407, null, 0.5868020101556358, 0.7206005659400839, null, 0.5868020101556358, 0.4598711996658542, null, 0.5868020101556358, 1.0, null, 0.5868020101556358, 0.4861553034441465, null, 0.5868020101556358, 0.9584792021525821, null, 0.5868020101556358, 0.42862017750132936, null, 0.5868020101556358, 0.5919677742994793, null, 0.5868020101556358, 0.7284729698400034, null, 0.9338020869841407, 0.7206005659400839, null, 0.9338020869841407, 0.4598711996658542, null, 0.9338020869841407, 1.0, null, 0.9338020869841407, 0.4861553034441465, null, 0.9338020869841407, 0.9584792021525821, null, 0.9338020869841407, 0.42862017750132936, null, 0.9338020869841407, 0.5919677742994793, null, 0.9338020869841407, 0.7284729698400034, null, 0.4302887479932822, 0.7191987235630543, null, 0.4302887479932822, 0.9309618722640631, null, 0.4302887479932822, 0.7284729698400034, null, 0.4302887479932822, 0.23425634651225014, null, 0.4302887479932822, 0.8585432350503199, null, 0.7191987235630543, 0.9309618722640631, null, 0.7191987235630543, 0.8585432350503199, null, 0.7206005659400839, 0.4598711996658542, null, 0.7206005659400839, 1.0, null, 0.7206005659400839, 0.4861553034441465, null, 0.7206005659400839, 0.9584792021525821, null, 0.7206005659400839, 0.42862017750132936, null, 0.7206005659400839, 0.5919677742994793, null, 0.7206005659400839, 0.7284729698400034, null, 0.9309618722640631, 0.8585432350503199, null, 0.4598711996658542, 1.0, null, 0.4598711996658542, 0.4861553034441465, null, 0.4598711996658542, 0.9584792021525821, null, 0.4598711996658542, 0.42862017750132936, null, 0.4598711996658542, 0.5919677742994793, null, 0.4598711996658542, 0.7284729698400034, null, 1.0, 0.4861553034441465, null, 1.0, 0.9584792021525821, null, 1.0, 0.42862017750132936, null, 1.0, 0.5919677742994793, null, 1.0, 0.7284729698400034, null, 0.4861553034441465, 0.9584792021525821, null, 0.4861553034441465, 0.42862017750132936, null, 0.4861553034441465, 0.5919677742994793, null, 0.4861553034441465, 0.7284729698400034, null, 0.9584792021525821, 0.42862017750132936, null, 0.9584792021525821, 0.5919677742994793, null, 0.9584792021525821, 0.7284729698400034, null, 0.42862017750132936, 0.5919677742994793, null, 0.42862017750132936, 0.7284729698400034, null, 0.5919677742994793, 0.7284729698400034, null]}, {\"hoverinfo\": \"text\", \"marker\": {\"color\": \"rgb(255, 255, 255)\", \"line\": {\"color\": \"rgb(0, 0, 0)\", \"width\": 1}, \"size\": 19, \"symbol\": \"circle\"}, \"mode\": \"markers\", \"text\": [\"fake-colours\"], \"textfont\": {\"color\": \"rgb(0, 0, 0)\"}, \"textposition\": \"middle center\", \"type\": \"scatter\", \"x\": [0.37265872599259936], \"y\": [0.543997709607628]}, {\"hoverinfo\": \"text\", \"marker\": {\"color\": \"rgb(255, 255, 255)\", \"line\": {\"color\": \"rgb(0, 0, 0)\", \"width\": 1}, \"size\": 5, \"symbol\": \"circle\"}, \"mode\": \"markers\", \"text\": [\"dimmdrive-gaming-ramdrive-10000-mbs\", \"my-talking-angela\", \"wrc-the-official-game\", \"perfect-glowing-bodies\", \"funeral\", \"tanktrouble-mobile-mayhem\", \"mlg-bouncing-simulator-2015\", \"extreme-motor-bike-ride-simulator-3d-steer-the-mot\", \"ice-age-avalanche\", \"best-casino-social-slots-fun\", \"brutal-donut\", \"pengu-the-flying-penguin-unforgettable-chilly-adve\", \"fruits-pair-festival-january\", \"no-idea-for-name\", \"armageddon-itch-4xisblack\", \"jashanoid\", \"death-duel-itch\"], \"textfont\": {\"color\": \"rgb(0, 0, 0)\"}, \"textposition\": \"middle center\", \"type\": \"scatter\", \"x\": [0.6788024470103502, 0.40028254289827303, 0.020926583418838532, 0.5566252710960476, 0.49381121264289674, 0.18199391475503096, 0.0, 0.2227547743213947, 0.01941314893122773, 0.7423350673644973, 0.8314847669515028, 0.5027559071184092, 0.5350401803659522, 0.7474465939312464, 0.7811867997474524, 0.3928613909299098, 0.47089817316227794], \"y\": [0.21226127496885275, 0.5868020101556358, 0.9338020869841407, 0.7191987235630543, 0.0, 0.7206005659400839, 0.9309618722640631, 0.4598711996658542, 1.0, 0.4861553034441465, 0.9584792021525821, 0.42862017750132936, 0.5919677742994793, 0.09277900368381141, 0.23425634651225014, 0.8585432350503199, 0.6391502326061227]}, {\"hoverinfo\": \"text\", \"marker\": {\"color\": \"rgb(255, 255, 255)\", \"line\": {\"color\": \"rgb(0, 0, 0)\", \"width\": 1}, \"size\": 30, \"symbol\": \"circle\"}, \"mode\": \"markers\", \"text\": [\"i-wanna-be-the-co-op\"], \"textfont\": {\"color\": \"rgb(0, 0, 0)\"}, \"textposition\": \"middle center\", \"type\": \"scatter\", \"x\": [0.3303791934704298], \"y\": [0.4302887479932822]}, {\"hoverinfo\": \"text\", \"marker\": {\"color\": \"rgb(255, 255, 255)\", \"line\": {\"color\": \"rgb(0, 0, 0)\", \"width\": 1}, \"size\": 50, \"symbol\": \"circle\"}, \"mode\": \"markers\", \"text\": [\"lunar-lander-relaunched\"], \"textfont\": {\"color\": \"rgb(0, 0, 0)\"}, \"textposition\": \"middle center\", \"type\": \"scatter\", \"x\": [1.0], \"y\": [0.7284729698400034]}, {\"hoverinfo\": \"none\", \"mode\": \"text\", \"text\": [], \"textfont\": {\"color\": \"rgb(255, 255, 255)\"}, \"textposition\": \"middle center\", \"type\": \"scatter\", \"x\": [], \"y\": []}, {\"hoverinfo\": \"none\", \"mode\": \"text\", \"text\": [null, null, null, null, null, null, null, null, null, null, null, null, null, null, null, null, null, null, null, null], \"textfont\": {\"color\": \"rgb(0, 0, 0)\"}, \"textposition\": \"middle center\", \"type\": \"scatter\", \"x\": [0.37265872599259936, 0.6788024470103502, 0.40028254289827303, 0.020926583418838532, 0.3303791934704298, 0.5566252710960476, 0.49381121264289674, 0.18199391475503096, 0.0, 0.2227547743213947, 0.01941314893122773, 0.7423350673644973, 0.8314847669515028, 0.5027559071184092, 0.5350401803659522, 1.0, 0.7474465939312464, 0.7811867997474524, 0.3928613909299098, 0.47089817316227794], \"y\": [0.543997709607628, 0.21226127496885275, 0.5868020101556358, 0.9338020869841407, 0.4302887479932822, 0.7191987235630543, 0.0, 0.7206005659400839, 0.9309618722640631, 0.4598711996658542, 1.0, 0.4861553034441465, 0.9584792021525821, 0.42862017750132936, 0.5919677742994793, 0.7284729698400034, 0.09277900368381141, 0.23425634651225014, 0.8585432350503199, 0.6391502326061227]}, {\"hoverinfo\": \"none\", \"mode\": \"text\", \"text\": [null, null, null, null, null, null, null, null, null, null, null, null, null, null, null, null, null, null, null, null, null, null, null, null, null, null, null, null, null, null, null, null, null, null, null, null, null, null, null, null, null, null, null, null, null, null, null, null, null, null, null, null, null, null, null, null, null, null, null, null, null, null, null], \"textfont\": {\"color\": \"rgb(0, 0, 0)\"}, \"textposition\": \"middle center\", \"type\": \"scatter\", \"x\": [0.5330606682356623, 0.3634043164984557, 0.45800002336418105, 0.17922920562338332, 0.684045943402708, 0.3684901290610047, 0.49993476364703954, 0.6045640944610141, 0.33219645102600115, 0.5246575791417337, 0.20417164055934117, 0.286567761200804, 0.316755346018687, 0.2025113421279683, 0.5735936216774828, 0.6097525000449832, 0.4607926806258751, 0.46735992773898954, 0.6982986359404282, 0.10989064356267798, 0.13318100579633643, 0.005814564201675873, 0.38625196200463774, 0.425966257412836, 0.2689933047150231, 0.28289752867830514, 0.5121019883379363, 0.43527048091566517, 0.15601607398667258, 0.6617868639565593, 0.5591101646291415, 0.3477371182043759, 0.27538326414873954, 0.46867679875081475, 0.2161898100872411, 0.0908587304007877, 0.46537218638252903, 0.5039149093396167, 0.34878284682025446, 0.36132736713753416, 0.590921265147038, 0.19787320130101504, 0.10924550851517689, 0.4821471979929162, 0.5212413482137408, 0.36363153793078024, 0.3756562853476001, 0.6087067066245355, 0.3860840725146496, 0.42585094105669274, 0.2688903901986768, 0.2829377810194716, 0.5118598551962131, 0.7733268464774778, 0.6244181940920878, 0.6348210198750144, 0.8645911632384141, 0.676626344588748, 0.6913155766092103, 0.9243421709613938, 0.5053840571863718, 0.7468740924286308, 0.7652402580216604], \"y\": [0.4007035446941078, 0.4723958025282664, 0.6548720549237144, 0.7146618184871215, 0.6621484761263803, 0.7043290217468199, 0.2964446701944876, 0.4551539804784914, 0.5489032961551817, 0.5189037388672014, 0.7368330697016987, 0.6288179379056156, 0.4988952982813141, 0.7708339157115514, 0.5623913822872798, 0.7963776097562435, 0.5277587920941331, 0.6156258344794137, 0.6836674690676251, 0.8484549796136392, 0.7129527790565302, 0.9658058264604127, 0.7348307963649976, 0.9723837194930037, 0.7039749489771419, 0.7875487362256574, 0.8572129781194037, 0.5962556616902113, 0.6604247654692377, 0.6048808866506403, 0.35780582889980644, 0.651175446309619, 0.7993848910515348, 0.7650786319421157, 0.5974434290361913, 0.8411833097364028, 0.6289621850711618, 0.8652744693933112, 0.5981021506843862, 0.6820239105919197, 0.7507831228256724, 0.9208666564184896, 0.7150628099668737, 0.49924991280351616, 0.7331246084816894, 0.47044355695424006, 0.5514896453847541, 0.6199613911353901, 0.7675380089184913, 1.0054760456548297, 0.7363454270733972, 0.8200680053518313, 0.8901867726593151, 0.7308727736061589, 0.43136492409231403, 0.5137831170287254, 0.6306500624442966, 0.673868824903223, 0.7534870799671146, 0.8645020447692192, 0.5192071066095972, 0.6034704193840011, 0.686134562538437]}, {\"hoverinfo\": \"none\", \"marker\": {\"color\": \"rgba(255, 255, 255, 0)\", \"line\": {\"color\": \"rgba(255, 255, 255, 0)\", \"width\": 0}, \"size\": 0, \"symbol\": \"circle\"}, \"mode\": \"markers\", \"type\": \"scatter\", \"x\": [0.5, 0.0, 1.0, 0.5], \"y\": [0.0, 0.5, 0.5, 1.0]}],                        {\"height\": 450, \"hovermode\": \"closest\", \"margin\": {\"b\": 10, \"l\": 10, \"r\": 10, \"t\": 10}, \"plot_bgcolor\": \"rgb(255, 255, 255)\", \"showlegend\": false, \"template\": {\"data\": {\"bar\": [{\"error_x\": {\"color\": \"#2a3f5f\"}, \"error_y\": {\"color\": \"#2a3f5f\"}, \"marker\": {\"line\": {\"color\": \"#E5ECF6\", \"width\": 0.5}}, \"type\": \"bar\"}], \"barpolar\": [{\"marker\": {\"line\": {\"color\": \"#E5ECF6\", \"width\": 0.5}}, \"type\": \"barpolar\"}], \"carpet\": [{\"aaxis\": {\"endlinecolor\": \"#2a3f5f\", \"gridcolor\": \"white\", \"linecolor\": \"white\", \"minorgridcolor\": \"white\", \"startlinecolor\": \"#2a3f5f\"}, \"baxis\": {\"endlinecolor\": \"#2a3f5f\", \"gridcolor\": \"white\", \"linecolor\": \"white\", \"minorgridcolor\": \"white\", \"startlinecolor\": \"#2a3f5f\"}, \"type\": \"carpet\"}], \"choropleth\": [{\"colorbar\": {\"outlinewidth\": 0, \"ticks\": \"\"}, \"type\": \"choropleth\"}], \"contour\": [{\"colorbar\": {\"outlinewidth\": 0, \"ticks\": \"\"}, \"colorscale\": [[0.0, \"#0d0887\"], [0.1111111111111111, \"#46039f\"], [0.2222222222222222, \"#7201a8\"], [0.3333333333333333, \"#9c179e\"], [0.4444444444444444, \"#bd3786\"], [0.5555555555555556, \"#d8576b\"], [0.6666666666666666, \"#ed7953\"], [0.7777777777777778, \"#fb9f3a\"], [0.8888888888888888, \"#fdca26\"], [1.0, \"#f0f921\"]], \"type\": \"contour\"}], \"contourcarpet\": [{\"colorbar\": {\"outlinewidth\": 0, \"ticks\": \"\"}, \"type\": \"contourcarpet\"}], \"heatmap\": [{\"colorbar\": {\"outlinewidth\": 0, \"ticks\": \"\"}, \"colorscale\": [[0.0, \"#0d0887\"], [0.1111111111111111, \"#46039f\"], [0.2222222222222222, \"#7201a8\"], [0.3333333333333333, \"#9c179e\"], [0.4444444444444444, \"#bd3786\"], [0.5555555555555556, \"#d8576b\"], [0.6666666666666666, \"#ed7953\"], [0.7777777777777778, \"#fb9f3a\"], [0.8888888888888888, \"#fdca26\"], [1.0, \"#f0f921\"]], \"type\": \"heatmap\"}], \"heatmapgl\": [{\"colorbar\": {\"outlinewidth\": 0, \"ticks\": \"\"}, \"colorscale\": [[0.0, \"#0d0887\"], [0.1111111111111111, \"#46039f\"], [0.2222222222222222, \"#7201a8\"], [0.3333333333333333, \"#9c179e\"], [0.4444444444444444, \"#bd3786\"], [0.5555555555555556, \"#d8576b\"], [0.6666666666666666, \"#ed7953\"], [0.7777777777777778, \"#fb9f3a\"], [0.8888888888888888, \"#fdca26\"], [1.0, \"#f0f921\"]], \"type\": \"heatmapgl\"}], \"histogram\": [{\"marker\": {\"colorbar\": {\"outlinewidth\": 0, \"ticks\": \"\"}}, \"type\": \"histogram\"}], \"histogram2d\": [{\"colorbar\": {\"outlinewidth\": 0, \"ticks\": \"\"}, \"colorscale\": [[0.0, \"#0d0887\"], [0.1111111111111111, \"#46039f\"], [0.2222222222222222, \"#7201a8\"], [0.3333333333333333, \"#9c179e\"], [0.4444444444444444, \"#bd3786\"], [0.5555555555555556, \"#d8576b\"], [0.6666666666666666, \"#ed7953\"], [0.7777777777777778, \"#fb9f3a\"], [0.8888888888888888, \"#fdca26\"], [1.0, \"#f0f921\"]], \"type\": \"histogram2d\"}], \"histogram2dcontour\": [{\"colorbar\": {\"outlinewidth\": 0, \"ticks\": \"\"}, \"colorscale\": [[0.0, \"#0d0887\"], [0.1111111111111111, \"#46039f\"], [0.2222222222222222, \"#7201a8\"], [0.3333333333333333, \"#9c179e\"], [0.4444444444444444, \"#bd3786\"], [0.5555555555555556, \"#d8576b\"], [0.6666666666666666, \"#ed7953\"], [0.7777777777777778, \"#fb9f3a\"], [0.8888888888888888, \"#fdca26\"], [1.0, \"#f0f921\"]], \"type\": \"histogram2dcontour\"}], \"mesh3d\": [{\"colorbar\": {\"outlinewidth\": 0, \"ticks\": \"\"}, \"type\": \"mesh3d\"}], \"parcoords\": [{\"line\": {\"colorbar\": {\"outlinewidth\": 0, \"ticks\": \"\"}}, \"type\": \"parcoords\"}], \"pie\": [{\"automargin\": true, \"type\": \"pie\"}], \"scatter\": [{\"marker\": {\"colorbar\": {\"outlinewidth\": 0, \"ticks\": \"\"}}, \"type\": \"scatter\"}], \"scatter3d\": [{\"line\": {\"colorbar\": {\"outlinewidth\": 0, \"ticks\": \"\"}}, \"marker\": {\"colorbar\": {\"outlinewidth\": 0, \"ticks\": \"\"}}, \"type\": \"scatter3d\"}], \"scattercarpet\": [{\"marker\": {\"colorbar\": {\"outlinewidth\": 0, \"ticks\": \"\"}}, \"type\": \"scattercarpet\"}], \"scattergeo\": [{\"marker\": {\"colorbar\": {\"outlinewidth\": 0, \"ticks\": \"\"}}, \"type\": \"scattergeo\"}], \"scattergl\": [{\"marker\": {\"colorbar\": {\"outlinewidth\": 0, \"ticks\": \"\"}}, \"type\": \"scattergl\"}], \"scattermapbox\": [{\"marker\": {\"colorbar\": {\"outlinewidth\": 0, \"ticks\": \"\"}}, \"type\": \"scattermapbox\"}], \"scatterpolar\": [{\"marker\": {\"colorbar\": {\"outlinewidth\": 0, \"ticks\": \"\"}}, \"type\": \"scatterpolar\"}], \"scatterpolargl\": [{\"marker\": {\"colorbar\": {\"outlinewidth\": 0, \"ticks\": \"\"}}, \"type\": \"scatterpolargl\"}], \"scatterternary\": [{\"marker\": {\"colorbar\": {\"outlinewidth\": 0, \"ticks\": \"\"}}, \"type\": \"scatterternary\"}], \"surface\": [{\"colorbar\": {\"outlinewidth\": 0, \"ticks\": \"\"}, \"colorscale\": [[0.0, \"#0d0887\"], [0.1111111111111111, \"#46039f\"], [0.2222222222222222, \"#7201a8\"], [0.3333333333333333, \"#9c179e\"], [0.4444444444444444, \"#bd3786\"], [0.5555555555555556, \"#d8576b\"], [0.6666666666666666, \"#ed7953\"], [0.7777777777777778, \"#fb9f3a\"], [0.8888888888888888, \"#fdca26\"], [1.0, \"#f0f921\"]], \"type\": \"surface\"}], \"table\": [{\"cells\": {\"fill\": {\"color\": \"#EBF0F8\"}, \"line\": {\"color\": \"white\"}}, \"header\": {\"fill\": {\"color\": \"#C8D4E3\"}, \"line\": {\"color\": \"white\"}}, \"type\": \"table\"}]}, \"layout\": {\"annotationdefaults\": {\"arrowcolor\": \"#2a3f5f\", \"arrowhead\": 0, \"arrowwidth\": 1}, \"coloraxis\": {\"colorbar\": {\"outlinewidth\": 0, \"ticks\": \"\"}}, \"colorscale\": {\"diverging\": [[0, \"#8e0152\"], [0.1, \"#c51b7d\"], [0.2, \"#de77ae\"], [0.3, \"#f1b6da\"], [0.4, \"#fde0ef\"], [0.5, \"#f7f7f7\"], [0.6, \"#e6f5d0\"], [0.7, \"#b8e186\"], [0.8, \"#7fbc41\"], [0.9, \"#4d9221\"], [1, \"#276419\"]], \"sequential\": [[0.0, \"#0d0887\"], [0.1111111111111111, \"#46039f\"], [0.2222222222222222, \"#7201a8\"], [0.3333333333333333, \"#9c179e\"], [0.4444444444444444, \"#bd3786\"], [0.5555555555555556, \"#d8576b\"], [0.6666666666666666, \"#ed7953\"], [0.7777777777777778, \"#fb9f3a\"], [0.8888888888888888, \"#fdca26\"], [1.0, \"#f0f921\"]], \"sequentialminus\": [[0.0, \"#0d0887\"], [0.1111111111111111, \"#46039f\"], [0.2222222222222222, \"#7201a8\"], [0.3333333333333333, \"#9c179e\"], [0.4444444444444444, \"#bd3786\"], [0.5555555555555556, \"#d8576b\"], [0.6666666666666666, \"#ed7953\"], [0.7777777777777778, \"#fb9f3a\"], [0.8888888888888888, \"#fdca26\"], [1.0, \"#f0f921\"]]}, \"colorway\": [\"#636efa\", \"#EF553B\", \"#00cc96\", \"#ab63fa\", \"#FFA15A\", \"#19d3f3\", \"#FF6692\", \"#B6E880\", \"#FF97FF\", \"#FECB52\"], \"font\": {\"color\": \"#2a3f5f\"}, \"geo\": {\"bgcolor\": \"white\", \"lakecolor\": \"white\", \"landcolor\": \"#E5ECF6\", \"showlakes\": true, \"showland\": true, \"subunitcolor\": \"white\"}, \"hoverlabel\": {\"align\": \"left\"}, \"hovermode\": \"closest\", \"mapbox\": {\"style\": \"light\"}, \"paper_bgcolor\": \"white\", \"plot_bgcolor\": \"#E5ECF6\", \"polar\": {\"angularaxis\": {\"gridcolor\": \"white\", \"linecolor\": \"white\", \"ticks\": \"\"}, \"bgcolor\": \"#E5ECF6\", \"radialaxis\": {\"gridcolor\": \"white\", \"linecolor\": \"white\", \"ticks\": \"\"}}, \"scene\": {\"xaxis\": {\"backgroundcolor\": \"#E5ECF6\", \"gridcolor\": \"white\", \"gridwidth\": 2, \"linecolor\": \"white\", \"showbackground\": true, \"ticks\": \"\", \"zerolinecolor\": \"white\"}, \"yaxis\": {\"backgroundcolor\": \"#E5ECF6\", \"gridcolor\": \"white\", \"gridwidth\": 2, \"linecolor\": \"white\", \"showbackground\": true, \"ticks\": \"\", \"zerolinecolor\": \"white\"}, \"zaxis\": {\"backgroundcolor\": \"#E5ECF6\", \"gridcolor\": \"white\", \"gridwidth\": 2, \"linecolor\": \"white\", \"showbackground\": true, \"ticks\": \"\", \"zerolinecolor\": \"white\"}}, \"shapedefaults\": {\"line\": {\"color\": \"#2a3f5f\"}}, \"ternary\": {\"aaxis\": {\"gridcolor\": \"white\", \"linecolor\": \"white\", \"ticks\": \"\"}, \"baxis\": {\"gridcolor\": \"white\", \"linecolor\": \"white\", \"ticks\": \"\"}, \"bgcolor\": \"#E5ECF6\", \"caxis\": {\"gridcolor\": \"white\", \"linecolor\": \"white\", \"ticks\": \"\"}}, \"title\": {\"x\": 0.05}, \"xaxis\": {\"automargin\": true, \"gridcolor\": \"white\", \"linecolor\": \"white\", \"ticks\": \"\", \"title\": {\"standoff\": 15}, \"zerolinecolor\": \"white\", \"zerolinewidth\": 2}, \"yaxis\": {\"automargin\": true, \"gridcolor\": \"white\", \"linecolor\": \"white\", \"ticks\": \"\", \"title\": {\"standoff\": 15}, \"zerolinecolor\": \"white\", \"zerolinewidth\": 2}}}, \"width\": 800, \"xaxis\": {\"showgrid\": false, \"showticklabels\": false, \"zeroline\": false}, \"yaxis\": {\"showgrid\": false, \"showticklabels\": false, \"zeroline\": false}},                        {\"displayModeBar\": false, \"responsive\": true}                    ).then(function(){\n",
       "                            \n",
       "var gd = document.getElementById('b940eb97-d570-418b-b075-72fe285072c5');\n",
       "var x = new MutationObserver(function (mutations, observer) {{\n",
       "        var display = window.getComputedStyle(gd).display;\n",
       "        if (!display || display === 'none') {{\n",
       "            console.log([gd, 'removed!']);\n",
       "            Plotly.purge(gd);\n",
       "            observer.disconnect();\n",
       "        }}\n",
       "}});\n",
       "\n",
       "// Listen for the removal of the full notebook cells\n",
       "var notebookContainer = gd.closest('#notebook-container');\n",
       "if (notebookContainer) {{\n",
       "    x.observe(notebookContainer, {childList: true});\n",
       "}}\n",
       "\n",
       "// Listen for the clearing of the current output cell\n",
       "var outputEl = gd.closest('.output');\n",
       "if (outputEl) {{\n",
       "    x.observe(outputEl, {childList: true});\n",
       "}}\n",
       "\n",
       "                        })                };                });            </script>        </div>"
      ]
     },
     "metadata": {},
     "output_type": "display_data"
    },
    {
     "name": "stderr",
     "output_type": "stream",
     "text": [
      "c:\\users\\gubeb\\appdata\\local\\programs\\python\\python38-32\\lib\\site-packages\\numpy\\core\\_asarray.py:83: VisibleDeprecationWarning:\n",
      "\n",
      "Creating an ndarray from ragged nested sequences (which is a list-or-tuple of lists-or-tuples-or ndarrays with different lengths or shapes) is deprecated. If you meant to do this, you must specify 'dtype=object' when creating the ndarray\n",
      "\n",
      "c:\\users\\gubeb\\appdata\\local\\programs\\python\\python38-32\\lib\\site-packages\\scipy\\stats\\stats.py:235: RuntimeWarning:\n",
      "\n",
      "The input array could not be properly checked for nan values. nan values will be ignored.\n",
      "\n"
     ]
    },
    {
     "ename": "TypeError",
     "evalue": "unsupported operand type(s) for /: 'list' and 'int'",
     "output_type": "error",
     "traceback": [
      "\u001b[1;31m---------------------------------------------------------------------------\u001b[0m",
      "\u001b[1;31mTypeError\u001b[0m                                 Traceback (most recent call last)",
      "\u001b[1;32m<ipython-input-1-c038ca124a96>\u001b[0m in \u001b[0;36m<module>\u001b[1;34m\u001b[0m\n\u001b[0;32m    178\u001b[0m \u001b[1;33m\u001b[0m\u001b[0m\n\u001b[0;32m    179\u001b[0m \u001b[1;32mif\u001b[0m \u001b[0m__name__\u001b[0m \u001b[1;33m==\u001b[0m \u001b[1;34m\"__main__\"\u001b[0m\u001b[1;33m:\u001b[0m\u001b[1;33m\u001b[0m\u001b[1;33m\u001b[0m\u001b[0m\n\u001b[1;32m--> 180\u001b[1;33m     \u001b[0mmain\u001b[0m\u001b[1;33m(\u001b[0m\u001b[1;33m)\u001b[0m\u001b[1;33m\u001b[0m\u001b[1;33m\u001b[0m\u001b[0m\n\u001b[0m",
      "\u001b[1;32m<ipython-input-1-c038ca124a96>\u001b[0m in \u001b[0;36mmain\u001b[1;34m()\u001b[0m\n\u001b[0;32m    173\u001b[0m     \u001b[0my_rv\u001b[0m \u001b[1;33m=\u001b[0m \u001b[1;33m[\u001b[0m\u001b[1;33m]\u001b[0m\u001b[1;33m\u001b[0m\u001b[1;33m\u001b[0m\u001b[0m\n\u001b[0;32m    174\u001b[0m     \u001b[0mgen_x_y\u001b[0m\u001b[1;33m(\u001b[0m\u001b[0mrawg_data\u001b[0m\u001b[1;33m,\u001b[0m \u001b[0mx_tag\u001b[0m\u001b[1;33m,\u001b[0m \u001b[0my_rv\u001b[0m\u001b[1;33m)\u001b[0m\u001b[1;33m\u001b[0m\u001b[1;33m\u001b[0m\u001b[0m\n\u001b[1;32m--> 175\u001b[1;33m     \u001b[0mt2\u001b[0m\u001b[1;33m,\u001b[0m \u001b[0mp2\u001b[0m \u001b[1;33m=\u001b[0m \u001b[0mstats\u001b[0m\u001b[1;33m.\u001b[0m\u001b[0mttest_ind\u001b[0m\u001b[1;33m(\u001b[0m\u001b[0mx_tag\u001b[0m\u001b[1;33m,\u001b[0m \u001b[0my_rv\u001b[0m\u001b[1;33m)\u001b[0m\u001b[1;33m\u001b[0m\u001b[1;33m\u001b[0m\u001b[0m\n\u001b[0m\u001b[0;32m    176\u001b[0m     \u001b[0mprint\u001b[0m\u001b[1;33m(\u001b[0m\u001b[1;34m\"t = \"\u001b[0m \u001b[1;33m+\u001b[0m \u001b[0mstr\u001b[0m\u001b[1;33m(\u001b[0m\u001b[0mt2\u001b[0m\u001b[1;33m)\u001b[0m\u001b[1;33m)\u001b[0m\u001b[1;33m\u001b[0m\u001b[1;33m\u001b[0m\u001b[0m\n\u001b[0;32m    177\u001b[0m     \u001b[0mprint\u001b[0m\u001b[1;33m(\u001b[0m\u001b[1;34m\"p = \"\u001b[0m \u001b[1;33m+\u001b[0m \u001b[0mstr\u001b[0m\u001b[1;33m(\u001b[0m\u001b[0mp2\u001b[0m\u001b[1;33m)\u001b[0m\u001b[1;33m)\u001b[0m\u001b[1;33m\u001b[0m\u001b[1;33m\u001b[0m\u001b[0m\n",
      "\u001b[1;32mc:\\users\\gubeb\\appdata\\local\\programs\\python\\python38-32\\lib\\site-packages\\scipy\\stats\\stats.py\u001b[0m in \u001b[0;36mttest_ind\u001b[1;34m(a, b, axis, equal_var, nan_policy)\u001b[0m\n\u001b[0;32m   5640\u001b[0m         \u001b[1;32mreturn\u001b[0m \u001b[0m_ttest_nans\u001b[0m\u001b[1;33m(\u001b[0m\u001b[0ma\u001b[0m\u001b[1;33m,\u001b[0m \u001b[0mb\u001b[0m\u001b[1;33m,\u001b[0m \u001b[0maxis\u001b[0m\u001b[1;33m,\u001b[0m \u001b[0mTtest_indResult\u001b[0m\u001b[1;33m)\u001b[0m\u001b[1;33m\u001b[0m\u001b[1;33m\u001b[0m\u001b[0m\n\u001b[0;32m   5641\u001b[0m \u001b[1;33m\u001b[0m\u001b[0m\n\u001b[1;32m-> 5642\u001b[1;33m     \u001b[0mv1\u001b[0m \u001b[1;33m=\u001b[0m \u001b[0mnp\u001b[0m\u001b[1;33m.\u001b[0m\u001b[0mvar\u001b[0m\u001b[1;33m(\u001b[0m\u001b[0ma\u001b[0m\u001b[1;33m,\u001b[0m \u001b[0maxis\u001b[0m\u001b[1;33m,\u001b[0m \u001b[0mddof\u001b[0m\u001b[1;33m=\u001b[0m\u001b[1;36m1\u001b[0m\u001b[1;33m)\u001b[0m\u001b[1;33m\u001b[0m\u001b[1;33m\u001b[0m\u001b[0m\n\u001b[0m\u001b[0;32m   5643\u001b[0m     \u001b[0mv2\u001b[0m \u001b[1;33m=\u001b[0m \u001b[0mnp\u001b[0m\u001b[1;33m.\u001b[0m\u001b[0mvar\u001b[0m\u001b[1;33m(\u001b[0m\u001b[0mb\u001b[0m\u001b[1;33m,\u001b[0m \u001b[0maxis\u001b[0m\u001b[1;33m,\u001b[0m \u001b[0mddof\u001b[0m\u001b[1;33m=\u001b[0m\u001b[1;36m1\u001b[0m\u001b[1;33m)\u001b[0m\u001b[1;33m\u001b[0m\u001b[1;33m\u001b[0m\u001b[0m\n\u001b[0;32m   5644\u001b[0m     \u001b[0mn1\u001b[0m \u001b[1;33m=\u001b[0m \u001b[0ma\u001b[0m\u001b[1;33m.\u001b[0m\u001b[0mshape\u001b[0m\u001b[1;33m[\u001b[0m\u001b[0maxis\u001b[0m\u001b[1;33m]\u001b[0m\u001b[1;33m\u001b[0m\u001b[1;33m\u001b[0m\u001b[0m\n",
      "\u001b[1;32m<__array_function__ internals>\u001b[0m in \u001b[0;36mvar\u001b[1;34m(*args, **kwargs)\u001b[0m\n",
      "\u001b[1;32mc:\\users\\gubeb\\appdata\\local\\programs\\python\\python38-32\\lib\\site-packages\\numpy\\core\\fromnumeric.py\u001b[0m in \u001b[0;36mvar\u001b[1;34m(a, axis, dtype, out, ddof, keepdims)\u001b[0m\n\u001b[0;32m   3619\u001b[0m             \u001b[1;32mreturn\u001b[0m \u001b[0mvar\u001b[0m\u001b[1;33m(\u001b[0m\u001b[0maxis\u001b[0m\u001b[1;33m=\u001b[0m\u001b[0maxis\u001b[0m\u001b[1;33m,\u001b[0m \u001b[0mdtype\u001b[0m\u001b[1;33m=\u001b[0m\u001b[0mdtype\u001b[0m\u001b[1;33m,\u001b[0m \u001b[0mout\u001b[0m\u001b[1;33m=\u001b[0m\u001b[0mout\u001b[0m\u001b[1;33m,\u001b[0m \u001b[0mddof\u001b[0m\u001b[1;33m=\u001b[0m\u001b[0mddof\u001b[0m\u001b[1;33m,\u001b[0m \u001b[1;33m**\u001b[0m\u001b[0mkwargs\u001b[0m\u001b[1;33m)\u001b[0m\u001b[1;33m\u001b[0m\u001b[1;33m\u001b[0m\u001b[0m\n\u001b[0;32m   3620\u001b[0m \u001b[1;33m\u001b[0m\u001b[0m\n\u001b[1;32m-> 3621\u001b[1;33m     return _methods._var(a, axis=axis, dtype=dtype, out=out, ddof=ddof,\n\u001b[0m\u001b[0;32m   3622\u001b[0m                          **kwargs)\n\u001b[0;32m   3623\u001b[0m \u001b[1;33m\u001b[0m\u001b[0m\n",
      "\u001b[1;32mc:\\users\\gubeb\\appdata\\local\\programs\\python\\python38-32\\lib\\site-packages\\numpy\\core\\_methods.py\u001b[0m in \u001b[0;36m_var\u001b[1;34m(a, axis, dtype, out, ddof, keepdims)\u001b[0m\n\u001b[0;32m    192\u001b[0m     \u001b[0marrmean\u001b[0m \u001b[1;33m=\u001b[0m \u001b[0mumr_sum\u001b[0m\u001b[1;33m(\u001b[0m\u001b[0marr\u001b[0m\u001b[1;33m,\u001b[0m \u001b[0maxis\u001b[0m\u001b[1;33m,\u001b[0m \u001b[0mdtype\u001b[0m\u001b[1;33m,\u001b[0m \u001b[0mkeepdims\u001b[0m\u001b[1;33m=\u001b[0m\u001b[1;32mTrue\u001b[0m\u001b[1;33m)\u001b[0m\u001b[1;33m\u001b[0m\u001b[1;33m\u001b[0m\u001b[0m\n\u001b[0;32m    193\u001b[0m     \u001b[1;32mif\u001b[0m \u001b[0misinstance\u001b[0m\u001b[1;33m(\u001b[0m\u001b[0marrmean\u001b[0m\u001b[1;33m,\u001b[0m \u001b[0mmu\u001b[0m\u001b[1;33m.\u001b[0m\u001b[0mndarray\u001b[0m\u001b[1;33m)\u001b[0m\u001b[1;33m:\u001b[0m\u001b[1;33m\u001b[0m\u001b[1;33m\u001b[0m\u001b[0m\n\u001b[1;32m--> 194\u001b[1;33m         arrmean = um.true_divide(\n\u001b[0m\u001b[0;32m    195\u001b[0m                 arrmean, rcount, out=arrmean, casting='unsafe', subok=False)\n\u001b[0;32m    196\u001b[0m     \u001b[1;32melse\u001b[0m\u001b[1;33m:\u001b[0m\u001b[1;33m\u001b[0m\u001b[1;33m\u001b[0m\u001b[0m\n",
      "\u001b[1;31mTypeError\u001b[0m: unsupported operand type(s) for /: 'list' and 'int'"
     ]
    }
   ],
   "source": [
    "import http.client\n",
    "import networkx as nx\n",
    "import freeman as fm\n",
    "from json import loads\n",
    "from scipy import stats\n",
    "from unidecode import unidecode\n",
    "\n",
    "# https://api.rawg.io/docs/#operation/games_list\n",
    "#\n",
    "# Objetivo deste código: nós são artistas e arestas são baseadas\n",
    "# na API de \"related artists\". Como não há tempo de baixar todos\n",
    "# os artistas do Spotify inteiro, partimos de uma \"raiz\" inicial\n",
    "# e fazemos uma \"bola de neve\" a partir dessa raiz com recursão.\n",
    "# Ou seja, pegamos a raiz (0 níveis), os vizinhos da raiz (1 nível),\n",
    "# os vizinhos dos vizinhos da raiz (2 níveis) e assim em diante.\n",
    "\n",
    "\n",
    "# game_nodes = {\n",
    "#     id: {name: name, list: [l]},\n",
    "#     id: {name: name, list: [l]},\n",
    "#     id: {name: name, list: [l]}\n",
    "# }\n",
    "\n",
    "# game_edges = {\n",
    "#     id: { \n",
    "#           l : peso,\n",
    "#           l : peso,\n",
    "#         },\n",
    "#     id: { \n",
    "#           l : peso,\n",
    "#           l : peso,\n",
    "#         },\n",
    "#     id: { \n",
    "#           l : peso,\n",
    "#           l : peso,\n",
    "#         },\n",
    "# }\n",
    "\n",
    "def get_rawg_api_endpoint(endpoint, conn, h) -> str:\n",
    "    conn.request(\"GET\", endpoint, headers=h)\n",
    "    return loads(conn.getresponse().read())\n",
    "\n",
    "def rawg_api_connection() -> None:\n",
    "    conn = http.client.HTTPSConnection(\"rawg-video-games-database.p.rapidapi.com\")\n",
    "    headers = {\n",
    "        'x-rapidapi-host': \"rawg-video-games-database.p.rapidapi.com\",\n",
    "        'x-rapidapi-key': \"c665cc5f66mshee40894946e0d28p1c5de7jsn49fab80d50ae\"\n",
    "        }\n",
    "\n",
    "    return conn, headers\n",
    "\n",
    "def gen_game_nodes(game_nodes, data, network_type) -> None:\n",
    "    for game in data[\"results\"]:\n",
    "        l = []\n",
    "\n",
    "        if network_type == 1:\n",
    "            for game_tag in game[\"tags\"]: l += [game_tag[\"slug\"]]\n",
    "\n",
    "        if network_type == 2:\n",
    "            if game[\"platforms\"] != None:\n",
    "                for game_platform in game[\"platforms\"]: l += [game_platform[\"platform\"][\"slug\"]]\n",
    "        \n",
    "        # deixar vazio se platform == null?\n",
    "        game_nodes[game[\"id\"]] = { \"name\" : game[\"slug\"], \"list\" : l }\n",
    "\n",
    "def gen_game_edges(game_nodes, game_edges) -> None:\n",
    "    for game1 in game_nodes:\n",
    "        targets = {}\n",
    "        \n",
    "        for game2 in game_nodes:\n",
    "            if game1 != game2:\n",
    "                for e in game_nodes[game1][\"list\"]:\n",
    "                    if e in game_nodes[game2][\"list\"] and game2 in game_edges and game1 not in game_edges[game2]:\n",
    "                        if game2 in targets:\n",
    "                            targets[game2] += 1\n",
    "                        else: \n",
    "                            targets[game2] = 0 \n",
    "        \n",
    "        game_edges[game1] = targets\n",
    "\n",
    "def build_gml(game_nodes, game_edges, network) -> None:\n",
    "\n",
    "    with open(network, 'w') as file:\n",
    "        file.write('graph [\\n')\n",
    "        file.write('  directed 0\\n')\n",
    "\n",
    "        for n in game_nodes.keys():\n",
    "            file.write('  node [\\n')\n",
    "            file.write('    id {}\\n'.format(n))\n",
    "            file.write('    name \"{}\"\\n'.format(unidecode(game_nodes[n][\"name\"])))\n",
    "            file.write('  ]\\n')\n",
    "\n",
    "        for n in game_edges.keys():\n",
    "            for m in game_edges[n].keys():\n",
    "                file.write('  edge [\\n')\n",
    "                file.write('    source {}\\n'.format(n))\n",
    "                file.write('    target {}\\n'.format(m))\n",
    "                file.write('    weight {}\\n'.format(game_edges[n][m]))\n",
    "                file.write('  ]\\n')\n",
    "\n",
    "        file.write(']\\n')\n",
    "\n",
    "def network_nx(network):  \n",
    "\n",
    "    g = fm.load(network)\n",
    "    g.label_nodes('name')\n",
    "    g.set_all_nodes(size=10, labpos='hover')\n",
    "    g.draw()\n",
    "    return g\n",
    "\n",
    "def betweeness_network(network):\n",
    "    bc = nx.betweenness_centrality(network)\n",
    "    network.scale_nodes_size(bc)\n",
    "    network.draw()\n",
    "\n",
    "def gen_x_y(data, x, y):\n",
    "    for game in data[\"results\"]:\n",
    "        l = []\n",
    "        for game_tag in game[\"tags\"]: l += [game_tag[\"slug\"]]\n",
    "        x += [l]\n",
    "        y += [game[\"rating\"] * game[\"ratings_count\"]]\n",
    "\n",
    "def main() -> None:\n",
    "    print(\"-------------------------------------------\")\n",
    "\n",
    "    # A. obter os dados (chamadas de API, parsing de CSV, etc.);\n",
    "    \n",
    "    # !: maximo de 20 jogos, talvez tenha que ser feito um for para pegar mais jogos.\n",
    "    rawg_connection, rawg_headers = rawg_api_connection()\n",
    "    rawg_data = get_rawg_api_endpoint(endpoint = \"/games?dates=2015-01-01,2015-01-01\", conn = rawg_connection, h = rawg_headers)\n",
    "    \n",
    "    # Rede 1: Nos: jogos; Arestas: jogos que compartilham a mesma categoria.\n",
    "    # B. construir a rede (escrever GML, carregar na NetworkX);\n",
    "    print(\"REDE 1\")\n",
    "    print(\"Nós: jogos;\")\n",
    "    print(\"Arestas: jogos que compartilham a mesma categoria;\")\n",
    "     \n",
    "    game_nodes = {}\n",
    "    game_edges = {}\n",
    "\n",
    "    gen_game_nodes(game_nodes, rawg_data, 1)\n",
    "    gen_game_edges(game_nodes, game_edges)\n",
    "    build_gml(game_nodes, game_edges, 'rede1.gml')\n",
    "    \n",
    "    g = network_nx('rede1.gml')\n",
    "\n",
    "    # C. calcular as métricas (chamar as funções vistas em aula ou outras);\n",
    "    betweeness_network(g)\n",
    "\n",
    "    # Rede 2: Nos: jogos; Arestas: jogos que compartilham a mesma plataforma de jogo.\n",
    "    # B. construir a rede (escrever GML, carregar na NetworkX);\n",
    "    print(\"REDE 2\")\n",
    "    print(\"Nós: jogos;\")\n",
    "    print(\"Arestas: jogos que compartilham a mesma plataforma de jogo;\")\n",
    "     \n",
    "    game_nodes = {}\n",
    "    game_edges = {}\n",
    "\n",
    "    gen_game_nodes(game_nodes, rawg_data, 2)\n",
    "    gen_game_edges(game_nodes, game_edges)\n",
    "    build_gml(game_nodes, game_edges, 'rede2.gml')\n",
    "    \n",
    "    g = network_nx('rede2.gml')\n",
    "\n",
    "    # C. calcular as métricas (chamar as funções vistas em aula ou outras);\n",
    "    betweeness_network(g)\n",
    "\n",
    "    # Rede 3: Nos: jogos; Arestas: jogos que compartilham mesma faixa de preco.\n",
    "    # Nao foi achado dados sobre o preco dos jogos nas diferentes plataformas na api.\n",
    "\n",
    "    # D. fazer os testes de hipótese (regressão, teste-t, etc.).\n",
    "    x_tag = []\n",
    "    y_rv = []\n",
    "    gen_x_y(rawg_data, x_tag, y_rv)\n",
    "    t2, p2 = stats.ttest_ind(x_tag, y_rv)\n",
    "    print(\"t = \" + str(t2))\n",
    "    print(\"p = \" + str(p2))\n",
    "\n",
    "if __name__ == \"__main__\":\n",
    "    main()"
   ]
  },
  {
   "cell_type": "code",
   "execution_count": null,
   "metadata": {},
   "outputs": [],
   "source": []
  }
 ],
 "metadata": {
  "kernelspec": {
   "display_name": "Python 3",
   "language": "python",
   "name": "python3"
  },
  "language_info": {
   "codemirror_mode": {
    "name": "ipython",
    "version": 3
   },
   "file_extension": ".py",
   "mimetype": "text/x-python",
   "name": "python",
   "nbconvert_exporter": "python",
   "pygments_lexer": "ipython3",
   "version": "3.8.3"
  }
 },
 "nbformat": 4,
 "nbformat_minor": 4
}
